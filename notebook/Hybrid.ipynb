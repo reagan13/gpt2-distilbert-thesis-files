{
 "cells": [
  {
   "cell_type": "markdown",
   "metadata": {},
   "source": [
    "# Encode\n"
   ]
  },
  {
   "cell_type": "code",
   "execution_count": null,
   "metadata": {},
   "outputs": [],
   "source": [
    "import pandas as pd\n",
    "from transformers import AutoTokenizer\n",
    "\n",
    "def encode_labels(df):\n",
    "    \"\"\"\n",
    "    Encodes category, intent, and preprocessed BIO tags into numerical format.\n",
    "    \"\"\"\n",
    "    # Create mappings for category and intent\n",
    "    category_map = {cat: idx for idx, cat in enumerate(df['category'].unique())}\n",
    "    intent_map = {intent: idx for idx, intent in enumerate(df['intent'].unique())}\n",
    "    reverse_category_map = {v: k for k, v in category_map.items()}\n",
    "    reverse_intent_map = {v: k for k, v in intent_map.items()}\n",
    "\n",
    "    # Encode intent and category using the mappings\n",
    "    df['intent_encoded'] = df['intent'].map(intent_map)\n",
    "    df['category_encoded'] = df['category'].map(category_map)\n",
    "\n",
    "    # Define all possible entity types\n",
    "    all_entity_types = [\n",
    "        'account_category', 'account_type', 'currency_symbol', 'delivery_city',\n",
    "        'delivery_country', 'invoice_number', 'order_number', 'person_name', 'refund_amount'\n",
    "    ]\n",
    "\n",
    "    # Create tag map with B- and I- prefixes\n",
    "    tag_map = {}\n",
    "    for idx, entity in enumerate(all_entity_types):\n",
    "        tag_map[f\"B-{entity}\"] = idx * 2  # B- prefix\n",
    "        tag_map[f\"I-{entity}\"] = idx * 2 + 1  # I- prefix\n",
    "    tag_map['O'] = len(tag_map)  # Add 'O' for outside any entity\n",
    "    reverse_tag_map = {v: k for k, v in tag_map.items()}\n",
    "\n",
    "    # Encode the preprocessed BIO tags for DistilBERT\n",
    "    def encode_bio_tags(tags):\n",
    "        return [tag_map.get(tag, tag_map['O']) for tag in tags]  # Ensure unknown tags default to 'O'\n",
    "\n",
    "    df['tags_encoded_distilbert'] = df['bio_tags_distilbert'].apply(encode_bio_tags)\n",
    "\n",
    "    return df, category_map, intent_map, tag_map, reverse_category_map, reverse_intent_map, reverse_tag_map\n",
    "\n",
    "# Process dataset\n",
    "df_processed, category_map, intent_map, tag_map, reverse_category_map, reverse_intent_map, reverse_tag_map = encode_labels(df)\n"
   ]
  },
  {
   "cell_type": "markdown",
   "metadata": {},
   "source": [
    "the spltting should be the same dataset used in the 2 models and gradient\n"
   ]
  },
  {
   "cell_type": "code",
   "execution_count": null,
   "metadata": {},
   "outputs": [],
   "source": [
    "from sklearn.model_selection import train_test_split\n",
    "\n",
    "# Encode labels\n",
    "df, category_map, intent_map, tag_map, reverse_category_map, reverse_intent_map, reverse_tag_map = encode_labels(df)\n",
    "\n",
    "# Split into train, validation, and test sets\n",
    "train_df, temp_df = train_test_split(df, test_size=0.3, random_state=42)\n",
    "val_df, test_df = train_test_split(temp_df, test_size=0.5, random_state=42)\n",
    "\n",
    "# # Initialize DistilBERT tokenizer\n",
    "# tokenizer = DistilBertTokenizer.from_pretrained('distilbert-base-uncased')\n",
    "\n",
    "# Create datasets\n",
    "train_dataset = CustomDataset(train_df, tokenizer, max_length=128)\n",
    "val_dataset = CustomDataset(val_df, tokenizer, max_length=128)\n",
    "test_dataset = CustomDataset(test_df, tokenizer, max_length=128)\n",
    "\n",
    "# Create dataloaders\n",
    "train_loader = DataLoader(train_dataset, batch_size=16, shuffle=True, drop_last=True)\n",
    "val_loader = DataLoader(val_dataset, batch_size=16, shuffle=False)\n",
    "test_loader = DataLoader(test_dataset, batch_size=16, shuffle=False)\n"
   ]
  },
  {
   "cell_type": "markdown",
   "metadata": {},
   "source": []
  }
 ],
 "metadata": {
  "kernelspec": {
   "display_name": "Python 3",
   "language": "python",
   "name": "python3"
  },
  "language_info": {
   "name": "python",
   "version": "3.11.9"
  }
 },
 "nbformat": 4,
 "nbformat_minor": 2
}
