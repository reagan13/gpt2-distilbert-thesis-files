{
  "cells": [
    {
      "cell_type": "markdown",
      "metadata": {
        "id": "view-in-github",
        "colab_type": "text"
      },
      "source": [
        "<a href=\"https://colab.research.google.com/github/reagan13/gpt2-distilbert-thesis-files/blob/main/notebook/Baseline.ipynb\" target=\"_parent\"><img src=\"https://colab.research.google.com/assets/colab-badge.svg\" alt=\"Open In Colab\"/></a>"
      ]
    },
    {
      "cell_type": "markdown",
      "metadata": {
        "id": "WJmFSIkN6C1h"
      },
      "source": [
        "# PIP#\n"
      ]
    },
    {
      "cell_type": "markdown",
      "metadata": {
        "id": "F7JMVnmRwDcn"
      },
      "source": [
        "Python library used for evaluating sequence labeling tasks, such as Named Entity Recognition (NER) and part-of-speech tagging.\n"
      ]
    },
    {
      "cell_type": "code",
      "execution_count": 3,
      "metadata": {
        "colab": {
          "base_uri": "https://localhost:8080/"
        },
        "id": "n_Eu1Czj6FAN",
        "outputId": "8b2f3e50-86fc-4ae0-d0e3-38fffa4eb033"
      },
      "outputs": [
        {
          "output_type": "stream",
          "name": "stdout",
          "text": [
            "Collecting seqeval\n",
            "  Downloading seqeval-1.2.2.tar.gz (43 kB)\n",
            "\u001b[?25l     \u001b[90m━━━━━━━━━━━━━━━━━━━━━━━━━━━━━━━━━━━━━━━━\u001b[0m \u001b[32m0.0/43.6 kB\u001b[0m \u001b[31m?\u001b[0m eta \u001b[36m-:--:--\u001b[0m\r\u001b[2K     \u001b[90m━━━━━━━━━━━━━━━━━━━━━━━━━━━━━━━━━━━━━━━━\u001b[0m \u001b[32m43.6/43.6 kB\u001b[0m \u001b[31m2.9 MB/s\u001b[0m eta \u001b[36m0:00:00\u001b[0m\n",
            "\u001b[?25h  Preparing metadata (setup.py) ... \u001b[?25l\u001b[?25hdone\n",
            "Requirement already satisfied: numpy>=1.14.0 in /usr/local/lib/python3.11/dist-packages (from seqeval) (1.26.4)\n",
            "Requirement already satisfied: scikit-learn>=0.21.3 in /usr/local/lib/python3.11/dist-packages (from seqeval) (1.6.1)\n",
            "Requirement already satisfied: scipy>=1.6.0 in /usr/local/lib/python3.11/dist-packages (from scikit-learn>=0.21.3->seqeval) (1.13.1)\n",
            "Requirement already satisfied: joblib>=1.2.0 in /usr/local/lib/python3.11/dist-packages (from scikit-learn>=0.21.3->seqeval) (1.4.2)\n",
            "Requirement already satisfied: threadpoolctl>=3.1.0 in /usr/local/lib/python3.11/dist-packages (from scikit-learn>=0.21.3->seqeval) (3.5.0)\n",
            "Building wheels for collected packages: seqeval\n",
            "  Building wheel for seqeval (setup.py) ... \u001b[?25l\u001b[?25hdone\n",
            "  Created wheel for seqeval: filename=seqeval-1.2.2-py3-none-any.whl size=16161 sha256=805391ddaab34ffbd2eb5b8159b043409bf36065b38e79462157309dbdc096c9\n",
            "  Stored in directory: /root/.cache/pip/wheels/bc/92/f0/243288f899c2eacdfa8c5f9aede4c71a9bad0ee26a01dc5ead\n",
            "Successfully built seqeval\n",
            "Installing collected packages: seqeval\n",
            "Successfully installed seqeval-1.2.2\n"
          ]
        }
      ],
      "source": [
        "!pip install seqeval\n"
      ]
    },
    {
      "cell_type": "markdown",
      "metadata": {
        "id": "sfC4JAfrwF7O"
      },
      "source": [
        "Uploading Dataset\n"
      ]
    },
    {
      "cell_type": "code",
      "execution_count": null,
      "metadata": {
        "colab": {
          "base_uri": "https://localhost:8080/",
          "height": 73
        },
        "id": "CdEKtk4rXeYL",
        "outputId": "52ec8409-cfdb-4cb1-9db3-cfd4b1214db1"
      },
      "outputs": [
        {
          "data": {
            "text/html": [
              "\n",
              "     <input type=\"file\" id=\"files-1696779e-5458-4a6a-8d70-03e5993b721c\" name=\"files[]\" multiple disabled\n",
              "        style=\"border:none\" />\n",
              "     <output id=\"result-1696779e-5458-4a6a-8d70-03e5993b721c\">\n",
              "      Upload widget is only available when the cell has been executed in the\n",
              "      current browser session. Please rerun this cell to enable.\n",
              "      </output>\n",
              "      <script>// Copyright 2017 Google LLC\n",
              "//\n",
              "// Licensed under the Apache License, Version 2.0 (the \"License\");\n",
              "// you may not use this file except in compliance with the License.\n",
              "// You may obtain a copy of the License at\n",
              "//\n",
              "//      http://www.apache.org/licenses/LICENSE-2.0\n",
              "//\n",
              "// Unless required by applicable law or agreed to in writing, software\n",
              "// distributed under the License is distributed on an \"AS IS\" BASIS,\n",
              "// WITHOUT WARRANTIES OR CONDITIONS OF ANY KIND, either express or implied.\n",
              "// See the License for the specific language governing permissions and\n",
              "// limitations under the License.\n",
              "\n",
              "/**\n",
              " * @fileoverview Helpers for google.colab Python module.\n",
              " */\n",
              "(function(scope) {\n",
              "function span(text, styleAttributes = {}) {\n",
              "  const element = document.createElement('span');\n",
              "  element.textContent = text;\n",
              "  for (const key of Object.keys(styleAttributes)) {\n",
              "    element.style[key] = styleAttributes[key];\n",
              "  }\n",
              "  return element;\n",
              "}\n",
              "\n",
              "// Max number of bytes which will be uploaded at a time.\n",
              "const MAX_PAYLOAD_SIZE = 100 * 1024;\n",
              "\n",
              "function _uploadFiles(inputId, outputId) {\n",
              "  const steps = uploadFilesStep(inputId, outputId);\n",
              "  const outputElement = document.getElementById(outputId);\n",
              "  // Cache steps on the outputElement to make it available for the next call\n",
              "  // to uploadFilesContinue from Python.\n",
              "  outputElement.steps = steps;\n",
              "\n",
              "  return _uploadFilesContinue(outputId);\n",
              "}\n",
              "\n",
              "// This is roughly an async generator (not supported in the browser yet),\n",
              "// where there are multiple asynchronous steps and the Python side is going\n",
              "// to poll for completion of each step.\n",
              "// This uses a Promise to block the python side on completion of each step,\n",
              "// then passes the result of the previous step as the input to the next step.\n",
              "function _uploadFilesContinue(outputId) {\n",
              "  const outputElement = document.getElementById(outputId);\n",
              "  const steps = outputElement.steps;\n",
              "\n",
              "  const next = steps.next(outputElement.lastPromiseValue);\n",
              "  return Promise.resolve(next.value.promise).then((value) => {\n",
              "    // Cache the last promise value to make it available to the next\n",
              "    // step of the generator.\n",
              "    outputElement.lastPromiseValue = value;\n",
              "    return next.value.response;\n",
              "  });\n",
              "}\n",
              "\n",
              "/**\n",
              " * Generator function which is called between each async step of the upload\n",
              " * process.\n",
              " * @param {string} inputId Element ID of the input file picker element.\n",
              " * @param {string} outputId Element ID of the output display.\n",
              " * @return {!Iterable<!Object>} Iterable of next steps.\n",
              " */\n",
              "function* uploadFilesStep(inputId, outputId) {\n",
              "  const inputElement = document.getElementById(inputId);\n",
              "  inputElement.disabled = false;\n",
              "\n",
              "  const outputElement = document.getElementById(outputId);\n",
              "  outputElement.innerHTML = '';\n",
              "\n",
              "  const pickedPromise = new Promise((resolve) => {\n",
              "    inputElement.addEventListener('change', (e) => {\n",
              "      resolve(e.target.files);\n",
              "    });\n",
              "  });\n",
              "\n",
              "  const cancel = document.createElement('button');\n",
              "  inputElement.parentElement.appendChild(cancel);\n",
              "  cancel.textContent = 'Cancel upload';\n",
              "  const cancelPromise = new Promise((resolve) => {\n",
              "    cancel.onclick = () => {\n",
              "      resolve(null);\n",
              "    };\n",
              "  });\n",
              "\n",
              "  // Wait for the user to pick the files.\n",
              "  const files = yield {\n",
              "    promise: Promise.race([pickedPromise, cancelPromise]),\n",
              "    response: {\n",
              "      action: 'starting',\n",
              "    }\n",
              "  };\n",
              "\n",
              "  cancel.remove();\n",
              "\n",
              "  // Disable the input element since further picks are not allowed.\n",
              "  inputElement.disabled = true;\n",
              "\n",
              "  if (!files) {\n",
              "    return {\n",
              "      response: {\n",
              "        action: 'complete',\n",
              "      }\n",
              "    };\n",
              "  }\n",
              "\n",
              "  for (const file of files) {\n",
              "    const li = document.createElement('li');\n",
              "    li.append(span(file.name, {fontWeight: 'bold'}));\n",
              "    li.append(span(\n",
              "        `(${file.type || 'n/a'}) - ${file.size} bytes, ` +\n",
              "        `last modified: ${\n",
              "            file.lastModifiedDate ? file.lastModifiedDate.toLocaleDateString() :\n",
              "                                    'n/a'} - `));\n",
              "    const percent = span('0% done');\n",
              "    li.appendChild(percent);\n",
              "\n",
              "    outputElement.appendChild(li);\n",
              "\n",
              "    const fileDataPromise = new Promise((resolve) => {\n",
              "      const reader = new FileReader();\n",
              "      reader.onload = (e) => {\n",
              "        resolve(e.target.result);\n",
              "      };\n",
              "      reader.readAsArrayBuffer(file);\n",
              "    });\n",
              "    // Wait for the data to be ready.\n",
              "    let fileData = yield {\n",
              "      promise: fileDataPromise,\n",
              "      response: {\n",
              "        action: 'continue',\n",
              "      }\n",
              "    };\n",
              "\n",
              "    // Use a chunked sending to avoid message size limits. See b/62115660.\n",
              "    let position = 0;\n",
              "    do {\n",
              "      const length = Math.min(fileData.byteLength - position, MAX_PAYLOAD_SIZE);\n",
              "      const chunk = new Uint8Array(fileData, position, length);\n",
              "      position += length;\n",
              "\n",
              "      const base64 = btoa(String.fromCharCode.apply(null, chunk));\n",
              "      yield {\n",
              "        response: {\n",
              "          action: 'append',\n",
              "          file: file.name,\n",
              "          data: base64,\n",
              "        },\n",
              "      };\n",
              "\n",
              "      let percentDone = fileData.byteLength === 0 ?\n",
              "          100 :\n",
              "          Math.round((position / fileData.byteLength) * 100);\n",
              "      percent.textContent = `${percentDone}% done`;\n",
              "\n",
              "    } while (position < fileData.byteLength);\n",
              "  }\n",
              "\n",
              "  // All done.\n",
              "  yield {\n",
              "    response: {\n",
              "      action: 'complete',\n",
              "    }\n",
              "  };\n",
              "}\n",
              "\n",
              "scope.google = scope.google || {};\n",
              "scope.google.colab = scope.google.colab || {};\n",
              "scope.google.colab._files = {\n",
              "  _uploadFiles,\n",
              "  _uploadFilesContinue,\n",
              "};\n",
              "})(self);\n",
              "</script> "
            ],
            "text/plain": [
              "<IPython.core.display.HTML object>"
            ]
          },
          "metadata": {},
          "output_type": "display_data"
        },
        {
          "name": "stdout",
          "output_type": "stream",
          "text": [
            "Saving final_dataset.json to final_dataset.json\n"
          ]
        }
      ],
      "source": [
        "from google.colab import files\n",
        "uploaded = files.upload()\n"
      ]
    },
    {
      "cell_type": "markdown",
      "metadata": {
        "id": "6htt_2IIpJyu"
      },
      "source": [
        "# Import libraries\n"
      ]
    },
    {
      "cell_type": "markdown",
      "metadata": {
        "id": "TI0be29KwPX9"
      },
      "source": [
        "This code imports necessary libraries for working with PyTorch, data visualization, evaluation metrics, and JSON handling.\n"
      ]
    },
    {
      "cell_type": "code",
      "execution_count": 4,
      "metadata": {
        "id": "00oaM83epIa0",
        "colab": {
          "base_uri": "https://localhost:8080/",
          "height": 211
        },
        "outputId": "a302f32b-1643-454c-ca5e-cf8d1d768ce4"
      },
      "outputs": [
        {
          "output_type": "error",
          "ename": "NameError",
          "evalue": "name 'np' is not defined",
          "traceback": [
            "\u001b[0;31m---------------------------------------------------------------------------\u001b[0m",
            "\u001b[0;31mNameError\u001b[0m                                 Traceback (most recent call last)",
            "\u001b[0;32m<ipython-input-4-157754413eab>\u001b[0m in \u001b[0;36m<cell line: 0>\u001b[0;34m()\u001b[0m\n\u001b[1;32m     21\u001b[0m \u001b[0;31m# Set random seeds for reproducibility\u001b[0m\u001b[0;34m\u001b[0m\u001b[0;34m\u001b[0m\u001b[0m\n\u001b[1;32m     22\u001b[0m \u001b[0mtorch\u001b[0m\u001b[0;34m.\u001b[0m\u001b[0mmanual_seed\u001b[0m\u001b[0;34m(\u001b[0m\u001b[0;36m42\u001b[0m\u001b[0;34m)\u001b[0m\u001b[0;34m\u001b[0m\u001b[0;34m\u001b[0m\u001b[0m\n\u001b[0;32m---> 23\u001b[0;31m \u001b[0mnp\u001b[0m\u001b[0;34m.\u001b[0m\u001b[0mrandom\u001b[0m\u001b[0;34m.\u001b[0m\u001b[0mseed\u001b[0m\u001b[0;34m(\u001b[0m\u001b[0;36m42\u001b[0m\u001b[0;34m)\u001b[0m\u001b[0;34m\u001b[0m\u001b[0;34m\u001b[0m\u001b[0m\n\u001b[0m\u001b[1;32m     24\u001b[0m \u001b[0;34m\u001b[0m\u001b[0m\n\u001b[1;32m     25\u001b[0m \u001b[0;31m# Current date and time for output directory naming\u001b[0m\u001b[0;34m\u001b[0m\u001b[0;34m\u001b[0m\u001b[0m\n",
            "\u001b[0;31mNameError\u001b[0m: name 'np' is not defined"
          ]
        }
      ],
      "source": [
        "import json\n",
        "import torch\n",
        "import torch.nn as nn\n",
        "import torch.nn.functional as F\n",
        "from transformers import GPT2TokenizerFast, GPT2Model, GPT2Config, AdamW, get_linear_schedule_with_warmup\n",
        "from typing import Dict, List, Optional, Tuple\n",
        "from torch.utils.data import Dataset, DataLoader\n",
        "from tqdm import tqdm\n",
        "from sklearn.metrics import accuracy_score, confusion_matrix, precision_score, recall_score, f1_score\n",
        "from seqeval.metrics import precision_score as seq_precision, recall_score as seq_recall, f1_score as seq_f1\n",
        "import matplotlib.pyplot as plt\n",
        "import seaborn as sns  # For confusion matrix heatmaps\n",
        "import os\n",
        "from google.colab import drive\n",
        "from tabulate import tabulate\n",
        "import time # Import the time module\n",
        "\n",
        "# For sequence evaluation (NER)\n",
        "from seqeval.metrics import f1_score as seq_f1\n",
        "\n",
        "# Set random seeds for reproducibility\n",
        "torch.manual_seed(42)\n",
        "np.random.seed(42)\n",
        "\n",
        "# Current date and time for output directory naming\n",
        "timestamp = datetime.now().strftime(\"%Y%m%d_%H%M%S\")"
      ]
    },
    {
      "cell_type": "markdown",
      "metadata": {
        "id": "H5oTNmhPtxHK"
      },
      "source": [
        "## Mount To GDrive (Optional)\n"
      ]
    },
    {
      "cell_type": "code",
      "execution_count": null,
      "metadata": {
        "colab": {
          "base_uri": "https://localhost:8080/"
        },
        "id": "oZSne-RBtzpb",
        "outputId": "8c0b6165-7f07-4eca-95d2-a720205a205c"
      },
      "outputs": [
        {
          "name": "stdout",
          "output_type": "stream",
          "text": [
            "Mounted at /content/drive\n"
          ]
        }
      ],
      "source": [
        "# Mount Google Drive\n",
        "drive.mount('/content/drive')\n",
        "SAVE_PATH = \"/content/drive/MyDrive/gpt2_baseline_model_freeze_d2\"\n",
        "os.makedirs(SAVE_PATH, exist_ok=True)\n"
      ]
    },
    {
      "cell_type": "markdown",
      "metadata": {
        "id": "TmyVPokmokL3"
      },
      "source": [
        "# Functions\n"
      ]
    },
    {
      "cell_type": "markdown",
      "metadata": {
        "id": "J7UOyEUOqTQU"
      },
      "source": [
        "## Load dataset\n"
      ]
    },
    {
      "cell_type": "markdown",
      "metadata": {
        "id": "rbXWAN3bwSiS"
      },
      "source": [
        "It defines a function load_dataset that loads and returns a dataset from a specified JSON file. The function reads the JSON file, parses its content, and outputs it as a list of dictionaries.\n"
      ]
    },
    {
      "cell_type": "code",
      "execution_count": 23,
      "metadata": {
        "id": "dW6eBdM9qPrk"
      },
      "outputs": [],
      "source": [
        "# Load dataset\n",
        "def load_dataset(json_file: str) -> List[Dict]:\n",
        "    with open(json_file, 'r', encoding='utf-8') as f:\n",
        "        return json.load(f)\n"
      ]
    },
    {
      "cell_type": "markdown",
      "metadata": {
        "id": "Srj7UMudrmzx"
      },
      "source": [
        "## Detect and Mapping the labels\n"
      ]
    },
    {
      "cell_type": "markdown",
      "metadata": {
        "id": "e3ab7MZTwXZW"
      },
      "source": [
        "This code defines the detect_labels function, which processes a dataset to identify unique categories, intents, and named entity recognition (NER) labels. The function iterates through each sample in the dataset, extracting and adding unique values to sets for categories, intents, and NER labels. It also creates mappings (encoders) to assign an integer index to each unique category, intent, and NER label, which are then returned as a dictionary. The function prints out the encoders for categories, intents, and NER labels.\n"
      ]
    },
    {
      "cell_type": "code",
      "execution_count": 26,
      "metadata": {
        "id": "feqN3kR7ryxT"
      },
      "outputs": [],
      "source": [
        "# Updated detect_labels to use BIO scheme like HybridFusionMultiTask\n",
        "def detect_labels(data: List[Dict]) -> Dict[str, Dict]:\n",
        "    unique_categories = set()\n",
        "    unique_intents = set()\n",
        "    unique_ner_labels = set([\"O\"])  # \"O\" is the default label for tokens outside entities\n",
        "\n",
        "    for sample in data:\n",
        "        unique_categories.add(sample[\"category\"])\n",
        "        unique_intents.add(sample[\"intent\"])\n",
        "        ner_labels = sample[\"ner_labels_only\"]  # Convert string to list of dicts\n",
        "        # ner_labels = json.loads(ner_labels) # Parse string to list of dictionaries\n",
        "        for label in ner_labels:\n",
        "            label_type = label[\"label\"]\n",
        "            unique_ner_labels.add(f\"B-{label_type}\")  # Add \"B-\" prefix for beginning of entity\n",
        "            unique_ner_labels.add(f\"I-{label_type}\")  # Add \"I-\" prefix for inside of entity\n",
        "\n",
        "    category_encoder = {cat: idx for idx, cat in enumerate(sorted(unique_categories))}\n",
        "    intent_encoder = {intent: idx for idx, intent in enumerate(sorted(unique_intents))}\n",
        "    ner_label_encoder = {ner: idx for idx, ner in enumerate(sorted(unique_ner_labels))}\n",
        "\n",
        "    print(\"Category encoder:\", category_encoder)\n",
        "    print(\"Intent encoder:\", intent_encoder)\n",
        "    print(\"NER label encoder:\", ner_label_encoder)\n",
        "\n",
        "    return {\n",
        "        \"category_encoder\": category_encoder,\n",
        "        \"intent_encoder\": intent_encoder,\n",
        "        \"ner_label_encoder\": ner_label_encoder\n",
        "    }\n",
        "\n",
        "\n"
      ]
    },
    {
      "cell_type": "markdown",
      "metadata": {
        "id": "iaGY07zTr3Jf"
      },
      "source": [
        "## Tokenize the text\n"
      ]
    },
    {
      "cell_type": "markdown",
      "metadata": {
        "id": "iyxhs5afwbTu"
      },
      "source": [
        "This code is a function that tokenizes input text using GPT-2tokenizers. It processes the text by truncating or padding it to a maximum length, and returns tokenized outputs in the form of input_ids and attention_mask for the model. These tokenized inputs are then ready to be fed into the model for multitask learning.\n"
      ]
    },
    {
      "cell_type": "code",
      "execution_count": 5,
      "metadata": {
        "id": "a-k6-4ICr2tw"
      },
      "outputs": [],
      "source": [
        "# Tokenization\n",
        "def tokenize_text_gpt2(text: str, gpt2_tokenizer, max_length: int = 128) -> Dict[str, torch.Tensor]:\n",
        "\n",
        "    gpt2_inputs = gpt2_tokenizer(\n",
        "        text, max_length=max_length,\n",
        "        padding=\"max_length\",\n",
        "        truncation=True,\n",
        "        return_tensors=\"pt\"\n",
        "        )\n",
        "    return {\"gpt2_input_ids\": gpt2_inputs[\"input_ids\"].squeeze(0),\n",
        "            \"gpt2_attention_mask\": gpt2_inputs[\"attention_mask\"].squeeze(0)}\n"
      ]
    },
    {
      "cell_type": "markdown",
      "metadata": {
        "id": "5IUJotv3sBn0"
      },
      "source": [
        "## Aligning Ner Labels\n"
      ]
    },
    {
      "cell_type": "markdown",
      "metadata": {
        "id": "T58BLj6Wwn_A"
      },
      "source": [
        "The align_ner_labels function aligns Named Entity Recognition (NER) labels with tokenized input from GPT2. It tokenizes the text, maps each token to its character offset, and then assigns appropriate NER labels based on the positions of entities in the text. It ensures that the labels are correctly aligned with the tokens, using the BIO (Begin, Inside, Outside) scheme. The function returns a list of integers representing the aligned NER labels, which can then be used for training or evaluation.\n"
      ]
    },
    {
      "cell_type": "code",
      "execution_count": 29,
      "metadata": {
        "id": "z4UKIPkSr-ar"
      },
      "outputs": [],
      "source": [
        "# Align NER labels\n",
        "def align_ner_labels(text: str, ner_labels: str, tokenizer, ner_label_encoder: Dict, max_length: int = 128) -> List[int]:\n",
        "    # ner_labels = json.loads(ner_labels)\n",
        "    encoding = tokenizer(text, max_length=max_length, padding=\"max_length\", truncation=True, return_offsets_mapping=True, return_tensors=\"pt\")\n",
        "    tokens = tokenizer.convert_ids_to_tokens(encoding[\"input_ids\"][0])\n",
        "    token_to_char_map = encoding[\"offset_mapping\"][0].tolist()\n",
        "    ner_aligned = [ner_label_encoder[\"O\"]] * len(tokens)\n",
        "\n",
        "    for label in ner_labels:\n",
        "        label_text, label_type = label[\"text\"], label[\"label\"]\n",
        "        label_start = text.find(label_text)\n",
        "        if label_start == -1:\n",
        "            continue\n",
        "        label_end = label_start + len(label_text)\n",
        "        for i, (start, end) in enumerate(token_to_char_map):\n",
        "            if start == 0 and end == 0:\n",
        "                continue\n",
        "            if start >= label_start and end <= label_end:\n",
        "                prefix = \"B-\" if ner_aligned[i] == ner_label_encoder[\"O\"] else \"I-\"\n",
        "                ner_aligned[i] = ner_label_encoder[f\"{prefix}{label_type}\"]\n",
        "\n",
        "    return ner_aligned[:max_length]\n"
      ]
    },
    {
      "cell_type": "markdown",
      "source": [
        "# Class (Custom Dataset and DataLoader)"
      ],
      "metadata": {
        "id": "faNlPifwy45x"
      }
    },
    {
      "cell_type": "markdown",
      "metadata": {
        "id": "j2fAfYJQ3r0S"
      },
      "source": [
        "## Custom Dataset\n"
      ]
    },
    {
      "cell_type": "markdown",
      "metadata": {
        "id": "p1VN43_6w7VJ"
      },
      "source": [
        "The MultiTaskDataset class is a custom dataset for multitask learning, designed to handle text data for Intent Classification, Category Classification, and Named Entity Recognition (NER). It tokenizes the input text using GPT-2 tokenizers, aligns the NER labels with the tokenized text, and encodes the labels (category, intent, NER) using provided label encoders. The dataset returns tokenized inputs for both models and the associated labels as tensors for training in multitask settings.\n"
      ]
    },
    {
      "cell_type": "code",
      "execution_count": 30,
      "metadata": {
        "id": "VMOeHLX83wN5"
      },
      "outputs": [],
      "source": [
        "class MultiTaskDataset(Dataset):\n",
        "    def __init__(self, data: List[Dict], gpt2_tokenizer, label_encoders, max_length: int = 128):\n",
        "        self.data = data\n",
        "        self.gpt2_tokenizer = gpt2_tokenizer\n",
        "        self.label_encoders = label_encoders\n",
        "        self.max_length = max_length\n",
        "\n",
        "    def __len__(self):\n",
        "        return len(self.data)\n",
        "\n",
        "    def __getitem__(self, idx):\n",
        "        sample = self.data[idx]\n",
        "        text = sample[\"instruction\"]\n",
        "\n",
        "        gpt2_inputs = tokenize_text_gpt2(text, self.gpt2_tokenizer, self.max_length)\n",
        "\n",
        "        return {\n",
        "            \"input_ids\": gpt2_inputs[\"gpt2_input_ids\"],\n",
        "            \"attention_mask\": gpt2_inputs[\"gpt2_attention_mask\"],\n",
        "            \"category_labels\": torch.tensor(self.label_encoders[\"category_encoder\"][sample[\"category\"]], dtype=torch.long),\n",
        "            \"intent_labels\": torch.tensor(self.label_encoders[\"intent_encoder\"][sample[\"intent\"]], dtype=torch.long),\n",
        "            \"ner_labels\": torch.tensor(\n",
        "                align_ner_labels(text, sample[\"ner_labels_only\"], self.gpt2_tokenizer,\n",
        "                                 self.label_encoders[\"ner_label_encoder\"], self.max_length),\n",
        "                dtype=torch.long\n",
        "            )\n",
        "        }\n",
        "\n"
      ]
    },
    {
      "cell_type": "markdown",
      "metadata": {
        "id": "STYpyQ4b3ztM"
      },
      "source": [
        "## Data Loader\n"
      ]
    },
    {
      "cell_type": "markdown",
      "metadata": {
        "id": "PqnURbTwxSZv"
      },
      "source": [
        "The get_dataloaders function creates DataLoader objects for the training, validation, and test datasets. It initializes MultiTaskDataset for each dataset and then creates corresponding DataLoader instances with specified batch sizes and the number of workers for parallel data loading. These DataLoaders are used to efficiently load data in batches during model training and evaluation.\n"
      ]
    },
    {
      "cell_type": "code",
      "execution_count": 31,
      "metadata": {
        "id": "kFSZ2GS-31l4"
      },
      "outputs": [],
      "source": [
        "# DataLoader setup\n",
        "# change pin_memory to false if using CPU\n",
        "def get_dataloaders(train_data, val_data, test_data, gpt2_tokenizer, label_encoders, batch_size=16, num_workers=2, pin_memory=True):\n",
        "    train_dataset = MultiTaskDataset(train_data, gpt2_tokenizer, label_encoders)\n",
        "    val_dataset = MultiTaskDataset(val_data, gpt2_tokenizer, label_encoders)\n",
        "    test_dataset = MultiTaskDataset(test_data, gpt2_tokenizer, label_encoders)\n",
        "\n",
        "    return (\n",
        "        DataLoader(train_dataset, batch_size=batch_size, shuffle=True, num_workers=num_workers, pin_memory=pin_memory),\n",
        "        DataLoader(val_dataset, batch_size=batch_size, shuffle=False, num_workers=num_workers, pin_memory=pin_memory),\n",
        "        DataLoader(test_dataset, batch_size=batch_size, shuffle=False, num_workers=num_workers, pin_memory=pin_memory)\n",
        "    )\n"
      ]
    },
    {
      "cell_type": "markdown",
      "metadata": {
        "id": "o3BMYHw235mc"
      },
      "source": [
        "# Model Architecture\n"
      ]
    },
    {
      "cell_type": "markdown",
      "metadata": {
        "id": "Eh2bSaLTxnpT"
      },
      "source": [
        "This code defines a multi-task learning model, BaselineGPT2MultiTask, which uses a pre-trained GPT-2 model for three tasks: intent classification, category classification, and named entity recognition (NER). The GPT-2 model is frozen (its parameters are not updated during training) by setting requires_grad = False for all its parameters. The model extracts features from GPT-2 and processes them through task-specific heads to generate logits for each task. If labels are provided, it computes the loss for all tasks. The model also includes methods to save and load its state.\n"
      ]
    },
    {
      "cell_type": "code",
      "execution_count": 12,
      "metadata": {
        "id": "Z-u_VU6I4A2z"
      },
      "outputs": [],
      "source": [
        "import torch\n",
        "import torch.nn as nn\n",
        "import torch.nn.functional as F\n",
        "from transformers import GPT2Model, GPT2Config\n",
        "from typing import Dict, Optional, List, Union, Tuple\n",
        "import math\n",
        "\n",
        "class BaselineGPT2MultiTask(nn.Module):\n",
        "    \"\"\"\n",
        "    Multi-task learning model based on GPT-2 for simultaneous intent classification,\n",
        "    category classification, and named entity recognition (NER).\n",
        "\n",
        "    This model implements several enhancements over the baseline:\n",
        "    1. Layer-wise fine-tuning: Only fine-tunes the last n layers of GPT-2\n",
        "    2. Task-weighted loss function: Dynamically balances losses across tasks\n",
        "    3. Enhanced NER architecture: More complex head for token classification\n",
        "    4. Support for discriminative learning rates during optimization\n",
        "    \"\"\"\n",
        "\n",
        "    def __init__(\n",
        "        self,\n",
        "        num_intents: int,\n",
        "        num_categories: int,\n",
        "        num_ner_labels: int,\n",
        "        num_layers_to_finetune: int = 3,  # Number of GPT-2 layers to fine-tune\n",
        "        dropout_rate: float = 0.2,\n",
        "        task_weights: Optional[Dict[str, float]] = None,\n",
        "        use_dynamic_task_weights: bool = False\n",
        "    ):\n",
        "        \"\"\"\n",
        "        Initialize the improved GPT-2 multi-task model.\n",
        "\n",
        "        Args:\n",
        "            num_intents: Number of intent classes\n",
        "            num_categories: Number of category classes\n",
        "            num_ner_labels: Number of NER labels (including O and BIO prefixes)\n",
        "            num_layers_to_finetune: Number of GPT-2 layers to unfreeze for fine-tuning (from the top)\n",
        "            dropout_rate: Dropout rate for regularization\n",
        "            task_weights: Optional dictionary with initial weights for tasks {'intent': w1, 'category': w2, 'ner': w3}\n",
        "            use_dynamic_task_weights: Whether to learn task weights during training\n",
        "        \"\"\"\n",
        "        super().__init__()\n",
        "\n",
        "        # Load GPT-2 configuration and model\n",
        "        self.config = GPT2Config.from_pretrained('gpt2')\n",
        "        self.gpt2 = GPT2Model.from_pretrained('gpt2')\n",
        "        hidden_size = self.config.n_embd\n",
        "\n",
        "        # Implement layer-wise fine-tuning\n",
        "        # First, freeze all parameters\n",
        "        for param in self.gpt2.parameters():\n",
        "            param.requires_grad = False\n",
        "\n",
        "        # Then, selectively unfreeze the last n transformer layers\n",
        "        if num_layers_to_finetune > 0:\n",
        "            num_layers = len(self.gpt2.h)\n",
        "            for i in range(num_layers - num_layers_to_finetune, num_layers):\n",
        "                for param in self.gpt2.h[i].parameters():\n",
        "                    param.requires_grad = True\n",
        "\n",
        "        # Intent classification head\n",
        "        self.intent_head = nn.Sequential(\n",
        "            nn.Linear(hidden_size, hidden_size),\n",
        "            nn.Tanh(),\n",
        "            nn.Dropout(dropout_rate),\n",
        "            nn.Linear(hidden_size, num_intents)\n",
        "        )\n",
        "\n",
        "        # Category classification head\n",
        "        self.category_head = nn.Sequential(\n",
        "            nn.Linear(hidden_size, hidden_size),\n",
        "            nn.Tanh(),\n",
        "            nn.Dropout(dropout_rate),\n",
        "            nn.Linear(hidden_size, num_categories)\n",
        "        )\n",
        "\n",
        "        # Enhanced NER head with deeper architecture\n",
        "        self.ner_head = nn.Sequential(\n",
        "            nn.Linear(hidden_size, hidden_size),\n",
        "            nn.Tanh(),\n",
        "            nn.Dropout(dropout_rate),\n",
        "            nn.Linear(hidden_size, hidden_size//2),\n",
        "            nn.ReLU(),\n",
        "            nn.Dropout(dropout_rate/2),\n",
        "            nn.Linear(hidden_size//2, num_ner_labels)\n",
        "        )\n",
        "\n",
        "        # Task weighting\n",
        "        self.use_dynamic_task_weights = use_dynamic_task_weights\n",
        "\n",
        "        if task_weights:\n",
        "            self.task_weights = task_weights\n",
        "        else:\n",
        "            # Default to equal weighting if not provided\n",
        "            self.task_weights = {'intent': 1.0, 'category': 1.0, 'ner': 1.0}\n",
        "\n",
        "        # For dynamic task weighting (learnable weights)\n",
        "        if use_dynamic_task_weights:\n",
        "            # Initialize log variance parameters for each task\n",
        "            self.log_vars = nn.Parameter(torch.zeros(3))  # One for each task\n",
        "\n",
        "    def get_task_weights(self) -> Dict[str, float]:\n",
        "        \"\"\"\n",
        "        Return the current task weights used by the model.\n",
        "\n",
        "        Returns:\n",
        "            Dictionary containing task weights for 'intent', 'category', and 'ner'\n",
        "        \"\"\"\n",
        "        if self.use_dynamic_task_weights:\n",
        "            # Calculate weights based on learned log variances (uncertainty weighting)\n",
        "            weights = torch.exp(-self.log_vars)\n",
        "            return {\n",
        "                'intent': weights[0].item(),\n",
        "                'category': weights[1].item(),\n",
        "                'ner': weights[2].item()\n",
        "            }\n",
        "        else:\n",
        "            return self.task_weights\n",
        "\n",
        "    def get_finetune_parameters(self) -> List[Dict[str, Union[List[nn.Parameter], float]]]:\n",
        "        \"\"\"\n",
        "        Returns parameters grouped for discriminative learning rates.\n",
        "\n",
        "        Returns:\n",
        "            List of parameter dictionaries with their corresponding learning rates\n",
        "        \"\"\"\n",
        "        # This enables discriminative learning rates during optimization\n",
        "        gpt2_params = []\n",
        "        head_params = []\n",
        "\n",
        "        # Collect unfrozen GPT-2 parameters\n",
        "        for name, param in self.gpt2.named_parameters():\n",
        "            if param.requires_grad:\n",
        "                gpt2_params.append(param)\n",
        "\n",
        "        # Collect task head parameters\n",
        "        for name, param in self.named_parameters():\n",
        "            if 'gpt2' not in name and 'log_vars' not in name:\n",
        "                head_params.append(param)\n",
        "\n",
        "        # Group parameters\n",
        "        return [\n",
        "            {'params': gpt2_params, 'lr_multiplier': 0.1},  # Lower learning rate for GPT-2\n",
        "            {'params': head_params, 'lr_multiplier': 1.0}   # Higher learning rate for heads\n",
        "        ]\n",
        "\n",
        "    def forward(\n",
        "        self,\n",
        "        input_ids: torch.Tensor,\n",
        "        attention_mask: torch.Tensor,\n",
        "        intent_labels: Optional[torch.Tensor] = None,\n",
        "        category_labels: Optional[torch.Tensor] = None,\n",
        "        ner_labels: Optional[torch.Tensor] = None\n",
        "    ) -> Dict[str, torch.Tensor]:\n",
        "        \"\"\"\n",
        "        Forward pass through the multi-task model.\n",
        "\n",
        "        Args:\n",
        "            input_ids: Tokenized input tensor\n",
        "            attention_mask: Attention mask tensor\n",
        "            intent_labels: Optional intent labels for loss calculation\n",
        "            category_labels: Optional category labels for loss calculation\n",
        "            ner_labels: Optional NER labels for loss calculation\n",
        "\n",
        "        Returns:\n",
        "            Dictionary containing logits for each task and combined loss (if labels provided)\n",
        "        \"\"\"\n",
        "        # Get GPT-2 hidden states\n",
        "        outputs = self.gpt2(input_ids=input_ids, attention_mask=attention_mask)\n",
        "        sequence_output = outputs.last_hidden_state\n",
        "\n",
        "        # Get the last non-padding token representation for classification tasks\n",
        "        sequence_lengths = attention_mask.sum(dim=1) - 1  # -1 because indices are 0-based\n",
        "        batch_size = sequence_output.shape[0]\n",
        "\n",
        "        # Create indices to gather the last non-padded token for each sequence\n",
        "        last_token_indexes = sequence_lengths.unsqueeze(-1).unsqueeze(-1).repeat(\n",
        "            1, 1, sequence_output.shape[-1]\n",
        "        )\n",
        "\n",
        "        # Extract the final representation for classification tasks\n",
        "        sequence_repr = torch.gather(sequence_output, 1, last_token_indexes).squeeze(1)\n",
        "\n",
        "        # Pass through task-specific heads\n",
        "        intent_logits = self.intent_head(sequence_repr)\n",
        "        category_logits = self.category_head(sequence_repr)\n",
        "        ner_logits = self.ner_head(sequence_output)\n",
        "\n",
        "        # Calculate loss if labels are provided\n",
        "        loss = None\n",
        "        task_losses = {}\n",
        "\n",
        "        if all(label is not None for label in [intent_labels, category_labels, ner_labels]):\n",
        "            # Intent classification loss\n",
        "            intent_loss = F.cross_entropy(intent_logits, intent_labels)\n",
        "            task_losses['intent'] = intent_loss\n",
        "\n",
        "            # Category classification loss\n",
        "            category_loss = F.cross_entropy(category_logits, category_labels)\n",
        "            task_losses['category'] = category_loss\n",
        "\n",
        "            # NER loss - only consider non-padding tokens\n",
        "            active_loss = attention_mask.view(-1) == 1\n",
        "            active_logits = ner_logits.view(-1, ner_logits.size(-1))[active_loss]\n",
        "            active_labels = ner_labels.view(-1)[active_loss]\n",
        "            ner_loss = F.cross_entropy(active_logits, active_labels)\n",
        "            task_losses['ner'] = ner_loss\n",
        "\n",
        "            # Apply task weighting\n",
        "            if self.use_dynamic_task_weights:\n",
        "                # Dynamic uncertainty weighting\n",
        "                precision = torch.exp(-self.log_vars)\n",
        "                loss = (\n",
        "                    precision[0] * intent_loss + 0.5 * self.log_vars[0] +\n",
        "                    precision[1] * category_loss + 0.5 * self.log_vars[1] +\n",
        "                    precision[2] * ner_loss + 0.5 * self.log_vars[2]\n",
        "                )\n",
        "            else:\n",
        "                # Fixed weighting\n",
        "                loss = (\n",
        "                    self.task_weights['intent'] * intent_loss +\n",
        "                    self.task_weights['category'] * category_loss +\n",
        "                    self.task_weights['ner'] * ner_loss\n",
        "                )\n",
        "\n",
        "        # Return logits and loss\n",
        "        return {\n",
        "            'intent_logits': intent_logits,\n",
        "            'category_logits': category_logits,\n",
        "            'ner_logits': ner_logits,\n",
        "            'loss': loss,\n",
        "            'task_losses': task_losses if loss is not None else None\n",
        "        }\n",
        "\n",
        "    def progressive_unfreeze(self, num_layers: int) -> None:\n",
        "        \"\"\"\n",
        "        Progressively unfreeze additional GPT-2 layers for fine-tuning.\n",
        "\n",
        "        Args:\n",
        "            num_layers: Total number of layers to have unfrozen after this call\n",
        "        \"\"\"\n",
        "        # First, make sure all layers are frozen\n",
        "        for param in self.gpt2.parameters():\n",
        "            param.requires_grad = False\n",
        "\n",
        "        # Then unfreeze the specified number of layers from the top\n",
        "        total_layers = len(self.gpt2.h)\n",
        "        start_idx = max(0, total_layers - num_layers)\n",
        "\n",
        "        for i in range(start_idx, total_layers):\n",
        "            for param in self.gpt2.h[i].parameters():\n",
        "                param.requires_grad = True\n",
        "\n",
        "        print(f\"Unfroze layers {start_idx} to {total_layers-1} of GPT-2\")"
      ]
    },
    {
      "cell_type": "markdown",
      "source": [
        "# Training"
      ],
      "metadata": {
        "id": "6qWMr7bqzBvK"
      }
    },
    {
      "cell_type": "markdown",
      "metadata": {
        "id": "VMe9NhyT4EHY"
      },
      "source": [
        "## Training Loop and Validation Loop\n"
      ]
    },
    {
      "cell_type": "markdown",
      "metadata": {
        "id": "n6nDGwhgx1an"
      },
      "source": [
        "The train_model_with_mixed_precision function trains a multitask model using mixed-precision training for improved performance and memory efficiency. It tracks multiple metrics, including training loss, validation loss, intent accuracy, category accuracy, and NER F1 score. The function leverages gradient accumulation for efficient updates and autocast for automatic mixed precision during forward and backward passes. It computes and reports the metrics for both training and validation phases, and filters out \"O\" labels in NER for accurate F1 score calculation. The model is trained for a specified number of epochs on a GPU device.\n"
      ]
    },
    {
      "cell_type": "code",
      "execution_count": 41,
      "metadata": {
        "id": "TfK1ququ4Lzb"
      },
      "outputs": [],
      "source": [
        "def train_model(\n",
        "    model,\n",
        "    train_loader,\n",
        "    val_loader,\n",
        "    optimizer,\n",
        "    scheduler,\n",
        "    label_encoders,\n",
        "    num_epochs=5,\n",
        "    device=\"cuda\",\n",
        "    accumulation_steps=4,\n",
        "    checkpoint_dir=\"checkpoints\",\n",
        "    progressive_unfreeze=False,\n",
        "    unfreeze_epochs=[1, 2, 3],  # At which epochs to increase unfrozen layers\n",
        "    max_unfrozen_layers=12,\n",
        "):\n",
        "    \"\"\"\n",
        "    Enhanced training function for ImprovedGPT2MultiTask model.\n",
        "\n",
        "    Args:\n",
        "        model: The multi-task model\n",
        "        train_loader: Training data loader\n",
        "        val_loader: Validation data loader\n",
        "        optimizer: Optimizer (ideally set up with discriminative learning rates)\n",
        "        scheduler: Learning rate scheduler\n",
        "        label_encoders: Dictionary of label encoders\n",
        "        num_epochs: Number of training epochs\n",
        "        device: Device to train on (\"cuda\" or \"cpu\")\n",
        "        accumulation_steps: Number of steps for gradient accumulation\n",
        "        checkpoint_dir: Directory to save checkpoints\n",
        "        progressive_unfreeze: Whether to unfreeze more GPT-2 layers as training progresses\n",
        "        unfreeze_epochs: List of epochs at which to increase unfrozen layers\n",
        "        max_unfrozen_layers: Maximum number of layers to unfreeze\n",
        "\n",
        "    Returns:\n",
        "        metrics: Dictionary of training metrics\n",
        "    \"\"\"\n",
        "    # Create checkpoint directory if it doesn't exist\n",
        "    os.makedirs(checkpoint_dir, exist_ok=True)\n",
        "\n",
        "    # Prepare for metrics tracking\n",
        "    model.to(device)\n",
        "    ner_label_decoder = {v: k for k, v in label_encoders[\"ner_label_encoder\"].items()}\n",
        "    metrics = {\n",
        "        \"train_losses\": [], \"val_losses\": [],\n",
        "        \"train_intent_acc\": [], \"train_category_f1\": [], \"train_ner_micro_f1\": [],\n",
        "        \"val_intent_acc\": [], \"val_category_f1\": [], \"val_ner_macro_f1\": [],\n",
        "        \"epoch_times\": []\n",
        "    }\n",
        "\n",
        "    # Track task weights if model supports it\n",
        "    if hasattr(model, 'get_task_weights'):\n",
        "        metrics[\"task_weights\"] = []\n",
        "\n",
        "    best_val_score = 0.0\n",
        "    best_model_path = None\n",
        "\n",
        "    for epoch in range(num_epochs):\n",
        "        start_time = time.time()\n",
        "        print(f\"\\nEpoch {epoch + 1}/{num_epochs} (Device: {device})\")\n",
        "        print(\"-\" * 50)\n",
        "\n",
        "        # Progressive unfreezing if enabled\n",
        "        if progressive_unfreeze and hasattr(model, 'progressive_unfreeze'):\n",
        "            if epoch in unfreeze_epochs:\n",
        "                # Calculate number of layers to unfreeze\n",
        "                layer_increment = max_unfrozen_layers // (len(unfreeze_epochs) + 1)\n",
        "                unfrozen_layers = min(max_unfrozen_layers, (epoch // unfreeze_epochs[0] + 1) * layer_increment)\n",
        "                print(f\"Progressive unfreezing: increasing to {unfrozen_layers} layers\")\n",
        "                model.progressive_unfreeze(unfrozen_layers)\n",
        "\n",
        "        # Training phase\n",
        "        model.train()\n",
        "        train_loss = 0.0\n",
        "        task_losses = {\n",
        "            'intent': 0.0,\n",
        "            'category': 0.0,\n",
        "            'ner': 0.0\n",
        "        }\n",
        "\n",
        "        train_intent_preds, train_intent_labels = [], []\n",
        "        train_category_preds, train_category_labels = [], []\n",
        "        train_ner_preds, train_ner_labels = [], []\n",
        "\n",
        "        optimizer.zero_grad()\n",
        "\n",
        "        for i, batch in enumerate(tqdm(train_loader, desc=\"Training\")):\n",
        "            batch_start = time.time()\n",
        "            inputs = {k: v.to(device) for k, v in batch.items()}\n",
        "\n",
        "            outputs = model(\n",
        "                input_ids=inputs[\"input_ids\"],\n",
        "                attention_mask=inputs[\"attention_mask\"],\n",
        "                intent_labels=inputs[\"intent_labels\"],\n",
        "                category_labels=inputs[\"category_labels\"],\n",
        "                ner_labels=inputs[\"ner_labels\"]\n",
        "            )\n",
        "\n",
        "            loss = outputs[\"loss\"] / accumulation_steps\n",
        "            loss.backward()\n",
        "            train_loss += loss.item() * accumulation_steps\n",
        "\n",
        "            # Track individual task losses if available\n",
        "            if outputs.get(\"task_losses\") is not None:\n",
        "                for task, task_loss in outputs[\"task_losses\"].items():\n",
        "                    task_losses[task] += task_loss.item()\n",
        "\n",
        "            # Collect predictions\n",
        "            train_intent_preds.extend(outputs[\"intent_logits\"].argmax(dim=-1).detach().cpu().numpy())\n",
        "            train_intent_labels.extend(inputs[\"intent_labels\"].detach().cpu().numpy())\n",
        "            train_category_preds.extend(outputs[\"category_logits\"].argmax(dim=-1).detach().cpu().numpy())\n",
        "            train_category_labels.extend(inputs[\"category_labels\"].detach().cpu().numpy())\n",
        "\n",
        "            # Handle NER predictions (only on non-padded tokens)\n",
        "            attention_mask = inputs[\"attention_mask\"]\n",
        "            for j in range(outputs[\"ner_logits\"].size(0)):\n",
        "                seq_len = attention_mask[j].sum().item()\n",
        "                train_ner_preds.extend(outputs[\"ner_logits\"][j, :seq_len].argmax(dim=-1).detach().cpu().numpy())\n",
        "                train_ner_labels.extend(inputs[\"ner_labels\"][j, :seq_len].detach().cpu().numpy())\n",
        "\n",
        "            # Gradient accumulation and optimization step\n",
        "            if (i + 1) % accumulation_steps == 0:\n",
        "                torch.nn.utils.clip_grad_norm_(model.parameters(), 1.0)\n",
        "                optimizer.step()\n",
        "                scheduler.step()\n",
        "                optimizer.zero_grad()\n",
        "\n",
        "            print(f\"Batch {i + 1} Latency: {time.time() - batch_start:.4f}s\", end='\\r')\n",
        "\n",
        "        # Make sure optimizer step is performed at the end of epoch\n",
        "        if (len(train_loader) % accumulation_steps) != 0:\n",
        "            torch.nn.utils.clip_grad_norm_(model.parameters(), 1.0)\n",
        "            optimizer.step()\n",
        "            scheduler.step()\n",
        "            optimizer.zero_grad()\n",
        "\n",
        "        # Calculate training metrics\n",
        "        avg_train_loss = train_loss / len(train_loader)\n",
        "        avg_task_losses = {k: v / len(train_loader) for k, v in task_losses.items()}\n",
        "\n",
        "        train_intent_acc = accuracy_score(train_intent_labels, train_intent_preds)\n",
        "        train_category_f1 = f1_score(train_category_labels, train_category_preds, average='weighted')\n",
        "\n",
        "        # Process NER predictions for sequence evaluation\n",
        "        train_ner_true = []\n",
        "        train_ner_pred = []\n",
        "\n",
        "         # Access the ner_label_encoder from the label_encoders dictionary\n",
        "        ner_label_encoder = label_encoders[\"ner_label_encoder\"]\n",
        "        ner_label_decoder = {v: k for k, v in ner_label_encoder.items()}\n",
        "\n",
        "        idx = 0\n",
        "        current_seq_true = []\n",
        "        current_seq_pred = []\n",
        "\n",
        "        for i in range(len(train_ner_labels)):\n",
        "            current_seq_true.append(ner_label_decoder[train_ner_labels[i]])\n",
        "            current_seq_pred.append(ner_label_decoder[train_ner_preds[i]])\n",
        "\n",
        "            # When we reach a special token or end of sequence, finish the current sequence\n",
        "            if train_ner_labels[i] == ner_label_encoder[\"O\"] and i > 0 and i < len(train_ner_labels) - 1:\n",
        "                if len(current_seq_true) > 0:\n",
        "                    train_ner_true.append(current_seq_true)\n",
        "                    train_ner_pred.append(current_seq_pred)\n",
        "                    current_seq_true = []\n",
        "                    current_seq_pred = []\n",
        "\n",
        "        # Add the last sequence if it exists\n",
        "        if len(current_seq_true) > 0:\n",
        "            train_ner_true.append(current_seq_true)\n",
        "            train_ner_pred.append(current_seq_pred)\n",
        "\n",
        "        train_ner_micro_f1 = seq_f1(train_ner_true, train_ner_pred, average='micro')\n",
        "\n",
        "        # Validation phase\n",
        "        model.eval()\n",
        "        val_loss = 0.0\n",
        "        val_intent_preds, val_intent_labels = [], []\n",
        "        val_category_preds, val_category_labels = [], []\n",
        "        val_ner_true, val_ner_pred = [], []\n",
        "\n",
        "        with torch.no_grad():\n",
        "            for batch in tqdm(val_loader, desc=\"Validation\"):\n",
        "                inputs = {k: v.to(device) for k, v in batch.items()}\n",
        "\n",
        "                outputs = model(\n",
        "                    input_ids=inputs[\"input_ids\"],\n",
        "                    attention_mask=inputs[\"attention_mask\"],\n",
        "                    intent_labels=inputs[\"intent_labels\"],\n",
        "                    category_labels=inputs[\"category_labels\"],\n",
        "                    ner_labels=inputs[\"ner_labels\"]\n",
        "                )\n",
        "\n",
        "                val_loss += outputs[\"loss\"].item()\n",
        "\n",
        "                # Collect predictions\n",
        "                val_intent_preds.extend(outputs[\"intent_logits\"].argmax(dim=-1).cpu().numpy())\n",
        "                val_intent_labels.extend(inputs[\"intent_labels\"].cpu().numpy())\n",
        "                val_category_preds.extend(outputs[\"category_logits\"].argmax(dim=-1).cpu().numpy())\n",
        "                val_category_labels.extend(inputs[\"category_labels\"].cpu().numpy())\n",
        "\n",
        "                # Process NER predictions\n",
        "                attention_mask = inputs[\"attention_mask\"]\n",
        "                for j in range(outputs[\"ner_logits\"].size(0)):\n",
        "                    seq_len = attention_mask[j].sum().item()\n",
        "                    ner_true = [ner_label_decoder[l.item()] for l in inputs[\"ner_labels\"][j, :seq_len]]\n",
        "                    ner_pred = [ner_label_decoder[p.item()] for p in outputs[\"ner_logits\"][j, :seq_len].argmax(dim=-1)]\n",
        "                    val_ner_true.append(ner_true)\n",
        "                    val_ner_pred.append(ner_pred)\n",
        "\n",
        "        # Calculate validation metrics\n",
        "        avg_val_loss = val_loss / len(val_loader)\n",
        "        val_intent_acc = accuracy_score(val_intent_labels, val_intent_preds)\n",
        "        val_category_f1 = f1_score(val_category_labels, val_category_preds, average='weighted')\n",
        "        val_ner_macro_f1 = seq_f1(val_ner_true, val_ner_pred, average='macro')\n",
        "\n",
        "        # Calculate composite score for checkpoint saving\n",
        "        val_composite_score = (val_intent_acc + val_category_f1 + val_ner_macro_f1) / 3\n",
        "\n",
        "        # Save checkpoint if validation performance improves\n",
        "        if val_composite_score > best_val_score:\n",
        "            best_val_score = val_composite_score\n",
        "            checkpoint_path = os.path.join(checkpoint_dir, f\"best_model_epoch_{epoch+1}.pt\")\n",
        "\n",
        "            # Save model state along with configuration\n",
        "            torch.save({\n",
        "                'epoch': epoch + 1,\n",
        "                'model_state_dict': model.state_dict(),\n",
        "                'optimizer_state_dict': optimizer.state_dict(),\n",
        "                'scheduler_state_dict': scheduler.state_dict(),\n",
        "                'val_composite_score': val_composite_score,\n",
        "                'val_intent_acc': val_intent_acc,\n",
        "                'val_category_f1': val_category_f1,\n",
        "                'val_ner_macro_f1': val_ner_macro_f1,\n",
        "                'task_weights': model.get_task_weights() if hasattr(model, 'get_task_weights') else None,\n",
        "            }, checkpoint_path)\n",
        "            print(f\"Saved best model checkpoint to {checkpoint_path}\")\n",
        "\n",
        "        # Record time for this epoch\n",
        "        epoch_time = time.time() - start_time\n",
        "\n",
        "        # Store metrics\n",
        "        metrics[\"train_losses\"].append(avg_train_loss)\n",
        "        metrics[\"val_losses\"].append(avg_val_loss)\n",
        "        metrics[\"train_intent_acc\"].append(train_intent_acc)\n",
        "        metrics[\"train_category_f1\"].append(train_category_f1)\n",
        "        metrics[\"train_ner_micro_f1\"].append(train_ner_micro_f1)\n",
        "        metrics[\"val_intent_acc\"].append(val_intent_acc)\n",
        "        metrics[\"val_category_f1\"].append(val_category_f1)\n",
        "        metrics[\"val_ner_macro_f1\"].append(val_ner_macro_f1)\n",
        "        metrics[\"epoch_times\"].append(epoch_time)\n",
        "\n",
        "        # Track task weights if using dynamic weighting\n",
        "        if hasattr(model, 'get_task_weights'):\n",
        "            metrics[\"task_weights\"].append(model.get_task_weights())\n",
        "\n",
        "        # Overfitting/Underfitting Analysis\n",
        "        fit_status = \"Good\"\n",
        "        if epoch > 0:\n",
        "            if avg_train_loss < metrics[\"train_losses\"][-2] and avg_val_loss > metrics[\"val_losses\"][-2]:\n",
        "                fit_status = \"Overfitting\"\n",
        "            elif avg_train_loss > 0.5 and avg_val_loss > 0.5:  # Arbitrary threshold, adjust as needed\n",
        "                fit_status = \"Underfitting\"\n",
        "\n",
        "        # Print detailed epoch results\n",
        "        print(f\"Training Loss: {avg_train_loss:.4f} | Intent Acc: {train_intent_acc:.4f} | Category Weighted F1: {train_category_f1:.4f} | NER Micro F1: {train_ner_micro_f1:.4f}\")\n",
        "        print(f\"Validation Loss: {avg_val_loss:.4f} | Intent Acc: {val_intent_acc:.4f} | Category Weighted F1: {val_category_f1:.4f} | NER Macro F1: {val_ner_macro_f1:.4f}\")\n",
        "        print(f\"Epoch Time: {epoch_time:.2f}s | Fit Status: {fit_status}\")\n",
        "\n",
        "        # Print detailed task losses\n",
        "        print(\"Task Loss Breakdown:\")\n",
        "        for task, loss in avg_task_losses.items():\n",
        "            print(f\"  {task.capitalize()}: {loss:.4f}\")\n",
        "\n",
        "        # Print current task weights if using dynamic weighting\n",
        "        if hasattr(model, 'get_task_weights'):\n",
        "            print(f\"Current Task Weights: {model.get_task_weights()}\")\n",
        "\n",
        "        # Save metrics to JSON file at each epoch\n",
        "        with open(os.path.join(checkpoint_dir, \"training_metrics.json\"), \"w\") as f:\n",
        "            json.dump(metrics, f, indent=2)\n",
        "\n",
        "    # # Create and save learning curves\n",
        "    # plot_training_curves(metrics, save_path=os.path.join(checkpoint_dir, \"learning_curves.png\"))\n",
        "\n",
        "    # Return the final metrics\n",
        "    return metrics\n"
      ]
    },
    {
      "cell_type": "markdown",
      "metadata": {
        "id": "Hq2LhNwE4NNK"
      },
      "source": [
        "## Optimizer\n"
      ]
    },
    {
      "cell_type": "markdown",
      "metadata": {
        "id": "dD2F5aPpyBi4"
      },
      "source": [
        "The setup_optimizer_and_scheduler function sets up the AdamW optimizer and a learning rate scheduler for training a hybrid multi-task model. It takes the model, training DataLoader, learning rate, number of epochs, and warmup steps as inputs. The optimizer is initialized with the model's parameters, and the scheduler is configured to adjust the learning rate over the course of training, with a warmup phase if specified. The function returns both the optimizer and the scheduler for training.\n"
      ]
    },
    {
      "cell_type": "code",
      "execution_count": 17,
      "metadata": {
        "id": "fm2WYeEj4PVm"
      },
      "outputs": [],
      "source": [
        "def setup_optimizer_and_scheduler(\n",
        "    model,\n",
        "    train_loader,\n",
        "    base_lr=2e-5,\n",
        "    num_epochs=5,\n",
        "    warmup_ratio=0.1,\n",
        "    weight_decay=0.01,\n",
        "    use_discriminative_lr=True\n",
        "):\n",
        "    \"\"\"\n",
        "    Setup optimizer with discriminative learning rates and scheduler.\n",
        "\n",
        "    Args:\n",
        "        model: The ImprovedGPT2MultiTask model\n",
        "        train_loader: Training data loader\n",
        "        base_lr: Base learning rate\n",
        "        num_epochs: Number of training epochs\n",
        "        warmup_ratio: Ratio of total steps to use for warmup\n",
        "        weight_decay: Weight decay for regularization\n",
        "        use_discriminative_lr: Whether to use different learning rates for different components\n",
        "\n",
        "    Returns:\n",
        "        optimizer: Configured optimizer\n",
        "        scheduler: Learning rate scheduler\n",
        "    \"\"\"\n",
        "    total_steps = len(train_loader) * num_epochs\n",
        "    warmup_steps = int(total_steps * warmup_ratio)\n",
        "\n",
        "    if use_discriminative_lr and hasattr(model, 'get_finetune_parameters'):\n",
        "        # Use discriminative learning rates from the improved model\n",
        "        param_groups = model.get_finetune_parameters()\n",
        "        optimizer_grouped_parameters = []\n",
        "\n",
        "        for group in param_groups:\n",
        "            optimizer_grouped_parameters.append({\n",
        "                'params': group['params'],\n",
        "                'lr': base_lr * group['lr_multiplier'],\n",
        "                'weight_decay': weight_decay\n",
        "            })\n",
        "\n",
        "        print(f\"Using discriminative learning rates:\")\n",
        "        for i, group in enumerate(optimizer_grouped_parameters):\n",
        "            num_params = sum(p.numel() for p in group['params'])\n",
        "            print(f\"  Group {i+1}: LR = {group['lr']}, Weight Decay = {group['weight_decay']}, Parameters: {num_params:,}\")\n",
        "    else:\n",
        "        # Use standard optimization if model doesn't support discriminative rates\n",
        "        optimizer_grouped_parameters = [\n",
        "            {'params': model.parameters(), 'lr': base_lr, 'weight_decay': weight_decay}\n",
        "        ]\n",
        "        print(f\"Using uniform learning rate: {base_lr}\")\n",
        "\n",
        "    # Create optimizer and scheduler\n",
        "    optimizer = AdamW(optimizer_grouped_parameters)\n",
        "    scheduler = get_linear_schedule_with_warmup(\n",
        "        optimizer,\n",
        "        num_warmup_steps=warmup_steps,\n",
        "        num_training_steps=total_steps\n",
        "    )\n",
        "\n",
        "    return optimizer, scheduler"
      ]
    },
    {
      "cell_type": "markdown",
      "metadata": {
        "id": "VOXpZ6BA4kGe"
      },
      "source": [
        "## Saved Training Model and History\n"
      ]
    },
    {
      "cell_type": "markdown",
      "metadata": {
        "id": "GZ3TBsMqyNRd"
      },
      "source": [
        "This function saves the training metrics and evaluation results, including confusion matrices for intent and category, into a JSON file. It filters out unnecessary data (like predictions and labels) and stores the relevant information in a structured format. The file is saved to the specified save_path with the name \"training_history.json\".\n"
      ]
    },
    {
      "cell_type": "code",
      "execution_count": null,
      "metadata": {
        "id": "5QDdBkVP4dnj"
      },
      "outputs": [],
      "source": [
        "# Save model and metadata\n",
        "def save_training_artifacts(model, gpt2_tokenizer, label_encoders, metrics, test_results, save_path):\n",
        "    torch.save(model.state_dict(), os.path.join(save_path, \"model.pth\"))\n",
        "    gpt2_tokenizer.save_pretrained(os.path.join(save_path, \"tokenizer\"))\n",
        "    with open(os.path.join(save_path, \"label_encoders.json\"), \"w\", encoding=\"utf-8\") as f:\n",
        "        json.dump(label_encoders, f, ensure_ascii=False, indent=4)\n",
        "    with open(os.path.join(save_path, \"training_metrics.json\"), \"w\", encoding=\"utf-8\") as f:\n",
        "        json.dump(metrics, f, ensure_ascii=False, indent=4)\n",
        "    with open(os.path.join(save_path, \"test_results.json\"), \"w\", encoding=\"utf-8\") as f:\n",
        "        json.dump(test_results, f, ensure_ascii=False, indent=4)\n",
        "    print(f\"Artifacts saved to {save_path}\")\n"
      ]
    },
    {
      "cell_type": "markdown",
      "metadata": {
        "id": "nf4nWqgq67Kh"
      },
      "source": []
    },
    {
      "cell_type": "markdown",
      "metadata": {
        "id": "AImzxTOT4nOe"
      },
      "source": [
        "# Initialize\n"
      ]
    },
    {
      "cell_type": "markdown",
      "metadata": {
        "id": "tPJ2vl8kyUR1"
      },
      "source": [
        "This code handles the main execution of training a multi-task GPT-2 model. It mounts Google Drive, loads and preprocesses a dataset, and splits it into training, validation, and test sets. It initializes a BaselineGPT2MultiTask model, ensuring the GPT-2 parameters are frozen during training. The model's optimizer and scheduler are set up, and the model is trained using mixed-precision training for 5 epochs. The training process utilizes a GPU (if available) for better performance.\n"
      ]
    },
    {
      "cell_type": "markdown",
      "source": [
        "## Define Hyperparameter"
      ],
      "metadata": {
        "id": "mSXVsQWf0WK1"
      }
    },
    {
      "cell_type": "code",
      "source": [
        "from datetime import datetime  # Import datetime for timestamp\n",
        "timestamp = datetime.now().strftime(\"%Y%m%d_%H%M%S\")  # Define timestamp\n",
        "\n",
        "# Data paths\n",
        "train_file = \"train.json\"\n",
        "val_file = \"val.json\"\n",
        "test_file = \"test.json\"\n",
        "\n",
        "# Model configuration\n",
        "num_layers_to_finetune = 3  # Number of GPT-2 layers to fine-tune (0=all frozen)\n",
        "progressive_unfreeze = True  # Gradually unfreeze more layers during training\n",
        "max_unfrozen_layers = 6  # Maximum number of layers to unfreeze with progressive unfreezing\n",
        "dropout_rate = 0.2  # Dropout rate for classification heads\n",
        "\n",
        "# Task weighting options\n",
        "use_dynamic_task_weights = False  # Use learnable task weights\n",
        "intent_weight = 1.0  # Weight for intent classification task\n",
        "category_weight = 1.0  # Weight for category classification task\n",
        "ner_weight = 1.0  # Weight for NER task\n",
        "\n",
        "# Training hyperparameters\n",
        "batch_size = 16  # Batch size\n",
        "num_epochs = 5  # Number of training epochs\n",
        "learning_rate = 2e-5  # Base learning rate\n",
        "warmup_ratio = 0.1  # Fraction of training steps for warmup\n",
        "weight_decay = 0.01  # AdamW weight decay\n",
        "accumulation_steps = 4  # Gradient accumulation steps\n",
        "use_discriminative_lr = True  # Use discriminative learning rates\n",
        "\n",
        "# System settings\n",
        "device = \"cuda\" if torch.cuda.is_available() else \"cpu\"\n",
        "output_dir = f\"output/improved_gpt2multitask_{timestamp}\"\n",
        "num_workers = 0  # Number of workers for data loading\n",
        "\n",
        "# Create output directory\n",
        "os.makedirs(output_dir, exist_ok=True)\n",
        "print(f\"Output directory: {output_dir}\")\n",
        "print(f\"Device: {device}\")"
      ],
      "metadata": {
        "colab": {
          "base_uri": "https://localhost:8080/"
        },
        "id": "jGfAxzJx0aBD",
        "outputId": "d22d708d-9497-4ecb-e03b-bfcea86be95a"
      },
      "execution_count": 20,
      "outputs": [
        {
          "output_type": "stream",
          "name": "stdout",
          "text": [
            "Output directory: output/improved_gpt2multitask_20250304_181909\n",
            "Device: cuda\n"
          ]
        }
      ]
    },
    {
      "cell_type": "markdown",
      "source": [
        "## Load Split Dataset and label encoder"
      ],
      "metadata": {
        "id": "Dpb3yNYHzxHf"
      }
    },
    {
      "cell_type": "code",
      "source": [
        "# Load datasets\n",
        "print(\"Loading datasets...\")\n",
        "# train_data = load_dataset(train_file)\n",
        "# val_data = load_dataset(val_file)\n",
        "# test_data = load_dataset(test_file)\n",
        "\n",
        "train_data = load_dataset(train_file)[:100]  # Take first 100 rows of train data\n",
        "val_data = load_dataset(val_file)[:100]    # Take first 100 rows of validation data\n",
        "test_data = load_dataset(test_file)[:100]   # Take first 100 rows of test data\n",
        "\n",
        "print(f\"Training samples: {len(train_data)}\")\n",
        "print(f\"Validation samples: {len(val_data)}\")\n",
        "print(f\"Test samples: {len(test_data)}\")\n",
        "\n",
        "# Save configuration for reproducibility\n",
        "config = {\n",
        "    \"train_file\": train_file,\n",
        "    \"val_file\": val_file,\n",
        "    \"test_file\": test_file,\n",
        "    \"num_layers_to_finetune\": num_layers_to_finetune,\n",
        "    \"progressive_unfreeze\": progressive_unfreeze,\n",
        "    \"max_unfrozen_layers\": max_unfrozen_layers,\n",
        "    \"dropout_rate\": dropout_rate,\n",
        "    \"use_dynamic_task_weights\": use_dynamic_task_weights,\n",
        "    \"task_weights\": {\n",
        "        \"intent\": intent_weight,\n",
        "        \"category\": category_weight,\n",
        "        \"ner\": ner_weight\n",
        "    },\n",
        "    \"batch_size\": batch_size,\n",
        "    \"num_epochs\": num_epochs,\n",
        "    \"learning_rate\": learning_rate,\n",
        "    \"warmup_ratio\": warmup_ratio,\n",
        "    \"weight_decay\": weight_decay,\n",
        "    \"accumulation_steps\": accumulation_steps,\n",
        "    \"use_discriminative_lr\": use_discriminative_lr,\n",
        "    \"device\": device,\n",
        "    \"timestamp\": timestamp\n",
        "}\n",
        "\n",
        "with open(os.path.join(output_dir, \"training_config.json\"), \"w\") as f:\n",
        "    json.dump(config, f, indent=4)"
      ],
      "metadata": {
        "colab": {
          "base_uri": "https://localhost:8080/"
        },
        "id": "Dk-ovLGiz0Jb",
        "outputId": "e3bb7a5a-98b8-4c2b-d4ae-5b892290887e"
      },
      "execution_count": 21,
      "outputs": [
        {
          "output_type": "stream",
          "name": "stdout",
          "text": [
            "Loading datasets...\n",
            "Training samples: 100\n",
            "Validation samples: 100\n",
            "Test samples: 100\n"
          ]
        }
      ]
    },
    {
      "cell_type": "code",
      "source": [
        "# Detect and create label encoders\n",
        "label_encoders = detect_labels(train_data + val_data + test_data)\n",
        "\n",
        "# Display encoder information\n",
        "print(\"\\nIntent labels:\")\n",
        "for label, idx in label_encoders[\"intent_encoder\"].items():\n",
        "    print(f\"  {label}: {idx}\")\n",
        "\n",
        "print(\"\\nCategory labels:\")\n",
        "for label, idx in label_encoders[\"category_encoder\"].items():\n",
        "    print(f\"  {label}: {idx}\")\n",
        "\n",
        "print(\"\\nNER labels:\")\n",
        "for label, idx in label_encoders[\"ner_label_encoder\"].items():\n",
        "    print(f\"  {label}: {idx}\")\n",
        "\n",
        "# Save label encoders for inference\n",
        "with open(os.path.join(output_dir, \"label_encoders.json\"), \"w\") as f:\n",
        "    # Convert integer keys to strings for JSON serialization\n",
        "    serializable_encoders = {}\n",
        "    for encoder_name, encoder_dict in label_encoders.items():\n",
        "        serializable_encoders[encoder_name] = {k: v for k, v in encoder_dict.items()}\n",
        "    json.dump(serializable_encoders, f, indent=4)"
      ],
      "metadata": {
        "id": "sjD2FzyzVLjU",
        "outputId": "452e6057-8bac-4e8a-f6bb-badb68183c47",
        "colab": {
          "base_uri": "https://localhost:8080/"
        }
      },
      "execution_count": 33,
      "outputs": [
        {
          "output_type": "stream",
          "name": "stdout",
          "text": [
            "Category encoder: {'account': 0, 'cancel': 1, 'contact': 2, 'delivery': 3, 'feedback': 4, 'invoice': 5, 'order': 6, 'payment': 7, 'refund': 8, 'shipping': 9, 'subscription': 10}\n",
            "Intent encoder: {'cancel_order': 0, 'change_order': 1, 'change_shipping_address': 2, 'check_cancellation_fee': 3, 'check_invoice': 4, 'check_payment_methods': 5, 'check_refund_policy': 6, 'complaint': 7, 'contact_customer_service': 8, 'contact_human_agent': 9, 'create_account': 10, 'delete_account': 11, 'delivery_options': 12, 'delivery_period': 13, 'edit_account': 14, 'get_invoice': 15, 'get_refund': 16, 'newsletter_subscription': 17, 'payment_issue': 18, 'place_order': 19, 'recover_password': 20, 'registration_problems': 21, 'review': 22, 'set_up_shipping_address': 23, 'switch_account': 24, 'track_order': 25, 'track_refund': 26}\n",
            "NER label encoder: {'B-account_category': 0, 'B-account_type': 1, 'B-currency_symbol': 2, 'B-delivery_city': 3, 'B-delivery_country': 4, 'B-order_number': 5, 'B-person_name': 6, 'B-refund_amount': 7, 'I-account_category': 8, 'I-account_type': 9, 'I-currency_symbol': 10, 'I-delivery_city': 11, 'I-delivery_country': 12, 'I-order_number': 13, 'I-person_name': 14, 'I-refund_amount': 15, 'O': 16}\n",
            "\n",
            "Intent labels:\n",
            "  cancel_order: 0\n",
            "  change_order: 1\n",
            "  change_shipping_address: 2\n",
            "  check_cancellation_fee: 3\n",
            "  check_invoice: 4\n",
            "  check_payment_methods: 5\n",
            "  check_refund_policy: 6\n",
            "  complaint: 7\n",
            "  contact_customer_service: 8\n",
            "  contact_human_agent: 9\n",
            "  create_account: 10\n",
            "  delete_account: 11\n",
            "  delivery_options: 12\n",
            "  delivery_period: 13\n",
            "  edit_account: 14\n",
            "  get_invoice: 15\n",
            "  get_refund: 16\n",
            "  newsletter_subscription: 17\n",
            "  payment_issue: 18\n",
            "  place_order: 19\n",
            "  recover_password: 20\n",
            "  registration_problems: 21\n",
            "  review: 22\n",
            "  set_up_shipping_address: 23\n",
            "  switch_account: 24\n",
            "  track_order: 25\n",
            "  track_refund: 26\n",
            "\n",
            "Category labels:\n",
            "  account: 0\n",
            "  cancel: 1\n",
            "  contact: 2\n",
            "  delivery: 3\n",
            "  feedback: 4\n",
            "  invoice: 5\n",
            "  order: 6\n",
            "  payment: 7\n",
            "  refund: 8\n",
            "  shipping: 9\n",
            "  subscription: 10\n",
            "\n",
            "NER labels:\n",
            "  B-account_category: 0\n",
            "  B-account_type: 1\n",
            "  B-currency_symbol: 2\n",
            "  B-delivery_city: 3\n",
            "  B-delivery_country: 4\n",
            "  B-order_number: 5\n",
            "  B-person_name: 6\n",
            "  B-refund_amount: 7\n",
            "  I-account_category: 8\n",
            "  I-account_type: 9\n",
            "  I-currency_symbol: 10\n",
            "  I-delivery_city: 11\n",
            "  I-delivery_country: 12\n",
            "  I-order_number: 13\n",
            "  I-person_name: 14\n",
            "  I-refund_amount: 15\n",
            "  O: 16\n"
          ]
        }
      ]
    },
    {
      "cell_type": "markdown",
      "source": [
        "## Tokenizer and Model Set Up"
      ],
      "metadata": {
        "id": "HFY-AZ5m0Aod"
      }
    },
    {
      "cell_type": "code",
      "source": [
        "# Initialize tokenizer\n",
        "print(\"Initializing GPT-2 tokenizer...\")\n",
        "gpt2_tokenizer = GPT2TokenizerFast.from_pretrained('gpt2')\n",
        "if gpt2_tokenizer.pad_token is None:\n",
        "    gpt2_tokenizer.add_special_tokens({'pad_token': '[PAD]'})\n",
        "    print(f\"Added [PAD] token to tokenizer. Vocabulary size: {len(gpt2_tokenizer)}\")\n",
        "\n",
        "# Create data loaders\n",
        "print(\"Creating data loaders...\")\n",
        "train_loader, val_loader, test_loader = get_dataloaders(\n",
        "    train_data,\n",
        "    val_data,\n",
        "    test_data,\n",
        "    gpt2_tokenizer,\n",
        "    label_encoders,\n",
        "    batch_size=batch_size,\n",
        "    num_workers=num_workers,\n",
        "    pin_memory=torch.cuda.is_available()\n",
        ")\n",
        "\n",
        "print(f\"Number of training batches: {len(train_loader)}\")\n",
        "print(f\"Number of validation batches: {len(val_loader)}\")\n",
        "print(f\"Number of test batches: {len(test_loader)}\")\n",
        "\n",
        "# Examine a batch to verify data structure\n",
        "sample_batch = next(iter(train_loader))\n",
        "print(\"\\nSample batch structure:\")\n",
        "for k, v in sample_batch.items():\n",
        "    print(f\"  {k}: {v.shape}, {v.dtype}\")"
      ],
      "metadata": {
        "colab": {
          "base_uri": "https://localhost:8080/"
        },
        "id": "iEqGLcAa0FSe",
        "outputId": "c875b380-9746-4dd1-a1d9-4cdcf8535ff0"
      },
      "execution_count": 34,
      "outputs": [
        {
          "output_type": "stream",
          "name": "stdout",
          "text": [
            "Initializing GPT-2 tokenizer...\n",
            "Added [PAD] token to tokenizer. Vocabulary size: 50258\n",
            "Creating data loaders...\n",
            "Number of training batches: 7\n",
            "Number of validation batches: 7\n",
            "Number of test batches: 7\n",
            "\n",
            "Sample batch structure:\n",
            "  input_ids: torch.Size([16, 128]), torch.int64\n",
            "  attention_mask: torch.Size([16, 128]), torch.int64\n",
            "  category_labels: torch.Size([16]), torch.int64\n",
            "  intent_labels: torch.Size([16]), torch.int64\n",
            "  ner_labels: torch.Size([16, 128]), torch.int64\n"
          ]
        }
      ]
    },
    {
      "cell_type": "markdown",
      "source": [
        "## Initialize Model"
      ],
      "metadata": {
        "id": "XX5DICImVS74"
      }
    },
    {
      "cell_type": "code",
      "source": [
        "# Configure task weights\n",
        "task_weights = {\n",
        "    'intent': intent_weight,\n",
        "    'category': category_weight,\n",
        "    'ner': ner_weight\n",
        "}\n",
        "\n",
        "# Initialize model\n",
        "print(\"Initializing BaselineGPT2MultiTask model...\")\n",
        "model = BaselineGPT2MultiTask(\n",
        "    num_intents=len(label_encoders[\"intent_encoder\"]),\n",
        "    num_categories=len(label_encoders[\"category_encoder\"]),\n",
        "    num_ner_labels=len(label_encoders[\"ner_label_encoder\"]),\n",
        "    num_layers_to_finetune=num_layers_to_finetune if not progressive_unfreeze else 0,\n",
        "    dropout_rate=dropout_rate,\n",
        "    task_weights=task_weights,\n",
        "    use_dynamic_task_weights=use_dynamic_task_weights\n",
        ")\n",
        "\n",
        "# Resize embeddings if needed\n",
        "if gpt2_tokenizer.pad_token_id is not None:\n",
        "    model.gpt2.resize_token_embeddings(len(gpt2_tokenizer))\n",
        "    print(f\"Resized token embeddings to match tokenizer size: {len(gpt2_tokenizer)}\")\n",
        "\n",
        "# Count trainable parameters\n",
        "trainable_params = sum(p.numel() for p in model.parameters() if p.requires_grad)\n",
        "total_params = sum(p.numel() for p in model.parameters())\n",
        "print(f\"Total parameters: {total_params:,}\")\n",
        "print(f\"Trainable parameters: {trainable_params:,} ({trainable_params/total_params:.2%})\")\n",
        "\n",
        "# Move model to device\n",
        "model.to(device)\n",
        "print(f\"Model moved to {device}\")"
      ],
      "metadata": {
        "id": "ImCRyeY-VSoF",
        "outputId": "5567b8aa-15cf-4294-e0d3-3ac1f8d036de",
        "colab": {
          "base_uri": "https://localhost:8080/",
          "height": 173,
          "referenced_widgets": [
            "74d1d070e8364daf967fff8dd6d5983e",
            "bd7aefe5c5ca475db4792b345cfe60bc",
            "9cc9f6b96bde4f3ebab5aaa1c8fbd27e",
            "ab113508ed41406c800edcb218984616",
            "6e8c4eff51904548a2f075cc233c358b",
            "7fbfa1b9673648688464f3943c35bfd1",
            "8cb6cb1fe85f41e593f94ba26273cabd",
            "fc5cc5ea5ed64bd5b24005d0338100c2",
            "ac2c0f17cf49405a9d4c69c8eb357218",
            "1cfb0813f3b44434b6ed65e4f6e87466",
            "f14ef29a28e14584804fc8033e556fa8"
          ]
        }
      },
      "execution_count": 36,
      "outputs": [
        {
          "output_type": "stream",
          "name": "stdout",
          "text": [
            "Initializing BaselineGPT2MultiTask model...\n"
          ]
        },
        {
          "output_type": "display_data",
          "data": {
            "text/plain": [
              "model.safetensors:   0%|          | 0.00/548M [00:00<?, ?B/s]"
            ],
            "application/vnd.jupyter.widget-view+json": {
              "version_major": 2,
              "version_minor": 0,
              "model_id": "74d1d070e8364daf967fff8dd6d5983e"
            }
          },
          "metadata": {}
        },
        {
          "output_type": "stream",
          "name": "stderr",
          "text": [
            "The new embeddings will be initialized from a multivariate normal distribution that has old embeddings' mean and covariance. As described in this article: https://nlp.stanford.edu/~johnhew/vocab-expansion.html. To disable this, use `mean_resizing=False`\n"
          ]
        },
        {
          "output_type": "stream",
          "name": "stdout",
          "text": [
            "Resized token embeddings to match tokenizer size: 50258\n",
            "Total parameters: 126,543,415\n",
            "Trainable parameters: 2,102,839 (1.66%)\n",
            "Model moved to cuda\n"
          ]
        }
      ]
    },
    {
      "cell_type": "markdown",
      "source": [
        "## Optimizer"
      ],
      "metadata": {
        "id": "lpKGNFKWVYRO"
      }
    },
    {
      "cell_type": "code",
      "source": [
        "# Setup optimizer and scheduler with discriminative learning rates if requested\n",
        "print(\"Setting up optimizer and scheduler...\")\n",
        "optimizer, scheduler = setup_optimizer_and_scheduler(\n",
        "    model,\n",
        "    train_loader,\n",
        "    base_lr=learning_rate,\n",
        "    num_epochs=num_epochs,\n",
        "    warmup_ratio=warmup_ratio,\n",
        "    weight_decay=weight_decay,\n",
        "    use_discriminative_lr=use_discriminative_lr\n",
        ")\n",
        "\n",
        "# Configure unfreezing epochs if using progressive unfreezing\n",
        "unfreeze_epochs = []\n",
        "if progressive_unfreeze:\n",
        "    # Distribute unfreezing evenly throughout training\n",
        "    epoch_interval = max(1, num_epochs // 3)\n",
        "    unfreeze_epochs = [i * epoch_interval for i in range(1, 3)]\n",
        "    print(f\"Progressive unfreezing scheduled at epochs: {unfreeze_epochs}\")"
      ],
      "metadata": {
        "id": "ogQ0WhQwVXZ4",
        "outputId": "65d2b650-4664-4d2c-fd78-843894b1d9d7",
        "colab": {
          "base_uri": "https://localhost:8080/"
        }
      },
      "execution_count": 37,
      "outputs": [
        {
          "output_type": "stream",
          "name": "stdout",
          "text": [
            "Setting up optimizer and scheduler...\n",
            "Using discriminative learning rates:\n",
            "  Group 1: LR = 2.0000000000000003e-06, Weight Decay = 0.01, Parameters: 0\n",
            "  Group 2: LR = 2e-05, Weight Decay = 0.01, Parameters: 2,102,839\n",
            "Progressive unfreezing scheduled at epochs: [1, 2]\n"
          ]
        },
        {
          "output_type": "stream",
          "name": "stderr",
          "text": [
            "/usr/local/lib/python3.11/dist-packages/transformers/optimization.py:591: FutureWarning: This implementation of AdamW is deprecated and will be removed in a future version. Use the PyTorch implementation torch.optim.AdamW instead, or set `no_deprecation_warning=True` to disable this warning\n",
            "  warnings.warn(\n"
          ]
        }
      ]
    },
    {
      "cell_type": "code",
      "source": [],
      "metadata": {
        "id": "4s24n85gVfgU"
      },
      "execution_count": null,
      "outputs": []
    },
    {
      "cell_type": "markdown",
      "source": [
        "## Train the model\n"
      ],
      "metadata": {
        "id": "kaa01jB60JTG"
      }
    },
    {
      "cell_type": "code",
      "source": [
        "# Train the model\n",
        "print(f\"Starting training for {num_epochs} epochs...\")\n",
        "start_time = time.time()\n",
        "\n",
        "metrics = train_model(\n",
        "    model=model,\n",
        "    train_loader=train_loader,\n",
        "    val_loader=val_loader,\n",
        "    optimizer=optimizer,\n",
        "    scheduler=scheduler,\n",
        "    label_encoders=label_encoders,\n",
        "    num_epochs=num_epochs,\n",
        "    device=device,\n",
        "    accumulation_steps=accumulation_steps,\n",
        "    checkpoint_dir=output_dir,\n",
        "    progressive_unfreeze=progressive_unfreeze,\n",
        "    unfreeze_epochs=unfreeze_epochs,\n",
        "    max_unfrozen_layers=max_unfrozen_layers\n",
        ")\n",
        "\n",
        "training_time = time.time() - start_time\n",
        "print(f\"Training completed in {training_time:.2f} seconds ({training_time/60:.2f} minutes)\")\n",
        "\n",
        "# === Different Ways to Save the Model === #\n",
        "output_dir = \"./output\"  # Ensure the output directory exists\n",
        "os.makedirs(output_dir, exist_ok=True)\n",
        "\n",
        "# 1. Save only the model state_dict (Recommended for flexibility)\n",
        "state_dict_path = os.path.join(output_dir, \"model_state_dict.pth\")\n",
        "torch.save(model.state_dict(), state_dict_path)\n",
        "print(f\"Model state_dict saved to {state_dict_path}\")\n",
        "\n",
        "# 2. Save the entire model (Recommended for quick inference without redefining the model)\n",
        "full_model_path = os.path.join(output_dir, \"full_model.pth\")\n",
        "torch.save(model, full_model_path)\n",
        "print(f\"Full model saved to {full_model_path}\")\n",
        "\n",
        "# 3. Save state_dict with additional metadata\n",
        "metadata_model_path = os.path.join(output_dir, \"model_with_metadata.pth\")\n",
        "torch.save({\n",
        "    'model_state_dict': model.state_dict(),\n",
        "    'task_weights': model.get_task_weights() if hasattr(model, 'get_task_weights') else None,\n",
        "    'training_time': training_time\n",
        "}, metadata_model_path)\n",
        "print(f\"Model with metadata saved to {metadata_model_path}\")\n",
        "\n",
        "# Save training metrics\n",
        "metrics_path = os.path.join(output_dir, \"training_metrics.json\")\n",
        "with open(metrics_path, \"w\") as f:\n",
        "    serializable_metrics = {}\n",
        "    for k, v in metrics.items():\n",
        "        if isinstance(v, list) and len(v) > 0 and hasattr(v[0], 'tolist'):\n",
        "            serializable_metrics[k] = [x.tolist() if hasattr(x, 'tolist') else x for x in v]\n",
        "        else:\n",
        "            serializable_metrics[k] = v\n",
        "    json.dump(serializable_metrics, f, indent=4)\n",
        "print(f\"Training metrics saved to {metrics_path}\")\n",
        "\n",
        "# === How to Load and Use the Model for Inference === #\n",
        "\n",
        "## 1. Loading state_dict (Need to redefine the model before loading)\n",
        "def load_model_from_state_dict(state_dict_path, model_class, *model_args):\n",
        "    model = model_class(*model_args)  # Redefine model architecture\n",
        "    model.load_state_dict(torch.load(state_dict_path, map_location=torch.device(\"cpu\")))\n",
        "    model.eval()\n",
        "    return model\n",
        "\n",
        "## 2. Loading full model (No need to redefine, directly usable)\n",
        "def load_full_model(full_model_path):\n",
        "    model = torch.load(full_model_path, map_location=torch.device(\"cpu\"))\n",
        "    model.eval()\n",
        "    return model\n",
        "\n",
        "## 3. Loading model with metadata\n",
        "\n",
        "def load_model_with_metadata(metadata_model_path, model_class, *model_args):\n",
        "    checkpoint = torch.load(metadata_model_path, map_location=torch.device(\"cpu\"))\n",
        "    model = model_class(*model_args)\n",
        "    model.load_state_dict(checkpoint['model_state_dict'])\n",
        "    model.eval()\n",
        "    print(f\"Loaded model trained in {checkpoint.get('training_time', 'Unknown')} seconds\")\n",
        "    return model\n"
      ],
      "metadata": {
        "id": "QoRvwiQnVjt5",
        "outputId": "3c84c918-3df3-4e13-d452-2214e253535a",
        "colab": {
          "base_uri": "https://localhost:8080/"
        }
      },
      "execution_count": 42,
      "outputs": [
        {
          "output_type": "stream",
          "name": "stdout",
          "text": [
            "Starting training for 5 epochs...\n",
            "\n",
            "Epoch 1/5 (Device: cuda)\n",
            "--------------------------------------------------\n"
          ]
        },
        {
          "output_type": "stream",
          "name": "stderr",
          "text": [
            "Training:  14%|█▍        | 1/7 [00:00<00:02,  2.99it/s]"
          ]
        },
        {
          "output_type": "stream",
          "name": "stdout",
          "text": [
            "Batch 1 Latency: 0.3148s\r"
          ]
        },
        {
          "output_type": "stream",
          "name": "stderr",
          "text": [
            "\rTraining:  29%|██▊       | 2/7 [00:00<00:01,  3.63it/s]"
          ]
        },
        {
          "output_type": "stream",
          "name": "stdout",
          "text": [
            "Batch 2 Latency: 0.2123s\r"
          ]
        },
        {
          "output_type": "stream",
          "name": "stderr",
          "text": [
            "\rTraining:  43%|████▎     | 3/7 [00:00<00:01,  3.89it/s]"
          ]
        },
        {
          "output_type": "stream",
          "name": "stdout",
          "text": [
            "Batch 3 Latency: 0.2153s\r"
          ]
        },
        {
          "output_type": "stream",
          "name": "stderr",
          "text": [
            "\rTraining:  57%|█████▋    | 4/7 [00:01<00:00,  4.02it/s]"
          ]
        },
        {
          "output_type": "stream",
          "name": "stdout",
          "text": [
            "Batch 4 Latency: 0.2165s\r"
          ]
        },
        {
          "output_type": "stream",
          "name": "stderr",
          "text": [
            "\rTraining:  71%|███████▏  | 5/7 [00:01<00:00,  4.09it/s]"
          ]
        },
        {
          "output_type": "stream",
          "name": "stdout",
          "text": [
            "Batch 5 Latency: 0.2150s\r"
          ]
        },
        {
          "output_type": "stream",
          "name": "stderr",
          "text": [
            "Training: 100%|██████████| 7/7 [00:01<00:00,  4.39it/s]\n"
          ]
        },
        {
          "output_type": "stream",
          "name": "stdout",
          "text": [
            "Batch 6 Latency: 0.2160s\rBatch 7 Latency: 0.0584s\r"
          ]
        },
        {
          "output_type": "stream",
          "name": "stderr",
          "text": [
            "Validation: 100%|██████████| 7/7 [00:00<00:00,  8.03it/s]\n"
          ]
        },
        {
          "output_type": "stream",
          "name": "stdout",
          "text": [
            "Saved best model checkpoint to output/improved_gpt2multitask_20250304_181909/best_model_epoch_1.pt\n",
            "Training Loss: 8.1675 | Intent Acc: 0.0400 | Category Weighted F1: 0.0422 | NER Micro F1: 0.0000\n",
            "Validation Loss: 8.0016 | Intent Acc: 0.0400 | Category Weighted F1: 0.0048 | NER Macro F1: 0.0000\n",
            "Epoch Time: 8.71s | Fit Status: Good\n",
            "Task Loss Breakdown:\n",
            "  Intent: 3.4303\n",
            "  Category: 2.5078\n",
            "  Ner: 2.2294\n",
            "Current Task Weights: {'intent': 1.0, 'category': 1.0, 'ner': 1.0}\n",
            "\n",
            "Epoch 2/5 (Device: cuda)\n",
            "--------------------------------------------------\n",
            "Progressive unfreezing: increasing to 4 layers\n",
            "Unfroze layers 8 to 11 of GPT-2\n"
          ]
        },
        {
          "output_type": "stream",
          "name": "stderr",
          "text": [
            "Training:  14%|█▍        | 1/7 [00:00<00:01,  3.65it/s]"
          ]
        },
        {
          "output_type": "stream",
          "name": "stdout",
          "text": [
            "Batch 1 Latency: 0.2543s\rBatch 2 Latency: 0.1792s\r"
          ]
        },
        {
          "output_type": "stream",
          "name": "stderr",
          "text": [
            "Training:  43%|████▎     | 3/7 [00:00<00:00,  4.57it/s]"
          ]
        },
        {
          "output_type": "stream",
          "name": "stdout",
          "text": [
            "Batch 3 Latency: 0.1811s\r"
          ]
        },
        {
          "output_type": "stream",
          "name": "stderr",
          "text": [
            "\rTraining:  57%|█████▋    | 4/7 [00:00<00:00,  4.64it/s]"
          ]
        },
        {
          "output_type": "stream",
          "name": "stdout",
          "text": [
            "Batch 4 Latency: 0.1849s\r"
          ]
        },
        {
          "output_type": "stream",
          "name": "stderr",
          "text": [
            "\rTraining:  71%|███████▏  | 5/7 [00:01<00:00,  4.74it/s]"
          ]
        },
        {
          "output_type": "stream",
          "name": "stdout",
          "text": [
            "Batch 5 Latency: 0.1837s\r"
          ]
        },
        {
          "output_type": "stream",
          "name": "stderr",
          "text": [
            "Training: 100%|██████████| 7/7 [00:01<00:00,  5.17it/s]\n"
          ]
        },
        {
          "output_type": "stream",
          "name": "stdout",
          "text": [
            "Batch 6 Latency: 0.1827s\rBatch 7 Latency: 0.0487s\r"
          ]
        },
        {
          "output_type": "stream",
          "name": "stderr",
          "text": [
            "Validation: 100%|██████████| 7/7 [00:00<00:00,  8.67it/s]\n"
          ]
        },
        {
          "output_type": "stream",
          "name": "stdout",
          "text": [
            "Training Loss: 8.1077 | Intent Acc: 0.0300 | Category Weighted F1: 0.0349 | NER Micro F1: 0.0000\n",
            "Validation Loss: 7.8971 | Intent Acc: 0.0400 | Category Weighted F1: 0.0048 | NER Macro F1: 0.0000\n",
            "Epoch Time: 2.20s | Fit Status: Underfitting\n",
            "Task Loss Breakdown:\n",
            "  Intent: 3.4764\n",
            "  Category: 2.5066\n",
            "  Ner: 2.1248\n",
            "Current Task Weights: {'intent': 1.0, 'category': 1.0, 'ner': 1.0}\n",
            "\n",
            "Epoch 3/5 (Device: cuda)\n",
            "--------------------------------------------------\n",
            "Progressive unfreezing: increasing to 6 layers\n",
            "Unfroze layers 6 to 11 of GPT-2\n"
          ]
        },
        {
          "output_type": "stream",
          "name": "stderr",
          "text": [
            "Training:  14%|█▍        | 1/7 [00:00<00:01,  4.26it/s]"
          ]
        },
        {
          "output_type": "stream",
          "name": "stdout",
          "text": [
            "Batch 1 Latency: 0.2146s\r"
          ]
        },
        {
          "output_type": "stream",
          "name": "stderr",
          "text": [
            "\rTraining:  29%|██▊       | 2/7 [00:00<00:01,  4.26it/s]"
          ]
        },
        {
          "output_type": "stream",
          "name": "stdout",
          "text": [
            "Batch 2 Latency: 0.2134s\r"
          ]
        },
        {
          "output_type": "stream",
          "name": "stderr",
          "text": [
            "\rTraining:  43%|████▎     | 3/7 [00:00<00:00,  4.27it/s]"
          ]
        },
        {
          "output_type": "stream",
          "name": "stdout",
          "text": [
            "Batch 3 Latency: 0.2146s\r"
          ]
        },
        {
          "output_type": "stream",
          "name": "stderr",
          "text": [
            "\rTraining:  57%|█████▋    | 4/7 [00:00<00:00,  4.25it/s]"
          ]
        },
        {
          "output_type": "stream",
          "name": "stdout",
          "text": [
            "Batch 4 Latency: 0.2176s\r"
          ]
        },
        {
          "output_type": "stream",
          "name": "stderr",
          "text": [
            "\rTraining:  71%|███████▏  | 5/7 [00:01<00:00,  4.25it/s]"
          ]
        },
        {
          "output_type": "stream",
          "name": "stdout",
          "text": [
            "Batch 5 Latency: 0.2139s\r"
          ]
        },
        {
          "output_type": "stream",
          "name": "stderr",
          "text": [
            "Training: 100%|██████████| 7/7 [00:01<00:00,  4.75it/s]\n"
          ]
        },
        {
          "output_type": "stream",
          "name": "stdout",
          "text": [
            "Batch 6 Latency: 0.2140s\rBatch 7 Latency: 0.0575s\r"
          ]
        },
        {
          "output_type": "stream",
          "name": "stderr",
          "text": [
            "Validation: 100%|██████████| 7/7 [00:00<00:00,  8.61it/s]\n"
          ]
        },
        {
          "output_type": "stream",
          "name": "stdout",
          "text": [
            "Training Loss: 7.9043 | Intent Acc: 0.0400 | Category Weighted F1: 0.0264 | NER Micro F1: 0.0000\n",
            "Validation Loss: 7.8039 | Intent Acc: 0.0400 | Category Weighted F1: 0.0048 | NER Macro F1: 0.0000\n",
            "Epoch Time: 2.32s | Fit Status: Underfitting\n",
            "Task Loss Breakdown:\n",
            "  Intent: 3.4108\n",
            "  Category: 2.4530\n",
            "  Ner: 2.0404\n",
            "Current Task Weights: {'intent': 1.0, 'category': 1.0, 'ner': 1.0}\n",
            "\n",
            "Epoch 4/5 (Device: cuda)\n",
            "--------------------------------------------------\n"
          ]
        },
        {
          "output_type": "stream",
          "name": "stderr",
          "text": [
            "Training:  14%|█▍        | 1/7 [00:00<00:01,  4.26it/s]"
          ]
        },
        {
          "output_type": "stream",
          "name": "stdout",
          "text": [
            "Batch 1 Latency: 0.2151s\r"
          ]
        },
        {
          "output_type": "stream",
          "name": "stderr",
          "text": [
            "\rTraining:  29%|██▊       | 2/7 [00:00<00:01,  4.24it/s]"
          ]
        },
        {
          "output_type": "stream",
          "name": "stdout",
          "text": [
            "Batch 2 Latency: 0.2171s\r"
          ]
        },
        {
          "output_type": "stream",
          "name": "stderr",
          "text": [
            "\rTraining:  43%|████▎     | 3/7 [00:00<00:00,  4.13it/s]"
          ]
        },
        {
          "output_type": "stream",
          "name": "stdout",
          "text": [
            "Batch 3 Latency: 0.2166s\r"
          ]
        },
        {
          "output_type": "stream",
          "name": "stderr",
          "text": [
            "\rTraining:  57%|█████▋    | 4/7 [00:00<00:00,  4.04it/s]"
          ]
        },
        {
          "output_type": "stream",
          "name": "stdout",
          "text": [
            "Batch 4 Latency: 0.2193s\r"
          ]
        },
        {
          "output_type": "stream",
          "name": "stderr",
          "text": [
            "\rTraining:  71%|███████▏  | 5/7 [00:01<00:00,  4.01it/s]"
          ]
        },
        {
          "output_type": "stream",
          "name": "stdout",
          "text": [
            "Batch 5 Latency: 0.2176s\r"
          ]
        },
        {
          "output_type": "stream",
          "name": "stderr",
          "text": [
            "Training: 100%|██████████| 7/7 [00:01<00:00,  4.52it/s]\n"
          ]
        },
        {
          "output_type": "stream",
          "name": "stdout",
          "text": [
            "Batch 6 Latency: 0.2170s\rBatch 7 Latency: 0.0582s\r"
          ]
        },
        {
          "output_type": "stream",
          "name": "stderr",
          "text": [
            "Validation: 100%|██████████| 7/7 [00:00<00:00,  7.73it/s]\n"
          ]
        },
        {
          "output_type": "stream",
          "name": "stdout",
          "text": [
            "Training Loss: 7.7479 | Intent Acc: 0.0700 | Category Weighted F1: 0.0593 | NER Micro F1: 0.0000\n",
            "Validation Loss: 7.7219 | Intent Acc: 0.0400 | Category Weighted F1: 0.0048 | NER Macro F1: 0.0000\n",
            "Epoch Time: 2.50s | Fit Status: Underfitting\n",
            "Task Loss Breakdown:\n",
            "  Intent: 3.3227\n",
            "  Category: 2.4624\n",
            "  Ner: 1.9629\n",
            "Current Task Weights: {'intent': 1.0, 'category': 1.0, 'ner': 1.0}\n",
            "\n",
            "Epoch 5/5 (Device: cuda)\n",
            "--------------------------------------------------\n"
          ]
        },
        {
          "output_type": "stream",
          "name": "stderr",
          "text": [
            "Training:  14%|█▍        | 1/7 [00:00<00:01,  4.05it/s]"
          ]
        },
        {
          "output_type": "stream",
          "name": "stdout",
          "text": [
            "Batch 1 Latency: 0.2137s\r"
          ]
        },
        {
          "output_type": "stream",
          "name": "stderr",
          "text": [
            "\rTraining:  29%|██▊       | 2/7 [00:00<00:01,  4.06it/s]"
          ]
        },
        {
          "output_type": "stream",
          "name": "stdout",
          "text": [
            "Batch 2 Latency: 0.2147s\r"
          ]
        },
        {
          "output_type": "stream",
          "name": "stderr",
          "text": [
            "\rTraining:  43%|████▎     | 3/7 [00:00<00:00,  4.15it/s]"
          ]
        },
        {
          "output_type": "stream",
          "name": "stdout",
          "text": [
            "Batch 3 Latency: 0.2146s\r"
          ]
        },
        {
          "output_type": "stream",
          "name": "stderr",
          "text": [
            "\rTraining:  57%|█████▋    | 4/7 [00:00<00:00,  4.17it/s]"
          ]
        },
        {
          "output_type": "stream",
          "name": "stdout",
          "text": [
            "Batch 4 Latency: 0.2178s\r"
          ]
        },
        {
          "output_type": "stream",
          "name": "stderr",
          "text": [
            "\rTraining:  71%|███████▏  | 5/7 [00:01<00:00,  4.16it/s]"
          ]
        },
        {
          "output_type": "stream",
          "name": "stdout",
          "text": [
            "Batch 5 Latency: 0.2226s\r"
          ]
        },
        {
          "output_type": "stream",
          "name": "stderr",
          "text": [
            "Training: 100%|██████████| 7/7 [00:01<00:00,  4.64it/s]\n"
          ]
        },
        {
          "output_type": "stream",
          "name": "stdout",
          "text": [
            "Batch 6 Latency: 0.2158s\rBatch 7 Latency: 0.0571s\r"
          ]
        },
        {
          "output_type": "stream",
          "name": "stderr",
          "text": [
            "Validation: 100%|██████████| 7/7 [00:00<00:00,  8.57it/s]\n"
          ]
        },
        {
          "output_type": "stream",
          "name": "stdout",
          "text": [
            "Training Loss: 7.7540 | Intent Acc: 0.0500 | Category Weighted F1: 0.0435 | NER Micro F1: 0.1176\n",
            "Validation Loss: 7.6511 | Intent Acc: 0.0400 | Category Weighted F1: 0.0048 | NER Macro F1: 0.0000\n",
            "Epoch Time: 2.36s | Fit Status: Underfitting\n",
            "Task Loss Breakdown:\n",
            "  Intent: 3.3734\n",
            "  Category: 2.4644\n",
            "  Ner: 1.9162\n",
            "Current Task Weights: {'intent': 1.0, 'category': 1.0, 'ner': 1.0}\n",
            "Training completed in 18.09 seconds (0.30 minutes)\n",
            "Model state_dict saved to ./output/model_state_dict.pth\n",
            "Full model saved to ./output/full_model.pth\n",
            "Model with metadata saved to ./output/model_with_metadata.pth\n",
            "Training metrics saved to ./output/training_metrics.json\n"
          ]
        }
      ]
    },
    {
      "cell_type": "markdown",
      "source": [
        "## Evaluate"
      ],
      "metadata": {
        "id": "2-041GOU0nAi"
      }
    },
    {
      "cell_type": "markdown",
      "metadata": {
        "id": "-9RwKTE-4VCE"
      },
      "source": [
        "### Evaluation Test Function\n"
      ]
    },
    {
      "cell_type": "markdown",
      "source": [
        "This code defines functions to evaluate a multi-task model on intent classification, category classification, and named entity recognition (NER). It computes metrics (accuracy, precision, recall, F1 score) for each task, plots confusion matrices for intent and category tasks, and saves them as images. Additionally, it calculates an overall F1 score across all tasks. The evaluation results, including confusion matrices, are returned as a dictionary. There is also a function to plot and save metrics such as training/validation losses, accuracies, and NER F1 scores across epochs."
      ],
      "metadata": {
        "id": "hmQ5dBQe1VsB"
      }
    },
    {
      "cell_type": "code",
      "source": [
        "def evaluate_test_set(model, test_loader, label_encoders, device='cuda'):\n",
        "    model.eval()\n",
        "    intent_preds, intent_labels = [], []\n",
        "    category_preds, category_labels = [], []\n",
        "    ner_preds, ner_labels = [], []\n",
        "    ner_label_decoder = {v: k for k, v in label_encoders[\"ner_label_encoder\"].items()}\n",
        "\n",
        "    with torch.no_grad():\n",
        "        for batch in tqdm(test_loader, desc=\"Test Inference\"):\n",
        "            inputs = {k: v.to(device) for k, v in batch.items() if k in [\"input_ids\", \"attention_mask\"]}\n",
        "            outputs = model(input_ids=inputs[\"input_ids\"], attention_mask=inputs[\"attention_mask\"])\n",
        "            intent_preds.extend(outputs[\"intent_logits\"].argmax(dim=-1).cpu().numpy())\n",
        "            intent_labels.extend(batch[\"intent_labels\"].cpu().numpy())\n",
        "            category_preds.extend(outputs[\"category_logits\"].argmax(dim=-1).cpu().numpy())\n",
        "            category_labels.extend(batch[\"category_labels\"].cpu().numpy())\n",
        "            ner_preds.extend(outputs[\"ner_logits\"].argmax(dim=-1).cpu().numpy())\n",
        "            ner_labels.extend(batch[\"ner_labels\"].cpu().numpy())\n",
        "\n",
        "    # Compute metrics\n",
        "    intent_acc = accuracy_score(intent_labels, intent_preds)\n",
        "    category_f1 = f1_score(category_labels, category_preds, average='weighted')\n",
        "    ner_true = [[ner_label_decoder[l] for l in seq] for seq in ner_labels]\n",
        "    ner_pred = [[ner_label_decoder[p] for p in seq] for seq in ner_preds]\n",
        "    ner_macro_f1 = seq_f1(ner_true, ner_pred, average='macro')\n",
        "\n",
        "    # Compute confusion matrices\n",
        "    intent_cm = confusion_matrix(intent_labels, intent_preds)\n",
        "    category_cm = confusion_matrix(category_labels, category_preds)\n",
        "\n",
        "    # Print results\n",
        "    print(\"\\n=== Test Inference Results ===\")\n",
        "    print(f\"Intent Accuracy: {intent_acc:.4f}\")\n",
        "    print(f\"Category Weighted F1: {category_f1:.4f}\")\n",
        "    print(f\"NER Macro F1: {ner_macro_f1:.4f}\")\n",
        "\n",
        "    # Return results including confusion matrices\n",
        "    return {\n",
        "        \"intent_acc\": intent_acc,\n",
        "        \"category_f1\": category_f1,\n",
        "        \"ner_macro_f1\": ner_macro_f1,\n",
        "        \"intent_cm\": intent_cm.tolist(),  # Convert to list for JSON serialization\n",
        "        \"category_cm\": category_cm.tolist()  # Convert to list for JSON serialization\n",
        "    }"
      ],
      "metadata": {
        "id": "TyucVGL61VHx"
      },
      "execution_count": 43,
      "outputs": []
    },
    {
      "cell_type": "markdown",
      "source": [
        "### intialize evaluation"
      ],
      "metadata": {
        "id": "eouIWBCn1Kgp"
      }
    },
    {
      "cell_type": "code",
      "source": [
        "# Evaluate on test set\n",
        "print(\"\\nEvaluating on test set...\")\n",
        "\n",
        "# Load best model if available\n",
        "best_model_files = [f for f in os.listdir(output_dir) if f.startswith(\"best_model_epoch_\")]\n",
        "if best_model_files:\n",
        "    best_model_path = os.path.join(output_dir, best_model_files[0])\n",
        "    print(f\"Loading best model from {best_model_path}\")\n",
        "    checkpoint = torch.load(best_model_path, map_location=device)\n",
        "    model.load_state_dict(checkpoint['model_state_dict'])\n",
        "    print(f\"Best model is from epoch {checkpoint['epoch']} with composite score: {checkpoint['val_composite_score']:.4f}\")\n",
        "    print(f\"  Intent Accuracy: {checkpoint['val_intent_acc']:.4f}\")\n",
        "    print(f\"  Category F1: {checkpoint['val_category_f1']:.4f}\")\n",
        "    print(f\"  NER F1: {checkpoint['val_ner_macro_f1']:.4f}\")\n",
        "\n",
        "# Run evaluation\n",
        "test_results = evaluate_test_set(model, test_loader, label_encoders, device=device)\n",
        "\n",
        "# Save test results\n",
        "with open(os.path.join(output_dir, \"test_results.json\"), \"w\") as f:\n",
        "    json.dump(test_results, f, indent=4)\n",
        "\n",
        "# Print test metrics\n",
        "# Evaluate on test set\n",
        "print(\"\\nEvaluating on test set...\")\n",
        "\n",
        "# Load best model if available\n",
        "best_model_files = [f for f in os.listdir(output_dir) if f.startswith(\"best_model_epoch_\")]\n",
        "if best_model_files:\n",
        "    best_model_path = os.path.join(output_dir, best_model_files[0])\n",
        "    print(f\"Loading best model from {best_model_path}\")\n",
        "    checkpoint = torch.load(best_model_path, map_location=device)\n",
        "    model.load_state_dict(checkpoint['model_state_dict'])\n",
        "    print(f\"Best model is from epoch {checkpoint['epoch']} with composite score: {checkpoint['val_composite_score']:.4f}\")\n",
        "    print(f\"  Intent Accuracy: {checkpoint['val_intent_acc']:.4f}\")\n",
        "    print(f\"  Category F1: {checkpoint['val_category_f1']:.4f}\")\n",
        "    print(f\"  NER F1: {checkpoint['val_ner_macro_f1']:.4f}\")\n",
        "\n",
        "# Run evaluation\n",
        "test_results = evaluate_test_set(model, test_loader, label_encoders, device=device)\n",
        "\n",
        "# Save test results\n",
        "with open(os.path.join(output_dir, \"test_results.json\"), \"w\") as f:\n",
        "    json.dump(test_results, f, indent=4)\n",
        "\n",
        "# Print test metrics\n",
        "print(\"\\n=== Test Set Results ===\")\n",
        "print(f\"Intent Classification Accuracy: {test_results['intent_acc']:.4f}\")\n",
        "print(f\"Category Classification F1: {test_results['category_f1']:.4f}\")"
      ],
      "metadata": {
        "colab": {
          "base_uri": "https://localhost:8080/"
        },
        "id": "A99oOn8K0pNM",
        "outputId": "a965afc0-7aea-4194-c8ef-d7b05ee1ea50"
      },
      "execution_count": 47,
      "outputs": [
        {
          "output_type": "stream",
          "name": "stdout",
          "text": [
            "\n",
            "Evaluating on test set...\n"
          ]
        },
        {
          "output_type": "stream",
          "name": "stderr",
          "text": [
            "Test Inference: 100%|██████████| 7/7 [00:00<00:00,  7.93it/s]\n",
            "/usr/local/lib/python3.11/dist-packages/numpy/lib/function_base.py:520: RuntimeWarning: Mean of empty slice.\n",
            "  avg = a.mean(axis, **keepdims_kw)\n",
            "/usr/local/lib/python3.11/dist-packages/numpy/core/_methods.py:129: RuntimeWarning: invalid value encountered in scalar divide\n",
            "  ret = ret.dtype.type(ret / rcount)\n"
          ]
        },
        {
          "output_type": "stream",
          "name": "stdout",
          "text": [
            "\n",
            "=== Test Inference Results ===\n",
            "Intent Accuracy: 0.0300\n",
            "Category Weighted F1: 0.0068\n",
            "NER Macro F1: nan\n",
            "\n",
            "Evaluating on test set...\n"
          ]
        },
        {
          "output_type": "stream",
          "name": "stderr",
          "text": [
            "Test Inference: 100%|██████████| 7/7 [00:00<00:00,  8.86it/s]"
          ]
        },
        {
          "output_type": "stream",
          "name": "stdout",
          "text": [
            "\n",
            "=== Test Inference Results ===\n",
            "Intent Accuracy: 0.0300\n",
            "Category Weighted F1: 0.0068\n",
            "NER Macro F1: nan\n",
            "\n",
            "=== Test Set Results ===\n",
            "Intent Classification Accuracy: 0.0300\n",
            "Category Classification F1: 0.0068\n"
          ]
        },
        {
          "output_type": "stream",
          "name": "stderr",
          "text": [
            "\n",
            "/usr/local/lib/python3.11/dist-packages/numpy/lib/function_base.py:520: RuntimeWarning: Mean of empty slice.\n",
            "  avg = a.mean(axis, **keepdims_kw)\n",
            "/usr/local/lib/python3.11/dist-packages/numpy/core/_methods.py:129: RuntimeWarning: invalid value encountered in scalar divide\n",
            "  ret = ret.dtype.type(ret / rcount)\n"
          ]
        }
      ]
    },
    {
      "cell_type": "markdown",
      "metadata": {
        "id": "tkGKzu5e4u2A"
      },
      "source": [
        "# Plotting (not yet finished)\n"
      ]
    },
    {
      "cell_type": "markdown",
      "metadata": {
        "id": "StujEZeSzCfK"
      },
      "source": [
        "This code saves the trained model, tokenizer, and label encoders to specified paths on Google Drive. It also saves training metrics as plots and evaluates the model on the test set. The results, including metrics and evaluation outputs, are then stored for further analysis.\n"
      ]
    },
    {
      "cell_type": "markdown",
      "metadata": {
        "id": "Gn-tPvhgvDnG"
      },
      "source": [
        "## Intent Evaluation (Accuracy Plot + Confusion Matrix)\n"
      ]
    },
    {
      "cell_type": "code",
      "execution_count": null,
      "metadata": {
        "colab": {
          "base_uri": "https://localhost:8080/",
          "height": 581
        },
        "id": "6NFqmeJABe43",
        "outputId": "67cd2187-49d7-447f-f0e2-bcd52e4254b8"
      },
      "outputs": [
        {
          "data": {
            "image/png": "[encoded data removed]",
            "text/plain": [
              "<Figure size 800x600 with 1 Axes>"
            ]
          },
          "metadata": {},
          "output_type": "display_data"
        },
        {
          "name": "stdout",
          "output_type": "stream",
          "text": [
            "Intent Confusion Matrix saved to /content/drive/MyDrive/gpt2_baseline_model_freeze_d2/intent_cm.png\n"
          ]
        }
      ],
      "source": [
        "import matplotlib.pyplot as plt\n",
        "import seaborn as sns\n",
        "import json\n",
        "import os\n",
        "\n",
        "SAVE_PATH = \"/content/drive/MyDrive/gpt2_baseline_model_freeze_d2\"\n",
        "\n",
        "# Load data\n",
        "with open(os.path.join(SAVE_PATH, \"training_metrics.json\"), \"r\") as f:\n",
        "    metrics = json.load(f)\n",
        "with open(os.path.join(SAVE_PATH, \"test_results.json\"), \"r\") as f:\n",
        "    test_results = json.load(f)\n",
        "\n",
        "# Intent Intent Accuracy Scores Plot\n",
        "epochs = range(1, len(metrics[\"train_intent_acc\"]) + 1)\n",
        "plt.figure(figsize=(8, 6))\n",
        "plt.plot(epochs, metrics[\"train_intent_acc\"], label=\"Train Intent Accuracy\")\n",
        "plt.plot(epochs, metrics[\"val_intent_acc\"], label=\"Val Intent Accuracy\")\n",
        "plt.title(\"Intent Intent Accuracy Scores\")\n",
        "plt.xlabel(\"Epoch\")\n",
        "plt.ylabel(\"F1 Score\")\n",
        "plt.legend()\n",
        "plt.grid(True)\n",
        "plt.savefig(os.path.join(SAVE_PATH, \"Intent_f1_plot.png\"))\n",
        "plt.show()\n",
        "plt.close()\n",
        "\n",
        "# Plot confusion matrices\n",
        "# INTENT Confusion Matrixplt.figure(figsize=(8, 6))\n",
        "sns.heatmap(test_results[\"intent_cm\"], annot=True, fmt='d', cmap='Blues')\n",
        "plt.title(\"Intent Confusion Matrix (Test Set)\")\n",
        "plt.xlabel(\"Predicted\")\n",
        "plt.ylabel(\"True\")\n",
        "intent_cm_path = os.path.join(SAVE_PATH, \"intent_cm.png\")\n",
        "plt.savefig(intent_cm_path)\n",
        "plt.close()\n",
        "print(f\"Intent Confusion Matrix saved to {intent_cm_path}\")\n"
      ]
    },
    {
      "cell_type": "markdown",
      "metadata": {
        "id": "sh0rfozO2T7z"
      },
      "source": [
        "## Category Evaluation (Weighted F1 Plot + Confusion Matrix)\n"
      ]
    },
    {
      "cell_type": "code",
      "execution_count": null,
      "metadata": {
        "colab": {
          "base_uri": "https://localhost:8080/",
          "height": 581
        },
        "id": "MgiGrG5LlX9G",
        "outputId": "0597ead9-8363-478d-9ca1-5b23c45dfc6a"
      },
      "outputs": [
        {
          "data": {
            "image/png": "[encoded data removed]",
            "text/plain": [
              "<Figure size 800x600 with 1 Axes>"
            ]
          },
          "metadata": {},
          "output_type": "display_data"
        },
        {
          "name": "stdout",
          "output_type": "stream",
          "text": [
            "Category Confusion Matrix saved to /content/drive/MyDrive/gpt2_baseline_model_freeze_d2/category_cm.png\n"
          ]
        }
      ],
      "source": [
        "import matplotlib.pyplot as plt\n",
        "import seaborn as sns\n",
        "import json\n",
        "import os\n",
        "\n",
        "SAVE_PATH = \"/content/drive/MyDrive/gpt2_baseline_model_freeze_d2\"\n",
        "\n",
        "# Load data\n",
        "with open(os.path.join(SAVE_PATH, \"training_metrics.json\"), \"r\") as f:\n",
        "    metrics = json.load(f)\n",
        "with open(os.path.join(SAVE_PATH, \"test_results.json\"), \"r\") as f:\n",
        "    test_results = json.load(f)\n",
        "\n",
        "# Category Weighted F1 Plot\n",
        "epochs = range(1, len(metrics[\"train_category_f1\"]) + 1)\n",
        "plt.figure(figsize=(8, 6))\n",
        "plt.plot(epochs, metrics[\"train_category_f1\"], label=\"Train Category Weighted F1\")\n",
        "plt.plot(epochs, metrics[\"val_category_f1\"], label=\"Val Category Weighted F1\")\n",
        "plt.title(\"Category Weighted F1 Scores\")\n",
        "plt.xlabel(\"Epoch\")\n",
        "plt.ylabel(\"F1 Score\")\n",
        "plt.legend()\n",
        "plt.grid(True)\n",
        "plt.savefig(os.path.join(SAVE_PATH, \"category_f1_plot.png\"))\n",
        "plt.show()\n",
        "plt.close()\n",
        "\n",
        "# CATEGORY Confusion Matrix\n",
        "plt.figure(figsize=(8, 6))\n",
        "sns.heatmap(test_results[\"category_cm\"], annot=True, fmt='d', cmap='Blues')\n",
        "plt.title(\"Category Confusion Matrix (Test Set)\")\n",
        "plt.xlabel(\"Predicted\")\n",
        "plt.ylabel(\"True\")\n",
        "category_cm_path = os.path.join(SAVE_PATH, \"category_cm.png\")\n",
        "plt.savefig(category_cm_path)\n",
        "plt.close()\n",
        "print(f\"Category Confusion Matrix saved to {category_cm_path}\")\n"
      ]
    },
    {
      "cell_type": "markdown",
      "metadata": {
        "id": "GrWbJ4-72YBU"
      },
      "source": [
        "## NER Evaluation (F1 Plot)\n"
      ]
    },
    {
      "cell_type": "code",
      "execution_count": null,
      "metadata": {
        "colab": {
          "base_uri": "https://localhost:8080/",
          "height": 581
        },
        "id": "PKS6HcWRk77z",
        "outputId": "c0c6cda8-4bda-41e0-a71c-9b2b9b1d3033"
      },
      "outputs": [
        {
          "data": {
            "image/png": "[encoded data removed]",
            "text/plain": [
              "<Figure size 800x600 with 1 Axes>"
            ]
          },
          "metadata": {},
          "output_type": "display_data"
        },
        {
          "name": "stdout",
          "output_type": "stream",
          "text": [
            "NER plot saved to /content/drive/MyDrive/gpt2_baseline_model_freeze_d2\n"
          ]
        }
      ],
      "source": [
        "import matplotlib.pyplot as plt\n",
        "import json\n",
        "import os\n",
        "\n",
        "SAVE_PATH = \"/content/drive/MyDrive/gpt2_baseline_model_freeze_d2\"\n",
        "\n",
        "# Load data\n",
        "with open(os.path.join(SAVE_PATH, \"training_metrics.json\"), \"r\") as f:\n",
        "    metrics = json.load(f)\n",
        "\n",
        "# NER F1 Plot\n",
        "epochs = range(1, len(metrics[\"train_ner_micro_f1\"]) + 1)\n",
        "plt.figure(figsize=(8, 6))\n",
        "plt.plot(epochs, metrics[\"train_ner_micro_f1\"], label=\"Train NER Micro F1\")\n",
        "plt.plot(epochs, metrics[\"val_ner_macro_f1\"], label=\"Val NER Macro F1\")\n",
        "plt.title(\"NER F1 Scores\")\n",
        "plt.xlabel(\"Epoch\")\n",
        "plt.ylabel(\"F1 Score\")\n",
        "plt.legend()\n",
        "plt.grid(True)\n",
        "plt.savefig(os.path.join(SAVE_PATH, \"ner_f1_plot.png\"))\n",
        "plt.show()\n",
        "plt.close()\n",
        "print(f\"NER plot saved to {SAVE_PATH}\")\n",
        "\n",
        "# Note: NER confusion matrix is not typically plotted due to sequence nature; use sequence-level metrics instead\n"
      ]
    }
  ],
  "metadata": {
    "accelerator": "GPU",
    "colab": {
      "gpuType": "T4",
      "provenance": [],
      "toc_visible": true,
      "include_colab_link": true
    },
    "kernelspec": {
      "display_name": "Python 3",
      "name": "python3"
    },
    "language_info": {
      "name": "python"
    },
    "widgets": {
      "application/vnd.jupyter.widget-state+json": {
        "74d1d070e8364daf967fff8dd6d5983e": {
          "model_module": "@jupyter-widgets/controls",
          "model_name": "HBoxModel",
          "model_module_version": "1.5.0",
          "state": {
            "_dom_classes": [],
            "_model_module": "@jupyter-widgets/controls",
            "_model_module_version": "1.5.0",
            "_model_name": "HBoxModel",
            "_view_count": null,
            "_view_module": "@jupyter-widgets/controls",
            "_view_module_version": "1.5.0",
            "_view_name": "HBoxView",
            "box_style": "",
            "children": [
              "IPY_MODEL_bd7aefe5c5ca475db4792b345cfe60bc",
              "IPY_MODEL_9cc9f6b96bde4f3ebab5aaa1c8fbd27e",
              "IPY_MODEL_ab113508ed41406c800edcb218984616"
            ],
            "layout": "IPY_MODEL_6e8c4eff51904548a2f075cc233c358b"
          }
        },
        "bd7aefe5c5ca475db4792b345cfe60bc": {
          "model_module": "@jupyter-widgets/controls",
          "model_name": "HTMLModel",
          "model_module_version": "1.5.0",
          "state": {
            "_dom_classes": [],
            "_model_module": "@jupyter-widgets/controls",
            "_model_module_version": "1.5.0",
            "_model_name": "HTMLModel",
            "_view_count": null,
            "_view_module": "@jupyter-widgets/controls",
            "_view_module_version": "1.5.0",
            "_view_name": "HTMLView",
            "description": "",
            "description_tooltip": null,
            "layout": "IPY_MODEL_7fbfa1b9673648688464f3943c35bfd1",
            "placeholder": "​",
            "style": "IPY_MODEL_8cb6cb1fe85f41e593f94ba26273cabd",
            "value": "model.safetensors: 100%"
          }
        },
        "9cc9f6b96bde4f3ebab5aaa1c8fbd27e": {
          "model_module": "@jupyter-widgets/controls",
          "model_name": "FloatProgressModel",
          "model_module_version": "1.5.0",
          "state": {
            "_dom_classes": [],
            "_model_module": "@jupyter-widgets/controls",
            "_model_module_version": "1.5.0",
            "_model_name": "FloatProgressModel",
            "_view_count": null,
            "_view_module": "@jupyter-widgets/controls",
            "_view_module_version": "1.5.0",
            "_view_name": "ProgressView",
            "bar_style": "success",
            "description": "",
            "description_tooltip": null,
            "layout": "IPY_MODEL_fc5cc5ea5ed64bd5b24005d0338100c2",
            "max": 548105171,
            "min": 0,
            "orientation": "horizontal",
            "style": "IPY_MODEL_ac2c0f17cf49405a9d4c69c8eb357218",
            "value": 548105171
          }
        },
        "ab113508ed41406c800edcb218984616": {
          "model_module": "@jupyter-widgets/controls",
          "model_name": "HTMLModel",
          "model_module_version": "1.5.0",
          "state": {
            "_dom_classes": [],
            "_model_module": "@jupyter-widgets/controls",
            "_model_module_version": "1.5.0",
            "_model_name": "HTMLModel",
            "_view_count": null,
            "_view_module": "@jupyter-widgets/controls",
            "_view_module_version": "1.5.0",
            "_view_name": "HTMLView",
            "description": "",
            "description_tooltip": null,
            "layout": "IPY_MODEL_1cfb0813f3b44434b6ed65e4f6e87466",
            "placeholder": "​",
            "style": "IPY_MODEL_f14ef29a28e14584804fc8033e556fa8",
            "value": " 548M/548M [00:07&lt;00:00, 128MB/s]"
          }
        },
        "6e8c4eff51904548a2f075cc233c358b": {
          "model_module": "@jupyter-widgets/base",
          "model_name": "LayoutModel",
          "model_module_version": "1.2.0",
          "state": {
            "_model_module": "@jupyter-widgets/base",
            "_model_module_version": "1.2.0",
            "_model_name": "LayoutModel",
            "_view_count": null,
            "_view_module": "@jupyter-widgets/base",
            "_view_module_version": "1.2.0",
            "_view_name": "LayoutView",
            "align_content": null,
            "align_items": null,
            "align_self": null,
            "border": null,
            "bottom": null,
            "display": null,
            "flex": null,
            "flex_flow": null,
            "grid_area": null,
            "grid_auto_columns": null,
            "grid_auto_flow": null,
            "grid_auto_rows": null,
            "grid_column": null,
            "grid_gap": null,
            "grid_row": null,
            "grid_template_areas": null,
            "grid_template_columns": null,
            "grid_template_rows": null,
            "height": null,
            "justify_content": null,
            "justify_items": null,
            "left": null,
            "margin": null,
            "max_height": null,
            "max_width": null,
            "min_height": null,
            "min_width": null,
            "object_fit": null,
            "object_position": null,
            "order": null,
            "overflow": null,
            "overflow_x": null,
            "overflow_y": null,
            "padding": null,
            "right": null,
            "top": null,
            "visibility": null,
            "width": null
          }
        },
        "7fbfa1b9673648688464f3943c35bfd1": {
          "model_module": "@jupyter-widgets/base",
          "model_name": "LayoutModel",
          "model_module_version": "1.2.0",
          "state": {
            "_model_module": "@jupyter-widgets/base",
            "_model_module_version": "1.2.0",
            "_model_name": "LayoutModel",
            "_view_count": null,
            "_view_module": "@jupyter-widgets/base",
            "_view_module_version": "1.2.0",
            "_view_name": "LayoutView",
            "align_content": null,
            "align_items": null,
            "align_self": null,
            "border": null,
            "bottom": null,
            "display": null,
            "flex": null,
            "flex_flow": null,
            "grid_area": null,
            "grid_auto_columns": null,
            "grid_auto_flow": null,
            "grid_auto_rows": null,
            "grid_column": null,
            "grid_gap": null,
            "grid_row": null,
            "grid_template_areas": null,
            "grid_template_columns": null,
            "grid_template_rows": null,
            "height": null,
            "justify_content": null,
            "justify_items": null,
            "left": null,
            "margin": null,
            "max_height": null,
            "max_width": null,
            "min_height": null,
            "min_width": null,
            "object_fit": null,
            "object_position": null,
            "order": null,
            "overflow": null,
            "overflow_x": null,
            "overflow_y": null,
            "padding": null,
            "right": null,
            "top": null,
            "visibility": null,
            "width": null
          }
        },
        "8cb6cb1fe85f41e593f94ba26273cabd": {
          "model_module": "@jupyter-widgets/controls",
          "model_name": "DescriptionStyleModel",
          "model_module_version": "1.5.0",
          "state": {
            "_model_module": "@jupyter-widgets/controls",
            "_model_module_version": "1.5.0",
            "_model_name": "DescriptionStyleModel",
            "_view_count": null,
            "_view_module": "@jupyter-widgets/base",
            "_view_module_version": "1.2.0",
            "_view_name": "StyleView",
            "description_width": ""
          }
        },
        "fc5cc5ea5ed64bd5b24005d0338100c2": {
          "model_module": "@jupyter-widgets/base",
          "model_name": "LayoutModel",
          "model_module_version": "1.2.0",
          "state": {
            "_model_module": "@jupyter-widgets/base",
            "_model_module_version": "1.2.0",
            "_model_name": "LayoutModel",
            "_view_count": null,
            "_view_module": "@jupyter-widgets/base",
            "_view_module_version": "1.2.0",
            "_view_name": "LayoutView",
            "align_content": null,
            "align_items": null,
            "align_self": null,
            "border": null,
            "bottom": null,
            "display": null,
            "flex": null,
            "flex_flow": null,
            "grid_area": null,
            "grid_auto_columns": null,
            "grid_auto_flow": null,
            "grid_auto_rows": null,
            "grid_column": null,
            "grid_gap": null,
            "grid_row": null,
            "grid_template_areas": null,
            "grid_template_columns": null,
            "grid_template_rows": null,
            "height": null,
            "justify_content": null,
            "justify_items": null,
            "left": null,
            "margin": null,
            "max_height": null,
            "max_width": null,
            "min_height": null,
            "min_width": null,
            "object_fit": null,
            "object_position": null,
            "order": null,
            "overflow": null,
            "overflow_x": null,
            "overflow_y": null,
            "padding": null,
            "right": null,
            "top": null,
            "visibility": null,
            "width": null
          }
        },
        "ac2c0f17cf49405a9d4c69c8eb357218": {
          "model_module": "@jupyter-widgets/controls",
          "model_name": "ProgressStyleModel",
          "model_module_version": "1.5.0",
          "state": {
            "_model_module": "@jupyter-widgets/controls",
            "_model_module_version": "1.5.0",
            "_model_name": "ProgressStyleModel",
            "_view_count": null,
            "_view_module": "@jupyter-widgets/base",
            "_view_module_version": "1.2.0",
            "_view_name": "StyleView",
            "bar_color": null,
            "description_width": ""
          }
        },
        "1cfb0813f3b44434b6ed65e4f6e87466": {
          "model_module": "@jupyter-widgets/base",
          "model_name": "LayoutModel",
          "model_module_version": "1.2.0",
          "state": {
            "_model_module": "@jupyter-widgets/base",
            "_model_module_version": "1.2.0",
            "_model_name": "LayoutModel",
            "_view_count": null,
            "_view_module": "@jupyter-widgets/base",
            "_view_module_version": "1.2.0",
            "_view_name": "LayoutView",
            "align_content": null,
            "align_items": null,
            "align_self": null,
            "border": null,
            "bottom": null,
            "display": null,
            "flex": null,
            "flex_flow": null,
            "grid_area": null,
            "grid_auto_columns": null,
            "grid_auto_flow": null,
            "grid_auto_rows": null,
            "grid_column": null,
            "grid_gap": null,
            "grid_row": null,
            "grid_template_areas": null,
            "grid_template_columns": null,
            "grid_template_rows": null,
            "height": null,
            "justify_content": null,
            "justify_items": null,
            "left": null,
            "margin": null,
            "max_height": null,
            "max_width": null,
            "min_height": null,
            "min_width": null,
            "object_fit": null,
            "object_position": null,
            "order": null,
            "overflow": null,
            "overflow_x": null,
            "overflow_y": null,
            "padding": null,
            "right": null,
            "top": null,
            "visibility": null,
            "width": null
          }
        },
        "f14ef29a28e14584804fc8033e556fa8": {
          "model_module": "@jupyter-widgets/controls",
          "model_name": "DescriptionStyleModel",
          "model_module_version": "1.5.0",
          "state": {
            "_model_module": "@jupyter-widgets/controls",
            "_model_module_version": "1.5.0",
            "_model_name": "DescriptionStyleModel",
            "_view_count": null,
            "_view_module": "@jupyter-widgets/base",
            "_view_module_version": "1.2.0",
            "_view_name": "StyleView",
            "description_width": ""
          }
        }
      }
    }
  },
  "nbformat": 4,
  "nbformat_minor": 0
}