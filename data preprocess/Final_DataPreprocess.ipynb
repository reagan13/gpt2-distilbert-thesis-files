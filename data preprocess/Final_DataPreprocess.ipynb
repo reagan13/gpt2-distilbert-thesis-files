{
 "cells": [
  {
   "cell_type": "code",
   "execution_count": 33,
   "metadata": {},
   "outputs": [
    {
     "name": "stdout",
     "output_type": "stream",
     "text": [
      "Collecting fakerNote: you may need to restart the kernel to use updated packages.\n",
      "\n",
      "  Downloading Faker-35.2.0-py3-none-any.whl.metadata (15 kB)\n",
      "Requirement already satisfied: python-dateutil>=2.4 in c:\\users\\reaga\\appdata\\local\\packages\\pythonsoftwarefoundation.python.3.11_qbz5n2kfra8p0\\localcache\\local-packages\\python311\\site-packages (from faker) (2.8.2)\n",
      "Requirement already satisfied: typing-extensions in c:\\users\\reaga\\appdata\\local\\packages\\pythonsoftwarefoundation.python.3.11_qbz5n2kfra8p0\\localcache\\local-packages\\python311\\site-packages (from faker) (4.12.2)\n",
      "Requirement already satisfied: six>=1.5 in c:\\users\\reaga\\appdata\\local\\packages\\pythonsoftwarefoundation.python.3.11_qbz5n2kfra8p0\\localcache\\local-packages\\python311\\site-packages (from python-dateutil>=2.4->faker) (1.16.0)\n",
      "Downloading Faker-35.2.0-py3-none-any.whl (1.9 MB)\n",
      "   ---------------------------------------- 0.0/1.9 MB ? eta -:--:--\n",
      "   -------------------------------------- - 1.8/1.9 MB 14.3 MB/s eta 0:00:01\n",
      "   ---------------------------------------- 1.9/1.9 MB 13.2 MB/s eta 0:00:00\n",
      "Installing collected packages: faker\n",
      "Successfully installed faker-35.2.0\n"
     ]
    },
    {
     "name": "stderr",
     "output_type": "stream",
     "text": [
      "\n",
      "[notice] A new release of pip is available: 24.3.1 -> 25.0\n",
      "[notice] To update, run: C:\\Users\\reaga\\AppData\\Local\\Microsoft\\WindowsApps\\PythonSoftwareFoundation.Python.3.11_qbz5n2kfra8p0\\python.exe -m pip install --upgrade pip\n"
     ]
    }
   ],
   "source": [
    "%pip install faker\n"
   ]
  },
  {
   "cell_type": "markdown",
   "metadata": {},
   "source": [
    "# Data Preprocess\n"
   ]
  },
  {
   "cell_type": "markdown",
   "metadata": {},
   "source": [
    "## Import Libraries\n"
   ]
  },
  {
   "cell_type": "code",
   "execution_count": 45,
   "metadata": {},
   "outputs": [],
   "source": [
    "\n",
    "# # Data Preprocess for Category Classificatin\n",
    "import pandas as pd\n",
    "from sklearn.model_selection import train_test_split\n",
    "import string\n",
    "from collections import Counter\n",
    "import re\n",
    "import random\n",
    "from faker import Faker\n",
    "\n"
   ]
  },
  {
   "cell_type": "markdown",
   "metadata": {},
   "source": [
    "## Initialize Dataset\n"
   ]
  },
  {
   "cell_type": "code",
   "execution_count": 46,
   "metadata": {},
   "outputs": [],
   "source": [
    "file_path = '../dataset/dataset.csv'\n"
   ]
  },
  {
   "cell_type": "code",
   "execution_count": 47,
   "metadata": {},
   "outputs": [
    {
     "data": {
      "text/html": [
       "<div>\n",
       "<style scoped>\n",
       "    .dataframe tbody tr th:only-of-type {\n",
       "        vertical-align: middle;\n",
       "    }\n",
       "\n",
       "    .dataframe tbody tr th {\n",
       "        vertical-align: top;\n",
       "    }\n",
       "\n",
       "    .dataframe thead th {\n",
       "        text-align: right;\n",
       "    }\n",
       "</style>\n",
       "<table border=\"1\" class=\"dataframe\">\n",
       "  <thead>\n",
       "    <tr style=\"text-align: right;\">\n",
       "      <th></th>\n",
       "      <th>instruction</th>\n",
       "      <th>category</th>\n",
       "      <th>intent</th>\n",
       "      <th>response</th>\n",
       "    </tr>\n",
       "  </thead>\n",
       "  <tbody>\n",
       "    <tr>\n",
       "      <th>0</th>\n",
       "      <td>question about cancelling order {{Order Number}}</td>\n",
       "      <td>ORDER</td>\n",
       "      <td>cancel_order</td>\n",
       "      <td>I've understood you have a question regarding ...</td>\n",
       "    </tr>\n",
       "    <tr>\n",
       "      <th>1</th>\n",
       "      <td>i have a question about cancelling oorder {{Or...</td>\n",
       "      <td>ORDER</td>\n",
       "      <td>cancel_order</td>\n",
       "      <td>I've been informed that you have a question ab...</td>\n",
       "    </tr>\n",
       "    <tr>\n",
       "      <th>2</th>\n",
       "      <td>i need help cancelling puchase {{Order Number}}</td>\n",
       "      <td>ORDER</td>\n",
       "      <td>cancel_order</td>\n",
       "      <td>I can sense that you're seeking assistance wit...</td>\n",
       "    </tr>\n",
       "    <tr>\n",
       "      <th>3</th>\n",
       "      <td>I need to cancel purchase {{Order Number}}</td>\n",
       "      <td>ORDER</td>\n",
       "      <td>cancel_order</td>\n",
       "      <td>I understood that you need assistance with can...</td>\n",
       "    </tr>\n",
       "    <tr>\n",
       "      <th>4</th>\n",
       "      <td>I cannot afford this order, cancel purchase {{...</td>\n",
       "      <td>ORDER</td>\n",
       "      <td>cancel_order</td>\n",
       "      <td>I'm sensitive to the fact that you're facing f...</td>\n",
       "    </tr>\n",
       "  </tbody>\n",
       "</table>\n",
       "</div>"
      ],
      "text/plain": [
       "                                         instruction category        intent  \\\n",
       "0   question about cancelling order {{Order Number}}    ORDER  cancel_order   \n",
       "1  i have a question about cancelling oorder {{Or...    ORDER  cancel_order   \n",
       "2    i need help cancelling puchase {{Order Number}}    ORDER  cancel_order   \n",
       "3         I need to cancel purchase {{Order Number}}    ORDER  cancel_order   \n",
       "4  I cannot afford this order, cancel purchase {{...    ORDER  cancel_order   \n",
       "\n",
       "                                            response  \n",
       "0  I've understood you have a question regarding ...  \n",
       "1  I've been informed that you have a question ab...  \n",
       "2  I can sense that you're seeking assistance wit...  \n",
       "3  I understood that you need assistance with can...  \n",
       "4  I'm sensitive to the fact that you're facing f...  "
      ]
     },
     "execution_count": 47,
     "metadata": {},
     "output_type": "execute_result"
    }
   ],
   "source": [
    "\n",
    "# Load dataset from CSV file\n",
    "df = pd.read_csv(file_path)\n",
    "\n",
    "df = df.drop(columns=['flags'])\n",
    "\n",
    "# Display the first few rows of the dataframe\n",
    "df.head()\n"
   ]
  },
  {
   "cell_type": "code",
   "execution_count": 48,
   "metadata": {},
   "outputs": [
    {
     "name": "stdout",
     "output_type": "stream",
     "text": [
      "Total length of the dataframe: 26872\n",
      "Missing values in each column:\n",
      "instruction    0\n",
      "category       0\n",
      "intent         0\n",
      "response       0\n",
      "dtype: int64\n",
      "Missing values in each row:\n",
      "0        0\n",
      "1        0\n",
      "2        0\n",
      "3        0\n",
      "4        0\n",
      "        ..\n",
      "26867    0\n",
      "26868    0\n",
      "26869    0\n",
      "26870    0\n",
      "26871    0\n",
      "Length: 26872, dtype: int64\n"
     ]
    }
   ],
   "source": [
    "# Check the total length of the dataframe\n",
    "total_length = len(df)\n",
    "print(f\"Total length of the dataframe: {total_length}\")\n",
    "\n",
    "# Check for any missing or empty values in each column\n",
    "missing_values = df.isnull().sum()\n",
    "print(\"Missing values in each column:\")\n",
    "print(missing_values)\n",
    "\n",
    "# Check for any missing or empty values in each row\n",
    "missing_values_rows = df.isnull().sum(axis=1)\n",
    "print(\"Missing values in each row:\")\n",
    "print(missing_values_rows)\n"
   ]
  },
  {
   "cell_type": "markdown",
   "metadata": {},
   "source": [
    "## Checking of Dataset\n"
   ]
  },
  {
   "cell_type": "code",
   "execution_count": 49,
   "metadata": {},
   "outputs": [
    {
     "name": "stdout",
     "output_type": "stream",
     "text": [
      "Unique intents:\n",
      "['cancel_order' 'change_order' 'change_shipping_address'\n",
      " 'check_cancellation_fee' 'check_invoice' 'check_payment_methods'\n",
      " 'check_refund_policy' 'complaint' 'contact_customer_service'\n",
      " 'contact_human_agent' 'create_account' 'delete_account'\n",
      " 'delivery_options' 'delivery_period' 'edit_account' 'get_invoice'\n",
      " 'get_refund' 'newsletter_subscription' 'payment_issue' 'place_order'\n",
      " 'recover_password' 'registration_problems' 'review'\n",
      " 'set_up_shipping_address' 'switch_account' 'track_order' 'track_refund']\n",
      "Total unique intents: 27\n",
      "\n",
      "Unique categories:\n",
      "['ORDER' 'SHIPPING' 'CANCEL' 'INVOICE' 'PAYMENT' 'REFUND' 'FEEDBACK'\n",
      " 'CONTACT' 'ACCOUNT' 'DELIVERY' 'SUBSCRIPTION']\n",
      "Total unique categories: 11\n"
     ]
    }
   ],
   "source": [
    "unique_intents = df['intent'].unique()\n",
    "unique_categories = df['category'].unique()\n",
    "\n",
    "print(\"Unique intents:\")\n",
    "print(unique_intents)\n",
    "print(\"Total unique intents:\", len(unique_intents))\n",
    "\n",
    "print(\"\\nUnique categories:\")\n",
    "print(unique_categories)\n",
    "print(\"Total unique categories:\", len(unique_categories))\n"
   ]
  },
  {
   "cell_type": "markdown",
   "metadata": {},
   "source": [
    "## Category and Intent\n"
   ]
  },
  {
   "cell_type": "markdown",
   "metadata": {},
   "source": [
    "Intent\n"
   ]
  },
  {
   "cell_type": "code",
   "execution_count": 50,
   "metadata": {},
   "outputs": [
    {
     "name": "stdout",
     "output_type": "stream",
     "text": [
      "Unique intents:\n",
      "['cancel_order' 'change_order' 'change_shipping_address'\n",
      " 'check_cancellation_fee' 'check_invoice' 'check_payment_methods'\n",
      " 'check_refund_policy' 'complaint' 'contact_customer_service'\n",
      " 'contact_human_agent' 'create_account' 'delete_account'\n",
      " 'delivery_options' 'delivery_period' 'edit_account' 'get_invoice'\n",
      " 'get_refund' 'newsletter_subscription' 'payment_issue' 'place_order'\n",
      " 'recover_password' 'registration_problems' 'review'\n",
      " 'set_up_shipping_address' 'switch_account' 'track_order' 'track_refund']\n",
      "\n",
      "Intent distribution:\n",
      "intent\n",
      "edit_account                1000\n",
      "switch_account              1000\n",
      "check_invoice               1000\n",
      "complaint                   1000\n",
      "contact_customer_service    1000\n",
      "delivery_period              999\n",
      "registration_problems        999\n",
      "check_payment_methods        999\n",
      "contact_human_agent          999\n",
      "payment_issue                999\n",
      "newsletter_subscription      999\n",
      "get_invoice                  999\n",
      "place_order                  998\n",
      "cancel_order                 998\n",
      "track_refund                 998\n",
      "change_order                 997\n",
      "get_refund                   997\n",
      "create_account               997\n",
      "check_refund_policy          997\n",
      "review                       997\n",
      "set_up_shipping_address      997\n",
      "delivery_options             995\n",
      "delete_account               995\n",
      "recover_password             995\n",
      "track_order                  995\n",
      "change_shipping_address      973\n",
      "check_cancellation_fee       950\n",
      "Name: count, dtype: int64\n",
      "Total unique intents: 27\n"
     ]
    }
   ],
   "source": [
    "# Get the unique intents\n",
    "unique_intents_list = df['intent'].unique()\n",
    "\n",
    "# Print the unique intents\n",
    "print(\"Unique intents:\")\n",
    "print(unique_intents_list)\n",
    "\n",
    "# Get the distribution of intents\n",
    "intent_distribution = df['intent'].value_counts()\n",
    "\n",
    "# Print the distribution of intents\n",
    "print(\"\\nIntent distribution:\")\n",
    "print(intent_distribution)\n",
    "\n",
    "print(\"Total unique intents:\", len(unique_intents_list))\n"
   ]
  },
  {
   "cell_type": "markdown",
   "metadata": {},
   "source": [
    "Category\n"
   ]
  },
  {
   "cell_type": "code",
   "execution_count": 51,
   "metadata": {},
   "outputs": [
    {
     "name": "stdout",
     "output_type": "stream",
     "text": [
      "Unique categories:\n",
      "['ORDER' 'SHIPPING' 'CANCEL' 'INVOICE' 'PAYMENT' 'REFUND' 'FEEDBACK'\n",
      " 'CONTACT' 'ACCOUNT' 'DELIVERY' 'SUBSCRIPTION']\n",
      "\n",
      "Category distribution:\n",
      "category\n",
      "ACCOUNT         5986\n",
      "ORDER           3988\n",
      "REFUND          2992\n",
      "INVOICE         1999\n",
      "CONTACT         1999\n",
      "PAYMENT         1998\n",
      "FEEDBACK        1997\n",
      "DELIVERY        1994\n",
      "SHIPPING        1970\n",
      "SUBSCRIPTION     999\n",
      "CANCEL           950\n",
      "Name: count, dtype: int64\n",
      "Total unique categories: 11\n"
     ]
    }
   ],
   "source": [
    "# Get the unique categories\n",
    "unique_categories_list = df['category'].unique()\n",
    "\n",
    "# Print the unique categories\n",
    "print(\"Unique categories:\")\n",
    "print(unique_categories_list)\n",
    "\n",
    "# Get the distribution of categories\n",
    "category_distribution = df['category'].value_counts()\n",
    "\n",
    "# Print the distribution of categories\n",
    "print(\"\\nCategory distribution:\")\n",
    "print(category_distribution)\n",
    "\n",
    "print(\"Total unique categories:\", len(unique_categories_list))\n"
   ]
  },
  {
   "cell_type": "code",
   "execution_count": 52,
   "metadata": {},
   "outputs": [
    {
     "name": "stdout",
     "output_type": "stream",
     "text": [
      "                                             instruction category  \\\n",
      "0       question about cancelling order {{order number}}    ORDER   \n",
      "1      i have a question about cancelling oorder {{or...    ORDER   \n",
      "2        i need help cancelling puchase {{order number}}    ORDER   \n",
      "3             i need to cancel purchase {{order number}}    ORDER   \n",
      "4      i cannot afford this order, cancel purchase {{...    ORDER   \n",
      "...                                                  ...      ...   \n",
      "26867  i am waiting for a rebate of {{refund amount}}...   REFUND   \n",
      "26868  how to see if there is anything wrong with my ...   REFUND   \n",
      "26869  i'm waiting for a reimbjrsement of {{currency ...   REFUND   \n",
      "26870  i don't know what to do to see my reimbursemen...   REFUND   \n",
      "26871  i need to know if there is anything new on the...   REFUND   \n",
      "\n",
      "             intent                                           response  \n",
      "0      cancel_order  I've understood you have a question regarding ...  \n",
      "1      cancel_order  I've been informed that you have a question ab...  \n",
      "2      cancel_order  I can sense that you're seeking assistance wit...  \n",
      "3      cancel_order  I understood that you need assistance with can...  \n",
      "4      cancel_order  I'm sensitive to the fact that you're facing f...  \n",
      "...             ...                                                ...  \n",
      "26867  track_refund  Thank you for sharing your situation regarding...  \n",
      "26868  track_refund  Ensuring the accuracy of your restitution is o...  \n",
      "26869  track_refund  Firstly, I genuinely understand the importance...  \n",
      "26870  track_refund  I've understood you're unsure about how to che...  \n",
      "26871  track_refund  It's completely understandable that you want t...  \n",
      "\n",
      "[26872 rows x 4 columns]\n"
     ]
    }
   ],
   "source": [
    "# Convert the text in the 'instruction' and 'intent' columns to lowercase\n",
    "df['instruction'] = df['instruction'].str.lower()\n",
    "df['intent'] = df['intent'].str.lower()\n",
    "\n",
    "# Display the resulting DataFrame\n",
    "print(df)\n",
    "\n"
   ]
  },
  {
   "cell_type": "markdown",
   "metadata": {},
   "source": [
    "## Entity\n"
   ]
  },
  {
   "cell_type": "markdown",
   "metadata": {},
   "source": [
    "### Placeholder\n"
   ]
  },
  {
   "cell_type": "markdown",
   "metadata": {},
   "source": [
    "Checking placeholder\n"
   ]
  },
  {
   "cell_type": "code",
   "execution_count": 55,
   "metadata": {},
   "outputs": [
    {
     "name": "stdout",
     "output_type": "stream",
     "text": [
      "Rows with placeholders: 0\n",
      "\n",
      "Initial Distribution of Placeholders:\n",
      "Empty DataFrame\n",
      "Columns: [count]\n",
      "Index: []\n",
      "\n",
      "Total rows in the dataset: 26872\n",
      "\n",
      "Missing values per column:\n",
      "instruction        0\n",
      "category           0\n",
      "intent             0\n",
      "response           0\n",
      "has_placeholder    0\n",
      "ner_labels         0\n",
      "dtype: int64\n",
      "\n",
      "Updated Distribution of Placeholders (After Removing Lowest Occurrences):\n",
      "Empty DataFrame\n",
      "Columns: [count]\n",
      "Index: []\n"
     ]
    }
   ],
   "source": [
    "import pandas as pd\n",
    "import re\n",
    "from collections import Counter\n",
    "\n",
    "# Detect rows with placeholders\n",
    "df['has_placeholder'] = df['instruction'].str.contains(r'\\{\\{.*?\\}\\}')\n",
    "\n",
    "# Count rows with placeholders\n",
    "rows_with_placeholders = df['has_placeholder'].sum()\n",
    "\n",
    "# Extract placeholders function\n",
    "def extract_placeholders(text):\n",
    "    return re.findall(r'\\{\\{(.*?)\\}\\}', text)\n",
    "\n",
    "# Apply function and get all placeholders\n",
    "placeholders = df[df['has_placeholder']]['instruction'].apply(extract_placeholders).explode()\n",
    "\n",
    "# Count occurrences of each placeholder\n",
    "placeholder_counts = Counter(placeholders)\n",
    "\n",
    "# Convert to DataFrame\n",
    "placeholder_df = pd.DataFrame.from_dict(placeholder_counts, orient='index', columns=['count'])\n",
    "\n",
    "# Display initial results\n",
    "print(f\"Rows with placeholders: {rows_with_placeholders}\")\n",
    "print(\"\\nInitial Distribution of Placeholders:\")\n",
    "print(placeholder_df.sort_values(by='count', ascending=False))\n",
    "\n",
    "# Print total rows and missing values\n",
    "print(\"\\nTotal rows in the dataset:\", len(df))\n",
    "print(\"\\nMissing values per column:\")\n",
    "print(df.isnull().sum())\n",
    "\n",
    "# Remove placeholders with the lowest occurrence\n",
    "if not placeholder_df.empty:\n",
    "    min_count = placeholder_df['count'].min()  # Find the lowest count\n",
    "    placeholder_df = placeholder_df[placeholder_df['count'] > min_count]  # Keep only placeholders with higher counts\n",
    "\n",
    "# Display updated results\n",
    "print(\"\\nUpdated Distribution of Placeholders (After Removing Lowest Occurrences):\")\n",
    "print(placeholder_df.sort_values(by='count', ascending=False))\n"
   ]
  },
  {
   "cell_type": "code",
   "execution_count": 54,
   "metadata": {},
   "outputs": [
    {
     "name": "stdout",
     "output_type": "stream",
     "text": [
      "✅ Placeholders replaced and dataset saved to ../dataset/processed_dataset.csv.\n",
      "                                         instruction category        intent  \\\n",
      "0          question about cancelling order ORD-71383    ORDER  cancel_order   \n",
      "1  i have a question about cancelling oorder ORD-...    ORDER  cancel_order   \n",
      "2           i need help cancelling puchase ORD-48300    ORDER  cancel_order   \n",
      "3                i need to cancel purchase ORD-65724    ORDER  cancel_order   \n",
      "4  i cannot afford this order, cancel purchase OR...    ORDER  cancel_order   \n",
      "\n",
      "                                            response  has_placeholder  \\\n",
      "0  I've understood you have a question regarding ...             True   \n",
      "1  I've been informed that you have a question ab...             True   \n",
      "2  I can sense that you're seeking assistance wit...             True   \n",
      "3  I understood that you need assistance with can...             True   \n",
      "4  I'm sensitive to the fact that you're facing f...             True   \n",
      "\n",
      "                                         ner_labels  \n",
      "0  [{'text': 'ORD-71383', 'label': 'order_number'}]  \n",
      "1  [{'text': 'ORD-73156', 'label': 'order_number'}]  \n",
      "2  [{'text': 'ORD-48300', 'label': 'order_number'}]  \n",
      "3  [{'text': 'ORD-65724', 'label': 'order_number'}]  \n",
      "4  [{'text': 'ORD-84007', 'label': 'order_number'}]  \n"
     ]
    }
   ],
   "source": [
    "import re\n",
    "import pandas as pd\n",
    "from faker import Faker\n",
    "\n",
    "# Initialize Faker\n",
    "fake = Faker()\n",
    "\n",
    "# Define synthetic data generators\n",
    "data_generators = {\n",
    "    'order number': lambda: fake.unique.bothify(text='ORD-#####'),\n",
    "    'account type': lambda: fake.random_element(elements=('Business', 'Personal')),\n",
    "    'person name': lambda: fake.name(),\n",
    "    'account category': lambda: fake.random_element(elements=('Category A', 'Category B', 'Category C')),\n",
    "\n",
    "    'refund amount': lambda: f\"${fake.random_number(digits=3)}.00\",\n",
    "    'currency symbol': lambda: fake.currency_symbol(),\n",
    "    'delivery city': lambda: fake.city(),\n",
    "    'delivery country': lambda: fake.country(),\n",
    "    'invoice number': lambda: fake.unique.bothify(text='INV###')\n",
    "}\n",
    "\n",
    "# Function to replace placeholders and track NER labels\n",
    "def replace_placeholders(text, data_generators):\n",
    "    if pd.isnull(text):\n",
    "        return text, []  # Return empty list for NER labels\n",
    "\n",
    "    placeholder_pattern = re.compile(r'\\{{2}(.+?)\\}{2}')  # Match placeholders {{...}}\n",
    "    placeholders = placeholder_pattern.findall(text)\n",
    "\n",
    "    ner_labels = []  # Store entity labels\n",
    "\n",
    "    for placeholder in placeholders:\n",
    "        placeholder_cleaned = placeholder.strip().lower()  # Normalize case\n",
    "        if placeholder_cleaned in data_generators:\n",
    "            replacement_value = data_generators[placeholder_cleaned]()  # Generate synthetic data\n",
    "            text = text.replace(f'{{{{{placeholder}}}}}', replacement_value, 1)\n",
    "            \n",
    "            # Append entity info in required format\n",
    "            ner_labels.append({'text': replacement_value, 'label': placeholder_cleaned.replace(\" \", \"_\")})\n",
    "\n",
    "    return text, ner_labels\n",
    "\n",
    "# Apply function\n",
    "df[['instruction', 'ner_labels']] = df['instruction'].apply(lambda x: pd.Series(replace_placeholders(x, data_generators)))\n",
    "\n",
    "# Save processed dataset\n",
    "output_csv_path = '../dataset/processed_dataset.csv'\n",
    "df.to_csv(output_csv_path, index=False)\n",
    "\n",
    "print(f\"✅ Placeholders replaced and dataset saved to {output_csv_path}.\")\n",
    "print(df.head())\n"
   ]
  },
  {
   "cell_type": "code",
   "execution_count": null,
   "metadata": {},
   "outputs": [],
   "source": []
  }
 ],
 "metadata": {
  "kernelspec": {
   "display_name": "Python 3",
   "language": "python",
   "name": "python3"
  },
  "language_info": {
   "codemirror_mode": {
    "name": "ipython",
    "version": 3
   },
   "file_extension": ".py",
   "mimetype": "text/x-python",
   "name": "python",
   "nbconvert_exporter": "python",
   "pygments_lexer": "ipython3",
   "version": "3.11.9"
  }
 },
 "nbformat": 4,
 "nbformat_minor": 2
}
