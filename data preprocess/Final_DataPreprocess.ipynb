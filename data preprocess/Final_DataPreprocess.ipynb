{
 "cells": [
  {
   "cell_type": "code",
   "execution_count": 33,
   "metadata": {},
   "outputs": [
    {
     "name": "stdout",
     "output_type": "stream",
     "text": [
      "Collecting fakerNote: you may need to restart the kernel to use updated packages.\n",
      "\n",
      "  Downloading Faker-35.2.0-py3-none-any.whl.metadata (15 kB)\n",
      "Requirement already satisfied: python-dateutil>=2.4 in c:\\users\\reaga\\appdata\\local\\packages\\pythonsoftwarefoundation.python.3.11_qbz5n2kfra8p0\\localcache\\local-packages\\python311\\site-packages (from faker) (2.8.2)\n",
      "Requirement already satisfied: typing-extensions in c:\\users\\reaga\\appdata\\local\\packages\\pythonsoftwarefoundation.python.3.11_qbz5n2kfra8p0\\localcache\\local-packages\\python311\\site-packages (from faker) (4.12.2)\n",
      "Requirement already satisfied: six>=1.5 in c:\\users\\reaga\\appdata\\local\\packages\\pythonsoftwarefoundation.python.3.11_qbz5n2kfra8p0\\localcache\\local-packages\\python311\\site-packages (from python-dateutil>=2.4->faker) (1.16.0)\n",
      "Downloading Faker-35.2.0-py3-none-any.whl (1.9 MB)\n",
      "   ---------------------------------------- 0.0/1.9 MB ? eta -:--:--\n",
      "   -------------------------------------- - 1.8/1.9 MB 14.3 MB/s eta 0:00:01\n",
      "   ---------------------------------------- 1.9/1.9 MB 13.2 MB/s eta 0:00:00\n",
      "Installing collected packages: faker\n",
      "Successfully installed faker-35.2.0\n"
     ]
    },
    {
     "name": "stderr",
     "output_type": "stream",
     "text": [
      "\n",
      "[notice] A new release of pip is available: 24.3.1 -> 25.0\n",
      "[notice] To update, run: C:\\Users\\reaga\\AppData\\Local\\Microsoft\\WindowsApps\\PythonSoftwareFoundation.Python.3.11_qbz5n2kfra8p0\\python.exe -m pip install --upgrade pip\n"
     ]
    }
   ],
   "source": [
    "%pip install faker\n"
   ]
  },
  {
   "cell_type": "markdown",
   "metadata": {},
   "source": [
    "# Data Preprocess\n"
   ]
  },
  {
   "cell_type": "markdown",
   "metadata": {},
   "source": [
    "## Import Libraries\n"
   ]
  },
  {
   "cell_type": "code",
   "execution_count": 1,
   "metadata": {},
   "outputs": [],
   "source": [
    "import pandas as pd\n"
   ]
  },
  {
   "cell_type": "markdown",
   "metadata": {},
   "source": [
    "## Initialize Dataset\n"
   ]
  },
  {
   "cell_type": "code",
   "execution_count": 2,
   "metadata": {},
   "outputs": [],
   "source": [
    "file_path = '../dataset/dataset.csv'\n"
   ]
  },
  {
   "cell_type": "code",
   "execution_count": null,
   "metadata": {},
   "outputs": [
    {
     "data": {
      "text/html": [
       "<div>\n",
       "<style scoped>\n",
       "    .dataframe tbody tr th:only-of-type {\n",
       "        vertical-align: middle;\n",
       "    }\n",
       "\n",
       "    .dataframe tbody tr th {\n",
       "        vertical-align: top;\n",
       "    }\n",
       "\n",
       "    .dataframe thead th {\n",
       "        text-align: right;\n",
       "    }\n",
       "</style>\n",
       "<table border=\"1\" class=\"dataframe\">\n",
       "  <thead>\n",
       "    <tr style=\"text-align: right;\">\n",
       "      <th></th>\n",
       "      <th>instruction</th>\n",
       "      <th>category</th>\n",
       "      <th>intent</th>\n",
       "      <th>response</th>\n",
       "    </tr>\n",
       "  </thead>\n",
       "  <tbody>\n",
       "    <tr>\n",
       "      <th>0</th>\n",
       "      <td>question about cancelling order {{Order Number}}</td>\n",
       "      <td>ORDER</td>\n",
       "      <td>cancel_order</td>\n",
       "      <td>I've understood you have a question regarding ...</td>\n",
       "    </tr>\n",
       "    <tr>\n",
       "      <th>1</th>\n",
       "      <td>i have a question about cancelling oorder {{Or...</td>\n",
       "      <td>ORDER</td>\n",
       "      <td>cancel_order</td>\n",
       "      <td>I've been informed that you have a question ab...</td>\n",
       "    </tr>\n",
       "    <tr>\n",
       "      <th>2</th>\n",
       "      <td>i need help cancelling puchase {{Order Number}}</td>\n",
       "      <td>ORDER</td>\n",
       "      <td>cancel_order</td>\n",
       "      <td>I can sense that you're seeking assistance wit...</td>\n",
       "    </tr>\n",
       "    <tr>\n",
       "      <th>3</th>\n",
       "      <td>I need to cancel purchase {{Order Number}}</td>\n",
       "      <td>ORDER</td>\n",
       "      <td>cancel_order</td>\n",
       "      <td>I understood that you need assistance with can...</td>\n",
       "    </tr>\n",
       "    <tr>\n",
       "      <th>4</th>\n",
       "      <td>I cannot afford this order, cancel purchase {{...</td>\n",
       "      <td>ORDER</td>\n",
       "      <td>cancel_order</td>\n",
       "      <td>I'm sensitive to the fact that you're facing f...</td>\n",
       "    </tr>\n",
       "  </tbody>\n",
       "</table>\n",
       "</div>"
      ],
      "text/plain": [
       "                                         instruction category        intent  \\\n",
       "0   question about cancelling order {{Order Number}}    ORDER  cancel_order   \n",
       "1  i have a question about cancelling oorder {{Or...    ORDER  cancel_order   \n",
       "2    i need help cancelling puchase {{Order Number}}    ORDER  cancel_order   \n",
       "3         I need to cancel purchase {{Order Number}}    ORDER  cancel_order   \n",
       "4  I cannot afford this order, cancel purchase {{...    ORDER  cancel_order   \n",
       "\n",
       "                                            response  \n",
       "0  I've understood you have a question regarding ...  \n",
       "1  I've been informed that you have a question ab...  \n",
       "2  I can sense that you're seeking assistance wit...  \n",
       "3  I understood that you need assistance with can...  \n",
       "4  I'm sensitive to the fact that you're facing f...  "
      ]
     },
     "execution_count": 3,
     "metadata": {},
     "output_type": "execute_result"
    }
   ],
   "source": [
    "\n",
    "# Load dataset from CSV file\n",
    "df = pd.read_csv(file_path)\n",
    "\n",
    "df = df.drop(columns=['flags'])\n",
    "\n",
    "# Display the first few rows of the dataframe\n",
    "df.head()\n"
   ]
  },
  {
   "cell_type": "code",
   "execution_count": 6,
   "metadata": {},
   "outputs": [
    {
     "name": "stdout",
     "output_type": "stream",
     "text": [
      "Total length of the dataframe: 26872\n",
      "Missing values in each column:\n",
      "instruction    0\n",
      "category       0\n",
      "intent         0\n",
      "response       0\n",
      "dtype: int64\n",
      "Missing values in each row:\n",
      "0        0\n",
      "1        0\n",
      "2        0\n",
      "3        0\n",
      "4        0\n",
      "        ..\n",
      "26867    0\n",
      "26868    0\n",
      "26869    0\n",
      "26870    0\n",
      "26871    0\n",
      "Length: 26872, dtype: int64\n"
     ]
    }
   ],
   "source": [
    "# Check the total length of the dataframe\n",
    "total_length = len(df)\n",
    "print(f\"Total length of the dataframe: {total_length}\")\n",
    "\n",
    "# Check for any missing or empty values in each column\n",
    "missing_values = df.isnull().sum()\n",
    "print(\"Missing values in each column:\")\n",
    "print(missing_values)\n",
    "\n",
    "# Check for any missing or empty values in each row\n",
    "missing_values_rows = df.isnull().sum(axis=1)\n",
    "print(\"Missing values in each row:\")\n",
    "print(missing_values_rows)\n"
   ]
  },
  {
   "cell_type": "markdown",
   "metadata": {},
   "source": [
    "## Checking of Dataset\n"
   ]
  },
  {
   "cell_type": "code",
   "execution_count": 4,
   "metadata": {},
   "outputs": [
    {
     "name": "stdout",
     "output_type": "stream",
     "text": [
      "Unique intents:\n",
      "['cancel_order' 'change_order' 'change_shipping_address'\n",
      " 'check_cancellation_fee' 'check_invoice' 'check_payment_methods'\n",
      " 'check_refund_policy' 'complaint' 'contact_customer_service'\n",
      " 'contact_human_agent' 'create_account' 'delete_account'\n",
      " 'delivery_options' 'delivery_period' 'edit_account' 'get_invoice'\n",
      " 'get_refund' 'newsletter_subscription' 'payment_issue' 'place_order'\n",
      " 'recover_password' 'registration_problems' 'review'\n",
      " 'set_up_shipping_address' 'switch_account' 'track_order' 'track_refund']\n",
      "Total unique intents: 27\n",
      "\n",
      "Unique categories:\n",
      "['ORDER' 'SHIPPING' 'CANCEL' 'INVOICE' 'PAYMENT' 'REFUND' 'FEEDBACK'\n",
      " 'CONTACT' 'ACCOUNT' 'DELIVERY' 'SUBSCRIPTION']\n",
      "Total unique categories: 11\n"
     ]
    }
   ],
   "source": [
    "unique_intents = df['intent'].unique()\n",
    "unique_categories = df['category'].unique()\n",
    "\n",
    "print(\"Unique intents:\")\n",
    "print(unique_intents)\n",
    "print(\"Total unique intents:\", len(unique_intents))\n",
    "\n",
    "print(\"\\nUnique categories:\")\n",
    "print(unique_categories)\n",
    "print(\"Total unique categories:\", len(unique_categories))\n"
   ]
  },
  {
   "cell_type": "markdown",
   "metadata": {},
   "source": [
    "## Category and Intent\n"
   ]
  },
  {
   "cell_type": "markdown",
   "metadata": {},
   "source": [
    "Intent\n"
   ]
  },
  {
   "cell_type": "code",
   "execution_count": 18,
   "metadata": {},
   "outputs": [
    {
     "name": "stdout",
     "output_type": "stream",
     "text": [
      "Unique intents:\n",
      "['cancel_order' 'change_order' 'change_shipping_address'\n",
      " 'check_cancellation_fee' 'check_invoice' 'check_payment_methods'\n",
      " 'check_refund_policy' 'complaint' 'contact_customer_service'\n",
      " 'contact_human_agent' 'create_account' 'delete_account'\n",
      " 'delivery_options' 'delivery_period' 'edit_account' 'get_invoice'\n",
      " 'get_refund' 'newsletter_subscription' 'payment_issue' 'place_order'\n",
      " 'recover_password' 'registration_problems' 'review'\n",
      " 'set_up_shipping_address' 'switch_account' 'track_order' 'track_refund']\n",
      "\n",
      "Intent distribution:\n",
      "intent\n",
      "edit_account                1000\n",
      "switch_account              1000\n",
      "check_invoice               1000\n",
      "complaint                   1000\n",
      "contact_customer_service    1000\n",
      "delivery_period              999\n",
      "registration_problems        999\n",
      "check_payment_methods        999\n",
      "contact_human_agent          999\n",
      "payment_issue                999\n",
      "newsletter_subscription      999\n",
      "get_invoice                  999\n",
      "place_order                  998\n",
      "cancel_order                 998\n",
      "track_refund                 998\n",
      "change_order                 997\n",
      "get_refund                   997\n",
      "create_account               997\n",
      "check_refund_policy          997\n",
      "review                       997\n",
      "set_up_shipping_address      997\n",
      "delivery_options             995\n",
      "delete_account               995\n",
      "recover_password             995\n",
      "track_order                  995\n",
      "change_shipping_address      973\n",
      "check_cancellation_fee       950\n",
      "Name: count, dtype: int64\n",
      "Total unique intents: 27\n"
     ]
    }
   ],
   "source": [
    "# Get the unique intents\n",
    "unique_intents_list = df['intent'].unique()\n",
    "\n",
    "# Print the unique intents\n",
    "print(\"Unique intents:\")\n",
    "print(unique_intents_list)\n",
    "\n",
    "# Get the distribution of intents\n",
    "intent_distribution = df['intent'].value_counts()\n",
    "\n",
    "# Print the distribution of intents\n",
    "print(\"\\nIntent distribution:\")\n",
    "print(intent_distribution)\n",
    "\n",
    "print(\"Total unique intents:\", len(unique_intents_list))\n"
   ]
  },
  {
   "cell_type": "markdown",
   "metadata": {},
   "source": [
    "Category\n"
   ]
  },
  {
   "cell_type": "code",
   "execution_count": 31,
   "metadata": {},
   "outputs": [
    {
     "name": "stdout",
     "output_type": "stream",
     "text": [
      "Unique categories:\n",
      "['ORDER' 'SHIPPING' 'CANCEL' 'INVOICE' 'PAYMENT' 'REFUND' 'FEEDBACK'\n",
      " 'CONTACT' 'ACCOUNT' 'DELIVERY' 'SUBSCRIPTION']\n",
      "\n",
      "Category distribution:\n",
      "category\n",
      "ACCOUNT         5986\n",
      "ORDER           3988\n",
      "REFUND          2992\n",
      "INVOICE         1999\n",
      "CONTACT         1999\n",
      "PAYMENT         1998\n",
      "FEEDBACK        1997\n",
      "DELIVERY        1994\n",
      "SHIPPING        1970\n",
      "SUBSCRIPTION     999\n",
      "CANCEL           950\n",
      "Name: count, dtype: int64\n",
      "Total unique categories: 11\n"
     ]
    }
   ],
   "source": [
    "# Get the unique categories\n",
    "unique_categories_list = df['category'].unique()\n",
    "\n",
    "# Print the unique categories\n",
    "print(\"Unique categories:\")\n",
    "print(unique_categories_list)\n",
    "\n",
    "# Get the distribution of categories\n",
    "category_distribution = df['category'].value_counts()\n",
    "\n",
    "# Print the distribution of categories\n",
    "print(\"\\nCategory distribution:\")\n",
    "print(category_distribution)\n",
    "\n",
    "print(\"Total unique categories:\", len(unique_categories_list))\n"
   ]
  },
  {
   "cell_type": "markdown",
   "metadata": {},
   "source": [
    "## Entity\n"
   ]
  },
  {
   "cell_type": "markdown",
   "metadata": {},
   "source": [
    "### Placeholder\n"
   ]
  },
  {
   "cell_type": "markdown",
   "metadata": {},
   "source": [
    "Checking placeholder\n"
   ]
  },
  {
   "cell_type": "code",
   "execution_count": 34,
   "metadata": {},
   "outputs": [
    {
     "name": "stdout",
     "output_type": "stream",
     "text": [
      "                  count\n",
      "Order Number       2907\n",
      "Invoice Number        8\n",
      "Person Name         887\n",
      "Account Type       1011\n",
      "Account Category    822\n",
      "Delivery City       234\n",
      "Delivery Country    177\n",
      "Currency Symbol     372\n",
      "Refund Amount       624\n",
      "Total rows in the dataset: 26872\n"
     ]
    }
   ],
   "source": [
    "import pandas as pd\n",
    "import re\n",
    "from collections import Counter\n",
    "\n",
    "# Detect rows with placeholders in the 'instruction' column\n",
    "df['has_placeholder_instruction'] = df['instruction'].str.contains(r'\\{\\{.*?\\}\\}')\n",
    "df['has_placeholder'] = df['has_placeholder_instruction']\n",
    "\n",
    "# Count rows with placeholders\n",
    "rows_with_placeholders = df['has_placeholder'].sum()\n",
    "\n",
    "# Extract placeholders\n",
    "def extract_placeholders(text):\n",
    "    return re.findall(r'\\{\\{(.*?)\\}\\}', text)\n",
    "\n",
    "# Apply the function to rows with placeholders and get all placeholders from the 'instruction' column\n",
    "placeholders_instruction = df[df['has_placeholder_instruction']]['instruction'].apply(extract_placeholders).explode()\n",
    "\n",
    "# Count the occurrences of each placeholder\n",
    "placeholder_counts = Counter(placeholders_instruction)\n",
    "\n",
    "# Convert the counts to a DataFrame for better visualization\n",
    "placeholder_df = pd.DataFrame.from_dict(placeholder_counts, orient='index', columns=['count'])\n",
    "\n",
    "\n",
    "# Print the total rows with placeholders\n",
    "print(placeholder_df)\n",
    "\n",
    "# Print the total rows of the dataset and check for any missing values\n",
    "print(\"Total rows in the dataset:\", len(df))\n"
   ]
  },
  {
   "cell_type": "code",
   "execution_count": 35,
   "metadata": {},
   "outputs": [],
   "source": [
    "\n",
    "from faker import Faker\n",
    "import random\n",
    "\n",
    "fake = Faker()\n",
    "\n",
    "def replace_placeholders(text):\n",
    "    replacements = {\n",
    "        \"{{Order Number}}\": str(random.randint(10000, 99999)),\n",
    "        \"{{Person Name}}\": fake.name(),\n",
    "        \"{{Account Type}}\": fake.random_element(elements=(\"Premium\", \"Basic\", \"Business\")),\n",
    "        \"{{Account Category}}\": fake.random_element(elements=(\"Personal\", \"Corporate\")),\n",
    "        \"{{Delivery City}}\": fake.city(),\n",
    "        \"{{Delivery Country}}\": fake.country(),\n",
    "        \"{{Currency Symbol}}\": fake.currency_symbol(),\n",
    "        \"{{Refund Amount}}\": f\"${random.randint(10, 1000)}\",\n",
    "    }\n",
    "    for placeholder, value in replacements.items():\n",
    "        text = text.replace(placeholder, value)\n",
    "    return text\n",
    "\n",
    "df['instruction'] = df['instruction'].apply(replace_placeholders)\n"
   ]
  },
  {
   "cell_type": "code",
   "execution_count": 36,
   "metadata": {},
   "outputs": [],
   "source": [
    "placeholder_mapping = {\n",
    "    \"{{Delivery City}}\": \"Location\",\n",
    "    \"{{Delivery Country}}\": \"Location\",\n",
    "}\n",
    "\n",
    "def map_placeholders_to_groups(text, mapping):\n",
    "    for placeholder, group in mapping.items():\n",
    "        text = text.replace(placeholder, group)\n",
    "    return text\n",
    "\n",
    "df['instruction'] = df['instruction'].apply(lambda x: map_placeholders_to_groups(x, placeholder_mapping))\n"
   ]
  },
  {
   "cell_type": "code",
   "execution_count": 37,
   "metadata": {},
   "outputs": [],
   "source": [
    "def remove_rare_placeholders(text, rare_placeholders):\n",
    "    for placeholder in rare_placeholders:\n",
    "        text = text.replace(f\"{{{{{placeholder}}}}}\", \"\")\n",
    "    return text\n",
    "\n",
    "rare_placeholders = [\"Invoice Number\"]  # Add other rare placeholders if needed\n",
    "df['instruction'] = df['instruction'].apply(lambda x: remove_rare_placeholders(x, rare_placeholders))\n"
   ]
  },
  {
   "cell_type": "code",
   "execution_count": 39,
   "metadata": {},
   "outputs": [],
   "source": [
    "from transformers import GPT2Tokenizer\n",
    "\n",
    "tokenizer = GPT2Tokenizer.from_pretrained(\"gpt2\")\n",
    "tokenizer.pad_token = tokenizer.eos_token  # Set the padding token\n",
    "\n",
    "# Function to tokenize text\n",
    "def tokenize_text(text):\n",
    "    return tokenizer.encode(text, truncation=True, padding=\"max_length\", max_length=512)\n",
    "\n",
    "df['tokenized_instruction'] = df['instruction'].apply(tokenize_text)\n",
    "df['tokenized_response'] = df['response'].apply(tokenize_text)\n"
   ]
  },
  {
   "cell_type": "code",
   "execution_count": 41,
   "metadata": {},
   "outputs": [],
   "source": [
    "# Ensure the 'entities' column exists in the dataframe\n",
    "if 'entities' not in df.columns:\n",
    "    df['entities'] = [[] for _ in range(len(df))]\n",
    "\n",
    "def align_labels_with_tokens(text, entities):\n",
    "    tokens = tokenizer.tokenize(text)\n",
    "    labels = [\"O\"] * len(tokens)  # Initialize all labels as \"O\"\n",
    "    \n",
    "    for entity in entities:\n",
    "        start, end, label = entity\n",
    "        token_start = None\n",
    "        token_end = None\n",
    "        \n",
    "        # Find token indices corresponding to character positions\n",
    "        for i, token in enumerate(tokens):\n",
    "            if tokenizer.convert_tokens_to_string(token).startswith(text[start:end]):\n",
    "                token_start = i\n",
    "                token_end = i + len(tokenizer.tokenize(text[start:end]))\n",
    "                break\n",
    "        \n",
    "        if token_start is not None and token_end is not None:\n",
    "            labels[token_start] = f\"B-{label}\"  # Begin tag\n",
    "            for i in range(token_start + 1, token_end):\n",
    "                labels[i] = f\"I-{label}\"  # Inside tag\n",
    "    \n",
    "    return labels\n",
    "\n",
    "# Example: Add aligned labels for NER\n",
    "df['aligned_labels'] = df.apply(\n",
    "    lambda row: align_labels_with_tokens(row['instruction'], row['entities']), axis=1\n",
    ")\n",
    "\n",
    "df.to_csv('../dataset/dataset_preprocessed.csv', index=False)\n"
   ]
  },
  {
   "cell_type": "code",
   "execution_count": null,
   "metadata": {},
   "outputs": [],
   "source": []
  }
 ],
 "metadata": {
  "kernelspec": {
   "display_name": "Python 3",
   "language": "python",
   "name": "python3"
  },
  "language_info": {
   "codemirror_mode": {
    "name": "ipython",
    "version": 3
   },
   "file_extension": ".py",
   "mimetype": "text/x-python",
   "name": "python",
   "nbconvert_exporter": "python",
   "pygments_lexer": "ipython3",
   "version": "3.11.9"
  }
 },
 "nbformat": 4,
 "nbformat_minor": 2
}
