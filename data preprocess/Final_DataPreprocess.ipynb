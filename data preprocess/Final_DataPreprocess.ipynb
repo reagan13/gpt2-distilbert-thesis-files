{
 "cells": [
  {
   "cell_type": "code",
   "execution_count": 33,
   "metadata": {},
   "outputs": [
    {
     "name": "stdout",
     "output_type": "stream",
     "text": [
      "Collecting fakerNote: you may need to restart the kernel to use updated packages.\n",
      "\n",
      "  Downloading Faker-35.2.0-py3-none-any.whl.metadata (15 kB)\n",
      "Requirement already satisfied: python-dateutil>=2.4 in c:\\users\\reaga\\appdata\\local\\packages\\pythonsoftwarefoundation.python.3.11_qbz5n2kfra8p0\\localcache\\local-packages\\python311\\site-packages (from faker) (2.8.2)\n",
      "Requirement already satisfied: typing-extensions in c:\\users\\reaga\\appdata\\local\\packages\\pythonsoftwarefoundation.python.3.11_qbz5n2kfra8p0\\localcache\\local-packages\\python311\\site-packages (from faker) (4.12.2)\n",
      "Requirement already satisfied: six>=1.5 in c:\\users\\reaga\\appdata\\local\\packages\\pythonsoftwarefoundation.python.3.11_qbz5n2kfra8p0\\localcache\\local-packages\\python311\\site-packages (from python-dateutil>=2.4->faker) (1.16.0)\n",
      "Downloading Faker-35.2.0-py3-none-any.whl (1.9 MB)\n",
      "   ---------------------------------------- 0.0/1.9 MB ? eta -:--:--\n",
      "   -------------------------------------- - 1.8/1.9 MB 14.3 MB/s eta 0:00:01\n",
      "   ---------------------------------------- 1.9/1.9 MB 13.2 MB/s eta 0:00:00\n",
      "Installing collected packages: faker\n",
      "Successfully installed faker-35.2.0\n"
     ]
    },
    {
     "name": "stderr",
     "output_type": "stream",
     "text": [
      "\n",
      "[notice] A new release of pip is available: 24.3.1 -> 25.0\n",
      "[notice] To update, run: C:\\Users\\reaga\\AppData\\Local\\Microsoft\\WindowsApps\\PythonSoftwareFoundation.Python.3.11_qbz5n2kfra8p0\\python.exe -m pip install --upgrade pip\n"
     ]
    }
   ],
   "source": [
    "%pip install faker\n"
   ]
  },
  {
   "cell_type": "markdown",
   "metadata": {},
   "source": [
    "# Data Preprocess\n"
   ]
  },
  {
   "cell_type": "markdown",
   "metadata": {},
   "source": [
    "## Import Libraries\n"
   ]
  },
  {
   "cell_type": "code",
   "execution_count": 1,
   "metadata": {},
   "outputs": [],
   "source": [
    "\n",
    "# # Data Preprocess for Category Classificatin\n",
    "import pandas as pd\n",
    "from sklearn.model_selection import train_test_split\n",
    "import string\n",
    "from collections import Counter\n",
    "import re\n",
    "import random\n",
    "from faker import Faker\n",
    "\n"
   ]
  },
  {
   "cell_type": "markdown",
   "metadata": {},
   "source": [
    "## Initialize Dataset\n"
   ]
  },
  {
   "cell_type": "code",
   "execution_count": 3,
   "metadata": {},
   "outputs": [],
   "source": [
    "file_path = '../dataset/dataset.csv'\n"
   ]
  },
  {
   "cell_type": "code",
   "execution_count": 4,
   "metadata": {},
   "outputs": [
    {
     "data": {
      "text/html": [
       "<div>\n",
       "<style scoped>\n",
       "    .dataframe tbody tr th:only-of-type {\n",
       "        vertical-align: middle;\n",
       "    }\n",
       "\n",
       "    .dataframe tbody tr th {\n",
       "        vertical-align: top;\n",
       "    }\n",
       "\n",
       "    .dataframe thead th {\n",
       "        text-align: right;\n",
       "    }\n",
       "</style>\n",
       "<table border=\"1\" class=\"dataframe\">\n",
       "  <thead>\n",
       "    <tr style=\"text-align: right;\">\n",
       "      <th></th>\n",
       "      <th>instruction</th>\n",
       "      <th>category</th>\n",
       "      <th>intent</th>\n",
       "      <th>response</th>\n",
       "    </tr>\n",
       "  </thead>\n",
       "  <tbody>\n",
       "    <tr>\n",
       "      <th>0</th>\n",
       "      <td>question about cancelling order {{Order Number}}</td>\n",
       "      <td>ORDER</td>\n",
       "      <td>cancel_order</td>\n",
       "      <td>I've understood you have a question regarding ...</td>\n",
       "    </tr>\n",
       "    <tr>\n",
       "      <th>1</th>\n",
       "      <td>i have a question about cancelling oorder {{Or...</td>\n",
       "      <td>ORDER</td>\n",
       "      <td>cancel_order</td>\n",
       "      <td>I've been informed that you have a question ab...</td>\n",
       "    </tr>\n",
       "    <tr>\n",
       "      <th>2</th>\n",
       "      <td>i need help cancelling puchase {{Order Number}}</td>\n",
       "      <td>ORDER</td>\n",
       "      <td>cancel_order</td>\n",
       "      <td>I can sense that you're seeking assistance wit...</td>\n",
       "    </tr>\n",
       "    <tr>\n",
       "      <th>3</th>\n",
       "      <td>I need to cancel purchase {{Order Number}}</td>\n",
       "      <td>ORDER</td>\n",
       "      <td>cancel_order</td>\n",
       "      <td>I understood that you need assistance with can...</td>\n",
       "    </tr>\n",
       "    <tr>\n",
       "      <th>4</th>\n",
       "      <td>I cannot afford this order, cancel purchase {{...</td>\n",
       "      <td>ORDER</td>\n",
       "      <td>cancel_order</td>\n",
       "      <td>I'm sensitive to the fact that you're facing f...</td>\n",
       "    </tr>\n",
       "  </tbody>\n",
       "</table>\n",
       "</div>"
      ],
      "text/plain": [
       "                                         instruction category        intent  \\\n",
       "0   question about cancelling order {{Order Number}}    ORDER  cancel_order   \n",
       "1  i have a question about cancelling oorder {{Or...    ORDER  cancel_order   \n",
       "2    i need help cancelling puchase {{Order Number}}    ORDER  cancel_order   \n",
       "3         I need to cancel purchase {{Order Number}}    ORDER  cancel_order   \n",
       "4  I cannot afford this order, cancel purchase {{...    ORDER  cancel_order   \n",
       "\n",
       "                                            response  \n",
       "0  I've understood you have a question regarding ...  \n",
       "1  I've been informed that you have a question ab...  \n",
       "2  I can sense that you're seeking assistance wit...  \n",
       "3  I understood that you need assistance with can...  \n",
       "4  I'm sensitive to the fact that you're facing f...  "
      ]
     },
     "execution_count": 4,
     "metadata": {},
     "output_type": "execute_result"
    }
   ],
   "source": [
    "\n",
    "# Load dataset from CSV file\n",
    "df = pd.read_csv(file_path)\n",
    "\n",
    "df = df.drop(columns=['flags'])\n",
    "\n",
    "# Display the first few rows of the dataframe\n",
    "df.head()\n"
   ]
  },
  {
   "cell_type": "code",
   "execution_count": 48,
   "metadata": {},
   "outputs": [
    {
     "name": "stdout",
     "output_type": "stream",
     "text": [
      "Total length of the dataframe: 26872\n",
      "Missing values in each column:\n",
      "instruction    0\n",
      "category       0\n",
      "intent         0\n",
      "response       0\n",
      "dtype: int64\n",
      "Missing values in each row:\n",
      "0        0\n",
      "1        0\n",
      "2        0\n",
      "3        0\n",
      "4        0\n",
      "        ..\n",
      "26867    0\n",
      "26868    0\n",
      "26869    0\n",
      "26870    0\n",
      "26871    0\n",
      "Length: 26872, dtype: int64\n"
     ]
    }
   ],
   "source": [
    "# Check the total length of the dataframe\n",
    "total_length = len(df)\n",
    "print(f\"Total length of the dataframe: {total_length}\")\n",
    "\n",
    "# Check for any missing or empty values in each column\n",
    "missing_values = df.isnull().sum()\n",
    "print(\"Missing values in each column:\")\n",
    "print(missing_values)\n",
    "\n",
    "# Check for any missing or empty values in each row\n",
    "missing_values_rows = df.isnull().sum(axis=1)\n",
    "print(\"Missing values in each row:\")\n",
    "print(missing_values_rows)\n"
   ]
  },
  {
   "cell_type": "markdown",
   "metadata": {},
   "source": [
    "## Checking of Dataset\n"
   ]
  },
  {
   "cell_type": "code",
   "execution_count": 49,
   "metadata": {},
   "outputs": [
    {
     "name": "stdout",
     "output_type": "stream",
     "text": [
      "Unique intents:\n",
      "['cancel_order' 'change_order' 'change_shipping_address'\n",
      " 'check_cancellation_fee' 'check_invoice' 'check_payment_methods'\n",
      " 'check_refund_policy' 'complaint' 'contact_customer_service'\n",
      " 'contact_human_agent' 'create_account' 'delete_account'\n",
      " 'delivery_options' 'delivery_period' 'edit_account' 'get_invoice'\n",
      " 'get_refund' 'newsletter_subscription' 'payment_issue' 'place_order'\n",
      " 'recover_password' 'registration_problems' 'review'\n",
      " 'set_up_shipping_address' 'switch_account' 'track_order' 'track_refund']\n",
      "Total unique intents: 27\n",
      "\n",
      "Unique categories:\n",
      "['ORDER' 'SHIPPING' 'CANCEL' 'INVOICE' 'PAYMENT' 'REFUND' 'FEEDBACK'\n",
      " 'CONTACT' 'ACCOUNT' 'DELIVERY' 'SUBSCRIPTION']\n",
      "Total unique categories: 11\n"
     ]
    }
   ],
   "source": [
    "unique_intents = df['intent'].unique()\n",
    "unique_categories = df['category'].unique()\n",
    "\n",
    "print(\"Unique intents:\")\n",
    "print(unique_intents)\n",
    "print(\"Total unique intents:\", len(unique_intents))\n",
    "\n",
    "print(\"\\nUnique categories:\")\n",
    "print(unique_categories)\n",
    "print(\"Total unique categories:\", len(unique_categories))\n"
   ]
  },
  {
   "cell_type": "markdown",
   "metadata": {},
   "source": [
    "## Category and Intent\n"
   ]
  },
  {
   "cell_type": "markdown",
   "metadata": {},
   "source": [
    "Intent\n"
   ]
  },
  {
   "cell_type": "code",
   "execution_count": 50,
   "metadata": {},
   "outputs": [
    {
     "name": "stdout",
     "output_type": "stream",
     "text": [
      "Unique intents:\n",
      "['cancel_order' 'change_order' 'change_shipping_address'\n",
      " 'check_cancellation_fee' 'check_invoice' 'check_payment_methods'\n",
      " 'check_refund_policy' 'complaint' 'contact_customer_service'\n",
      " 'contact_human_agent' 'create_account' 'delete_account'\n",
      " 'delivery_options' 'delivery_period' 'edit_account' 'get_invoice'\n",
      " 'get_refund' 'newsletter_subscription' 'payment_issue' 'place_order'\n",
      " 'recover_password' 'registration_problems' 'review'\n",
      " 'set_up_shipping_address' 'switch_account' 'track_order' 'track_refund']\n",
      "\n",
      "Intent distribution:\n",
      "intent\n",
      "edit_account                1000\n",
      "switch_account              1000\n",
      "check_invoice               1000\n",
      "complaint                   1000\n",
      "contact_customer_service    1000\n",
      "delivery_period              999\n",
      "registration_problems        999\n",
      "check_payment_methods        999\n",
      "contact_human_agent          999\n",
      "payment_issue                999\n",
      "newsletter_subscription      999\n",
      "get_invoice                  999\n",
      "place_order                  998\n",
      "cancel_order                 998\n",
      "track_refund                 998\n",
      "change_order                 997\n",
      "get_refund                   997\n",
      "create_account               997\n",
      "check_refund_policy          997\n",
      "review                       997\n",
      "set_up_shipping_address      997\n",
      "delivery_options             995\n",
      "delete_account               995\n",
      "recover_password             995\n",
      "track_order                  995\n",
      "change_shipping_address      973\n",
      "check_cancellation_fee       950\n",
      "Name: count, dtype: int64\n",
      "Total unique intents: 27\n"
     ]
    }
   ],
   "source": [
    "# Get the unique intents\n",
    "unique_intents_list = df['intent'].unique()\n",
    "\n",
    "# Print the unique intents\n",
    "print(\"Unique intents:\")\n",
    "print(unique_intents_list)\n",
    "\n",
    "# Get the distribution of intents\n",
    "intent_distribution = df['intent'].value_counts()\n",
    "\n",
    "# Print the distribution of intents\n",
    "print(\"\\nIntent distribution:\")\n",
    "print(intent_distribution)\n",
    "\n",
    "print(\"Total unique intents:\", len(unique_intents_list))\n"
   ]
  },
  {
   "cell_type": "markdown",
   "metadata": {},
   "source": [
    "Category\n"
   ]
  },
  {
   "cell_type": "code",
   "execution_count": 51,
   "metadata": {},
   "outputs": [
    {
     "name": "stdout",
     "output_type": "stream",
     "text": [
      "Unique categories:\n",
      "['ORDER' 'SHIPPING' 'CANCEL' 'INVOICE' 'PAYMENT' 'REFUND' 'FEEDBACK'\n",
      " 'CONTACT' 'ACCOUNT' 'DELIVERY' 'SUBSCRIPTION']\n",
      "\n",
      "Category distribution:\n",
      "category\n",
      "ACCOUNT         5986\n",
      "ORDER           3988\n",
      "REFUND          2992\n",
      "INVOICE         1999\n",
      "CONTACT         1999\n",
      "PAYMENT         1998\n",
      "FEEDBACK        1997\n",
      "DELIVERY        1994\n",
      "SHIPPING        1970\n",
      "SUBSCRIPTION     999\n",
      "CANCEL           950\n",
      "Name: count, dtype: int64\n",
      "Total unique categories: 11\n"
     ]
    }
   ],
   "source": [
    "# Get the unique categories\n",
    "unique_categories_list = df['category'].unique()\n",
    "\n",
    "# Print the unique categories\n",
    "print(\"Unique categories:\")\n",
    "print(unique_categories_list)\n",
    "\n",
    "# Get the distribution of categories\n",
    "category_distribution = df['category'].value_counts()\n",
    "\n",
    "# Print the distribution of categories\n",
    "print(\"\\nCategory distribution:\")\n",
    "print(category_distribution)\n",
    "\n",
    "print(\"Total unique categories:\", len(unique_categories_list))\n"
   ]
  },
  {
   "cell_type": "code",
   "execution_count": 52,
   "metadata": {},
   "outputs": [
    {
     "name": "stdout",
     "output_type": "stream",
     "text": [
      "                                             instruction category  \\\n",
      "0       question about cancelling order {{order number}}    ORDER   \n",
      "1      i have a question about cancelling oorder {{or...    ORDER   \n",
      "2        i need help cancelling puchase {{order number}}    ORDER   \n",
      "3             i need to cancel purchase {{order number}}    ORDER   \n",
      "4      i cannot afford this order, cancel purchase {{...    ORDER   \n",
      "...                                                  ...      ...   \n",
      "26867  i am waiting for a rebate of {{refund amount}}...   REFUND   \n",
      "26868  how to see if there is anything wrong with my ...   REFUND   \n",
      "26869  i'm waiting for a reimbjrsement of {{currency ...   REFUND   \n",
      "26870  i don't know what to do to see my reimbursemen...   REFUND   \n",
      "26871  i need to know if there is anything new on the...   REFUND   \n",
      "\n",
      "             intent                                           response  \n",
      "0      cancel_order  I've understood you have a question regarding ...  \n",
      "1      cancel_order  I've been informed that you have a question ab...  \n",
      "2      cancel_order  I can sense that you're seeking assistance wit...  \n",
      "3      cancel_order  I understood that you need assistance with can...  \n",
      "4      cancel_order  I'm sensitive to the fact that you're facing f...  \n",
      "...             ...                                                ...  \n",
      "26867  track_refund  Thank you for sharing your situation regarding...  \n",
      "26868  track_refund  Ensuring the accuracy of your restitution is o...  \n",
      "26869  track_refund  Firstly, I genuinely understand the importance...  \n",
      "26870  track_refund  I've understood you're unsure about how to che...  \n",
      "26871  track_refund  It's completely understandable that you want t...  \n",
      "\n",
      "[26872 rows x 4 columns]\n"
     ]
    }
   ],
   "source": [
    "# Convert the text in the 'instruction' and 'intent' columns to lowercase\n",
    "df['instruction'] = df['instruction'].str.lower()\n",
    "df['intent'] = df['intent'].str.lower()\n",
    "\n",
    "# Display the resulting DataFrame\n",
    "print(df)\n",
    "\n"
   ]
  },
  {
   "cell_type": "markdown",
   "metadata": {},
   "source": [
    "## Entity\n"
   ]
  },
  {
   "cell_type": "markdown",
   "metadata": {},
   "source": [
    "### Placeholder\n"
   ]
  },
  {
   "cell_type": "markdown",
   "metadata": {},
   "source": [
    "Checking placeholder\n"
   ]
  },
  {
   "cell_type": "code",
   "execution_count": 55,
   "metadata": {},
   "outputs": [
    {
     "name": "stdout",
     "output_type": "stream",
     "text": [
      "Rows with placeholders: 0\n",
      "\n",
      "Initial Distribution of Placeholders:\n",
      "Empty DataFrame\n",
      "Columns: [count]\n",
      "Index: []\n",
      "\n",
      "Total rows in the dataset: 26872\n",
      "\n",
      "Missing values per column:\n",
      "instruction        0\n",
      "category           0\n",
      "intent             0\n",
      "response           0\n",
      "has_placeholder    0\n",
      "ner_labels         0\n",
      "dtype: int64\n",
      "\n",
      "Updated Distribution of Placeholders (After Removing Lowest Occurrences):\n",
      "Empty DataFrame\n",
      "Columns: [count]\n",
      "Index: []\n"
     ]
    }
   ],
   "source": [
    "import pandas as pd\n",
    "import re\n",
    "from collections import Counter\n",
    "\n",
    "# Detect rows with placeholders\n",
    "df['has_placeholder'] = df['instruction'].str.contains(r'\\{\\{.*?\\}\\}')\n",
    "\n",
    "# Count rows with placeholders\n",
    "rows_with_placeholders = df['has_placeholder'].sum()\n",
    "\n",
    "# Extract placeholders function\n",
    "def extract_placeholders(text):\n",
    "    return re.findall(r'\\{\\{(.*?)\\}\\}', text)\n",
    "\n",
    "# Apply function and get all placeholders\n",
    "placeholders = df[df['has_placeholder']]['instruction'].apply(extract_placeholders).explode()\n",
    "\n",
    "# Count occurrences of each placeholder\n",
    "placeholder_counts = Counter(placeholders)\n",
    "\n",
    "# Convert to DataFrame\n",
    "placeholder_df = pd.DataFrame.from_dict(placeholder_counts, orient='index', columns=['count'])\n",
    "\n",
    "# Display initial results\n",
    "print(f\"Rows with placeholders: {rows_with_placeholders}\")\n",
    "print(\"\\nInitial Distribution of Placeholders:\")\n",
    "print(placeholder_df.sort_values(by='count', ascending=False))\n",
    "\n",
    "# Print total rows and missing values\n",
    "print(\"\\nTotal rows in the dataset:\", len(df))\n",
    "print(\"\\nMissing values per column:\")\n",
    "print(df.isnull().sum())\n",
    "\n",
    "# Remove placeholders with the lowest occurrence\n",
    "if not placeholder_df.empty:\n",
    "    min_count = placeholder_df['count'].min()  # Find the lowest count\n",
    "    placeholder_df = placeholder_df[placeholder_df['count'] > min_count]  # Keep only placeholders with higher counts\n",
    "\n",
    "# Display updated results\n",
    "print(\"\\nUpdated Distribution of Placeholders (After Removing Lowest Occurrences):\")\n",
    "print(placeholder_df.sort_values(by='count', ascending=False))\n"
   ]
  },
  {
   "cell_type": "code",
   "execution_count": null,
   "metadata": {},
   "outputs": [],
   "source": []
  },
  {
   "cell_type": "markdown",
   "metadata": {},
   "source": []
  },
  {
   "cell_type": "code",
   "execution_count": null,
   "metadata": {},
   "outputs": [
    {
     "name": "stdout",
     "output_type": "stream",
     "text": [
      "Collecting faker\n",
      "  Downloading Faker-35.2.0-py3-none-any.whl.metadata (15 kB)\n",
      "Requirement already satisfied: python-dateutil>=2.4 in /usr/local/lib/python3.11/dist-packages (from faker) (2.8.2)\n",
      "Requirement already satisfied: typing-extensions in /usr/local/lib/python3.11/dist-packages (from faker) (4.12.2)\n",
      "Requirement already satisfied: six>=1.5 in /usr/local/lib/python3.11/dist-packages (from python-dateutil>=2.4->faker) (1.17.0)\n",
      "Downloading Faker-35.2.0-py3-none-any.whl (1.9 MB)\n",
      "\u001b[2K   \u001b[90m━━━━━━━━━━━━━━━━━━━━━━━━━━━━━━━━━━━━━━━━\u001b[0m \u001b[32m1.9/1.9 MB\u001b[0m \u001b[31m23.9 MB/s\u001b[0m eta \u001b[36m0:00:00\u001b[0m\n",
      "\u001b[?25hInstalling collected packages: faker\n",
      "Successfully installed faker-35.2.0\n"
     ]
    }
   ],
   "source": [
    "!pip install faker\n",
    "\n"
   ]
  },
  {
   "cell_type": "code",
   "execution_count": null,
   "metadata": {},
   "outputs": [
    {
     "name": "stdout",
     "output_type": "stream",
     "text": [
      "Collecting seqeval\n",
      "  Downloading seqeval-1.2.2.tar.gz (43 kB)\n",
      "\u001b[?25l     \u001b[90m━━━━━━━━━━━━━━━━━━━━━━━━━━━━━━━━━━━━━━━━\u001b[0m \u001b[32m0.0/43.6 kB\u001b[0m \u001b[31m?\u001b[0m eta \u001b[36m-:--:--\u001b[0m\r\u001b[2K     \u001b[90m━━━━━━━━━━━━━━━━━━━━━━━━━━━━━━━━━━━━━━━━\u001b[0m \u001b[32m43.6/43.6 kB\u001b[0m \u001b[31m2.3 MB/s\u001b[0m eta \u001b[36m0:00:00\u001b[0m\n",
      "\u001b[?25h  Preparing metadata (setup.py) ... \u001b[?25l\u001b[?25hdone\n",
      "Requirement already satisfied: numpy>=1.14.0 in /usr/local/lib/python3.11/dist-packages (from seqeval) (1.26.4)\n",
      "Requirement already satisfied: scikit-learn>=0.21.3 in /usr/local/lib/python3.11/dist-packages (from seqeval) (1.6.1)\n",
      "Requirement already satisfied: scipy>=1.6.0 in /usr/local/lib/python3.11/dist-packages (from scikit-learn>=0.21.3->seqeval) (1.13.1)\n",
      "Requirement already satisfied: joblib>=1.2.0 in /usr/local/lib/python3.11/dist-packages (from scikit-learn>=0.21.3->seqeval) (1.4.2)\n",
      "Requirement already satisfied: threadpoolctl>=3.1.0 in /usr/local/lib/python3.11/dist-packages (from scikit-learn>=0.21.3->seqeval) (3.5.0)\n",
      "Building wheels for collected packages: seqeval\n",
      "  Building wheel for seqeval (setup.py) ... \u001b[?25l\u001b[?25hdone\n",
      "  Created wheel for seqeval: filename=seqeval-1.2.2-py3-none-any.whl size=16161 sha256=032137c1d515880fb4279680e764e63ede60905588cd4168312e448b35a3854a\n",
      "  Stored in directory: /root/.cache/pip/wheels/bc/92/f0/243288f899c2eacdfa8c5f9aede4c71a9bad0ee26a01dc5ead\n",
      "Successfully built seqeval\n",
      "Installing collected packages: seqeval\n",
      "Successfully installed seqeval-1.2.2\n"
     ]
    }
   ],
   "source": [
    "!pip install seqeval\n"
   ]
  },
  {
   "cell_type": "markdown",
   "metadata": {},
   "source": [
    "# Data Preprocessing\n"
   ]
  },
  {
   "cell_type": "markdown",
   "metadata": {},
   "source": [
    "## Load Dataset\n"
   ]
  },
  {
   "cell_type": "code",
   "execution_count": null,
   "metadata": {},
   "outputs": [
    {
     "name": "stdout",
     "output_type": "stream",
     "text": [
      "                                                        re everything is in order  \\\n",
      "BLZ  I am waiting for a reimburswment of {{Currency ...                    REFUND   \n",
      "BL   I want assistance to see the status of the comp...                    REFUND   \n",
      "BLQ  i expect a rebate of {{Refund Amount}} dollars                        REFUND   \n",
      "BELQ i do not know what to do to track my compensation                     REFUND   \n",
      "BQ   i expect a refund of {{Currency Symbol}}{{Refun...                    REFUND   \n",
      "\n",
      "                                                         I recommend contacting our customer support team directly. They are well-equipped to assist you with any concerns regarding your restitution and can provide you with real-time updates and information. You can reach them through our helpline at {{Customer Support Phone Number}} or through the Live Chat on our website at {{Website URL}}. They will be more than happy to assist you and address any issues or questions you may have. Rest assured  \\\n",
      "BLZ  I am waiting for a reimburswment of {{Currency ...                                       track_refund                                                                                                                                                                                                                                                                                                                                                                                                             \n",
      "BL   I want assistance to see the status of the comp...                                       track_refund                                                                                                                                                                                                                                                                                                                                                                                                             \n",
      "BLQ  i expect a rebate of {{Refund Amount}} dollars                                           track_refund                                                                                                                                                                                                                                                                                                                                                                                                             \n",
      "BELQ i do not know what to do to track my compensation                                        track_refund                                                                                                                                                                                                                                                                                                                                                                                                             \n",
      "BQ   i expect a refund of {{Currency Symbol}}{{Refun...                                       track_refund                                                                                                                                                                                                                                                                                                                                                                                                             \n",
      "\n",
      "                                                         we are dedicated to upholding a high standard of service and will do everything we can to resolve any concerns you may have about your restitution.\"  \n",
      "BLZ  I am waiting for a reimburswment of {{Currency ...  We understand how important it is for you to r...                                                                                                     \n",
      "BL   I want assistance to see the status of the comp...  Positively! I understand how important it is f...                                                                                                     \n",
      "BLQ  i expect a rebate of {{Refund Amount}} dollars      Thank you for bringing up your rebate expectat...                                                                                                     \n",
      "BELQ i do not know what to do to track my compensation   I gather that you're unsure about how to track...                                                                                                     \n",
      "BQ   i expect a refund of {{Currency Symbol}}{{Refun...  Firstly, I truly understand how important the ...                                                                                                     \n"
     ]
    }
   ],
   "source": [
    "import pandas as pd\n",
    "\n",
    "# Load the dataset\n",
    "df = pd.read_csv('dataset.csv')\n",
    "\n",
    "# Inspect the dataset\n",
    "print(df.head())\n",
    "\n"
   ]
  },
  {
   "cell_type": "code",
   "execution_count": null,
   "metadata": {},
   "outputs": [],
   "source": []
  },
  {
   "cell_type": "markdown",
   "metadata": {},
   "source": [
    "## Text Cleaning\n"
   ]
  },
  {
   "cell_type": "code",
   "execution_count": null,
   "metadata": {},
   "outputs": [
    {
     "name": "stdout",
     "output_type": "stream",
     "text": [
      "Column 'instruction' not found in the DataFrame.\n",
      "                                                        re everything is in order  \\\n",
      "BLZ  I am waiting for a reimburswment of {{Currency ...                    REFUND   \n",
      "BL   I want assistance to see the status of the comp...                    REFUND   \n",
      "BLQ  i expect a rebate of {{Refund Amount}} dollars                        REFUND   \n",
      "BELQ i do not know what to do to track my compensation                     REFUND   \n",
      "BQ   i expect a refund of {{Currency Symbol}}{{Refun...                    REFUND   \n",
      "\n",
      "                                                         i recommend contacting our customer support team directly. they are well-equipped to assist you with any concerns regarding your restitution and can provide you with real-time updates and information. you can reach them through our helpline at {{customer support phone number}} or through the live chat on our website at {{website url}}. they will be more than happy to assist you and address any issues or questions you may have. rest assured  \\\n",
      "BLZ  I am waiting for a reimburswment of {{Currency ...                                       track_refund                                                                                                                                                                                                                                                                                                                                                                                                             \n",
      "BL   I want assistance to see the status of the comp...                                       track_refund                                                                                                                                                                                                                                                                                                                                                                                                             \n",
      "BLQ  i expect a rebate of {{Refund Amount}} dollars                                           track_refund                                                                                                                                                                                                                                                                                                                                                                                                             \n",
      "BELQ i do not know what to do to track my compensation                                        track_refund                                                                                                                                                                                                                                                                                                                                                                                                             \n",
      "BQ   i expect a refund of {{Currency Symbol}}{{Refun...                                       track_refund                                                                                                                                                                                                                                                                                                                                                                                                             \n",
      "\n",
      "                                                         we are dedicated to upholding a high standard of service and will do everything we can to resolve any concerns you may have about your restitution.\"  \n",
      "BLZ  I am waiting for a reimburswment of {{Currency ...  We understand how important it is for you to r...                                                                                                     \n",
      "BL   I want assistance to see the status of the comp...  Positively! I understand how important it is f...                                                                                                     \n",
      "BLQ  i expect a rebate of {{Refund Amount}} dollars      Thank you for bringing up your rebate expectat...                                                                                                     \n",
      "BELQ i do not know what to do to track my compensation   I gather that you're unsure about how to track...                                                                                                     \n",
      "BQ   i expect a refund of {{Currency Symbol}}{{Refun...  Firstly, I truly understand how important the ...                                                                                                     \n"
     ]
    }
   ],
   "source": [
    "# prompt: lowercase all column\n",
    "\n",
    "# prompt: Remove special characters. include import librarie dont implement this\n",
    "\n",
    "import re\n",
    "\n",
    "def remove_special_characters(text):\n",
    "    # Keep {{ and }}, remove other special characters\n",
    "    text = re.sub(r'(?<!{){(?!{)|(?<!})}(?!})|[^\\w\\s{}]', '', text)\n",
    "    return text\n",
    "\n",
    "# Example usage (assuming you have a 'text' column in your DataFrame)\n",
    "if 'instruction' in df.columns:\n",
    "    df['instruction'] = df['instruction'].apply(remove_special_characters)\n",
    "else:\n",
    "    print(\"Column 'instruction' not found in the DataFrame.\")\n",
    "\n",
    "\n",
    "\n",
    "# Lowercase all column names\n",
    "df.columns = df.columns.str.lower()\n",
    "\n",
    "print(df.head())\n"
   ]
  },
  {
   "cell_type": "markdown",
   "metadata": {},
   "source": [
    "## NER\n"
   ]
  },
  {
   "cell_type": "code",
   "execution_count": null,
   "metadata": {},
   "outputs": [
    {
     "name": "stdout",
     "output_type": "stream",
     "text": [
      "Rows with placeholders: 6670\n",
      "\n",
      "Initial Distribution of Placeholders:\n",
      "                  count\n",
      "Order Number       2907\n",
      "Account Type       1011\n",
      "Person Name         887\n",
      "Account Category    822\n",
      "Refund Amount       624\n",
      "Currency Symbol     372\n",
      "Delivery City       234\n",
      "Delivery Country    177\n",
      "Invoice Number        8\n",
      "\n",
      "Total rows in the dataset: 26872\n",
      "\n",
      "Missing values per column:\n",
      "flags              0\n",
      "instruction        0\n",
      "category           0\n",
      "intent             0\n",
      "response           0\n",
      "has_placeholder    0\n",
      "dtype: int64\n",
      "\n",
      "Updated Distribution of Placeholders (After Removing Lowest Occurrences):\n",
      "                  count\n",
      "Order Number       2907\n",
      "Account Type       1011\n",
      "Person Name         887\n",
      "Account Category    822\n",
      "Refund Amount       624\n",
      "Currency Symbol     372\n",
      "Delivery City       234\n",
      "Delivery Country    177\n"
     ]
    }
   ],
   "source": [
    "import pandas as pd\n",
    "import re\n",
    "from collections import Counter\n",
    "\n",
    "\n",
    "# Detect rows with placeholders\n",
    "df['has_placeholder'] = df['instruction'].str.contains(r'\\{\\{.*?\\}\\}')\n",
    "\n",
    "# Count rows with placeholders\n",
    "rows_with_placeholders = df['has_placeholder'].sum()\n",
    "\n",
    "# Extract placeholders function\n",
    "def extract_placeholders(text):\n",
    "    return re.findall(r'\\{\\{(.*?)\\}\\}', text)\n",
    "\n",
    "# Apply function and get all placeholders\n",
    "placeholders = df[df['has_placeholder']]['instruction'].apply(extract_placeholders).explode()\n",
    "\n",
    "# Count occurrences of each placeholder\n",
    "placeholder_counts = Counter(placeholders)\n",
    "\n",
    "# Convert to DataFrame\n",
    "placeholder_df = pd.DataFrame.from_dict(placeholder_counts, orient='index', columns=['count'])\n",
    "\n",
    "# Display initial results\n",
    "print(f\"Rows with placeholders: {rows_with_placeholders}\")\n",
    "print(\"\\nInitial Distribution of Placeholders:\")\n",
    "print(placeholder_df.sort_values(by='count', ascending=False))\n",
    "\n",
    "# Print total rows and missing values\n",
    "print(\"\\nTotal rows in the dataset:\", len(df))\n",
    "print(\"\\nMissing values per column:\")\n",
    "print(df.isnull().sum())\n",
    "\n",
    "# Remove placeholders with the lowest occurrence\n",
    "if not placeholder_df.empty:\n",
    "    min_count = placeholder_df['count'].min()  # Find the lowest count\n",
    "    placeholder_df = placeholder_df[placeholder_df['count'] > min_count]  # Keep only placeholders with higher counts\n",
    "\n",
    "# Display updated results\n",
    "print(\"\\nUpdated Distribution of Placeholders (After Removing Lowest Occurrences):\")\n",
    "print(placeholder_df.sort_values(by='count', ascending=False))\n"
   ]
  },
  {
   "cell_type": "code",
   "execution_count": null,
   "metadata": {},
   "outputs": [
    {
     "name": "stdout",
     "output_type": "stream",
     "text": [
      "   flags                                        instruction category  \\\n",
      "0      B          question about cancelling order ORD-74965    ORDER   \n",
      "1    BQZ  i have a question about cancelling oorder ORD-...    ORDER   \n",
      "2   BLQZ           i need help cancelling puchase ORD-94215    ORDER   \n",
      "3     BL                I need to cancel purchase ORD-84946    ORDER   \n",
      "4  BCELN  I cannot afford this order cancel purchase ORD...    ORDER   \n",
      "\n",
      "         intent                                           response  \\\n",
      "0  cancel_order  I've understood you have a question regarding ...   \n",
      "1  cancel_order  I've been informed that you have a question ab...   \n",
      "2  cancel_order  I can sense that you're seeking assistance wit...   \n",
      "3  cancel_order  I understood that you need assistance with can...   \n",
      "4  cancel_order  I'm sensitive to the fact that you're facing f...   \n",
      "\n",
      "   has_placeholder                                        ner_labels  \n",
      "0             True  [{'text': 'ORD-74965', 'label': 'order_number'}]  \n",
      "1             True  [{'text': 'ORD-78422', 'label': 'order_number'}]  \n",
      "2             True  [{'text': 'ORD-94215', 'label': 'order_number'}]  \n",
      "3             True  [{'text': 'ORD-84946', 'label': 'order_number'}]  \n",
      "4             True  [{'text': 'ORD-66605', 'label': 'order_number'}]  \n"
     ]
    }
   ],
   "source": [
    "import re\n",
    "import pandas as pd\n",
    "from faker import Faker\n",
    "\n",
    "# Initialize Faker\n",
    "fake = Faker()\n",
    "\n",
    "# Define synthetic data generators\n",
    "data_generators = {\n",
    "    'order number': lambda: fake.unique.bothify(text='ORD-#####'),\n",
    "    'account type': lambda: fake.random_element(elements=('Business', 'Personal')),\n",
    "    'person name': lambda: fake.name(),\n",
    "    'account category': lambda: fake.random_element(elements=('Category A', 'Category B', 'Category C')),\n",
    "    'refund amount': lambda: f\"${fake.random_number(digits=3)}.00\",\n",
    "    'currency symbol': lambda: fake.currency_symbol(),\n",
    "    'delivery city': lambda: fake.city(),\n",
    "    'delivery country': lambda: fake.country(),\n",
    "    'invoice number': lambda: fake.unique.bothify(text='INV###')\n",
    "}\n",
    "\n",
    "# Function to replace placeholders and track NER labels\n",
    "def replace_placeholders(text, data_generators):\n",
    "    if pd.isnull(text):\n",
    "        return text, []  # Return empty list for NER labels\n",
    "\n",
    "    placeholder_pattern = re.compile(r'\\{\\{(.*?)\\}\\}')  # Match placeholders {{...}}\n",
    "    placeholders = placeholder_pattern.findall(text)\n",
    "    ner_labels = []  # Store entity labels\n",
    "\n",
    "    for placeholder in placeholders:\n",
    "        placeholder_cleaned = placeholder.strip().lower()  # Normalize case\n",
    "        if placeholder_cleaned in data_generators:\n",
    "            replacement_value = data_generators[placeholder_cleaned]()  # Generate synthetic data\n",
    "            text = text.replace(f'{{{{{placeholder}}}}}', replacement_value, 1)  # Replace placeholder\n",
    "\n",
    "            # Append entity info in required format\n",
    "            ner_labels.append({'text': replacement_value, 'label': placeholder_cleaned.replace(\" \", \"_\")})\n",
    "\n",
    "    return text, ner_labels\n",
    "\n",
    "# Apply the placeholder replacement function\n",
    "df[['instruction', 'ner_labels']] = df['instruction'].apply(\n",
    "    lambda x: pd.Series(replace_placeholders(x, data_generators))\n",
    ")\n",
    "\n",
    "# Ensure all rows are retained, even if ner_labels is empty\n",
    "df['ner_labels'] = df.apply(lambda row: row['ner_labels'] if row['has_placeholder'] else [], axis=1)\n",
    "\n",
    "print(df.head())\n"
   ]
  },
  {
   "cell_type": "code",
   "execution_count": null,
   "metadata": {},
   "outputs": [],
   "source": []
  },
  {
   "cell_type": "markdown",
   "metadata": {},
   "source": [
    "## Function to Create BIO Tags\n"
   ]
  },
  {
   "cell_type": "code",
   "execution_count": null,
   "metadata": {},
   "outputs": [
    {
     "name": "stdout",
     "output_type": "stream",
     "text": [
      "                                             instruction  \\\n",
      "0              question about cancelling order ORD-74965   \n",
      "1      i have a question about cancelling oorder ORD-...   \n",
      "2               i need help cancelling puchase ORD-94215   \n",
      "3                    I need to cancel purchase ORD-84946   \n",
      "4      I cannot afford this order cancel purchase ORD...   \n",
      "...                                                  ...   \n",
      "26867       I am waiting for a rebate of $428.00 dollars   \n",
      "26868  how to see if there is anything wrong with my ...   \n",
      "26869        Im waiting for a reimbjrsement of VT$311.00   \n",
      "26870  I dont know what to do to see my reimbursement...   \n",
      "26871  I need to know if there is anything new on the...   \n",
      "\n",
      "                                              ner_labels  \\\n",
      "0       [{'text': 'ORD-74965', 'label': 'order_number'}]   \n",
      "1       [{'text': 'ORD-78422', 'label': 'order_number'}]   \n",
      "2       [{'text': 'ORD-94215', 'label': 'order_number'}]   \n",
      "3       [{'text': 'ORD-84946', 'label': 'order_number'}]   \n",
      "4       [{'text': 'ORD-66605', 'label': 'order_number'}]   \n",
      "...                                                  ...   \n",
      "26867    [{'text': '$428.00', 'label': 'refund_amount'}]   \n",
      "26868                                                 []   \n",
      "26869  [{'text': 'VT', 'label': 'currency_symbol'}, {...   \n",
      "26870                                                 []   \n",
      "26871                                                 []   \n",
      "\n",
      "                                                  tokens  \\\n",
      "0      [question, about, cancelling, order, ORD, -, 7...   \n",
      "1      [i, have, a, question, about, cancelling, oord...   \n",
      "2      [i, need, help, cancelling, puchase, ORD, -, 9...   \n",
      "3         [I, need, to, cancel, purchase, ORD, -, 84946]   \n",
      "4      [I, cannot, afford, this, order, cancel, purch...   \n",
      "...                                                  ...   \n",
      "26867  [I, am, waiting, for, a, rebate, of, $, 428, ....   \n",
      "26868  [how, to, see, if, there, is, anything, wrong,...   \n",
      "26869  [Im, waiting, for, a, reimbjrsement, of, VT, $...   \n",
      "26870  [I, dont, know, what, to, do, to, see, my, rei...   \n",
      "26871  [I, need, to, know, if, there, is, anything, n...   \n",
      "\n",
      "                                                    tags  \n",
      "0      [O, O, O, O, B-order_number, I-order_number, I...  \n",
      "1      [O, O, O, O, O, O, O, B-order_number, I-order_...  \n",
      "2      [O, O, O, O, O, B-order_number, I-order_number...  \n",
      "3      [O, O, O, O, O, B-order_number, I-order_number...  \n",
      "4      [O, O, O, O, O, O, O, B-order_number, I-order_...  \n",
      "...                                                  ...  \n",
      "26867  [O, O, O, O, O, O, O, B-refund_amount, I-refun...  \n",
      "26868                  [O, O, O, O, O, O, O, O, O, O, O]  \n",
      "26869  [O, O, O, O, O, O, B-currency_symbol, B-refund...  \n",
      "26870                  [O, O, O, O, O, O, O, O, O, O, O]  \n",
      "26871               [O, O, O, O, O, O, O, O, O, O, O, O]  \n",
      "\n",
      "[26872 rows x 4 columns]\n"
     ]
    }
   ],
   "source": [
    "import re\n",
    "\n",
    "# Function to generate BIO tags\n",
    "def generate_bio_tags(instruction, ner_labels):\n",
    "    # Tokenize the instruction into words using regex to handle punctuation\n",
    "    tokens = re.findall(r'\\w+|[^\\w\\s]', instruction)\n",
    "\n",
    "    # Initialize BIO tags as 'O' (Outside) for all tokens\n",
    "    bio_tags = ['O'] * len(tokens)\n",
    "\n",
    "    # Process each entity in ner_labels\n",
    "    for entity in ner_labels:\n",
    "        entity_text = entity['text']\n",
    "        entity_label = entity['label']\n",
    "\n",
    "        # Tokenize the entity text using the same regex\n",
    "        entity_tokens = re.findall(r'\\w+|[^\\w\\s]', entity_text)\n",
    "\n",
    "        # Find the start index of the entity in the instruction\n",
    "        try:\n",
    "            # Create a sliding window to find the entity tokens in the instruction tokens\n",
    "            for i in range(len(tokens) - len(entity_tokens) + 1):\n",
    "                if tokens[i:i + len(entity_tokens)] == entity_tokens:\n",
    "                    # Assign BIO tags\n",
    "                    for j in range(len(entity_tokens)):\n",
    "                        if j == 0:\n",
    "                            bio_tags[i + j] = f\"B-{entity_label}\"  # Beginning of the entity\n",
    "                        else:\n",
    "                            bio_tags[i + j] = f\"I-{entity_label}\"  # Inside the entity\n",
    "                    break  # Stop after finding the first match\n",
    "        except Exception as e:\n",
    "            # If the entity text is not found in the tokens, log the error\n",
    "            print(f\"Error processing entity '{entity_text}' in instruction: {instruction}\")\n",
    "            continue\n",
    "\n",
    "    return tokens, bio_tags\n",
    "\n",
    "# Apply the BIO tag generation function\n",
    "df['bio_tags'] = df.apply(lambda row: generate_bio_tags(row['instruction'], row['ner_labels']), axis=1)\n",
    "\n",
    "# Split the result into separate columns for tokens and tags\n",
    "df[['tokens', 'tags']] = pd.DataFrame(df['bio_tags'].tolist(), index=df.index)\n",
    "\n",
    "# Drop the intermediate 'bio_tags' column\n",
    "df.drop(columns=['bio_tags'], inplace=True)\n",
    "\n",
    "# Display the final DataFrame\n",
    "print(df[['instruction', 'ner_labels', 'tokens', 'tags']])\n"
   ]
  },
  {
   "cell_type": "code",
   "execution_count": null,
   "metadata": {},
   "outputs": [],
   "source": [
    "\n",
    "df.to_csv('output.csv', index=False)\n"
   ]
  },
  {
   "cell_type": "markdown",
   "metadata": {},
   "source": [
    "## Label Encoding\n"
   ]
  },
  {
   "cell_type": "code",
   "execution_count": null,
   "metadata": {},
   "outputs": [
    {
     "name": "stdout",
     "output_type": "stream",
     "text": [
      "Original Dataset:\n",
      "   flags                                        instruction category  \\\n",
      "0      B          question about cancelling order ORD-74965    ORDER   \n",
      "1    BQZ  i have a question about cancelling oorder ORD-...    ORDER   \n",
      "2   BLQZ           i need help cancelling puchase ORD-94215    ORDER   \n",
      "3     BL                I need to cancel purchase ORD-84946    ORDER   \n",
      "4  BCELN  I cannot afford this order cancel purchase ORD...    ORDER   \n",
      "\n",
      "         intent                                           response  \\\n",
      "0  cancel_order  I've understood you have a question regarding ...   \n",
      "1  cancel_order  I've been informed that you have a question ab...   \n",
      "2  cancel_order  I can sense that you're seeking assistance wit...   \n",
      "3  cancel_order  I understood that you need assistance with can...   \n",
      "4  cancel_order  I'm sensitive to the fact that you're facing f...   \n",
      "\n",
      "   has_placeholder                                        ner_labels  \\\n",
      "0             True  [{'text': 'ORD-74965', 'label': 'order_number'}]   \n",
      "1             True  [{'text': 'ORD-78422', 'label': 'order_number'}]   \n",
      "2             True  [{'text': 'ORD-94215', 'label': 'order_number'}]   \n",
      "3             True  [{'text': 'ORD-84946', 'label': 'order_number'}]   \n",
      "4             True  [{'text': 'ORD-66605', 'label': 'order_number'}]   \n",
      "\n",
      "                                              tokens  \\\n",
      "0  ['question', 'about', 'cancelling', 'order', '...   \n",
      "1  ['i', 'have', 'a', 'question', 'about', 'cance...   \n",
      "2  ['i', 'need', 'help', 'cancelling', 'puchase',...   \n",
      "3  ['I', 'need', 'to', 'cancel', 'purchase', 'ORD...   \n",
      "4  ['I', 'cannot', 'afford', 'this', 'order', 'ca...   \n",
      "\n",
      "                                                tags  \n",
      "0  ['O', 'O', 'O', 'O', 'B-order_number', 'I-orde...  \n",
      "1  ['O', 'O', 'O', 'O', 'O', 'O', 'O', 'B-order_n...  \n",
      "2  ['O', 'O', 'O', 'O', 'O', 'B-order_number', 'I...  \n",
      "3  ['O', 'O', 'O', 'O', 'O', 'B-order_number', 'I...  \n",
      "4  ['O', 'O', 'O', 'O', 'O', 'O', 'O', 'B-order_n...  \n"
     ]
    }
   ],
   "source": [
    "import pandas as pd\n",
    "from sklearn.preprocessing import LabelEncoder\n",
    "\n",
    "# Load your dataset\n",
    "df = pd.read_csv('output.csv')\n",
    "\n",
    "# Display the first few rows of the dataset\n",
    "print(\"Original Dataset:\")\n",
    "print(df.head())\n",
    "\n",
    "# Initialize LabelEncoders\n",
    "intent_encoder = LabelEncoder()\n",
    "category_encoder = LabelEncoder()\n",
    "\n",
    "# Fit and transform the labels\n",
    "df['intent_encoded'] = intent_encoder.fit_transform(df['intent'])\n",
    "df['category_encoded'] = category_encoder.fit_transform(df['category'])\n",
    "\n",
    "# Save the encoded dataset (optional)\n",
    "df.to_csv('customer_support_data_encoded.csv', index=False)\n"
   ]
  },
  {
   "cell_type": "code",
   "execution_count": null,
   "metadata": {},
   "outputs": [],
   "source": []
  },
  {
   "cell_type": "markdown",
   "metadata": {},
   "source": [
    "## Splitting of Dataset\n"
   ]
  },
  {
   "cell_type": "code",
   "execution_count": null,
   "metadata": {},
   "outputs": [
    {
     "name": "stdout",
     "output_type": "stream",
     "text": [
      "      flags                                        instruction  category  \\\n",
      "7119    BIL    how to lodge a reclamation against your company  FEEDBACK   \n",
      "14235   BKL                       modifying Category A account   ACCOUNT   \n",
      "14418   BKL                    update data on standard account   ACCOUNT   \n",
      "13162    BL  I need assistance seeing how soon can I expect...  DELIVERY   \n",
      "1626    BLM    I need to swap some items of purchase ORD-75449     ORDER   \n",
      "\n",
      "                intent                                           response  \\\n",
      "7119         complaint  I'm truly sorry to hear that you have encounte...   \n",
      "14235     edit_account  How splendid it is to embark on the extraordin...   \n",
      "14418     edit_account  How invigorating it is to witness your proacti...   \n",
      "13162  delivery_period  We understand your eagerness to track and know...   \n",
      "1626      change_order  We understand that you need to swap some items...   \n",
      "\n",
      "       has_placeholder                                         ner_labels  \\\n",
      "7119             False                                                 []   \n",
      "14235             True  [{'text': 'Category A', 'label': 'account_cate...   \n",
      "14418            False                                                 []   \n",
      "13162            False                                                 []   \n",
      "1626              True   [{'text': 'ORD-75449', 'label': 'order_number'}]   \n",
      "\n",
      "                                                  tokens  \\\n",
      "7119   ['how', 'to', 'lodge', 'a', 'reclamation', 'ag...   \n",
      "14235          ['modifying', 'Category', 'A', 'account']   \n",
      "14418    ['update', 'data', 'on', 'standard', 'account']   \n",
      "13162  ['I', 'need', 'assistance', 'seeing', 'how', '...   \n",
      "1626   ['I', 'need', 'to', 'swap', 'some', 'items', '...   \n",
      "\n",
      "                                                    tags  intent_encoded  \\\n",
      "7119            ['O', 'O', 'O', 'O', 'O', 'O', 'O', 'O']               7   \n",
      "14235  ['O', 'B-account_category', 'I-account_categor...              14   \n",
      "14418                          ['O', 'O', 'O', 'O', 'O']              14   \n",
      "13162  ['O', 'O', 'O', 'O', 'O', 'O', 'O', 'O', 'O', ...              13   \n",
      "1626   ['O', 'O', 'O', 'O', 'O', 'O', 'O', 'O', 'B-or...               1   \n",
      "\n",
      "       category_encoded  \n",
      "7119                  4  \n",
      "14235                 0  \n",
      "14418                 0  \n",
      "13162                 3  \n",
      "1626                  6  \n"
     ]
    }
   ],
   "source": [
    "import pandas as pd\n",
    "from sklearn.model_selection import train_test_split\n",
    "\n",
    "# Load the dataset\n",
    "df = pd.read_csv('customer_support_data_encoded.csv')\n",
    "\n",
    "# Prepare for splitting\n",
    "df['stratify_key'] = df[['category', 'intent']].apply(lambda row: '_'.join(row.values.astype(str)), axis=1)\n",
    "\n",
    "# Split the dataset\n",
    "train_data, temp_data = train_test_split(df, test_size=0.2, random_state=42, stratify=df['stratify_key'])\n",
    "val_data, test_data = train_test_split(temp_data, test_size=0.5, random_state=42, stratify=temp_data['stratify_key'])\n",
    "\n",
    "# Drop stratify column (no longer needed)\n",
    "train_data.drop(columns=['stratify_key'], inplace=True)\n",
    "val_data.drop(columns=['stratify_key'], inplace=True)\n",
    "test_data.drop(columns=['stratify_key'], inplace=True)\n",
    "\n",
    "# Export datasets (not tokenized or annotated yet)\n",
    "train_data.to_csv('train_data.csv', index=False)\n",
    "val_data.to_csv('val_data.csv', index=False)\n",
    "test_data.to_csv('test_data.csv', index=False)\n",
    "\n",
    "# Print the first few rows of the train dataset to verify\n",
    "print(train_data.head())\n"
   ]
  },
  {
   "cell_type": "markdown",
   "metadata": {},
   "source": [
    "Sample only\n"
   ]
  },
  {
   "cell_type": "code",
   "execution_count": null,
   "metadata": {},
   "outputs": [
    {
     "name": "stdout",
     "output_type": "stream",
     "text": [
      "Dataset successfully split into three parts.\n"
     ]
    }
   ],
   "source": [
    "import pandas as pd\n",
    "\n",
    "# Load the dataset\n",
    "train_data = pd.read_csv('train_data.csv')\n",
    "\n",
    "# Ensure the dataset has at least 300 rows\n",
    "if len(train_data) >= 300:\n",
    "    # Split into three parts\n",
    "    train_data.iloc[:100].to_csv('train_data_part1.csv', index=False)\n",
    "    train_data.iloc[100:200].to_csv('train_data_part2.csv', index=False)\n",
    "    train_data.iloc[200:300].to_csv('train_data_part3.csv', index=False)\n",
    "    print(\"Dataset successfully split into three parts.\")\n",
    "else:\n",
    "    print(\"Dataset does not have at least 300 rows.\")\n"
   ]
  }
 ],
 "metadata": {
  "kernelspec": {
   "display_name": "Python 3",
   "language": "python",
   "name": "python3"
  },
  "language_info": {
   "codemirror_mode": {
    "name": "ipython",
    "version": 3
   },
   "file_extension": ".py",
   "mimetype": "text/x-python",
   "name": "python",
   "nbconvert_exporter": "python",
   "pygments_lexer": "ipython3",
   "version": "3.11.9"
  }
 },
 "nbformat": 4,
 "nbformat_minor": 2
}
