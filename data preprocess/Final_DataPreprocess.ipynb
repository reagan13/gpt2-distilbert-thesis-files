{
 "cells": [
  {
   "cell_type": "markdown",
   "metadata": {},
   "source": [
    "# Data Preprocess\n"
   ]
  },
  {
   "cell_type": "markdown",
   "metadata": {},
   "source": [
    "## Import Libraries\n"
   ]
  },
  {
   "cell_type": "code",
   "execution_count": 1,
   "metadata": {},
   "outputs": [],
   "source": [
    "import pandas as pd\n"
   ]
  },
  {
   "cell_type": "markdown",
   "metadata": {},
   "source": [
    "## Initialize Dataset\n"
   ]
  },
  {
   "cell_type": "code",
   "execution_count": 2,
   "metadata": {},
   "outputs": [],
   "source": [
    "file_path = '../dataset/dataset.csv'\n"
   ]
  },
  {
   "cell_type": "code",
   "execution_count": 3,
   "metadata": {},
   "outputs": [
    {
     "data": {
      "text/html": [
       "<div>\n",
       "<style scoped>\n",
       "    .dataframe tbody tr th:only-of-type {\n",
       "        vertical-align: middle;\n",
       "    }\n",
       "\n",
       "    .dataframe tbody tr th {\n",
       "        vertical-align: top;\n",
       "    }\n",
       "\n",
       "    .dataframe thead th {\n",
       "        text-align: right;\n",
       "    }\n",
       "</style>\n",
       "<table border=\"1\" class=\"dataframe\">\n",
       "  <thead>\n",
       "    <tr style=\"text-align: right;\">\n",
       "      <th></th>\n",
       "      <th>instruction</th>\n",
       "      <th>category</th>\n",
       "      <th>intent</th>\n",
       "      <th>response</th>\n",
       "    </tr>\n",
       "  </thead>\n",
       "  <tbody>\n",
       "    <tr>\n",
       "      <th>0</th>\n",
       "      <td>question about cancelling order {{Order Number}}</td>\n",
       "      <td>ORDER</td>\n",
       "      <td>cancel_order</td>\n",
       "      <td>I've understood you have a question regarding ...</td>\n",
       "    </tr>\n",
       "    <tr>\n",
       "      <th>1</th>\n",
       "      <td>i have a question about cancelling oorder {{Or...</td>\n",
       "      <td>ORDER</td>\n",
       "      <td>cancel_order</td>\n",
       "      <td>I've been informed that you have a question ab...</td>\n",
       "    </tr>\n",
       "    <tr>\n",
       "      <th>2</th>\n",
       "      <td>i need help cancelling puchase {{Order Number}}</td>\n",
       "      <td>ORDER</td>\n",
       "      <td>cancel_order</td>\n",
       "      <td>I can sense that you're seeking assistance wit...</td>\n",
       "    </tr>\n",
       "    <tr>\n",
       "      <th>3</th>\n",
       "      <td>I need to cancel purchase {{Order Number}}</td>\n",
       "      <td>ORDER</td>\n",
       "      <td>cancel_order</td>\n",
       "      <td>I understood that you need assistance with can...</td>\n",
       "    </tr>\n",
       "    <tr>\n",
       "      <th>4</th>\n",
       "      <td>I cannot afford this order, cancel purchase {{...</td>\n",
       "      <td>ORDER</td>\n",
       "      <td>cancel_order</td>\n",
       "      <td>I'm sensitive to the fact that you're facing f...</td>\n",
       "    </tr>\n",
       "  </tbody>\n",
       "</table>\n",
       "</div>"
      ],
      "text/plain": [
       "                                         instruction category        intent  \\\n",
       "0   question about cancelling order {{Order Number}}    ORDER  cancel_order   \n",
       "1  i have a question about cancelling oorder {{Or...    ORDER  cancel_order   \n",
       "2    i need help cancelling puchase {{Order Number}}    ORDER  cancel_order   \n",
       "3         I need to cancel purchase {{Order Number}}    ORDER  cancel_order   \n",
       "4  I cannot afford this order, cancel purchase {{...    ORDER  cancel_order   \n",
       "\n",
       "                                            response  \n",
       "0  I've understood you have a question regarding ...  \n",
       "1  I've been informed that you have a question ab...  \n",
       "2  I can sense that you're seeking assistance wit...  \n",
       "3  I understood that you need assistance with can...  \n",
       "4  I'm sensitive to the fact that you're facing f...  "
      ]
     },
     "execution_count": 3,
     "metadata": {},
     "output_type": "execute_result"
    }
   ],
   "source": [
    "\n",
    "# Load dataset from CSV file\n",
    "df = pd.read_csv(file_path)\n",
    "\n",
    "df = df.drop(columns=['flags'])\n",
    "\n",
    "# Display the first few rows of the dataframe\n",
    "df.head()\n"
   ]
  },
  {
   "cell_type": "code",
   "execution_count": 6,
   "metadata": {},
   "outputs": [
    {
     "name": "stdout",
     "output_type": "stream",
     "text": [
      "Total length of the dataframe: 26872\n",
      "Missing values in each column:\n",
      "instruction    0\n",
      "category       0\n",
      "intent         0\n",
      "response       0\n",
      "dtype: int64\n",
      "Missing values in each row:\n",
      "0        0\n",
      "1        0\n",
      "2        0\n",
      "3        0\n",
      "4        0\n",
      "        ..\n",
      "26867    0\n",
      "26868    0\n",
      "26869    0\n",
      "26870    0\n",
      "26871    0\n",
      "Length: 26872, dtype: int64\n"
     ]
    }
   ],
   "source": [
    "# Check the total length of the dataframe\n",
    "total_length = len(df)\n",
    "print(f\"Total length of the dataframe: {total_length}\")\n",
    "\n",
    "# Check for any missing or empty values in each column\n",
    "missing_values = df.isnull().sum()\n",
    "print(\"Missing values in each column:\")\n",
    "print(missing_values)\n",
    "\n",
    "# Check for any missing or empty values in each row\n",
    "missing_values_rows = df.isnull().sum(axis=1)\n",
    "print(\"Missing values in each row:\")\n",
    "print(missing_values_rows)\n"
   ]
  },
  {
   "cell_type": "markdown",
   "metadata": {},
   "source": [
    "## Checking of Dataset\n"
   ]
  },
  {
   "cell_type": "code",
   "execution_count": 8,
   "metadata": {},
   "outputs": [
    {
     "name": "stdout",
     "output_type": "stream",
     "text": [
      "Unique intents:\n",
      "['cancel_order' 'change_order' 'change_shipping_address'\n",
      " 'check_cancellation_fee' 'check_invoice' 'check_payment_methods'\n",
      " 'check_refund_policy' 'complaint' 'contact_customer_service'\n",
      " 'contact_human_agent' 'create_account' 'delete_account'\n",
      " 'delivery_options' 'delivery_period' 'edit_account' 'get_invoice'\n",
      " 'get_refund' 'newsletter_subscription' 'payment_issue' 'place_order'\n",
      " 'recover_password' 'registration_problems' 'review'\n",
      " 'set_up_shipping_address' 'switch_account' 'track_order' 'track_refund']\n",
      "Total unique intents: 27\n",
      "\n",
      "Unique categories:\n",
      "['ORDER' 'SHIPPING' 'CANCEL' 'INVOICE' 'PAYMENT' 'REFUND' 'FEEDBACK'\n",
      " 'CONTACT' 'ACCOUNT' 'DELIVERY' 'SUBSCRIPTION']\n",
      "Total unique categories: 11\n"
     ]
    }
   ],
   "source": [
    "unique_intents = df['intent'].unique()\n",
    "unique_categories = df['category'].unique()\n",
    "\n",
    "print(\"Unique intents:\")\n",
    "print(unique_intents)\n",
    "print(\"Total unique intents:\", len(unique_intents))\n",
    "\n",
    "print(\"\\nUnique categories:\")\n",
    "print(unique_categories)\n",
    "print(\"Total unique categories:\", len(unique_categories))\n"
   ]
  },
  {
   "cell_type": "code",
   "execution_count": 15,
   "metadata": {},
   "outputs": [
    {
     "ename": "SyntaxError",
     "evalue": "invalid syntax. Perhaps you forgot a comma? (2088001815.py, line 14)",
     "output_type": "error",
     "traceback": [
      "\u001b[0;36m  Cell \u001b[0;32mIn[15], line 14\u001b[0;36m\u001b[0m\n\u001b[0;31m    print(\"NERs extracted from the 'instruction' column:\" df.head())\u001b[0m\n\u001b[0m          ^\u001b[0m\n\u001b[0;31mSyntaxError\u001b[0m\u001b[0;31m:\u001b[0m invalid syntax. Perhaps you forgot a comma?\n"
     ]
    }
   ],
   "source": [
    "import re\n",
    "\n",
    "# Function to extract NERs enclosed with {{}}\n",
    "def extract_ner(text):\n",
    "    return re.findall(r'\\{\\{(.*?)\\}\\}', text)\n",
    "\n",
    "# Apply the function to the 'instruction' and 'response' columns\n",
    "df['instruction_ner'] = df['instruction'].apply(extract_ner)\n",
    "df['response_ner'] = df['response'].apply(extract_ner)\n",
    "\n",
    "# Display the first few rows to check the extracted NERs\n",
    "df[['instruction', 'instruction_ner', 'response', 'response_ner']].head()\n",
    "\n",
    "print(\"NERs extracted from the 'instruction' column:\" df.head())\n",
    "\n",
    "# Combine all NERs from both 'instruction_ner' and 'response_ner' columns\n",
    "all_ners = df['instruction_ner'].explode().tolist() + df['response_ner'].explode().tolist()\n",
    "\n",
    "# Get unique NERs\n",
    "unique_ners = set(all_ners)\n",
    "\n",
    "# Display the unique NERs\n",
    "print(unique_ners)\n"
   ]
  },
  {
   "cell_type": "code",
   "execution_count": 13,
   "metadata": {},
   "outputs": [
    {
     "name": "stdout",
     "output_type": "stream",
     "text": [
      "All unique NERs detected:\n",
      "['Access Key', 'Access Key Recovery', 'Access Key Reset Page URL', 'Access Key Retrieval', 'Account', 'Account Access Key Reset', 'Account Category', 'Account Change', 'Account Closure Process', 'Account Closure Timeframe', 'Account Details', 'Account ID', 'Account Key Recovery', 'Account Management', 'Account Name', 'Account Number', 'Account Page', 'Account Plan', 'Account Recovery', 'Account Recovery Page', 'Account Recovery Page URL', 'Account Security', 'Account Type', 'Account Type Switch', 'Account Upgrade', 'Add a New Address', 'Basic', 'Basic Account', 'Billing', 'Billing Category', 'Billing History', 'Business Hours', 'Business Name Anonymized', 'Cancel Purchase', 'Cancellation Policy', 'Cancellation Refund Time', 'Carrier Name', 'Case Number', 'Change Access Key', 'Change Account', 'Change Key', 'Change PIN', 'Change Password', 'Change Profile', 'Change User', 'Choose Account Type', 'Choose the {{Account Type', 'City 1', 'City 2', 'City 3', 'Claims Contact Number', 'Claims Department', 'Claims Website URL', 'Client First Name', 'Client Full Name', 'Client Last Name', 'Client Name', 'Closing Time', 'Company', 'Company Account', 'Company Name', 'Company Phone Number', 'Company Representative Name', 'Company Support Channels', 'Company Support Page URL', 'CompanyName', 'Compensation ID', 'Compensation Identifier', 'Compensation Type', 'Complaint Email Address', 'Complaint Hotline Number', 'Completion steps', 'Confirm', 'Confirm Cancellation', 'Consumer Complaint Email Address', 'Contact Channel', 'Contact Method', 'Contact Page URL', 'Contact Us', 'Country', 'Country List', 'Create Account', 'Create a Secondary Address', 'Currency Symbol', 'Customer Assistance Email', 'Customer Assistance Email Address', 'Customer Assistance Hours', 'Customer Assistance Phone Number', 'Customer Claims Email Address', 'Customer ID', 'Customer Service Email', 'Customer Service Email Address', 'Customer Service Hours', 'Customer Service Toll-Free Number', 'Customer Support Closing Time', 'Customer Support Contact Number', 'Customer Support Days', 'Customer Support Email', 'Customer Support End Time', 'Customer Support Hotline', 'Customer Support Hours', 'Customer Support Live Chat URL', 'Customer Support Opening Time', 'Customer Support Phone Number', 'Customer Support Start Time', 'Customer Support Team', 'Customer Support Team Name', 'Customer Support Ticket Number', 'Customer Support Toll-Free Number', 'Customer Support Website', 'Cut Off Time', 'Dashboard', 'Date', 'Date Range', 'Date of the Bill', 'Date of the Invoice', 'Delivery City', 'Delivery Country', 'Delivery Date', 'Delivery Time', 'Destination', 'Downgrade', 'Duplicate Charges Refund Time', 'E-commerce Platform 1', 'E-commerce Platform 2', 'E-commerce Platform Names', 'ETA', 'Edit PIN', 'Email Address', 'Estimated Delivery Time', 'Event Cancellation Refund Time', 'Expedited Delivery Time', 'Expedited Shipping Days', 'Expedited Shipping Time', 'Explanation of Feature 1', 'Explanation of Feature 2', 'Explanation of Feature 3', 'Express Delivery Time', 'Express Shipping Days', 'Express Shipping Time', 'Feature 1', 'Feature 2', 'Feature 3', 'Feedback Email', 'Feedback Email Address', 'Fifth Step', 'First Step', 'Forgot Access Key', 'Forgot Account Access Key', 'Forgot Account Key', 'Forgot Key', 'Forgot PIN', 'Forgot PIN Code', 'Forgot PIN code', 'Forgot Password', 'Forgot Pin', 'Forgot Pin Code', 'Forgot Profile Access Key', 'Forgot Profile Key', 'Forgot User Access Key', 'Forgot User Account Key', 'Forgot User Key', 'Forgot User Profile Key', 'Forgot Your Access Key', 'Fourth Step', 'Free Account Name', 'Free Customer Support Number', 'Full Name', 'Help Center', 'Help Center URL', 'Invoice Name', 'Invoice Number', 'Key Management', 'Key Recovery Page URL', 'Live Chat', 'Live Chat Feature', 'Live Chat Support', 'Login Page', 'Login Page URL', 'Login URL', 'Login page URL', 'Login steps', 'Lost Key', 'Manage PIN', 'Manage Subscription', 'Max Delivery Time', 'Membership Type', 'Min Delivery Time', 'Money Amount', 'Month', 'My Account', 'My Purchases', 'Navigation steps', 'Non-receipt of Goods Refund Time', 'Number of Days', 'Online Company Portal Info', 'Online Customer Support Channel', 'Online Marketplace', 'Online Order Interaction', 'Online Store', 'Opening Time', 'Order Number', 'Order Status', 'Order Tracker', 'Order Tracking', 'Order Tracking Method', 'Order/Claim Number', 'Order/Claim/Compensation', 'Order/Invoice Number', 'Order/Refund/Case Number', 'Order/Refund/Transaction', 'Order/Transaction ID', 'Order/Transaction/Reference Number', 'Order/Transaction/Reimbursement', 'PIN', 'PIN Code', 'PIN Code Management', 'PIN Code Recovery', 'PIN Code Reset', 'PIN Code Restoration', 'PIN Code Retrieval', 'PIN Management', 'PIN Recovery', 'PIN Recovery Page URL', 'PIN Reset', 'PIN Reset Page URL', 'PIN Retrieval', 'PIN Retrieval Page URL', 'PIN Settings', 'PIN code', 'Password', 'Password Management', 'Password Recovery', 'Password Recovery Page', 'Password Recovery Page URL', 'Password Reset', 'Password Reset Page', 'Password Reset Page URL', 'Password and Security', 'Payment Issue Email', 'Payment Issue Phone Number', 'Person Name', 'Pin Code Settings', 'Platform Login URL', 'Platform URL', 'Privacy', 'Product Category', 'Product Feedback Email', 'Product Reviews Email', 'Product/Service Defect Refund Time', 'Product/Service Name', 'Profile', 'Profile PIN Recovery', 'Profile Recovery', 'Profile Recovery Page', 'Profile Recovery Page URL', 'Profile Security', 'Profile Settings', 'Profile Type', 'Purchase Details', 'Purchase History', 'Purchase Status', 'Purpose of the Features', 'Rebate ID', 'Rebate Identifier', 'Rebate Number', 'Rebate Tracking Number', 'Recover Access Key', 'Recover Key', 'Recover PIN', 'Reference Number', 'Refund Amount', 'Refund Helpline Number', 'Refund Hotline Number', 'Refund Policy', 'Refund Processing Time', 'Registration Support Phone Number', 'Regular Profile', 'Reimbursement ID', 'Reimbursement Request Number', 'Remove', 'Reset', 'Reset Access Key', 'Reset Account Key', 'Reset Key', 'Reset PIN', 'Reset Password', 'Reset Pin Code', 'Reset User Key', 'Restitution ID', 'Restore Access Key', 'Restore PIN Code', 'Restore Password', 'Restore User Access Key', 'Restore User Key', 'Retail Stores', 'Retrieve Account Key', 'Retrieve Account PIN', 'Retrieve Key', 'Retrieve PIN', 'Retrieve PIN Code', 'Retrieve Profile Key', 'Retrieve User Account Key', 'Retrieve User Key', 'Return Policy', 'Review Platform', 'Review Platform 1', 'Review Platform 2', 'Salutation', 'Same-Day Order Time', 'Save', 'Second Step', 'Security', 'Security & Privacy', 'Security Settings', 'Security and Privacy', 'Settings', 'Shipment Tracking Number', 'Shipping Address', 'Shipping Addresses', 'Shipping Cut-off Time', 'Shipping Method', 'Shipping Status', 'Sign Up', 'Social Media Handles', 'Social Media Platform', 'Standard Delivery Time', 'Standard Shipping Days', 'Standard Shipping Time', 'Stolen User Key', 'Store Address', 'Store Location', 'Store Pickup Time', 'Submit', 'Support Channel', 'Support Channel 1', 'Support Channel 2', 'Support Hours', 'Support Page URL', 'Support Phone Number', 'Switch Plan', 'Switch User', 'Switch to {{Account Category', 'Switch to {{Account Type', 'Switching option', 'Third Step', 'Timeframe', 'Toll-Free Number', 'Track Order', 'Track Reimbursement', 'Tracking Information', 'Tracking Number', 'Tracking Page', 'Unauthorized Charges Refund Time', 'Update Account', 'Update Profile', 'Upgrade Account', 'Upgrade Account Type', 'Upgrade or Downgrade Account', 'Upgrade to {{Account Type', 'User Account Recovery', 'User Account Settings', 'User Key Retrieval', 'User Key Retrieval Page URL', 'User Management', 'User Profile', 'User Profile Page URL', 'User Profile Settings', 'User Settings', 'Username', 'Website URL', 'Working Hours', 'X-day/money back guarantee period', 'Year', 'Zip Code', 'additional details', 'contact_method', 'customer_support_phone_number', 'mention the different contact options available', 'month', 'number of days', 'order number', \"proceed to our website and click on the 'Contact Us' button / dial our customer support number / reach out to our live chat support\", 'provide step-by-step instructions', 'the reason for your call', 'the specific topic you need assistance with', 'tracking number', 'year', 'your issue', '{{Account Category', '{{Account Type']\n"
     ]
    }
   ],
   "source": []
  },
  {
   "cell_type": "code",
   "execution_count": null,
   "metadata": {},
   "outputs": [],
   "source": []
  }
 ],
 "metadata": {
  "kernelspec": {
   "display_name": "Python 3",
   "language": "python",
   "name": "python3"
  },
  "language_info": {
   "codemirror_mode": {
    "name": "ipython",
    "version": 3
   },
   "file_extension": ".py",
   "mimetype": "text/x-python",
   "name": "python",
   "nbconvert_exporter": "python",
   "pygments_lexer": "ipython3",
   "version": "3.11.9"
  }
 },
 "nbformat": 4,
 "nbformat_minor": 2
}
