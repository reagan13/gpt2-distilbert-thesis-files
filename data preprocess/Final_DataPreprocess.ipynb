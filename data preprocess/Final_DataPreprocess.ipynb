{
 "cells": [
  {
   "cell_type": "code",
   "execution_count": null,
   "metadata": {},
   "outputs": [
    {
     "name": "stdout",
     "output_type": "stream",
     "text": [
      "Collecting matplotlibNote: you may need to restart the kernel to use updated packages.\n"
     ]
    },
    {
     "name": "stderr",
     "output_type": "stream",
     "text": [
      "\n",
      "[notice] A new release of pip is available: 24.3.1 -> 25.0\n",
      "[notice] To update, run: C:\\Users\\reaga\\AppData\\Local\\Microsoft\\WindowsApps\\PythonSoftwareFoundation.Python.3.11_qbz5n2kfra8p0\\python.exe -m pip install --upgrade pip\n"
     ]
    },
    {
     "name": "stdout",
     "output_type": "stream",
     "text": [
      "\n",
      "  Downloading matplotlib-3.10.0-cp311-cp311-win_amd64.whl.metadata (11 kB)\n",
      "Collecting seaborn\n",
      "  Downloading seaborn-0.13.2-py3-none-any.whl.metadata (5.4 kB)\n",
      "Collecting contourpy>=1.0.1 (from matplotlib)\n",
      "  Downloading contourpy-1.3.1-cp311-cp311-win_amd64.whl.metadata (5.4 kB)\n",
      "Collecting cycler>=0.10 (from matplotlib)\n",
      "  Downloading cycler-0.12.1-py3-none-any.whl.metadata (3.8 kB)\n",
      "Collecting fonttools>=4.22.0 (from matplotlib)\n",
      "  Downloading fonttools-4.56.0-cp311-cp311-win_amd64.whl.metadata (103 kB)\n",
      "Collecting kiwisolver>=1.3.1 (from matplotlib)\n",
      "  Downloading kiwisolver-1.4.8-cp311-cp311-win_amd64.whl.metadata (6.3 kB)\n",
      "Requirement already satisfied: numpy>=1.23 in c:\\users\\reaga\\appdata\\local\\packages\\pythonsoftwarefoundation.python.3.11_qbz5n2kfra8p0\\localcache\\local-packages\\python311\\site-packages (from matplotlib) (1.26.4)\n",
      "Requirement already satisfied: packaging>=20.0 in c:\\users\\reaga\\appdata\\local\\packages\\pythonsoftwarefoundation.python.3.11_qbz5n2kfra8p0\\localcache\\local-packages\\python311\\site-packages (from matplotlib) (23.1)\n",
      "Collecting pillow>=8 (from matplotlib)\n",
      "  Downloading pillow-11.1.0-cp311-cp311-win_amd64.whl.metadata (9.3 kB)\n",
      "Collecting pyparsing>=2.3.1 (from matplotlib)\n",
      "  Downloading pyparsing-3.2.1-py3-none-any.whl.metadata (5.0 kB)\n",
      "Requirement already satisfied: python-dateutil>=2.7 in c:\\users\\reaga\\appdata\\local\\packages\\pythonsoftwarefoundation.python.3.11_qbz5n2kfra8p0\\localcache\\local-packages\\python311\\site-packages (from matplotlib) (2.8.2)\n",
      "Requirement already satisfied: pandas>=1.2 in c:\\users\\reaga\\appdata\\local\\packages\\pythonsoftwarefoundation.python.3.11_qbz5n2kfra8p0\\localcache\\local-packages\\python311\\site-packages (from seaborn) (2.2.3)\n",
      "Requirement already satisfied: pytz>=2020.1 in c:\\users\\reaga\\appdata\\local\\packages\\pythonsoftwarefoundation.python.3.11_qbz5n2kfra8p0\\localcache\\local-packages\\python311\\site-packages (from pandas>=1.2->seaborn) (2023.3)\n",
      "Requirement already satisfied: tzdata>=2022.7 in c:\\users\\reaga\\appdata\\local\\packages\\pythonsoftwarefoundation.python.3.11_qbz5n2kfra8p0\\localcache\\local-packages\\python311\\site-packages (from pandas>=1.2->seaborn) (2023.3)\n",
      "Requirement already satisfied: six>=1.5 in c:\\users\\reaga\\appdata\\local\\packages\\pythonsoftwarefoundation.python.3.11_qbz5n2kfra8p0\\localcache\\local-packages\\python311\\site-packages (from python-dateutil>=2.7->matplotlib) (1.16.0)\n",
      "Downloading matplotlib-3.10.0-cp311-cp311-win_amd64.whl (8.0 MB)\n",
      "   ---------------------------------------- 0.0/8.0 MB ? eta -:--:--\n",
      "   ------------------------ --------------- 5.0/8.0 MB 25.1 MB/s eta 0:00:01\n",
      "   ---------------------------------------- 8.0/8.0 MB 26.2 MB/s eta 0:00:00\n",
      "Downloading seaborn-0.13.2-py3-none-any.whl (294 kB)\n",
      "Downloading contourpy-1.3.1-cp311-cp311-win_amd64.whl (219 kB)\n",
      "Downloading cycler-0.12.1-py3-none-any.whl (8.3 kB)\n",
      "Downloading fonttools-4.56.0-cp311-cp311-win_amd64.whl (2.2 MB)\n",
      "   ---------------------------------------- 0.0/2.2 MB ? eta -:--:--\n",
      "   ---------------------------------------- 2.2/2.2 MB 42.1 MB/s eta 0:00:00\n",
      "Downloading kiwisolver-1.4.8-cp311-cp311-win_amd64.whl (71 kB)\n",
      "Downloading pillow-11.1.0-cp311-cp311-win_amd64.whl (2.6 MB)\n",
      "   ---------------------------------------- 0.0/2.6 MB ? eta -:--:--\n",
      "   ---------------------------------------- 2.6/2.6 MB 30.3 MB/s eta 0:00:00\n",
      "Downloading pyparsing-3.2.1-py3-none-any.whl (107 kB)\n",
      "Installing collected packages: pyparsing, pillow, kiwisolver, fonttools, cycler, contourpy, matplotlib, seaborn\n",
      "Successfully installed contourpy-1.3.1 cycler-0.12.1 fonttools-4.56.0 kiwisolver-1.4.8 matplotlib-3.10.0 pillow-11.1.0 pyparsing-3.2.1 seaborn-0.13.2\n"
     ]
    }
   ],
   "source": [
    "pip install matplotlib seaborn\n"
   ]
  },
  {
   "cell_type": "code",
   "execution_count": 33,
   "metadata": {},
   "outputs": [
    {
     "name": "stdout",
     "output_type": "stream",
     "text": [
      "Collecting fakerNote: you may need to restart the kernel to use updated packages.\n",
      "\n",
      "  Downloading Faker-35.2.0-py3-none-any.whl.metadata (15 kB)\n",
      "Requirement already satisfied: python-dateutil>=2.4 in c:\\users\\reaga\\appdata\\local\\packages\\pythonsoftwarefoundation.python.3.11_qbz5n2kfra8p0\\localcache\\local-packages\\python311\\site-packages (from faker) (2.8.2)\n",
      "Requirement already satisfied: typing-extensions in c:\\users\\reaga\\appdata\\local\\packages\\pythonsoftwarefoundation.python.3.11_qbz5n2kfra8p0\\localcache\\local-packages\\python311\\site-packages (from faker) (4.12.2)\n",
      "Requirement already satisfied: six>=1.5 in c:\\users\\reaga\\appdata\\local\\packages\\pythonsoftwarefoundation.python.3.11_qbz5n2kfra8p0\\localcache\\local-packages\\python311\\site-packages (from python-dateutil>=2.4->faker) (1.16.0)\n",
      "Downloading Faker-35.2.0-py3-none-any.whl (1.9 MB)\n",
      "   ---------------------------------------- 0.0/1.9 MB ? eta -:--:--\n",
      "   -------------------------------------- - 1.8/1.9 MB 14.3 MB/s eta 0:00:01\n",
      "   ---------------------------------------- 1.9/1.9 MB 13.2 MB/s eta 0:00:00\n",
      "Installing collected packages: faker\n",
      "Successfully installed faker-35.2.0\n"
     ]
    },
    {
     "name": "stderr",
     "output_type": "stream",
     "text": [
      "\n",
      "[notice] A new release of pip is available: 24.3.1 -> 25.0\n",
      "[notice] To update, run: C:\\Users\\reaga\\AppData\\Local\\Microsoft\\WindowsApps\\PythonSoftwareFoundation.Python.3.11_qbz5n2kfra8p0\\python.exe -m pip install --upgrade pip\n"
     ]
    }
   ],
   "source": [
    "%pip install faker\n"
   ]
  },
  {
   "cell_type": "markdown",
   "metadata": {},
   "source": [
    "# Data Preprocessing\n"
   ]
  },
  {
   "cell_type": "markdown",
   "metadata": {},
   "source": [
    "## Load Dataset\n"
   ]
  },
  {
   "cell_type": "code",
   "execution_count": 1,
   "metadata": {},
   "outputs": [
    {
     "name": "stdout",
     "output_type": "stream",
     "text": [
      "   flags                                        instruction category  \\\n",
      "0      B   question about cancelling order {{Order Number}}    ORDER   \n",
      "1    BQZ  i have a question about cancelling oorder {{Or...    ORDER   \n",
      "2   BLQZ    i need help cancelling puchase {{Order Number}}    ORDER   \n",
      "3     BL         I need to cancel purchase {{Order Number}}    ORDER   \n",
      "4  BCELN  I cannot afford this order, cancel purchase {{...    ORDER   \n",
      "\n",
      "         intent                                           response  \n",
      "0  cancel_order  I've understood you have a question regarding ...  \n",
      "1  cancel_order  I've been informed that you have a question ab...  \n",
      "2  cancel_order  I can sense that you're seeking assistance wit...  \n",
      "3  cancel_order  I understood that you need assistance with can...  \n",
      "4  cancel_order  I'm sensitive to the fact that you're facing f...  \n"
     ]
    }
   ],
   "source": [
    "import pandas as pd\n",
    "\n",
    "# Load the dataset\n",
    "df = pd.read_csv('../dataset/dataset.csv')\n",
    "\n",
    "# Inspect the dataset\n",
    "print(df.head())\n",
    "\n"
   ]
  },
  {
   "cell_type": "markdown",
   "metadata": {},
   "source": [
    "## Text Cleaning\n"
   ]
  },
  {
   "cell_type": "code",
   "execution_count": 2,
   "metadata": {},
   "outputs": [
    {
     "name": "stdout",
     "output_type": "stream",
     "text": [
      "   flags                                        instruction category  \\\n",
      "0      B   question about cancelling order {{order number}}    order   \n",
      "1    BQZ  i have a question about cancelling oorder {{or...    order   \n",
      "2   BLQZ    i need help cancelling puchase {{order number}}    order   \n",
      "3     BL         i need to cancel purchase {{order number}}    order   \n",
      "4  BCELN  i cannot afford this order, cancel purchase {{...    order   \n",
      "\n",
      "         intent                                           response  \n",
      "0  cancel_order  I've understood you have a question regarding ...  \n",
      "1  cancel_order  I've been informed that you have a question ab...  \n",
      "2  cancel_order  I can sense that you're seeking assistance wit...  \n",
      "3  cancel_order  I understood that you need assistance with can...  \n",
      "4  cancel_order  I'm sensitive to the fact that you're facing f...  \n"
     ]
    }
   ],
   "source": [
    "\n",
    "# Lowercase the 'text' column\n",
    "df['category'] = df['category'].str.lower()\n",
    "df['instruction'] = df['instruction'].str.lower()\n",
    "# Lowercase all column names\n",
    "df.columns = df.columns.str.lower()\n",
    "\n",
    "\n",
    "print(df.head())\n"
   ]
  },
  {
   "cell_type": "code",
   "execution_count": 52,
   "metadata": {},
   "outputs": [
    {
     "name": "stdout",
     "output_type": "stream",
     "text": [
      "Total Rows Before Removing Duplicates: 2501\n",
      "Total Duplicate Occurrences Removed: 2501\n",
      "Total Rows After Removing Duplicates: 24371\n",
      "Cleaned file saved as 'cleaned_file.csv'.\n"
     ]
    }
   ],
   "source": [
    "# Count total duplicate occurrences (excluding the first occurrence)\n",
    "total_duplicates = df.duplicated(subset=[\"instruction\"]).sum()\n",
    "\n",
    "# Remove duplicates but keep the first occurrence\n",
    "df = df.drop_duplicates(subset=[\"instruction\"], keep=\"first\")\n",
    "\n",
    "# Total rows after removing duplicates\n",
    "total_rows_after = len(df)\n",
    "\n",
    "# Save the cleaned data to a new CSV file\n",
    "df.to_csv(\"cleaned_file.csv\", index=False)\n",
    "\n",
    "# Print results\n",
    "print(f\"Total Rows Before Removing Duplicates: {total_duplicates}\")\n",
    "print(f\"Total Duplicate Occurrences Removed: {total_duplicates}\")\n",
    "print(f\"Total Rows After Removing Duplicates: {total_rows_after}\")\n",
    "print(\"Cleaned file saved as 'cleaned_file.csv'.\")\n"
   ]
  },
  {
   "cell_type": "markdown",
   "metadata": {},
   "source": [
    "## NER\n"
   ]
  },
  {
   "cell_type": "code",
   "execution_count": 3,
   "metadata": {},
   "outputs": [
    {
     "name": "stdout",
     "output_type": "stream",
     "text": [
      "Rows with placeholders: 6670\n",
      "\n",
      "Initial Distribution of Placeholders:\n",
      "                  count\n",
      "order number       2907\n",
      "account type       1011\n",
      "person name         887\n",
      "account category    822\n",
      "refund amount       624\n",
      "currency symbol     372\n",
      "delivery city       234\n",
      "delivery country    177\n",
      "invoice number        8\n",
      "\n",
      "Total rows in the dataset: 26872\n",
      "\n",
      "Missing values per column:\n",
      "flags              0\n",
      "instruction        0\n",
      "category           0\n",
      "intent             0\n",
      "response           0\n",
      "has_placeholder    0\n",
      "dtype: int64\n",
      "\n",
      "Updated Distribution of Placeholders (After Removing Lowest Occurrences):\n",
      "                  count\n",
      "order number       2907\n",
      "account type       1011\n",
      "person name         887\n",
      "account category    822\n",
      "refund amount       624\n",
      "currency symbol     372\n",
      "delivery city       234\n",
      "delivery country    177\n",
      "invoice number        8\n"
     ]
    }
   ],
   "source": [
    "import pandas as pd\n",
    "import re\n",
    "from collections import Counter\n",
    "\n",
    "\n",
    "# Detect rows with placeholders\n",
    "df['has_placeholder'] = df['instruction'].str.contains(r'\\{\\{.*?\\}\\}')\n",
    "\n",
    "# Count rows with placeholders\n",
    "rows_with_placeholders = df['has_placeholder'].sum()\n",
    "\n",
    "# Extract placeholders function\n",
    "def extract_placeholders(text):\n",
    "    return re.findall(r'\\{\\{(.*?)\\}\\}', text)\n",
    "\n",
    "# Apply function and get all placeholders\n",
    "placeholders = df[df['has_placeholder']]['instruction'].apply(extract_placeholders).explode()\n",
    "\n",
    "# Count occurrences of each placeholder\n",
    "placeholder_counts = Counter(placeholders)\n",
    "\n",
    "# Convert to DataFrame\n",
    "placeholder_df = pd.DataFrame.from_dict(placeholder_counts, orient='index', columns=['count'])\n",
    "\n",
    "# Display initial results\n",
    "print(f\"Rows with placeholders: {rows_with_placeholders}\")\n",
    "print(\"\\nInitial Distribution of Placeholders:\")\n",
    "print(placeholder_df.sort_values(by='count', ascending=False))\n",
    "\n",
    "# Print total rows and missing values\n",
    "print(\"\\nTotal rows in the dataset:\", len(df))\n",
    "print(\"\\nMissing values per column:\")\n",
    "print(df.isnull().sum())\n",
    "\n",
    "# Display updated results\n",
    "print(\"\\nUpdated Distribution of Placeholders (After Removing Lowest Occurrences):\")\n",
    "print(placeholder_df.sort_values(by='count', ascending=False))\n"
   ]
  },
  {
   "cell_type": "code",
   "execution_count": 54,
   "metadata": {},
   "outputs": [],
   "source": [
    "# import pandas as pd\n",
    "\n",
    "# # Total rows before removing duplicates\n",
    "# total_rows_before = len(df)\n",
    "\n",
    "# # Count total duplicate occurrences (excluding the first occurrence)\n",
    "# total_duplicates = df.duplicated(subset=[\"instruction\"]).sum()\n",
    "\n",
    "# # Remove duplicates but keep the first occurrence\n",
    "# df = df.drop_duplicates(subset=[\"instruction\"], keep=\"first\")\n",
    "\n",
    "# # Total rows after removing duplicates\n",
    "# total_rows_after = len(df)\n",
    "\n",
    "# # Save the cleaned data to a new CSV file\n",
    "# df.to_csv(\"cleaned_file.csv\", index=False)\n",
    "\n",
    "# # Print results\n",
    "# print(f\"Total Rows Before Removing Duplicates: {total_rows_before}\")\n",
    "# print(f\"Total Duplicate Occurrences Removed: {total_duplicates}\")\n",
    "# print(f\"Total Rows After Removing Duplicates: {total_rows_after}\")\n",
    "# print(\"Cleaned file saved as 'cleaned_file.csv'.\")\n"
   ]
  },
  {
   "cell_type": "code",
   "execution_count": 5,
   "metadata": {},
   "outputs": [
    {
     "name": "stdout",
     "output_type": "stream",
     "text": [
      "   flags                                        instruction category  \\\n",
      "0      B        question about cancelling order ORD-2375129    order   \n",
      "1    BQZ  i have a question about cancelling oorder ORD-...    order   \n",
      "2   BLQZ         i need help cancelling puchase ORD-9931353    order   \n",
      "3     BL              i need to cancel purchase ORD-5570202    order   \n",
      "4  BCELN  i cannot afford this order, cancel purchase OR...    order   \n",
      "\n",
      "         intent                                           response  \\\n",
      "0  cancel_order  I've understood you have a question regarding ...   \n",
      "1  cancel_order  I've been informed that you have a question ab...   \n",
      "2  cancel_order  I can sense that you're seeking assistance wit...   \n",
      "3  cancel_order  I understood that you need assistance with can...   \n",
      "4  cancel_order  I'm sensitive to the fact that you're facing f...   \n",
      "\n",
      "   has_placeholder ner_labels_only  \n",
      "0             True              []  \n",
      "1             True              []  \n",
      "2             True              []  \n",
      "3             True              []  \n",
      "4             True              []  \n"
     ]
    }
   ],
   "source": [
    "import re\n",
    "import pandas as pd\n",
    "from faker import Faker\n",
    "\n",
    "# Initialize Faker\n",
    "fake = Faker()\n",
    "\n",
    "# Define synthetic data generators\n",
    "data_generators = {\n",
    "    'order number': lambda: fake.unique.bothify(text='ORD-#######'),\n",
    "    'account type': lambda: fake.random_element(elements=('Business', 'Personal','Silver', 'Gold', 'Platinum')),\n",
    "    'person name': lambda: fake.name(),\n",
    "    'account category': lambda: fake.random_element(elements=('Category A', 'Category B', 'Category C')),\n",
    "    'refund amount': lambda: f\"${fake.random_number(digits=3)}.00\",\n",
    "    'currency symbol': lambda: fake.currency_symbol(),\n",
    "    'delivery city': lambda: fake.city(),\n",
    "    'delivery country': lambda: fake.country(),\n",
    "    'invoice number': lambda: fake.unique.bothify(text='INV#####')\n",
    "}\n",
    "\n",
    "# Function to replace placeholders and track NER labels\n",
    "def replace_placeholders(text, data_generators):\n",
    "    if pd.isnull(text):\n",
    "        return text, []  # Return empty list for NER labels\n",
    "\n",
    "    placeholder_pattern = re.compile(r'\\{\\{(.*?)\\}\\}')  # Match placeholders {{...}}\n",
    "    placeholders = placeholder_pattern.findall(text)\n",
    "    ner_labels = []  # Store entity labels\n",
    "\n",
    "    for placeholder in placeholders:\n",
    "        placeholder_cleaned = placeholder.strip().lower()  # Normalize case\n",
    "        if placeholder_cleaned in data_generators:\n",
    "            replacement_value = data_generators[placeholder_cleaned]()  # Generate synthetic data\n",
    "            text = text.replace(f'{{{{{placeholder}}}}}', replacement_value, 1)  # Replace placeholder\n",
    "\n",
    "            # Append entity info in required format\n",
    "            ner_labels.append({'text': replacement_value, 'label': placeholder_cleaned.replace(\" \", \"_\")})\n",
    "\n",
    "    return text, ner_labels\n",
    "\n",
    "# Apply the placeholder replacement function\n",
    "df[['instruction', 'ner_labels_only']] = df['instruction'].apply(\n",
    "    lambda x: pd.Series(replace_placeholders(x, data_generators))\n",
    ")\n",
    "\n",
    "# Ensure all rows are retained, even if ner_labels is empty\n",
    "df['ner_labels_only'] = df.apply(lambda row: row['ner_labels_only'] if row['has_placeholder'] else [], axis=1)\n",
    "\n",
    "print(df.head())\n",
    "\n",
    "df.to_csv(\"synthetic_data.csv\", index=False)\n"
   ]
  },
  {
   "cell_type": "markdown",
   "metadata": {},
   "source": [
    "## Function to Create BIO Tags\n"
   ]
  },
  {
   "cell_type": "code",
   "execution_count": 56,
   "metadata": {},
   "outputs": [],
   "source": [
    "import re\n",
    "\n",
    "# Function to generate BIO tags\n",
    "def generate_bio_tags(instruction, ner_labels):\n",
    "    # Tokenize the instruction into words using regex to handle punctuation\n",
    "    tokens = re.findall(r'\\w+|[^\\w\\s]', instruction)\n",
    "    \n",
    "    # Initialize BIO tags as 'O' (Outside) for all tokens\n",
    "    bio_tags = ['O'] * len(tokens)\n",
    "    \n",
    "    # Process each entity in ner_labels\n",
    "    for entity in ner_labels:\n",
    "        entity_text = entity['text']\n",
    "        entity_label = entity['label']\n",
    "        \n",
    "        # Tokenize the entity text using the same regex\n",
    "        entity_tokens = re.findall(r'\\w+|[^\\w\\s]', entity_text)\n",
    "        \n",
    "        # Find the start index of the entity in the instruction\n",
    "        try:\n",
    "            # Create a sliding window to find the entity tokens in the instruction tokens\n",
    "            for i in range(len(tokens) - len(entity_tokens) + 1):\n",
    "                if tokens[i:i + len(entity_tokens)] == entity_tokens:\n",
    "                    # Assign BIO tags\n",
    "                    for j in range(len(entity_tokens)):\n",
    "                        if j == 0:\n",
    "                            bio_tags[i + j] = f\"B-{entity_label}\"  # Beginning of the entity\n",
    "                        else:\n",
    "                            bio_tags[i + j] = f\"I-{entity_label}\"  # Inside the entity\n",
    "                    break  # Stop after finding the first match\n",
    "        except Exception as e:\n",
    "            # If the entity text is not found in the tokens, log the error\n",
    "            print(f\"Error processing entity '{entity_text}' in instruction: {instruction}\")\n",
    "            continue\n",
    "    \n",
    "    return tokens, bio_tags\n",
    "\n"
   ]
  },
  {
   "cell_type": "code",
   "execution_count": 57,
   "metadata": {},
   "outputs": [
    {
     "name": "stdout",
     "output_type": "stream",
     "text": [
      "                                             instruction  \\\n",
      "0            question about cancelling order ORD-0024313   \n",
      "1      i have a question about cancelling oorder ORD-...   \n",
      "2             i need help cancelling puchase ORD-5234590   \n",
      "3                  i need to cancel purchase ORD-4702799   \n",
      "4      i cannot afford this order, cancel purchase OR...   \n",
      "...                                                  ...   \n",
      "26863  assistance seeing if there is anything wrong w...   \n",
      "26866        check the current status of my compensation   \n",
      "26868  how to see if there is anything wrong with my ...   \n",
      "26870  i don't know what to do to see my reimbursemen...   \n",
      "26871  i need to know if there is anything new on the...   \n",
      "\n",
      "                                         ner_labels_only  \\\n",
      "0      [{'text': 'ORD-0024313', 'label': 'order_numbe...   \n",
      "1      [{'text': 'ORD-0010852', 'label': 'order_numbe...   \n",
      "2      [{'text': 'ORD-5234590', 'label': 'order_numbe...   \n",
      "3      [{'text': 'ORD-4702799', 'label': 'order_numbe...   \n",
      "4      [{'text': 'ORD-7391975', 'label': 'order_numbe...   \n",
      "...                                                  ...   \n",
      "26863                                                 []   \n",
      "26866                                                 []   \n",
      "26868                                                 []   \n",
      "26870                                                 []   \n",
      "26871                                                 []   \n",
      "\n",
      "                                                  tokens  \\\n",
      "0      [question, about, cancelling, order, ORD, -, 0...   \n",
      "1      [i, have, a, question, about, cancelling, oord...   \n",
      "2      [i, need, help, cancelling, puchase, ORD, -, 5...   \n",
      "3       [i, need, to, cancel, purchase, ORD, -, 4702799]   \n",
      "4      [i, cannot, afford, this, order, ,, cancel, pu...   \n",
      "...                                                  ...   \n",
      "26863  [assistance, seeing, if, there, is, anything, ...   \n",
      "26866  [check, the, current, status, of, my, compensa...   \n",
      "26868  [how, to, see, if, there, is, anything, wrong,...   \n",
      "26870  [i, don, ', t, know, what, to, do, to, see, my...   \n",
      "26871  [i, need, to, know, if, there, is, anything, n...   \n",
      "\n",
      "                                                    tags  \n",
      "0      [O, O, O, O, B-order_number, I-order_number, I...  \n",
      "1      [O, O, O, O, O, O, O, B-order_number, I-order_...  \n",
      "2      [O, O, O, O, O, B-order_number, I-order_number...  \n",
      "3      [O, O, O, O, O, B-order_number, I-order_number...  \n",
      "4      [O, O, O, O, O, O, O, O, B-order_number, I-ord...  \n",
      "...                                                  ...  \n",
      "26863                     [O, O, O, O, O, O, O, O, O, O]  \n",
      "26866                              [O, O, O, O, O, O, O]  \n",
      "26868               [O, O, O, O, O, O, O, O, O, O, O, O]  \n",
      "26870            [O, O, O, O, O, O, O, O, O, O, O, O, O]  \n",
      "26871               [O, O, O, O, O, O, O, O, O, O, O, O]  \n",
      "\n",
      "[24371 rows x 4 columns]\n"
     ]
    }
   ],
   "source": [
    "# Apply the BIO tag generation function\n",
    "df['bio_tags'] = df.apply(lambda row: generate_bio_tags(row['instruction'], row['ner_labels_only']), axis=1)\n",
    "\n",
    "# Split the result into separate columns for tokens and tags\n",
    "df[['tokens', 'tags']] = pd.DataFrame(df['bio_tags'].tolist(), index=df.index)\n",
    "\n",
    "# Drop the intermediate 'bio_tags' column\n",
    "df.drop(columns=['bio_tags'], inplace=True)\n",
    "\n",
    "# Display the final DataFrame\n",
    "print(df[['instruction', 'ner_labels_only', 'tokens', 'tags']])\n"
   ]
  },
  {
   "cell_type": "code",
   "execution_count": 59,
   "metadata": {},
   "outputs": [
    {
     "name": "stdout",
     "output_type": "stream",
     "text": [
      "Total number of mismatched examples: 0\n",
      "Number of valid examples after filtering: 24371\n"
     ]
    }
   ],
   "source": [
    "# Initialize a counter for mismatched examples\n",
    "mismatch_count = 0\n",
    "NER_LABELS =  ['O', 'B-person_name', 'I-person_name', \n",
    "               'B-account_type', 'I-account_type', \n",
    "               'B-account_category', 'I-account_category',\n",
    "               'B-order_number', 'I-order_number', \n",
    "               'B-refund_amount', 'I-refund_amount',\n",
    "               'B-delivery_city', 'I-delivery_city' ,\n",
    "               'B-currency_symbol','I-currency_symbol', \n",
    "               'B-invoice_number',  'I-invoice_number',\n",
    "               'B-delivery_country',  'I-delivery_country']\n",
    "NER_LABELS_TO_IDX = {label: idx for idx, label in enumerate(NER_LABELS)}\n",
    "IDX_TO_NER_LABELS = {idx: label for label, idx in NER_LABELS_TO_IDX.items()}\n",
    "\n",
    "# Function to validate alignment between tokens and tags\n",
    "def validate_alignment(example):\n",
    "    global mismatch_count  # Use the global counter\n",
    "    \n",
    "    tokens = example['tokens']\n",
    "    tags = example['tags']\n",
    "    \n",
    "    # Check if lengths match\n",
    "    if len(tokens) != len(tags):\n",
    "        mismatch_count += 1  # Increment the mismatch counter\n",
    "        print(f\"Warning: Mismatched lengths - Tokens: {len(tokens)}, Tags: {len(tags)}\")\n",
    "        print(f\"Tokens: {tokens}\")\n",
    "        print(f\"Tags: {tags}\")\n",
    "        return False  # Exclude this example from the dataset\n",
    "    \n",
    "    # Ensure all tags are valid\n",
    "    for tag in tags:\n",
    "        if tag not in NER_LABELS_TO_IDX:\n",
    "            print(f\"Warning: Invalid tag '{tag}' in example.\")\n",
    "            return False  # Exclude this example from the dataset\n",
    "    \n",
    "    return True  # Include this example in the dataset\n",
    "\n",
    "# Filter the dataset to include only aligned examples\n",
    "df = df[df.apply(validate_alignment, axis=1)]\n",
    "\n",
    "# Print the total number of mismatched examples\n",
    "print(f\"Total number of mismatched examples: {mismatch_count}\")\n",
    "print(f\"Number of valid examples after filtering: {len(df)}\")\n"
   ]
  },
  {
   "cell_type": "code",
   "execution_count": 60,
   "metadata": {},
   "outputs": [],
   "source": [
    "\n",
    "df.to_csv('final_data_v1.csv', index=False)\n"
   ]
  },
  {
   "cell_type": "markdown",
   "metadata": {},
   "source": [
    "# intent category\n"
   ]
  },
  {
   "cell_type": "code",
   "execution_count": 12,
   "metadata": {},
   "outputs": [
    {
     "name": "stdout",
     "output_type": "stream",
     "text": [
      "   flags                                        instruction category  \\\n",
      "0      B   question about cancelling order {{Order Number}}    ORDER   \n",
      "1    BQZ  i have a question about cancelling oorder {{Or...    ORDER   \n",
      "2   BLQZ    i need help cancelling puchase {{Order Number}}    ORDER   \n",
      "3     BL         I need to cancel purchase {{Order Number}}    ORDER   \n",
      "4  BCELN  I cannot afford this order, cancel purchase {{...    ORDER   \n",
      "\n",
      "         intent                                           response  \n",
      "0  cancel_order  I've understood you have a question regarding ...  \n",
      "1  cancel_order  I've been informed that you have a question ab...  \n",
      "2  cancel_order  I can sense that you're seeking assistance wit...  \n",
      "3  cancel_order  I understood that you need assistance with can...  \n",
      "4  cancel_order  I'm sensitive to the fact that you're facing f...  \n"
     ]
    }
   ],
   "source": [
    "import pandas as pd\n",
    "\n",
    "# Load the dataset\n",
    "df = pd.read_csv('../dataset/dataset.csv')\n",
    "\n",
    "# Inspect the dataset\n",
    "print(df.head())\n",
    "\n"
   ]
  },
  {
   "cell_type": "code",
   "execution_count": 69,
   "metadata": {},
   "outputs": [
    {
     "name": "stdout",
     "output_type": "stream",
     "text": [
      "Category Counts:\n",
      " category\n",
      "account     1911\n",
      "feedback    1837\n",
      "shipping    1829\n",
      "invoice     1791\n",
      "payment     1696\n",
      "contact     1692\n",
      "refund      1691\n",
      "Name: count, dtype: int64\n"
     ]
    }
   ],
   "source": [
    "import pandas as pd\n",
    "\n",
    "# Assuming your DataFrame is named 'df' and the column is named 'category'\n",
    "category_counts = df['category'].value_counts()\n",
    "\n",
    "\n",
    "# Print the category counts as a table\n",
    "print(\"Category Counts:\\n\", category_counts)\n"
   ]
  },
  {
   "cell_type": "code",
   "execution_count": 70,
   "metadata": {},
   "outputs": [
    {
     "name": "stdout",
     "output_type": "stream",
     "text": [
      "Category Counts:\n",
      " intent\n",
      "review                      997\n",
      "set_up_shipping_address     997\n",
      "recover_password            995\n",
      "delete_account              916\n",
      "get_invoice                 898\n",
      "check_invoice               893\n",
      "get_refund                  866\n",
      "payment_issue               857\n",
      "contact_human_agent         850\n",
      "contact_customer_service    842\n",
      "complaint                   840\n",
      "check_payment_methods       839\n",
      "change_shipping_address     832\n",
      "check_refund_policy         825\n",
      "Name: count, dtype: int64\n"
     ]
    }
   ],
   "source": [
    "import pandas as pd\n",
    "\n",
    "# Assuming your DataFrame is named 'df' and the column is named 'category'\n",
    "category_counts = df['intent'].value_counts()\n",
    "\n",
    "\n",
    "# Print the category counts as a table\n",
    "print(\"Category Counts:\\n\", category_counts)\n"
   ]
  },
  {
   "cell_type": "code",
   "execution_count": 71,
   "metadata": {},
   "outputs": [],
   "source": [
    "# List of intents to drop\n",
    "intents_to_drop = [\n",
    "    'create_account',\n",
    "    'change_order',\n",
    "    'switch_account',\n",
    "    'track_order',\n",
    "    'edit_account',\n",
    "    'track_refund',\n",
    "    'delivery_options',\n",
    "    'cancel_order'\n",
    "]\n",
    "\n",
    "# Drop rows where 'intent' is in the list of intents to drop\n",
    "df = df[~df['intent'].isin(intents_to_drop)]\n",
    "\n"
   ]
  },
  {
   "cell_type": "code",
   "execution_count": 72,
   "metadata": {},
   "outputs": [
    {
     "name": "stdout",
     "output_type": "stream",
     "text": [
      "                      intent  category  count\n",
      "11          recover_password   account    995\n",
      "7             delete_account   account    916\n",
      "6        contact_human_agent   contact    850\n",
      "5   contact_customer_service   contact    842\n",
      "12                    review  feedback    997\n",
      "4                  complaint  feedback    840\n",
      "8                get_invoice   invoice    898\n",
      "1              check_invoice   invoice    893\n",
      "10             payment_issue   payment    857\n",
      "2      check_payment_methods   payment    839\n",
      "9                 get_refund    refund    866\n",
      "3        check_refund_policy    refund    825\n",
      "13   set_up_shipping_address  shipping    997\n",
      "0    change_shipping_address  shipping    832\n"
     ]
    }
   ],
   "source": [
    "# Group by 'intent' and 'category' and count the occurrences\n",
    "intent_category_counts = df.groupby(['intent', 'category']).size().reset_index(name='count')\n",
    "\n",
    "# Sort by 'category' and then by 'count' in descending order\n",
    "intent_category_counts = intent_category_counts.sort_values(by=['category', 'count'], ascending=[True, False])\n",
    "\n",
    "# Display the result\n",
    "print(intent_category_counts)\n"
   ]
  },
  {
   "cell_type": "code",
   "execution_count": 73,
   "metadata": {},
   "outputs": [
    {
     "name": "stdout",
     "output_type": "stream",
     "text": [
      "                                             instruction  \\\n",
      "0      Maria Alexander give me information about a de...   \n",
      "1                Jeffrey Singh need to update my address   \n",
      "2      i entered a Sarah Meadows wrong address, updat...   \n",
      "3          i have an trouble editing the address $960.00   \n",
      "4      Matthew Alexander help modifying the shipping ...   \n",
      "...                                                  ...   \n",
      "13942  what do i need to do to set my shipping addres...   \n",
      "13943                issue entering the shipping address   \n",
      "13944  there are errors setting up a different shippi...   \n",
      "13945  i would like to set up the new shipping addres...   \n",
      "13946    can you help me set up my new shipping address?   \n",
      "\n",
      "                        intent  category  has_placeholder  \\\n",
      "0      change_shipping_address  shipping             True   \n",
      "1      change_shipping_address  shipping             True   \n",
      "2      change_shipping_address  shipping             True   \n",
      "3      change_shipping_address  shipping             True   \n",
      "4      change_shipping_address  shipping             True   \n",
      "...                        ...       ...              ...   \n",
      "13942  set_up_shipping_address  shipping            False   \n",
      "13943  set_up_shipping_address  shipping            False   \n",
      "13944  set_up_shipping_address  shipping            False   \n",
      "13945  set_up_shipping_address  shipping            False   \n",
      "13946  set_up_shipping_address  shipping            False   \n",
      "\n",
      "                                         ner_labels_only  \\\n",
      "0      [{'text': 'Maria Alexander', 'label': 'person_...   \n",
      "1      [{'text': 'Jeffrey Singh', 'label': 'person_na...   \n",
      "2      [{'text': 'Sarah Meadows', 'label': 'person_na...   \n",
      "3        [{'text': '$960.00', 'label': 'refund_amount'}]   \n",
      "4      [{'text': 'Matthew Alexander', 'label': 'perso...   \n",
      "...                                                  ...   \n",
      "13942                                                 []   \n",
      "13943                                                 []   \n",
      "13944                                                 []   \n",
      "13945                                                 []   \n",
      "13946                                                 []   \n",
      "\n",
      "                                                  tokens  \\\n",
      "0      [Maria, Alexander, give, me, information, abou...   \n",
      "1        [Jeffrey, Singh, need, to, update, my, address]   \n",
      "2      [i, entered, a, Sarah, Meadows, wrong, address...   \n",
      "3      [i, have, an, trouble, editing, the, address, ...   \n",
      "4      [Matthew, Alexander, help, modifying, the, shi...   \n",
      "...                                                  ...   \n",
      "13942  [what, do, i, need, to, do, to, set, my, shipp...   \n",
      "13943          [issue, entering, the, shipping, address]   \n",
      "13944  [there, are, errors, setting, up, a, different...   \n",
      "13945  [i, would, like, to, set, up, the, new, shippi...   \n",
      "13946  [can, you, help, me, set, up, my, new, shippin...   \n",
      "\n",
      "                                                    tags  \n",
      "0      [B-person_name, I-person_name, O, O, O, O, O, ...  \n",
      "1          [B-person_name, I-person_name, O, O, O, O, O]  \n",
      "2      [O, O, O, B-person_name, I-person_name, O, O, ...  \n",
      "3      [O, O, O, O, O, O, O, B-refund_amount, I-refun...  \n",
      "4          [B-person_name, I-person_name, O, O, O, O, O]  \n",
      "...                                                  ...  \n",
      "13942            [O, O, O, O, O, O, O, O, O, O, O, O, O]  \n",
      "13943                                    [O, O, O, O, O]  \n",
      "13944                        [O, O, O, O, O, O, O, O, O]  \n",
      "13945         [O, O, O, O, O, O, O, O, O, O, O, O, O, O]  \n",
      "13946                  [O, O, O, O, O, O, O, O, O, O, O]  \n",
      "\n",
      "[12447 rows x 7 columns]\n"
     ]
    }
   ],
   "source": [
    "# List of intents to drop\n",
    "intents_to_drop = [\n",
    "    'registration_problems',\n",
    "    'check_cancellation_fee',\n",
    "    'delivery_period',\n",
    "    'place_order',\n",
    "    'newsletter_subscription'\n",
    "]\n",
    "\n",
    "# Drop rows where 'intent' is in the list of intents to drop\n",
    "df = df[~df['intent'].isin(intents_to_drop)]\n",
    "\n",
    "\n",
    "\n",
    "# Display the updated DataFrame\n",
    "print(df)\n"
   ]
  },
  {
   "cell_type": "code",
   "execution_count": 74,
   "metadata": {},
   "outputs": [
    {
     "name": "stdout",
     "output_type": "stream",
     "text": [
      "Total unique intent labels: 14\n"
     ]
    }
   ],
   "source": [
    "# Get the total number of unique intent labels\n",
    "unique_intent_count = df['intent'].nunique()\n",
    "\n",
    "# Display the result\n",
    "print(f'Total unique intent labels: {unique_intent_count}')\n"
   ]
  },
  {
   "cell_type": "code",
   "execution_count": 75,
   "metadata": {},
   "outputs": [
    {
     "name": "stdout",
     "output_type": "stream",
     "text": [
      "Category Counts:\n",
      " category\n",
      "account     1911\n",
      "feedback    1837\n",
      "shipping    1829\n",
      "invoice     1791\n",
      "payment     1696\n",
      "contact     1692\n",
      "refund      1691\n",
      "Name: count, dtype: int64\n"
     ]
    }
   ],
   "source": [
    "import pandas as pd\n",
    "\n",
    "# Assuming your DataFrame is named 'df' and the column is named 'category'\n",
    "category_counts = df['category'].value_counts()\n",
    "\n",
    "\n",
    "# Print the category counts as a table\n",
    "print(\"Category Counts:\\n\", category_counts)\n"
   ]
  },
  {
   "cell_type": "code",
   "execution_count": 76,
   "metadata": {},
   "outputs": [
    {
     "name": "stdout",
     "output_type": "stream",
     "text": [
      "                      intent  category  total_count\n",
      "7             delete_account   account          916\n",
      "11          recover_password   account          995\n",
      "5   contact_customer_service   contact          842\n",
      "6        contact_human_agent   contact          850\n",
      "4                  complaint  feedback          840\n",
      "12                    review  feedback          997\n",
      "1              check_invoice   invoice          893\n",
      "8                get_invoice   invoice          898\n",
      "2      check_payment_methods   payment          839\n",
      "10             payment_issue   payment          857\n",
      "3        check_refund_policy    refund          825\n",
      "9                 get_refund    refund          866\n",
      "0    change_shipping_address  shipping          832\n",
      "13   set_up_shipping_address  shipping          997\n"
     ]
    }
   ],
   "source": [
    "# Group by 'intent' and 'category' and count the rows\n",
    "result = df.groupby(['intent', 'category']).size().reset_index(name='total_count')\n",
    "\n",
    "# Sort the result by 'category' in ascending order\n",
    "result = result.sort_values(by='category', ascending=True)\n",
    "\n",
    "# Print the result\n",
    "print(result)\n"
   ]
  },
  {
   "cell_type": "code",
   "execution_count": null,
   "metadata": {},
   "outputs": [],
   "source": [
    "df.to_csv('final_output.csv', index=False)\n"
   ]
  },
  {
   "cell_type": "code",
   "execution_count": 77,
   "metadata": {},
   "outputs": [
    {
     "data": {
      "image/png": "[encoded data removed]",
      "text/plain": [
       "<Figure size 1200x800 with 1 Axes>"
      ]
     },
     "metadata": {},
     "output_type": "display_data"
    }
   ],
   "source": [
    "import pandas as pd\n",
    "import matplotlib.pyplot as plt\n",
    "import seaborn as sns\n",
    "\n",
    "# Assuming df is your DataFrame\n",
    "# Group by 'intent' and 'category' and count the occurrences\n",
    "intent_category_counts = df.groupby(['intent', 'category']).size().reset_index(name='count')\n",
    "\n",
    "# Sort by 'category' and then by 'count' in descending order\n",
    "intent_category_counts = intent_category_counts.sort_values(by=['category', 'count'], ascending=[True, False])\n",
    "\n",
    "# Plotting\n",
    "plt.figure(figsize=(12, 8))\n",
    "sns.barplot(x='count', y='intent', hue='category', data=intent_category_counts, dodge=False)\n",
    "\n",
    "# Adding labels and title\n",
    "plt.xlabel('Count')\n",
    "plt.ylabel('Intent')\n",
    "plt.title('Count of Intents by Category')\n",
    "plt.legend(title='Category', bbox_to_anchor=(1.05, 1), loc='upper left')\n",
    "\n",
    "# Display the plot\n",
    "plt.tight_layout()\n",
    "plt.show()\n"
   ]
  },
  {
   "cell_type": "code",
   "execution_count": null,
   "metadata": {},
   "outputs": [],
   "source": []
  }
 ],
 "metadata": {
  "kernelspec": {
   "display_name": "Python 3",
   "language": "python",
   "name": "python3"
  },
  "language_info": {
   "codemirror_mode": {
    "name": "ipython",
    "version": 3
   },
   "file_extension": ".py",
   "mimetype": "text/x-python",
   "name": "python",
   "nbconvert_exporter": "python",
   "pygments_lexer": "ipython3",
   "version": "3.11.9"
  }
 },
 "nbformat": 4,
 "nbformat_minor": 2
}
