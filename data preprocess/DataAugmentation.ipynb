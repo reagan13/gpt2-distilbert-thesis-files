{
 "cells": [
  {
   "cell_type": "code",
   "execution_count": null,
   "metadata": {},
   "outputs": [
    {
     "name": "stdout",
     "output_type": "stream",
     "text": [
      "Requirement already satisfied: transformers in c:\\users\\reaga\\appdata\\local\\packages\\pythonsoftwarefoundation.python.3.11_qbz5n2kfra8p0\\localcache\\local-packages\\python311\\site-packages (4.46.3)\n",
      "Requirement already satisfied: filelock in c:\\users\\reaga\\appdata\\local\\packages\\pythonsoftwarefoundation.python.3.11_qbz5n2kfra8p0\\localcache\\local-packages\\python311\\site-packages (from transformers) (3.16.1)\n",
      "Requirement already satisfied: huggingface-hub<1.0,>=0.23.2 in c:\\users\\reaga\\appdata\\local\\packages\\pythonsoftwarefoundation.python.3.11_qbz5n2kfra8p0\\localcache\\local-packages\\python311\\site-packages (from transformers) (0.26.3)\n",
      "Requirement already satisfied: numpy>=1.17 in c:\\users\\reaga\\appdata\\local\\packages\\pythonsoftwarefoundation.python.3.11_qbz5n2kfra8p0\\localcache\\local-packages\\python311\\site-packages (from transformers) (1.26.4)\n",
      "Requirement already satisfied: packaging>=20.0 in c:\\users\\reaga\\appdata\\local\\packages\\pythonsoftwarefoundation.python.3.11_qbz5n2kfra8p0\\localcache\\local-packages\\python311\\site-packages (from transformers) (23.1)\n",
      "Requirement already satisfied: pyyaml>=5.1 in c:\\users\\reaga\\appdata\\local\\packages\\pythonsoftwarefoundation.python.3.11_qbz5n2kfra8p0\\localcache\\local-packages\\python311\\site-packages (from transformers) (6.0.2)\n",
      "Requirement already satisfied: regex!=2019.12.17 in c:\\users\\reaga\\appdata\\local\\packages\\pythonsoftwarefoundation.python.3.11_qbz5n2kfra8p0\\localcache\\local-packages\\python311\\site-packages (from transformers) (2024.9.11)\n",
      "Requirement already satisfied: requests in c:\\users\\reaga\\appdata\\local\\packages\\pythonsoftwarefoundation.python.3.11_qbz5n2kfra8p0\\localcache\\local-packages\\python311\\site-packages (from transformers) (2.32.3)\n",
      "Requirement already satisfied: tokenizers<0.21,>=0.20 in c:\\users\\reaga\\appdata\\local\\packages\\pythonsoftwarefoundation.python.3.11_qbz5n2kfra8p0\\localcache\\local-packages\\python311\\site-packages (from transformers) (0.20.3)\n",
      "Requirement already satisfied: safetensors>=0.4.1 in c:\\users\\reaga\\appdata\\local\\packages\\pythonsoftwarefoundation.python.3.11_qbz5n2kfra8p0\\localcache\\local-packages\\python311\\site-packages (from transformers) (0.4.5)\n",
      "Requirement already satisfied: tqdm>=4.27 in c:\\users\\reaga\\appdata\\local\\packages\\pythonsoftwarefoundation.python.3.11_qbz5n2kfra8p0\\localcache\\local-packages\\python311\\site-packages (from transformers) (4.67.1)\n",
      "Requirement already satisfied: fsspec>=2023.5.0 in c:\\users\\reaga\\appdata\\local\\packages\\pythonsoftwarefoundation.python.3.11_qbz5n2kfra8p0\\localcache\\local-packages\\python311\\site-packages (from huggingface-hub<1.0,>=0.23.2->transformers) (2023.6.0)\n",
      "Requirement already satisfied: typing-extensions>=3.7.4.3 in c:\\users\\reaga\\appdata\\local\\packages\\pythonsoftwarefoundation.python.3.11_qbz5n2kfra8p0\\localcache\\local-packages\\python311\\site-packages (from huggingface-hub<1.0,>=0.23.2->transformers) (4.12.2)\n",
      "Requirement already satisfied: colorama in c:\\users\\reaga\\appdata\\local\\packages\\pythonsoftwarefoundation.python.3.11_qbz5n2kfra8p0\\localcache\\local-packages\\python311\\site-packages (from tqdm>=4.27->transformers) (0.4.6)\n",
      "Requirement already satisfied: charset-normalizer<4,>=2 in c:\\users\\reaga\\appdata\\local\\packages\\pythonsoftwarefoundation.python.3.11_qbz5n2kfra8p0\\localcache\\local-packages\\python311\\site-packages (from requests->transformers) (3.1.0)\n",
      "Requirement already satisfied: idna<4,>=2.5 in c:\\users\\reaga\\appdata\\local\\packages\\pythonsoftwarefoundation.python.3.11_qbz5n2kfra8p0\\localcache\\local-packages\\python311\\site-packages (from requests->transformers) (3.4)\n",
      "Requirement already satisfied: urllib3<3,>=1.21.1 in c:\\users\\reaga\\appdata\\local\\packages\\pythonsoftwarefoundation.python.3.11_qbz5n2kfra8p0\\localcache\\local-packages\\python311\\site-packages (from requests->transformers) (2.0.3)\n",
      "Requirement already satisfied: certifi>=2017.4.17 in c:\\users\\reaga\\appdata\\local\\packages\\pythonsoftwarefoundation.python.3.11_qbz5n2kfra8p0\\localcache\\local-packages\\python311\\site-packages (from requests->transformers) (2023.5.7)\n",
      "Note: you may need to restart the kernel to use updated packages.\n"
     ]
    },
    {
     "name": "stderr",
     "output_type": "stream",
     "text": [
      "\n",
      "[notice] A new release of pip is available: 24.3.1 -> 25.0\n",
      "[notice] To update, run: C:\\Users\\reaga\\AppData\\Local\\Microsoft\\WindowsApps\\PythonSoftwareFoundation.Python.3.11_qbz5n2kfra8p0\\python.exe -m pip install --upgrade pip\n"
     ]
    }
   ],
   "source": [
    "pip install transformers\n"
   ]
  },
  {
   "cell_type": "code",
   "execution_count": null,
   "metadata": {},
   "outputs": [
    {
     "name": "stdout",
     "output_type": "stream",
     "text": [
      "Collecting sentencepiece\n",
      "  Downloading sentencepiece-0.2.0-cp311-cp311-win_amd64.whl.metadata (8.3 kB)\n",
      "Downloading sentencepiece-0.2.0-cp311-cp311-win_amd64.whl (991 kB)\n",
      "   ---------------------------------------- 0.0/991.5 kB ? eta -:--:--\n",
      "   --------------------- ------------------ 524.3/991.5 kB 3.4 MB/s eta 0:00:01\n",
      "   ---------------------------------------- 991.5/991.5 kB 4.2 MB/s eta 0:00:00\n",
      "Installing collected packages: sentencepiece\n",
      "Successfully installed sentencepiece-0.2.0\n",
      "Note: you may need to restart the kernel to use updated packages.\n"
     ]
    },
    {
     "name": "stderr",
     "output_type": "stream",
     "text": [
      "\n",
      "[notice] A new release of pip is available: 24.3.1 -> 25.0\n",
      "[notice] To update, run: C:\\Users\\reaga\\AppData\\Local\\Microsoft\\WindowsApps\\PythonSoftwareFoundation.Python.3.11_qbz5n2kfra8p0\\python.exe -m pip install --upgrade pip\n"
     ]
    }
   ],
   "source": [
    "pip install sentencepiece\n"
   ]
  },
  {
   "cell_type": "code",
   "execution_count": null,
   "metadata": {},
   "outputs": [],
   "source": [
    "pip install sacremoses\n"
   ]
  },
  {
   "cell_type": "code",
   "execution_count": null,
   "metadata": {},
   "outputs": [
    {
     "name": "stdout",
     "output_type": "stream",
     "text": [
      "Rows with placeholders: 10581\n",
      "\n",
      "Final Distribution of Placeholders:\n",
      "                      count\n",
      "{{person name}}        2387\n",
      "{{account type}}       1786\n",
      "{{account category}}   1704\n",
      "{{refund amount}}      1696\n",
      "{{currency symbol}}    1643\n",
      "{{invoice number}}     1508\n",
      "\n",
      "Total rows in the dataset: 13947\n"
     ]
    }
   ],
   "source": [
    "import pandas as pd\n",
    "import random\n",
    "from collections import Counter\n",
    "import re\n",
    "\n",
    "# Step 1: Read the dataset from CSV\n",
    "csv_file = \"intent_category.csv\"  # Replace with your actual file path\n",
    "df = pd.read_csv(csv_file)\n",
    "\n",
    "# Extract columns\n",
    "instructions = df['instruction'].tolist()\n",
    "intents = df['intent'].tolist()\n",
    "categories = df['category'].tolist()\n",
    "\n",
    "# Step 2: Define placeholders\n",
    "placeholders = [\n",
    "    \"{{account type}}\",\n",
    "    \"{{account category}}\",\n",
    "    \"{{refund amount}}\",\n",
    "    \"{{currency symbol}}\",\n",
    "    \"{{invoice number}}\",\n",
    "    \"{{person name}}\"\n",
    "]\n",
    "\n",
    "# Step 3: Target distribution\n",
    "target_count = 1500  # Each placeholder should appear exactly 1,500 times\n",
    "placeholder_counts = {placeholder: 0 for placeholder in placeholders}\n",
    "\n",
    "# Step 4: Inject placeholders into sentences (in-place)\n",
    "for idx, sentence in enumerate(instructions):\n",
    "    # Skip rows that already contain placeholders\n",
    "    if any(placeholder in sentence for placeholder in placeholders):\n",
    "        continue\n",
    "    \n",
    "    # Randomly select a placeholder that hasn't reached the target count\n",
    "    available_placeholders = [ph for ph in placeholders if placeholder_counts[ph] < target_count]\n",
    "    if not available_placeholders:\n",
    "        break  # Stop if all placeholders have reached the target count\n",
    "    \n",
    "    placeholder = random.choice(available_placeholders)\n",
    "    \n",
    "    # Randomly decide where to inject the placeholder\n",
    "    position = random.choice([\"beginning\", \"middle\", \"end\"])\n",
    "    words = sentence.split()\n",
    "    \n",
    "    if position == \"beginning\":\n",
    "        augmented_sentence = f\"{placeholder} {sentence}\"\n",
    "    elif position == \"middle\":\n",
    "        mid = len(words) // 2\n",
    "        augmented_sentence = \" \".join(words[:mid] + [placeholder] + words[mid:])\n",
    "    else:  # position == \"end\"\n",
    "        augmented_sentence = f\"{sentence} {placeholder}\"\n",
    "    \n",
    "    # Overwrite the original instruction with the augmented version\n",
    "    instructions[idx] = augmented_sentence\n",
    "    \n",
    "    # Update the count for the selected placeholder\n",
    "    placeholder_counts[placeholder] += 1\n",
    "\n",
    "# Step 5: Update the DataFrame with augmented instructions\n",
    "df['instruction'] = instructions\n",
    "\n",
    "# Step 6: Save the augmented dataset to a new CSV file\n",
    "output_csv_file = \"augmented_dataset.csv\"  # Replace with your desired output file path\n",
    "df.to_csv(output_csv_file, index=False)\n",
    "\n",
    "# Step 7: Validate the augmented dataset\n",
    "def extract_placeholders(text):\n",
    "    return re.findall(r'\\{\\{.*?\\}\\}', text)  # Match only valid placeholders\n",
    "\n",
    "# Detect rows with placeholders\n",
    "df['has_placeholder'] = df['instruction'].apply(lambda x: bool(extract_placeholders(x)))\n",
    "rows_with_placeholders = df['has_placeholder'].sum()\n",
    "\n",
    "# Count occurrences of each placeholder\n",
    "placeholders_extracted = df[df['has_placeholder']]['instruction'].apply(extract_placeholders).explode()\n",
    "placeholder_counts_final = Counter(placeholders_extracted)\n",
    "\n",
    "# Convert to DataFrame\n",
    "placeholder_df = pd.DataFrame.from_dict(placeholder_counts_final, orient='index', columns=['count'])\n",
    "\n",
    "# Display final results\n",
    "print(f\"Rows with placeholders: {rows_with_placeholders}\")\n",
    "print(\"\\nFinal Distribution of Placeholders:\")\n",
    "print(placeholder_df.sort_values(by='count', ascending=False))\n",
    "print(\"\\nTotal rows in the dataset:\", len(df))\n"
   ]
  },
  {
   "cell_type": "code",
   "execution_count": null,
   "metadata": {},
   "outputs": [],
   "source": []
  }
 ],
 "metadata": {
  "kernelspec": {
   "display_name": "Python 3",
   "language": "python",
   "name": "python3"
  },
  "language_info": {
   "codemirror_mode": {
    "name": "ipython",
    "version": 3
   },
   "file_extension": ".py",
   "mimetype": "text/x-python",
   "name": "python",
   "nbconvert_exporter": "python",
   "pygments_lexer": "ipython3",
   "version": "3.11.9"
  }
 },
 "nbformat": 4,
 "nbformat_minor": 2
}
