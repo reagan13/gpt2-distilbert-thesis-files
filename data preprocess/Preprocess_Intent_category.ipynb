{
 "cells": [
  {
   "cell_type": "code",
   "execution_count": 1,
   "metadata": {},
   "outputs": [
    {
     "name": "stdout",
     "output_type": "stream",
     "text": [
      "   flags                                        instruction category  \\\n",
      "0      B   question about cancelling order {{Order Number}}    ORDER   \n",
      "1    BQZ  i have a question about cancelling oorder {{Or...    ORDER   \n",
      "2   BLQZ    i need help cancelling puchase {{Order Number}}    ORDER   \n",
      "3     BL         I need to cancel purchase {{Order Number}}    ORDER   \n",
      "4  BCELN  I cannot afford this order, cancel purchase {{...    ORDER   \n",
      "\n",
      "         intent                                           response  \n",
      "0  cancel_order  I've understood you have a question regarding ...  \n",
      "1  cancel_order  I've been informed that you have a question ab...  \n",
      "2  cancel_order  I can sense that you're seeking assistance wit...  \n",
      "3  cancel_order  I understood that you need assistance with can...  \n",
      "4  cancel_order  I'm sensitive to the fact that you're facing f...  \n"
     ]
    }
   ],
   "source": [
    "import pandas as pd\n",
    "\n",
    "# Load the dataset\n",
    "df = pd.read_csv('../dataset/dataset.csv')\n",
    "\n",
    "# Inspect the dataset\n",
    "print(df.head())\n",
    "\n"
   ]
  },
  {
   "cell_type": "code",
   "execution_count": 3,
   "metadata": {},
   "outputs": [
    {
     "name": "stdout",
     "output_type": "stream",
     "text": [
      "Category Counts:\n",
      " category\n",
      "ACCOUNT         5986\n",
      "ORDER           3988\n",
      "REFUND          2992\n",
      "INVOICE         1999\n",
      "CONTACT         1999\n",
      "PAYMENT         1998\n",
      "FEEDBACK        1997\n",
      "DELIVERY        1994\n",
      "SHIPPING        1970\n",
      "SUBSCRIPTION     999\n",
      "CANCEL           950\n",
      "Name: count, dtype: int64\n"
     ]
    }
   ],
   "source": [
    "import pandas as pd\n",
    "\n",
    "# Assuming your DataFrame is named 'df' and the column is named 'category'\n",
    "category_counts = df['category'].value_counts()\n",
    "\n",
    "\n",
    "# Print the category counts as a table\n",
    "print(\"Category Counts:\\n\", category_counts)\n"
   ]
  },
  {
   "cell_type": "code",
   "execution_count": 4,
   "metadata": {},
   "outputs": [
    {
     "name": "stdout",
     "output_type": "stream",
     "text": [
      "Category Counts:\n",
      " intent\n",
      "edit_account                1000\n",
      "switch_account              1000\n",
      "check_invoice               1000\n",
      "complaint                   1000\n",
      "contact_customer_service    1000\n",
      "delivery_period              999\n",
      "registration_problems        999\n",
      "check_payment_methods        999\n",
      "contact_human_agent          999\n",
      "payment_issue                999\n",
      "newsletter_subscription      999\n",
      "get_invoice                  999\n",
      "place_order                  998\n",
      "cancel_order                 998\n",
      "track_refund                 998\n",
      "change_order                 997\n",
      "get_refund                   997\n",
      "create_account               997\n",
      "check_refund_policy          997\n",
      "review                       997\n",
      "set_up_shipping_address      997\n",
      "delivery_options             995\n",
      "delete_account               995\n",
      "recover_password             995\n",
      "track_order                  995\n",
      "change_shipping_address      973\n",
      "check_cancellation_fee       950\n",
      "Name: count, dtype: int64\n"
     ]
    }
   ],
   "source": [
    "import pandas as pd\n",
    "\n",
    "# Assuming your DataFrame is named 'df' and the column is named 'category'\n",
    "category_counts = df['intent'].value_counts()\n",
    "\n",
    "\n",
    "# Print the category counts as a table\n",
    "print(\"Category Counts:\\n\", category_counts)\n"
   ]
  },
  {
   "cell_type": "code",
   "execution_count": 5,
   "metadata": {},
   "outputs": [],
   "source": [
    "# List of intents to drop\n",
    "intents_to_drop = [\n",
    "    'create_account',\n",
    "    'change_order',\n",
    "    'switch_account',\n",
    "    'track_order',\n",
    "    'edit_account',\n",
    "    'track_refund',\n",
    "    'delivery_options',\n",
    "    'cancel_order'\n",
    "]\n",
    "\n",
    "# Drop rows where 'intent' is in the list of intents to drop\n",
    "df = df[~df['intent'].isin(intents_to_drop)]\n",
    "\n"
   ]
  },
  {
   "cell_type": "code",
   "execution_count": 6,
   "metadata": {},
   "outputs": [
    {
     "name": "stdout",
     "output_type": "stream",
     "text": [
      "                      intent      category  count\n",
      "16     registration_problems       ACCOUNT    999\n",
      "8             delete_account       ACCOUNT    995\n",
      "15          recover_password       ACCOUNT    995\n",
      "1     check_cancellation_fee        CANCEL    950\n",
      "6   contact_customer_service       CONTACT   1000\n",
      "7        contact_human_agent       CONTACT    999\n",
      "9            delivery_period      DELIVERY    999\n",
      "5                  complaint      FEEDBACK   1000\n",
      "17                    review      FEEDBACK    997\n",
      "2              check_invoice       INVOICE   1000\n",
      "10               get_invoice       INVOICE    999\n",
      "14               place_order         ORDER    998\n",
      "3      check_payment_methods       PAYMENT    999\n",
      "13             payment_issue       PAYMENT    999\n",
      "4        check_refund_policy        REFUND    997\n",
      "11                get_refund        REFUND    997\n",
      "18   set_up_shipping_address      SHIPPING    997\n",
      "0    change_shipping_address      SHIPPING    973\n",
      "12   newsletter_subscription  SUBSCRIPTION    999\n"
     ]
    }
   ],
   "source": [
    "# Group by 'intent' and 'category' and count the occurrences\n",
    "intent_category_counts = df.groupby(['intent', 'category']).size().reset_index(name='count')\n",
    "\n",
    "# Sort by 'category' and then by 'count' in descending order\n",
    "intent_category_counts = intent_category_counts.sort_values(by=['category', 'count'], ascending=[True, False])\n",
    "\n",
    "# Display the result\n",
    "print(intent_category_counts)\n"
   ]
  },
  {
   "cell_type": "code",
   "execution_count": 7,
   "metadata": {},
   "outputs": [
    {
     "name": "stdout",
     "output_type": "stream",
     "text": [
      "      flags                                        instruction  category  \\\n",
      "1995     BL  give me information about a delivery address m...  SHIPPING   \n",
      "1996    BLQ                          need to update my address  SHIPPING   \n",
      "1997    BCL               I entered a wrong address, update it  SHIPPING   \n",
      "1998   BLQZ              i have an trouble editing the address  SHIPPING   \n",
      "1999     BL                help modifying the shipping address  SHIPPING   \n",
      "...     ...                                                ...       ...   \n",
      "23874   BIL  what do I need to do to set my shipping addres...  SHIPPING   \n",
      "23875    BL                issue entering the shipping address  SHIPPING   \n",
      "23876   BLM  there are errors setting up a different shippi...  SHIPPING   \n",
      "23877  BCLP  I would like to set up the new shipping addres...  SHIPPING   \n",
      "23878   BIL    can you help me set up my new shipping address?  SHIPPING   \n",
      "\n",
      "                        intent  \\\n",
      "1995   change_shipping_address   \n",
      "1996   change_shipping_address   \n",
      "1997   change_shipping_address   \n",
      "1998   change_shipping_address   \n",
      "1999   change_shipping_address   \n",
      "...                        ...   \n",
      "23874  set_up_shipping_address   \n",
      "23875  set_up_shipping_address   \n",
      "23876  set_up_shipping_address   \n",
      "23877  set_up_shipping_address   \n",
      "23878  set_up_shipping_address   \n",
      "\n",
      "                                                response  \n",
      "1995   I'm happy to help! If you need information on ...  \n",
      "1996   I'll make it happen! I can assist you in modif...  \n",
      "1997   Apologies for the inconvenience caused. To upd...  \n",
      "1998   We apologize for the inconvenience. Please pro...  \n",
      "1999   We're here to assist you with modifying your s...  \n",
      "...                                                  ...  \n",
      "23874  I can sense that you're looking for guidance o...  \n",
      "23875  I've got that you're experiencing difficulty e...  \n",
      "23876  I realized that you're experiencing errors whi...  \n",
      "23877  I get that you would like assistance with sett...  \n",
      "23878  Of course, I'm here to assist you with setting...  \n",
      "\n",
      "[13947 rows x 5 columns]\n"
     ]
    }
   ],
   "source": [
    "# List of intents to drop\n",
    "intents_to_drop = [\n",
    "    'registration_problems',\n",
    "    'check_cancellation_fee',\n",
    "    'delivery_period',\n",
    "    'place_order',\n",
    "    'newsletter_subscription'\n",
    "]\n",
    "\n",
    "# Drop rows where 'intent' is in the list of intents to drop\n",
    "df = df[~df['intent'].isin(intents_to_drop)]\n",
    "\n",
    "\n",
    "\n",
    "# Display the updated DataFrame\n",
    "print(df)\n"
   ]
  },
  {
   "cell_type": "code",
   "execution_count": 8,
   "metadata": {},
   "outputs": [
    {
     "name": "stdout",
     "output_type": "stream",
     "text": [
      "Total unique intent labels: 14\n"
     ]
    }
   ],
   "source": [
    "# Get the total number of unique intent labels\n",
    "unique_intent_count = df['intent'].nunique()\n",
    "\n",
    "# Display the result\n",
    "print(f'Total unique intent labels: {unique_intent_count}')\n"
   ]
  },
  {
   "cell_type": "code",
   "execution_count": 9,
   "metadata": {},
   "outputs": [
    {
     "name": "stdout",
     "output_type": "stream",
     "text": [
      "Category Counts:\n",
      " category\n",
      "INVOICE     1999\n",
      "CONTACT     1999\n",
      "PAYMENT     1998\n",
      "FEEDBACK    1997\n",
      "REFUND      1994\n",
      "ACCOUNT     1990\n",
      "SHIPPING    1970\n",
      "Name: count, dtype: int64\n"
     ]
    }
   ],
   "source": [
    "import pandas as pd\n",
    "\n",
    "# Assuming your DataFrame is named 'df' and the column is named 'category'\n",
    "category_counts = df['category'].value_counts()\n",
    "\n",
    "\n",
    "# Print the category counts as a table\n",
    "print(\"Category Counts:\\n\", category_counts)\n"
   ]
  },
  {
   "cell_type": "code",
   "execution_count": null,
   "metadata": {},
   "outputs": [
    {
     "name": "stdout",
     "output_type": "stream",
     "text": [
      "                      intent  category  total_count\n",
      "7             delete_account   ACCOUNT          995\n",
      "11          recover_password   ACCOUNT          995\n",
      "5   contact_customer_service   CONTACT         1000\n",
      "6        contact_human_agent   CONTACT          999\n",
      "4                  complaint  FEEDBACK         1000\n",
      "12                    review  FEEDBACK          997\n",
      "1              check_invoice   INVOICE         1000\n",
      "8                get_invoice   INVOICE          999\n",
      "2      check_payment_methods   PAYMENT          999\n",
      "10             payment_issue   PAYMENT          999\n",
      "3        check_refund_policy    REFUND          997\n",
      "9                 get_refund    REFUND          997\n",
      "0    change_shipping_address  SHIPPING          973\n",
      "13   set_up_shipping_address  SHIPPING          997\n"
     ]
    }
   ],
   "source": [
    "# Group by 'intent' and 'category' and count the rows\n",
    "result = df.groupby(['intent', 'category']).size().reset_index(name='total_count')\n",
    "\n",
    "# Sort the result by 'category' in ascending order\n",
    "result = result.sort_values(by='category', ascending=True)\n",
    "\n",
    "# Print the result\n",
    "print(result)\n"
   ]
  },
  {
   "cell_type": "code",
   "execution_count": null,
   "metadata": {},
   "outputs": [
    {
     "name": "stdout",
     "output_type": "stream",
     "text": [
      "                      intent  category  total_count\n",
      "7             delete_account   ACCOUNT          995\n",
      "11          recover_password   ACCOUNT          995\n",
      "5   contact_customer_service   CONTACT         1000\n",
      "6        contact_human_agent   CONTACT          999\n",
      "4                  complaint  FEEDBACK         1000\n",
      "12                    review  FEEDBACK          997\n",
      "1              check_invoice   INVOICE         1000\n",
      "8                get_invoice   INVOICE          999\n",
      "2      check_payment_methods   PAYMENT          999\n",
      "10             payment_issue   PAYMENT          999\n",
      "3        check_refund_policy    REFUND          997\n",
      "9                 get_refund    REFUND          997\n",
      "0    change_shipping_address  SHIPPING          973\n",
      "13   set_up_shipping_address  SHIPPING          997\n"
     ]
    },
    {
     "data": {
      "image/png": "[encoded data removed]",
      "text/plain": [
       "<Figure size 1000x600 with 1 Axes>"
      ]
     },
     "metadata": {},
     "output_type": "display_data"
    }
   ],
   "source": [
    "import pandas as pd\n",
    "import matplotlib.pyplot as plt\n",
    "\n",
    "# Group by 'intent' and 'category' and count the rows\n",
    "result = df.groupby(['intent', 'category']).size().reset_index(name='total_count')\n",
    "\n",
    "# Sort the result by 'category' in ascending order\n",
    "result = result.sort_values(by='category', ascending=True)\n",
    "\n",
    "# Print the result\n",
    "print(result)\n",
    "\n",
    "# Plot the result\n",
    "plt.figure(figsize=(10, 6))\n",
    "for category in result['category'].unique():\n",
    "    subset = result[result['category'] == category]\n",
    "    plt.bar(subset['intent'], subset['total_count'], label=category)\n",
    "\n",
    "plt.xlabel('Intent')\n",
    "plt.ylabel('Total Count')\n",
    "plt.title('Intent and Category Counts')\n",
    "plt.legend(title='Category')\n",
    "plt.xticks(rotation=90)\n",
    "plt.tight_layout()\n",
    "plt.show()\n"
   ]
  },
  {
   "cell_type": "code",
   "execution_count": null,
   "metadata": {},
   "outputs": [],
   "source": [
    "# Drop all columns except 'instruction', 'intent', and 'category'\n",
    "df = df[['instruction', 'intent', 'category']]\n",
    "\n",
    "# Display the updated DataFrame\n",
    "print(df.head())\n"
   ]
  },
  {
   "cell_type": "code",
   "execution_count": null,
   "metadata": {},
   "outputs": [],
   "source": []
  },
  {
   "cell_type": "code",
   "execution_count": null,
   "metadata": {},
   "outputs": [],
   "source": [
    "df.to_csv('intent_category.csv', index=False)\n"
   ]
  },
  {
   "cell_type": "code",
   "execution_count": null,
   "metadata": {},
   "outputs": [],
   "source": []
  }
 ],
 "metadata": {
  "kernelspec": {
   "display_name": "Python 3",
   "language": "python",
   "name": "python3"
  },
  "language_info": {
   "codemirror_mode": {
    "name": "ipython",
    "version": 3
   },
   "file_extension": ".py",
   "mimetype": "text/x-python",
   "name": "python",
   "nbconvert_exporter": "python",
   "pygments_lexer": "ipython3",
   "version": "3.11.9"
  }
 },
 "nbformat": 4,
 "nbformat_minor": 2
}
