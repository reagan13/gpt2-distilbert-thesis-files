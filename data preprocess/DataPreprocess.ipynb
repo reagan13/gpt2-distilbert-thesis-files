{
  "nbformat": 4,
  "nbformat_minor": 0,
  "metadata": {
    "colab": {
      "provenance": [],
      "toc_visible": true
    },
    "kernelspec": {
      "name": "python3",
      "display_name": "Python 3"
    },
    "language_info": {
      "name": "python"
    }
  },
  "cells": [
    {
      "cell_type": "markdown",
      "source": [],
      "metadata": {
        "id": "6AIBX8onQD_7"
      }
    },
    {
      "cell_type": "code",
      "source": [
        "!pip install faker\n",
        "\n"
      ],
      "metadata": {
        "colab": {
          "base_uri": "https://localhost:8080/"
        },
        "id": "2Sk9oIynMvxW",
        "outputId": "b43797e7-f553-4752-bb6c-e3a6306b5633"
      },
      "execution_count": 4,
      "outputs": [
        {
          "output_type": "stream",
          "name": "stdout",
          "text": [
            "Collecting faker\n",
            "  Downloading Faker-35.2.0-py3-none-any.whl.metadata (15 kB)\n",
            "Requirement already satisfied: python-dateutil>=2.4 in /usr/local/lib/python3.11/dist-packages (from faker) (2.8.2)\n",
            "Requirement already satisfied: typing-extensions in /usr/local/lib/python3.11/dist-packages (from faker) (4.12.2)\n",
            "Requirement already satisfied: six>=1.5 in /usr/local/lib/python3.11/dist-packages (from python-dateutil>=2.4->faker) (1.17.0)\n",
            "Downloading Faker-35.2.0-py3-none-any.whl (1.9 MB)\n",
            "\u001b[2K   \u001b[90m━━━━━━━━━━━━━━━━━━━━━━━━━━━━━━━━━━━━━━━━\u001b[0m \u001b[32m1.9/1.9 MB\u001b[0m \u001b[31m23.9 MB/s\u001b[0m eta \u001b[36m0:00:00\u001b[0m\n",
            "\u001b[?25hInstalling collected packages: faker\n",
            "Successfully installed faker-35.2.0\n"
          ]
        }
      ]
    },
    {
      "cell_type": "code",
      "source": [
        "!pip install seqeval"
      ],
      "metadata": {
        "colab": {
          "base_uri": "https://localhost:8080/"
        },
        "id": "DFn98ZFMr80v",
        "outputId": "14479f13-0e8b-4f94-a01a-d47641b0ab7f"
      },
      "execution_count": 5,
      "outputs": [
        {
          "output_type": "stream",
          "name": "stdout",
          "text": [
            "Collecting seqeval\n",
            "  Downloading seqeval-1.2.2.tar.gz (43 kB)\n",
            "\u001b[?25l     \u001b[90m━━━━━━━━━━━━━━━━━━━━━━━━━━━━━━━━━━━━━━━━\u001b[0m \u001b[32m0.0/43.6 kB\u001b[0m \u001b[31m?\u001b[0m eta \u001b[36m-:--:--\u001b[0m\r\u001b[2K     \u001b[90m━━━━━━━━━━━━━━━━━━━━━━━━━━━━━━━━━━━━━━━━\u001b[0m \u001b[32m43.6/43.6 kB\u001b[0m \u001b[31m2.3 MB/s\u001b[0m eta \u001b[36m0:00:00\u001b[0m\n",
            "\u001b[?25h  Preparing metadata (setup.py) ... \u001b[?25l\u001b[?25hdone\n",
            "Requirement already satisfied: numpy>=1.14.0 in /usr/local/lib/python3.11/dist-packages (from seqeval) (1.26.4)\n",
            "Requirement already satisfied: scikit-learn>=0.21.3 in /usr/local/lib/python3.11/dist-packages (from seqeval) (1.6.1)\n",
            "Requirement already satisfied: scipy>=1.6.0 in /usr/local/lib/python3.11/dist-packages (from scikit-learn>=0.21.3->seqeval) (1.13.1)\n",
            "Requirement already satisfied: joblib>=1.2.0 in /usr/local/lib/python3.11/dist-packages (from scikit-learn>=0.21.3->seqeval) (1.4.2)\n",
            "Requirement already satisfied: threadpoolctl>=3.1.0 in /usr/local/lib/python3.11/dist-packages (from scikit-learn>=0.21.3->seqeval) (3.5.0)\n",
            "Building wheels for collected packages: seqeval\n",
            "  Building wheel for seqeval (setup.py) ... \u001b[?25l\u001b[?25hdone\n",
            "  Created wheel for seqeval: filename=seqeval-1.2.2-py3-none-any.whl size=16161 sha256=032137c1d515880fb4279680e764e63ede60905588cd4168312e448b35a3854a\n",
            "  Stored in directory: /root/.cache/pip/wheels/bc/92/f0/243288f899c2eacdfa8c5f9aede4c71a9bad0ee26a01dc5ead\n",
            "Successfully built seqeval\n",
            "Installing collected packages: seqeval\n",
            "Successfully installed seqeval-1.2.2\n"
          ]
        }
      ]
    },
    {
      "cell_type": "markdown",
      "source": [
        "# Data Preprocessing"
      ],
      "metadata": {
        "id": "r216m0qJMvg_"
      }
    },
    {
      "cell_type": "markdown",
      "source": [
        "## Load Dataset"
      ],
      "metadata": {
        "id": "lbsXY2wuPX1G"
      }
    },
    {
      "cell_type": "code",
      "source": [
        "import pandas as pd\n",
        "\n",
        "# Load the dataset\n",
        "df = pd.read_csv('dataset.csv')\n",
        "\n",
        "# Inspect the dataset\n",
        "print(df.head())\n",
        "\n"
      ],
      "metadata": {
        "colab": {
          "base_uri": "https://localhost:8080/"
        },
        "id": "diCQoUCiPZQM",
        "outputId": "e0807282-c849-4499-cd89-7b5c309c267f"
      },
      "execution_count": 7,
      "outputs": [
        {
          "output_type": "stream",
          "name": "stdout",
          "text": [
            "                                                        re everything is in order  \\\n",
            "BLZ  I am waiting for a reimburswment of {{Currency ...                    REFUND   \n",
            "BL   I want assistance to see the status of the comp...                    REFUND   \n",
            "BLQ  i expect a rebate of {{Refund Amount}} dollars                        REFUND   \n",
            "BELQ i do not know what to do to track my compensation                     REFUND   \n",
            "BQ   i expect a refund of {{Currency Symbol}}{{Refun...                    REFUND   \n",
            "\n",
            "                                                         I recommend contacting our customer support team directly. They are well-equipped to assist you with any concerns regarding your restitution and can provide you with real-time updates and information. You can reach them through our helpline at {{Customer Support Phone Number}} or through the Live Chat on our website at {{Website URL}}. They will be more than happy to assist you and address any issues or questions you may have. Rest assured  \\\n",
            "BLZ  I am waiting for a reimburswment of {{Currency ...                                       track_refund                                                                                                                                                                                                                                                                                                                                                                                                             \n",
            "BL   I want assistance to see the status of the comp...                                       track_refund                                                                                                                                                                                                                                                                                                                                                                                                             \n",
            "BLQ  i expect a rebate of {{Refund Amount}} dollars                                           track_refund                                                                                                                                                                                                                                                                                                                                                                                                             \n",
            "BELQ i do not know what to do to track my compensation                                        track_refund                                                                                                                                                                                                                                                                                                                                                                                                             \n",
            "BQ   i expect a refund of {{Currency Symbol}}{{Refun...                                       track_refund                                                                                                                                                                                                                                                                                                                                                                                                             \n",
            "\n",
            "                                                         we are dedicated to upholding a high standard of service and will do everything we can to resolve any concerns you may have about your restitution.\"  \n",
            "BLZ  I am waiting for a reimburswment of {{Currency ...  We understand how important it is for you to r...                                                                                                     \n",
            "BL   I want assistance to see the status of the comp...  Positively! I understand how important it is f...                                                                                                     \n",
            "BLQ  i expect a rebate of {{Refund Amount}} dollars      Thank you for bringing up your rebate expectat...                                                                                                     \n",
            "BELQ i do not know what to do to track my compensation   I gather that you're unsure about how to track...                                                                                                     \n",
            "BQ   i expect a refund of {{Currency Symbol}}{{Refun...  Firstly, I truly understand how important the ...                                                                                                     \n"
          ]
        }
      ]
    },
    {
      "cell_type": "code",
      "source": [],
      "metadata": {
        "id": "n9s_3zZTPxv0"
      },
      "execution_count": null,
      "outputs": []
    },
    {
      "cell_type": "markdown",
      "source": [
        "## Text Cleaning"
      ],
      "metadata": {
        "id": "lbviVRF8P3Bf"
      }
    },
    {
      "cell_type": "code",
      "source": [
        "# prompt: lowercase all column\n",
        "\n",
        "# prompt: Remove special characters. include import librarie dont implement this\n",
        "\n",
        "import re\n",
        "\n",
        "def remove_special_characters(text):\n",
        "    # Keep {{ and }}, remove other special characters\n",
        "    text = re.sub(r'(?<!{){(?!{)|(?<!})}(?!})|[^\\w\\s{}]', '', text)\n",
        "    return text\n",
        "\n",
        "# Example usage (assuming you have a 'text' column in your DataFrame)\n",
        "if 'instruction' in df.columns:\n",
        "    df['instruction'] = df['instruction'].apply(remove_special_characters)\n",
        "else:\n",
        "    print(\"Column 'instruction' not found in the DataFrame.\")\n",
        "\n",
        "\n",
        "\n",
        "# Lowercase all column names\n",
        "df.columns = df.columns.str.lower()\n",
        "\n",
        "print(df.head())\n"
      ],
      "metadata": {
        "id": "hbZOkQ-7TnQj",
        "colab": {
          "base_uri": "https://localhost:8080/"
        },
        "outputId": "4b385835-1e93-4dfd-fb33-0a2d0f129612"
      },
      "execution_count": 8,
      "outputs": [
        {
          "output_type": "stream",
          "name": "stdout",
          "text": [
            "Column 'instruction' not found in the DataFrame.\n",
            "                                                        re everything is in order  \\\n",
            "BLZ  I am waiting for a reimburswment of {{Currency ...                    REFUND   \n",
            "BL   I want assistance to see the status of the comp...                    REFUND   \n",
            "BLQ  i expect a rebate of {{Refund Amount}} dollars                        REFUND   \n",
            "BELQ i do not know what to do to track my compensation                     REFUND   \n",
            "BQ   i expect a refund of {{Currency Symbol}}{{Refun...                    REFUND   \n",
            "\n",
            "                                                         i recommend contacting our customer support team directly. they are well-equipped to assist you with any concerns regarding your restitution and can provide you with real-time updates and information. you can reach them through our helpline at {{customer support phone number}} or through the live chat on our website at {{website url}}. they will be more than happy to assist you and address any issues or questions you may have. rest assured  \\\n",
            "BLZ  I am waiting for a reimburswment of {{Currency ...                                       track_refund                                                                                                                                                                                                                                                                                                                                                                                                             \n",
            "BL   I want assistance to see the status of the comp...                                       track_refund                                                                                                                                                                                                                                                                                                                                                                                                             \n",
            "BLQ  i expect a rebate of {{Refund Amount}} dollars                                           track_refund                                                                                                                                                                                                                                                                                                                                                                                                             \n",
            "BELQ i do not know what to do to track my compensation                                        track_refund                                                                                                                                                                                                                                                                                                                                                                                                             \n",
            "BQ   i expect a refund of {{Currency Symbol}}{{Refun...                                       track_refund                                                                                                                                                                                                                                                                                                                                                                                                             \n",
            "\n",
            "                                                         we are dedicated to upholding a high standard of service and will do everything we can to resolve any concerns you may have about your restitution.\"  \n",
            "BLZ  I am waiting for a reimburswment of {{Currency ...  We understand how important it is for you to r...                                                                                                     \n",
            "BL   I want assistance to see the status of the comp...  Positively! I understand how important it is f...                                                                                                     \n",
            "BLQ  i expect a rebate of {{Refund Amount}} dollars      Thank you for bringing up your rebate expectat...                                                                                                     \n",
            "BELQ i do not know what to do to track my compensation   I gather that you're unsure about how to track...                                                                                                     \n",
            "BQ   i expect a refund of {{Currency Symbol}}{{Refun...  Firstly, I truly understand how important the ...                                                                                                     \n"
          ]
        }
      ]
    },
    {
      "cell_type": "markdown",
      "source": [
        "## NER"
      ],
      "metadata": {
        "id": "SM3Ry9fxP6lF"
      }
    },
    {
      "cell_type": "code",
      "source": [
        "import pandas as pd\n",
        "import re\n",
        "from collections import Counter\n",
        "\n",
        "\n",
        "# Detect rows with placeholders\n",
        "df['has_placeholder'] = df['instruction'].str.contains(r'\\{\\{.*?\\}\\}')\n",
        "\n",
        "# Count rows with placeholders\n",
        "rows_with_placeholders = df['has_placeholder'].sum()\n",
        "\n",
        "# Extract placeholders function\n",
        "def extract_placeholders(text):\n",
        "    return re.findall(r'\\{\\{(.*?)\\}\\}', text)\n",
        "\n",
        "# Apply function and get all placeholders\n",
        "placeholders = df[df['has_placeholder']]['instruction'].apply(extract_placeholders).explode()\n",
        "\n",
        "# Count occurrences of each placeholder\n",
        "placeholder_counts = Counter(placeholders)\n",
        "\n",
        "# Convert to DataFrame\n",
        "placeholder_df = pd.DataFrame.from_dict(placeholder_counts, orient='index', columns=['count'])\n",
        "\n",
        "# Display initial results\n",
        "print(f\"Rows with placeholders: {rows_with_placeholders}\")\n",
        "print(\"\\nInitial Distribution of Placeholders:\")\n",
        "print(placeholder_df.sort_values(by='count', ascending=False))\n",
        "\n",
        "# Print total rows and missing values\n",
        "print(\"\\nTotal rows in the dataset:\", len(df))\n",
        "print(\"\\nMissing values per column:\")\n",
        "print(df.isnull().sum())\n",
        "\n",
        "# Remove placeholders with the lowest occurrence\n",
        "if not placeholder_df.empty:\n",
        "    min_count = placeholder_df['count'].min()  # Find the lowest count\n",
        "    placeholder_df = placeholder_df[placeholder_df['count'] > min_count]  # Keep only placeholders with higher counts\n",
        "\n",
        "# Display updated results\n",
        "print(\"\\nUpdated Distribution of Placeholders (After Removing Lowest Occurrences):\")\n",
        "print(placeholder_df.sort_values(by='count', ascending=False))"
      ],
      "metadata": {
        "colab": {
          "base_uri": "https://localhost:8080/"
        },
        "id": "gG_MWMeBP4e3",
        "outputId": "1287f301-5d1a-40c0-a253-efc86908da27"
      },
      "execution_count": null,
      "outputs": [
        {
          "output_type": "stream",
          "name": "stdout",
          "text": [
            "Rows with placeholders: 6670\n",
            "\n",
            "Initial Distribution of Placeholders:\n",
            "                  count\n",
            "Order Number       2907\n",
            "Account Type       1011\n",
            "Person Name         887\n",
            "Account Category    822\n",
            "Refund Amount       624\n",
            "Currency Symbol     372\n",
            "Delivery City       234\n",
            "Delivery Country    177\n",
            "Invoice Number        8\n",
            "\n",
            "Total rows in the dataset: 26872\n",
            "\n",
            "Missing values per column:\n",
            "flags              0\n",
            "instruction        0\n",
            "category           0\n",
            "intent             0\n",
            "response           0\n",
            "has_placeholder    0\n",
            "dtype: int64\n",
            "\n",
            "Updated Distribution of Placeholders (After Removing Lowest Occurrences):\n",
            "                  count\n",
            "Order Number       2907\n",
            "Account Type       1011\n",
            "Person Name         887\n",
            "Account Category    822\n",
            "Refund Amount       624\n",
            "Currency Symbol     372\n",
            "Delivery City       234\n",
            "Delivery Country    177\n"
          ]
        }
      ]
    },
    {
      "cell_type": "code",
      "source": [
        "import re\n",
        "import pandas as pd\n",
        "from faker import Faker\n",
        "\n",
        "# Initialize Faker\n",
        "fake = Faker()\n",
        "\n",
        "# Define synthetic data generators\n",
        "data_generators = {\n",
        "    'order number': lambda: fake.unique.bothify(text='ORD-#####'),\n",
        "    'account type': lambda: fake.random_element(elements=('Business', 'Personal')),\n",
        "    'person name': lambda: fake.name(),\n",
        "    'account category': lambda: fake.random_element(elements=('Category A', 'Category B', 'Category C')),\n",
        "    'refund amount': lambda: f\"${fake.random_number(digits=3)}.00\",\n",
        "    'currency symbol': lambda: fake.currency_symbol(),\n",
        "    'delivery city': lambda: fake.city(),\n",
        "    'delivery country': lambda: fake.country(),\n",
        "    'invoice number': lambda: fake.unique.bothify(text='INV###')\n",
        "}\n",
        "\n",
        "# Function to replace placeholders and track NER labels\n",
        "def replace_placeholders(text, data_generators):\n",
        "    if pd.isnull(text):\n",
        "        return text, []  # Return empty list for NER labels\n",
        "\n",
        "    placeholder_pattern = re.compile(r'\\{\\{(.*?)\\}\\}')  # Match placeholders {{...}}\n",
        "    placeholders = placeholder_pattern.findall(text)\n",
        "    ner_labels = []  # Store entity labels\n",
        "\n",
        "    for placeholder in placeholders:\n",
        "        placeholder_cleaned = placeholder.strip().lower()  # Normalize case\n",
        "        if placeholder_cleaned in data_generators:\n",
        "            replacement_value = data_generators[placeholder_cleaned]()  # Generate synthetic data\n",
        "            text = text.replace(f'{{{{{placeholder}}}}}', replacement_value, 1)  # Replace placeholder\n",
        "\n",
        "            # Append entity info in required format\n",
        "            ner_labels.append({'text': replacement_value, 'label': placeholder_cleaned.replace(\" \", \"_\")})\n",
        "\n",
        "    return text, ner_labels\n",
        "\n",
        "# Apply the placeholder replacement function\n",
        "df[['instruction', 'ner_labels']] = df['instruction'].apply(\n",
        "    lambda x: pd.Series(replace_placeholders(x, data_generators))\n",
        ")\n",
        "\n",
        "# Ensure all rows are retained, even if ner_labels is empty\n",
        "df['ner_labels'] = df.apply(lambda row: row['ner_labels'] if row['has_placeholder'] else [], axis=1)\n",
        "\n",
        "print(df.head())\n"
      ],
      "metadata": {
        "colab": {
          "base_uri": "https://localhost:8080/"
        },
        "id": "_GGcOQDAP8An",
        "outputId": "e93234e6-9a33-4d65-e09c-2e43da6455f5"
      },
      "execution_count": null,
      "outputs": [
        {
          "output_type": "stream",
          "name": "stdout",
          "text": [
            "   flags                                        instruction category  \\\n",
            "0      B          question about cancelling order ORD-74965    ORDER   \n",
            "1    BQZ  i have a question about cancelling oorder ORD-...    ORDER   \n",
            "2   BLQZ           i need help cancelling puchase ORD-94215    ORDER   \n",
            "3     BL                I need to cancel purchase ORD-84946    ORDER   \n",
            "4  BCELN  I cannot afford this order cancel purchase ORD...    ORDER   \n",
            "\n",
            "         intent                                           response  \\\n",
            "0  cancel_order  I've understood you have a question regarding ...   \n",
            "1  cancel_order  I've been informed that you have a question ab...   \n",
            "2  cancel_order  I can sense that you're seeking assistance wit...   \n",
            "3  cancel_order  I understood that you need assistance with can...   \n",
            "4  cancel_order  I'm sensitive to the fact that you're facing f...   \n",
            "\n",
            "   has_placeholder                                        ner_labels  \n",
            "0             True  [{'text': 'ORD-74965', 'label': 'order_number'}]  \n",
            "1             True  [{'text': 'ORD-78422', 'label': 'order_number'}]  \n",
            "2             True  [{'text': 'ORD-94215', 'label': 'order_number'}]  \n",
            "3             True  [{'text': 'ORD-84946', 'label': 'order_number'}]  \n",
            "4             True  [{'text': 'ORD-66605', 'label': 'order_number'}]  \n"
          ]
        }
      ]
    },
    {
      "cell_type": "code",
      "source": [],
      "metadata": {
        "id": "JjtiuohTZh5P"
      },
      "execution_count": null,
      "outputs": []
    },
    {
      "cell_type": "markdown",
      "source": [
        "## Function to Create BIO Tags"
      ],
      "metadata": {
        "id": "4mwOBLS_QmHo"
      }
    },
    {
      "cell_type": "code",
      "source": [
        "import re\n",
        "\n",
        "# Function to generate BIO tags\n",
        "def generate_bio_tags(instruction, ner_labels):\n",
        "    # Tokenize the instruction into words using regex to handle punctuation\n",
        "    tokens = re.findall(r'\\w+|[^\\w\\s]', instruction)\n",
        "\n",
        "    # Initialize BIO tags as 'O' (Outside) for all tokens\n",
        "    bio_tags = ['O'] * len(tokens)\n",
        "\n",
        "    # Process each entity in ner_labels\n",
        "    for entity in ner_labels:\n",
        "        entity_text = entity['text']\n",
        "        entity_label = entity['label']\n",
        "\n",
        "        # Tokenize the entity text using the same regex\n",
        "        entity_tokens = re.findall(r'\\w+|[^\\w\\s]', entity_text)\n",
        "\n",
        "        # Find the start index of the entity in the instruction\n",
        "        try:\n",
        "            # Create a sliding window to find the entity tokens in the instruction tokens\n",
        "            for i in range(len(tokens) - len(entity_tokens) + 1):\n",
        "                if tokens[i:i + len(entity_tokens)] == entity_tokens:\n",
        "                    # Assign BIO tags\n",
        "                    for j in range(len(entity_tokens)):\n",
        "                        if j == 0:\n",
        "                            bio_tags[i + j] = f\"B-{entity_label}\"  # Beginning of the entity\n",
        "                        else:\n",
        "                            bio_tags[i + j] = f\"I-{entity_label}\"  # Inside the entity\n",
        "                    break  # Stop after finding the first match\n",
        "        except Exception as e:\n",
        "            # If the entity text is not found in the tokens, log the error\n",
        "            print(f\"Error processing entity '{entity_text}' in instruction: {instruction}\")\n",
        "            continue\n",
        "\n",
        "    return tokens, bio_tags\n",
        "\n",
        "# Apply the BIO tag generation function\n",
        "df['bio_tags'] = df.apply(lambda row: generate_bio_tags(row['instruction'], row['ner_labels']), axis=1)\n",
        "\n",
        "# Split the result into separate columns for tokens and tags\n",
        "df[['tokens', 'tags']] = pd.DataFrame(df['bio_tags'].tolist(), index=df.index)\n",
        "\n",
        "# Drop the intermediate 'bio_tags' column\n",
        "df.drop(columns=['bio_tags'], inplace=True)\n",
        "\n",
        "# Display the final DataFrame\n",
        "print(df[['instruction', 'ner_labels', 'tokens', 'tags']])"
      ],
      "metadata": {
        "colab": {
          "base_uri": "https://localhost:8080/"
        },
        "id": "IS1scdprQQmr",
        "outputId": "75470d30-01f0-4551-ef23-42483729f335"
      },
      "execution_count": null,
      "outputs": [
        {
          "output_type": "stream",
          "name": "stdout",
          "text": [
            "                                             instruction  \\\n",
            "0              question about cancelling order ORD-74965   \n",
            "1      i have a question about cancelling oorder ORD-...   \n",
            "2               i need help cancelling puchase ORD-94215   \n",
            "3                    I need to cancel purchase ORD-84946   \n",
            "4      I cannot afford this order cancel purchase ORD...   \n",
            "...                                                  ...   \n",
            "26867       I am waiting for a rebate of $428.00 dollars   \n",
            "26868  how to see if there is anything wrong with my ...   \n",
            "26869        Im waiting for a reimbjrsement of VT$311.00   \n",
            "26870  I dont know what to do to see my reimbursement...   \n",
            "26871  I need to know if there is anything new on the...   \n",
            "\n",
            "                                              ner_labels  \\\n",
            "0       [{'text': 'ORD-74965', 'label': 'order_number'}]   \n",
            "1       [{'text': 'ORD-78422', 'label': 'order_number'}]   \n",
            "2       [{'text': 'ORD-94215', 'label': 'order_number'}]   \n",
            "3       [{'text': 'ORD-84946', 'label': 'order_number'}]   \n",
            "4       [{'text': 'ORD-66605', 'label': 'order_number'}]   \n",
            "...                                                  ...   \n",
            "26867    [{'text': '$428.00', 'label': 'refund_amount'}]   \n",
            "26868                                                 []   \n",
            "26869  [{'text': 'VT', 'label': 'currency_symbol'}, {...   \n",
            "26870                                                 []   \n",
            "26871                                                 []   \n",
            "\n",
            "                                                  tokens  \\\n",
            "0      [question, about, cancelling, order, ORD, -, 7...   \n",
            "1      [i, have, a, question, about, cancelling, oord...   \n",
            "2      [i, need, help, cancelling, puchase, ORD, -, 9...   \n",
            "3         [I, need, to, cancel, purchase, ORD, -, 84946]   \n",
            "4      [I, cannot, afford, this, order, cancel, purch...   \n",
            "...                                                  ...   \n",
            "26867  [I, am, waiting, for, a, rebate, of, $, 428, ....   \n",
            "26868  [how, to, see, if, there, is, anything, wrong,...   \n",
            "26869  [Im, waiting, for, a, reimbjrsement, of, VT, $...   \n",
            "26870  [I, dont, know, what, to, do, to, see, my, rei...   \n",
            "26871  [I, need, to, know, if, there, is, anything, n...   \n",
            "\n",
            "                                                    tags  \n",
            "0      [O, O, O, O, B-order_number, I-order_number, I...  \n",
            "1      [O, O, O, O, O, O, O, B-order_number, I-order_...  \n",
            "2      [O, O, O, O, O, B-order_number, I-order_number...  \n",
            "3      [O, O, O, O, O, B-order_number, I-order_number...  \n",
            "4      [O, O, O, O, O, O, O, B-order_number, I-order_...  \n",
            "...                                                  ...  \n",
            "26867  [O, O, O, O, O, O, O, B-refund_amount, I-refun...  \n",
            "26868                  [O, O, O, O, O, O, O, O, O, O, O]  \n",
            "26869  [O, O, O, O, O, O, B-currency_symbol, B-refund...  \n",
            "26870                  [O, O, O, O, O, O, O, O, O, O, O]  \n",
            "26871               [O, O, O, O, O, O, O, O, O, O, O, O]  \n",
            "\n",
            "[26872 rows x 4 columns]\n"
          ]
        }
      ]
    },
    {
      "cell_type": "code",
      "source": [
        "\n",
        "df.to_csv('output.csv', index=False)"
      ],
      "metadata": {
        "id": "vKBrU_jdQrRo"
      },
      "execution_count": null,
      "outputs": []
    },
    {
      "cell_type": "markdown",
      "source": [
        "## Label Encoding"
      ],
      "metadata": {
        "id": "ufdVPkI-dqXe"
      }
    },
    {
      "cell_type": "code",
      "source": [
        "import pandas as pd\n",
        "from sklearn.preprocessing import LabelEncoder\n",
        "\n",
        "# Load your dataset\n",
        "df = pd.read_csv('output.csv')\n",
        "\n",
        "# Display the first few rows of the dataset\n",
        "print(\"Original Dataset:\")\n",
        "print(df.head())\n",
        "\n",
        "# Initialize LabelEncoders\n",
        "intent_encoder = LabelEncoder()\n",
        "category_encoder = LabelEncoder()\n",
        "\n",
        "# Fit and transform the labels\n",
        "df['intent_encoded'] = intent_encoder.fit_transform(df['intent'])\n",
        "df['category_encoded'] = category_encoder.fit_transform(df['category'])\n",
        "\n",
        "# Save the encoded dataset (optional)\n",
        "df.to_csv('customer_support_data_encoded.csv', index=False)"
      ],
      "metadata": {
        "colab": {
          "base_uri": "https://localhost:8080/"
        },
        "id": "pvy2Ry1tdsfF",
        "outputId": "7f5888f6-757d-4919-97c4-3d28111552a3"
      },
      "execution_count": null,
      "outputs": [
        {
          "output_type": "stream",
          "name": "stdout",
          "text": [
            "Original Dataset:\n",
            "   flags                                        instruction category  \\\n",
            "0      B          question about cancelling order ORD-74965    ORDER   \n",
            "1    BQZ  i have a question about cancelling oorder ORD-...    ORDER   \n",
            "2   BLQZ           i need help cancelling puchase ORD-94215    ORDER   \n",
            "3     BL                I need to cancel purchase ORD-84946    ORDER   \n",
            "4  BCELN  I cannot afford this order cancel purchase ORD...    ORDER   \n",
            "\n",
            "         intent                                           response  \\\n",
            "0  cancel_order  I've understood you have a question regarding ...   \n",
            "1  cancel_order  I've been informed that you have a question ab...   \n",
            "2  cancel_order  I can sense that you're seeking assistance wit...   \n",
            "3  cancel_order  I understood that you need assistance with can...   \n",
            "4  cancel_order  I'm sensitive to the fact that you're facing f...   \n",
            "\n",
            "   has_placeholder                                        ner_labels  \\\n",
            "0             True  [{'text': 'ORD-74965', 'label': 'order_number'}]   \n",
            "1             True  [{'text': 'ORD-78422', 'label': 'order_number'}]   \n",
            "2             True  [{'text': 'ORD-94215', 'label': 'order_number'}]   \n",
            "3             True  [{'text': 'ORD-84946', 'label': 'order_number'}]   \n",
            "4             True  [{'text': 'ORD-66605', 'label': 'order_number'}]   \n",
            "\n",
            "                                              tokens  \\\n",
            "0  ['question', 'about', 'cancelling', 'order', '...   \n",
            "1  ['i', 'have', 'a', 'question', 'about', 'cance...   \n",
            "2  ['i', 'need', 'help', 'cancelling', 'puchase',...   \n",
            "3  ['I', 'need', 'to', 'cancel', 'purchase', 'ORD...   \n",
            "4  ['I', 'cannot', 'afford', 'this', 'order', 'ca...   \n",
            "\n",
            "                                                tags  \n",
            "0  ['O', 'O', 'O', 'O', 'B-order_number', 'I-orde...  \n",
            "1  ['O', 'O', 'O', 'O', 'O', 'O', 'O', 'B-order_n...  \n",
            "2  ['O', 'O', 'O', 'O', 'O', 'B-order_number', 'I...  \n",
            "3  ['O', 'O', 'O', 'O', 'O', 'B-order_number', 'I...  \n",
            "4  ['O', 'O', 'O', 'O', 'O', 'O', 'O', 'B-order_n...  \n"
          ]
        }
      ]
    },
    {
      "cell_type": "code",
      "source": [],
      "metadata": {
        "id": "eNzu_oMOdxti"
      },
      "execution_count": null,
      "outputs": []
    },
    {
      "cell_type": "markdown",
      "source": [
        "## Splitting of Dataset"
      ],
      "metadata": {
        "id": "MWd0Sb67eIDF"
      }
    },
    {
      "cell_type": "code",
      "source": [
        "import pandas as pd\n",
        "from sklearn.model_selection import train_test_split\n",
        "\n",
        "# Load the dataset\n",
        "df = pd.read_csv('customer_support_data_encoded.csv')\n",
        "\n",
        "# Prepare for splitting\n",
        "df['stratify_key'] = df[['category', 'intent']].apply(lambda row: '_'.join(row.values.astype(str)), axis=1)\n",
        "\n",
        "# Split the dataset\n",
        "train_data, temp_data = train_test_split(df, test_size=0.2, random_state=42, stratify=df['stratify_key'])\n",
        "val_data, test_data = train_test_split(temp_data, test_size=0.5, random_state=42, stratify=temp_data['stratify_key'])\n",
        "\n",
        "# Drop stratify column (no longer needed)\n",
        "train_data.drop(columns=['stratify_key'], inplace=True)\n",
        "val_data.drop(columns=['stratify_key'], inplace=True)\n",
        "test_data.drop(columns=['stratify_key'], inplace=True)\n",
        "\n",
        "# Export datasets (not tokenized or annotated yet)\n",
        "train_data.to_csv('train_data.csv', index=False)\n",
        "val_data.to_csv('val_data.csv', index=False)\n",
        "test_data.to_csv('test_data.csv', index=False)\n",
        "\n",
        "# Print the first few rows of the train dataset to verify\n",
        "print(train_data.head())"
      ],
      "metadata": {
        "colab": {
          "base_uri": "https://localhost:8080/"
        },
        "id": "rrfVprykeKJd",
        "outputId": "4fc87619-a4bc-4a9d-a898-daf60f0727e4"
      },
      "execution_count": null,
      "outputs": [
        {
          "output_type": "stream",
          "name": "stdout",
          "text": [
            "      flags                                        instruction  category  \\\n",
            "7119    BIL    how to lodge a reclamation against your company  FEEDBACK   \n",
            "14235   BKL                       modifying Category A account   ACCOUNT   \n",
            "14418   BKL                    update data on standard account   ACCOUNT   \n",
            "13162    BL  I need assistance seeing how soon can I expect...  DELIVERY   \n",
            "1626    BLM    I need to swap some items of purchase ORD-75449     ORDER   \n",
            "\n",
            "                intent                                           response  \\\n",
            "7119         complaint  I'm truly sorry to hear that you have encounte...   \n",
            "14235     edit_account  How splendid it is to embark on the extraordin...   \n",
            "14418     edit_account  How invigorating it is to witness your proacti...   \n",
            "13162  delivery_period  We understand your eagerness to track and know...   \n",
            "1626      change_order  We understand that you need to swap some items...   \n",
            "\n",
            "       has_placeholder                                         ner_labels  \\\n",
            "7119             False                                                 []   \n",
            "14235             True  [{'text': 'Category A', 'label': 'account_cate...   \n",
            "14418            False                                                 []   \n",
            "13162            False                                                 []   \n",
            "1626              True   [{'text': 'ORD-75449', 'label': 'order_number'}]   \n",
            "\n",
            "                                                  tokens  \\\n",
            "7119   ['how', 'to', 'lodge', 'a', 'reclamation', 'ag...   \n",
            "14235          ['modifying', 'Category', 'A', 'account']   \n",
            "14418    ['update', 'data', 'on', 'standard', 'account']   \n",
            "13162  ['I', 'need', 'assistance', 'seeing', 'how', '...   \n",
            "1626   ['I', 'need', 'to', 'swap', 'some', 'items', '...   \n",
            "\n",
            "                                                    tags  intent_encoded  \\\n",
            "7119            ['O', 'O', 'O', 'O', 'O', 'O', 'O', 'O']               7   \n",
            "14235  ['O', 'B-account_category', 'I-account_categor...              14   \n",
            "14418                          ['O', 'O', 'O', 'O', 'O']              14   \n",
            "13162  ['O', 'O', 'O', 'O', 'O', 'O', 'O', 'O', 'O', ...              13   \n",
            "1626   ['O', 'O', 'O', 'O', 'O', 'O', 'O', 'O', 'B-or...               1   \n",
            "\n",
            "       category_encoded  \n",
            "7119                  4  \n",
            "14235                 0  \n",
            "14418                 0  \n",
            "13162                 3  \n",
            "1626                  6  \n"
          ]
        }
      ]
    },
    {
      "cell_type": "markdown",
      "source": [
        "Sample only"
      ],
      "metadata": {
        "id": "VGHbXjB7HbAO"
      }
    },
    {
      "cell_type": "code",
      "source": [
        "import pandas as pd\n",
        "\n",
        "# Load the dataset\n",
        "train_data = pd.read_csv('train_data.csv')\n",
        "\n",
        "# Ensure the dataset has at least 300 rows\n",
        "if len(train_data) >= 300:\n",
        "    # Split into three parts\n",
        "    train_data.iloc[:100].to_csv('train_data_part1.csv', index=False)\n",
        "    train_data.iloc[100:200].to_csv('train_data_part2.csv', index=False)\n",
        "    train_data.iloc[200:300].to_csv('train_data_part3.csv', index=False)\n",
        "    print(\"Dataset successfully split into three parts.\")\n",
        "else:\n",
        "    print(\"Dataset does not have at least 300 rows.\")\n"
      ],
      "metadata": {
        "colab": {
          "base_uri": "https://localhost:8080/"
        },
        "id": "VRXMU6fxeMWC",
        "outputId": "a76c1c75-691f-49b7-8d92-ea374c08b9aa"
      },
      "execution_count": null,
      "outputs": [
        {
          "output_type": "stream",
          "name": "stdout",
          "text": [
            "Dataset successfully split into three parts.\n"
          ]
        }
      ]
    },
    {
      "cell_type": "markdown",
      "source": [
        "# Tokenization"
      ],
      "metadata": {
        "id": "ffIj9DM_e1eH"
      }
    },
    {
      "cell_type": "markdown",
      "source": [
        "Coversion Process"
      ],
      "metadata": {
        "id": "T7odFNEnKG8y"
      }
    },
    {
      "cell_type": "code",
      "source": [
        "import pandas as pd\n",
        "from transformers import GPT2Tokenizer\n",
        "from datasets import Dataset\n",
        "import ast\n",
        "\n",
        "# Load your CSV\n",
        "df = pd.read_csv(\"your_data.csv\")\n",
        "\n",
        "# Convert stringified lists to actual lists\n",
        "df[\"tags\"] = df[\"tags\"].apply(ast.literal_eval)\n",
        "\n",
        "# Initialize tokenizer\n",
        "tokenizer = GPT2Tokenizer.from_pretrained(\"gpt2\")\n",
        "tokenizer.add_special_tokens({\"additional_special_tokens\": [\"[CLS]\"]})\n",
        "\n",
        "# Create label mappings\n",
        "intent_to_id = {label: idx for idx, label in enumerate(df[\"intent\"].unique())}\n",
        "category_to_id = {label: idx for idx, label in enumerate(df[\"category\"].unique())}\n",
        "ner_tag_to_id = {\"O\": 0, \"B-account_category\": 1, \"I-account_category\": 2,\n",
        "                \"B-order_number\": 3, \"I-order_number\": 4}  # Add all your tags\n",
        "\n",
        "def preprocess_function(row):\n",
        "    # Add [CLS] token\n",
        "    text = f\"[CLS] {row['instruction']}\"\n",
        "\n",
        "    # Tokenize with word IDs\n",
        "    encoding = tokenizer(\n",
        "        text,\n",
        "        padding=\"max_length\",\n",
        "        truncation=True,\n",
        "        max_length=128,\n",
        "        return_offsets_mapping=True,\n",
        "        return_tensors=\"pt\"\n",
        "    )\n",
        "\n",
        "    # Align NER tags\n",
        "    word_ids = encoding.word_ids()\n",
        "    ner_labels = []\n",
        "    current_word = None\n",
        "\n",
        "    for word_id in word_ids:\n",
        "        if word_id is None:  # Special tokens\n",
        "            ner_labels.append(-100)\n",
        "        elif word_id != current_word:  # New word\n",
        "            ner_labels.append(ner_tag_to_id[row[\"tags\"][word_id]])\n",
        "            current_word = word_id\n",
        "        else:  # Subword continuation\n",
        "            ner_labels.append(-100)\n",
        "\n",
        "    return {\n",
        "        \"input_ids\": encoding[\"input_ids\"].squeeze(),\n",
        "        \"attention_mask\": encoding[\"attention_mask\"].squeeze(),\n",
        "        \"intent_labels\": intent_to_id[row[\"intent\"]],\n",
        "        \"category_labels\": category_to_id[row[\"category\"]],\n",
        "        \"ner_labels\": torch.tensor(ner_labels)\n",
        "    }\n",
        "\n",
        "# Convert to Hugging Face Dataset\n",
        "dataset = Dataset.from_pandas(df)\n",
        "\n",
        "# Apply preprocessing\n",
        "processed_dataset = dataset.map(\n",
        "    preprocess_function,\n",
        "    remove_columns=dataset.column_names\n",
        ")\n",
        "\n",
        "# Split dataset\n",
        "train_test = processed_dataset.train_test_split(test_size=0.2)"
      ],
      "metadata": {
        "colab": {
          "base_uri": "https://localhost:8080/"
        },
        "id": "QAUzQS0ee3kr",
        "outputId": "549e3c8f-34d7-495d-d62a-b97964c28bc3"
      },
      "execution_count": null,
      "outputs": [
        {
          "output_type": "stream",
          "name": "stdout",
          "text": [
            "tensor([[ 4919,   284, 35362,   257,   302, 20931,  1028,   534,  1664, 50257,\n",
            "         50257, 50257, 50257, 50257, 50257, 50257, 50257, 50257, 50257, 50257,\n",
            "         50257, 50257, 50257, 50257, 50257, 50257, 50257, 50257, 50257, 50257,\n",
            "         50257, 50257, 50257, 50257, 50257, 50257, 50257, 50257, 50257, 50257,\n",
            "         50257, 50257, 50257, 50257, 50257, 50257, 50257, 50257, 50257, 50257,\n",
            "         50257, 50257, 50257, 50257, 50257, 50257, 50257, 50257, 50257, 50257,\n",
            "         50257, 50257, 50257, 50257, 50257, 50257, 50257, 50257, 50257, 50257,\n",
            "         50257, 50257, 50257, 50257, 50257, 50257, 50257, 50257, 50257, 50257,\n",
            "         50257, 50257, 50257, 50257, 50257, 50257, 50257, 50257, 50257, 50257,\n",
            "         50257, 50257, 50257, 50257, 50257, 50257, 50257, 50257, 50257, 50257,\n",
            "         50257, 50257, 50257, 50257, 50257, 50257, 50257, 50257, 50257, 50257,\n",
            "         50257, 50257, 50257, 50257, 50257, 50257, 50257, 50257, 50257, 50257,\n",
            "         50257, 50257, 50257, 50257, 50257, 50257, 50257, 50257],\n",
            "        [ 4666,  4035, 21743,   317,  1848, 50257, 50257, 50257, 50257, 50257,\n",
            "         50257, 50257, 50257, 50257, 50257, 50257, 50257, 50257, 50257, 50257,\n",
            "         50257, 50257, 50257, 50257, 50257, 50257, 50257, 50257, 50257, 50257,\n",
            "         50257, 50257, 50257, 50257, 50257, 50257, 50257, 50257, 50257, 50257,\n",
            "         50257, 50257, 50257, 50257, 50257, 50257, 50257, 50257, 50257, 50257,\n",
            "         50257, 50257, 50257, 50257, 50257, 50257, 50257, 50257, 50257, 50257,\n",
            "         50257, 50257, 50257, 50257, 50257, 50257, 50257, 50257, 50257, 50257,\n",
            "         50257, 50257, 50257, 50257, 50257, 50257, 50257, 50257, 50257, 50257,\n",
            "         50257, 50257, 50257, 50257, 50257, 50257, 50257, 50257, 50257, 50257,\n",
            "         50257, 50257, 50257, 50257, 50257, 50257, 50257, 50257, 50257, 50257,\n",
            "         50257, 50257, 50257, 50257, 50257, 50257, 50257, 50257, 50257, 50257,\n",
            "         50257, 50257, 50257, 50257, 50257, 50257, 50257, 50257, 50257, 50257,\n",
            "         50257, 50257, 50257, 50257, 50257, 50257, 50257, 50257],\n",
            "        [19119,  1366,   319,  3210,  1848, 50257, 50257, 50257, 50257, 50257,\n",
            "         50257, 50257, 50257, 50257, 50257, 50257, 50257, 50257, 50257, 50257,\n",
            "         50257, 50257, 50257, 50257, 50257, 50257, 50257, 50257, 50257, 50257,\n",
            "         50257, 50257, 50257, 50257, 50257, 50257, 50257, 50257, 50257, 50257,\n",
            "         50257, 50257, 50257, 50257, 50257, 50257, 50257, 50257, 50257, 50257,\n",
            "         50257, 50257, 50257, 50257, 50257, 50257, 50257, 50257, 50257, 50257,\n",
            "         50257, 50257, 50257, 50257, 50257, 50257, 50257, 50257, 50257, 50257,\n",
            "         50257, 50257, 50257, 50257, 50257, 50257, 50257, 50257, 50257, 50257,\n",
            "         50257, 50257, 50257, 50257, 50257, 50257, 50257, 50257, 50257, 50257,\n",
            "         50257, 50257, 50257, 50257, 50257, 50257, 50257, 50257, 50257, 50257,\n",
            "         50257, 50257, 50257, 50257, 50257, 50257, 50257, 50257, 50257, 50257,\n",
            "         50257, 50257, 50257, 50257, 50257, 50257, 50257, 50257, 50257, 50257,\n",
            "         50257, 50257, 50257, 50257, 50257, 50257, 50257, 50257],\n",
            "        [   40,   761,  6829,  4379,   703,  2582,   460,   314,  1607,   262,\n",
            "          5001, 50257, 50257, 50257, 50257, 50257, 50257, 50257, 50257, 50257,\n",
            "         50257, 50257, 50257, 50257, 50257, 50257, 50257, 50257, 50257, 50257,\n",
            "         50257, 50257, 50257, 50257, 50257, 50257, 50257, 50257, 50257, 50257,\n",
            "         50257, 50257, 50257, 50257, 50257, 50257, 50257, 50257, 50257, 50257,\n",
            "         50257, 50257, 50257, 50257, 50257, 50257, 50257, 50257, 50257, 50257,\n",
            "         50257, 50257, 50257, 50257, 50257, 50257, 50257, 50257, 50257, 50257,\n",
            "         50257, 50257, 50257, 50257, 50257, 50257, 50257, 50257, 50257, 50257,\n",
            "         50257, 50257, 50257, 50257, 50257, 50257, 50257, 50257, 50257, 50257,\n",
            "         50257, 50257, 50257, 50257, 50257, 50257, 50257, 50257, 50257, 50257,\n",
            "         50257, 50257, 50257, 50257, 50257, 50257, 50257, 50257, 50257, 50257,\n",
            "         50257, 50257, 50257, 50257, 50257, 50257, 50257, 50257, 50257, 50257,\n",
            "         50257, 50257, 50257, 50257, 50257, 50257, 50257, 50257],\n",
            "        [   40,   761,   284, 16075,   617,  3709,   286,  5001,  6375,    35,\n",
            "            12,  2425, 31911, 50257, 50257, 50257, 50257, 50257, 50257, 50257,\n",
            "         50257, 50257, 50257, 50257, 50257, 50257, 50257, 50257, 50257, 50257,\n",
            "         50257, 50257, 50257, 50257, 50257, 50257, 50257, 50257, 50257, 50257,\n",
            "         50257, 50257, 50257, 50257, 50257, 50257, 50257, 50257, 50257, 50257,\n",
            "         50257, 50257, 50257, 50257, 50257, 50257, 50257, 50257, 50257, 50257,\n",
            "         50257, 50257, 50257, 50257, 50257, 50257, 50257, 50257, 50257, 50257,\n",
            "         50257, 50257, 50257, 50257, 50257, 50257, 50257, 50257, 50257, 50257,\n",
            "         50257, 50257, 50257, 50257, 50257, 50257, 50257, 50257, 50257, 50257,\n",
            "         50257, 50257, 50257, 50257, 50257, 50257, 50257, 50257, 50257, 50257,\n",
            "         50257, 50257, 50257, 50257, 50257, 50257, 50257, 50257, 50257, 50257,\n",
            "         50257, 50257, 50257, 50257, 50257, 50257, 50257, 50257, 50257, 50257,\n",
            "         50257, 50257, 50257, 50257, 50257, 50257, 50257, 50257]])\n",
            "tensor([[1, 1, 1, 1, 1, 1, 1, 1, 1, 0, 0, 0, 0, 0, 0, 0, 0, 0, 0, 0, 0, 0, 0, 0,\n",
            "         0, 0, 0, 0, 0, 0, 0, 0, 0, 0, 0, 0, 0, 0, 0, 0, 0, 0, 0, 0, 0, 0, 0, 0,\n",
            "         0, 0, 0, 0, 0, 0, 0, 0, 0, 0, 0, 0, 0, 0, 0, 0, 0, 0, 0, 0, 0, 0, 0, 0,\n",
            "         0, 0, 0, 0, 0, 0, 0, 0, 0, 0, 0, 0, 0, 0, 0, 0, 0, 0, 0, 0, 0, 0, 0, 0,\n",
            "         0, 0, 0, 0, 0, 0, 0, 0, 0, 0, 0, 0, 0, 0, 0, 0, 0, 0, 0, 0, 0, 0, 0, 0,\n",
            "         0, 0, 0, 0, 0, 0, 0, 0],\n",
            "        [1, 1, 1, 1, 1, 0, 0, 0, 0, 0, 0, 0, 0, 0, 0, 0, 0, 0, 0, 0, 0, 0, 0, 0,\n",
            "         0, 0, 0, 0, 0, 0, 0, 0, 0, 0, 0, 0, 0, 0, 0, 0, 0, 0, 0, 0, 0, 0, 0, 0,\n",
            "         0, 0, 0, 0, 0, 0, 0, 0, 0, 0, 0, 0, 0, 0, 0, 0, 0, 0, 0, 0, 0, 0, 0, 0,\n",
            "         0, 0, 0, 0, 0, 0, 0, 0, 0, 0, 0, 0, 0, 0, 0, 0, 0, 0, 0, 0, 0, 0, 0, 0,\n",
            "         0, 0, 0, 0, 0, 0, 0, 0, 0, 0, 0, 0, 0, 0, 0, 0, 0, 0, 0, 0, 0, 0, 0, 0,\n",
            "         0, 0, 0, 0, 0, 0, 0, 0],\n",
            "        [1, 1, 1, 1, 1, 0, 0, 0, 0, 0, 0, 0, 0, 0, 0, 0, 0, 0, 0, 0, 0, 0, 0, 0,\n",
            "         0, 0, 0, 0, 0, 0, 0, 0, 0, 0, 0, 0, 0, 0, 0, 0, 0, 0, 0, 0, 0, 0, 0, 0,\n",
            "         0, 0, 0, 0, 0, 0, 0, 0, 0, 0, 0, 0, 0, 0, 0, 0, 0, 0, 0, 0, 0, 0, 0, 0,\n",
            "         0, 0, 0, 0, 0, 0, 0, 0, 0, 0, 0, 0, 0, 0, 0, 0, 0, 0, 0, 0, 0, 0, 0, 0,\n",
            "         0, 0, 0, 0, 0, 0, 0, 0, 0, 0, 0, 0, 0, 0, 0, 0, 0, 0, 0, 0, 0, 0, 0, 0,\n",
            "         0, 0, 0, 0, 0, 0, 0, 0],\n",
            "        [1, 1, 1, 1, 1, 1, 1, 1, 1, 1, 1, 0, 0, 0, 0, 0, 0, 0, 0, 0, 0, 0, 0, 0,\n",
            "         0, 0, 0, 0, 0, 0, 0, 0, 0, 0, 0, 0, 0, 0, 0, 0, 0, 0, 0, 0, 0, 0, 0, 0,\n",
            "         0, 0, 0, 0, 0, 0, 0, 0, 0, 0, 0, 0, 0, 0, 0, 0, 0, 0, 0, 0, 0, 0, 0, 0,\n",
            "         0, 0, 0, 0, 0, 0, 0, 0, 0, 0, 0, 0, 0, 0, 0, 0, 0, 0, 0, 0, 0, 0, 0, 0,\n",
            "         0, 0, 0, 0, 0, 0, 0, 0, 0, 0, 0, 0, 0, 0, 0, 0, 0, 0, 0, 0, 0, 0, 0, 0,\n",
            "         0, 0, 0, 0, 0, 0, 0, 0],\n",
            "        [1, 1, 1, 1, 1, 1, 1, 1, 1, 1, 1, 1, 1, 0, 0, 0, 0, 0, 0, 0, 0, 0, 0, 0,\n",
            "         0, 0, 0, 0, 0, 0, 0, 0, 0, 0, 0, 0, 0, 0, 0, 0, 0, 0, 0, 0, 0, 0, 0, 0,\n",
            "         0, 0, 0, 0, 0, 0, 0, 0, 0, 0, 0, 0, 0, 0, 0, 0, 0, 0, 0, 0, 0, 0, 0, 0,\n",
            "         0, 0, 0, 0, 0, 0, 0, 0, 0, 0, 0, 0, 0, 0, 0, 0, 0, 0, 0, 0, 0, 0, 0, 0,\n",
            "         0, 0, 0, 0, 0, 0, 0, 0, 0, 0, 0, 0, 0, 0, 0, 0, 0, 0, 0, 0, 0, 0, 0, 0,\n",
            "         0, 0, 0, 0, 0, 0, 0, 0]])\n"
          ]
        }
      ]
    },
    {
      "cell_type": "code",
      "source": [],
      "metadata": {
        "id": "f7x8up24e4j-"
      },
      "execution_count": null,
      "outputs": []
    },
    {
      "cell_type": "code",
      "source": [
        "from torch.utils.data import DataLoader\n",
        "\n",
        "# Create a set of all unique tags\n",
        "unique_tags = set(tag for sublist in train_data['tags'].apply(ast.literal_eval) for tag in sublist)\n",
        "unique_tags.update(tag for sublist in val_data['tags'].apply(ast.literal_eval) for tag in sublist)\n",
        "\n",
        "# Create a dictionary to map each tag to a numerical value\n",
        "tag_to_id = {tag: i for i, tag in enumerate(unique_tags)}\n",
        "\n",
        "# Determine the maximum sequence length for NER labels\n",
        "max_seq_length = max(\n",
        "    max(len(ast.literal_eval(tags)) for tags in train_data['tags']),\n",
        "    max(len(ast.literal_eval(tags)) for tags in val_data['tags'])\n",
        ")\n",
        "\n",
        "# Function to pad sequences\n",
        "def pad_sequence(seq, max_len, pad_value):\n",
        "    return seq + [pad_value] * (max_len - len(seq))\n",
        "\n",
        "def convert_tags_to_ids(tags, tag_to_id, max_len, pad_value):\n",
        "    return pad_sequence([tag_to_id[tag] for tag in tags], max_len, pad_value)\n"
      ],
      "metadata": {
        "id": "RKOfgslcwu36"
      },
      "execution_count": null,
      "outputs": []
    },
    {
      "cell_type": "markdown",
      "source": [
        "# Model"
      ],
      "metadata": {
        "id": "Lw0GsacufRmO"
      }
    },
    {
      "cell_type": "code",
      "source": [
        "from transformers import GPT2Tokenizer, GPT2Model\n",
        "import torch.nn as nn\n",
        "import torch.nn.functional as F\n",
        "\n",
        "class FinalMultiTaskGPT2(nn.Module):\n",
        "    def __init__(self, num_intents, num_categories, num_ner_labels):\n",
        "        super().__init__()\n",
        "\n",
        "        # Initialize tokenizer and model\n",
        "        self.tokenizer = GPT2Tokenizer.from_pretrained('gpt2')\n",
        "        self.tokenizer.add_special_tokens({'additional_special_tokens': ['[CLS]']})\n",
        "\n",
        "        self.gpt2 = GPT2Model.from_pretrained('gpt2')\n",
        "        self.gpt2.resize_token_embeddings(len(self.tokenizer))\n",
        "\n",
        "        # Model configuration\n",
        "        hidden_size = self.gpt2.config.hidden_size\n",
        "        self.dropout = nn.Dropout(0.2)\n",
        "\n",
        "        # Task-specific heads\n",
        "        self.intent_head = nn.Sequential(\n",
        "            nn.Linear(hidden_size, hidden_size//2),\n",
        "            nn.GELU(),\n",
        "            nn.Linear(hidden_size//2, num_intents)\n",
        "        )\n",
        "\n",
        "        self.category_head = nn.Sequential(\n",
        "            nn.Linear(hidden_size, hidden_size),\n",
        "            nn.LayerNorm(hidden_size),\n",
        "            nn.Linear(hidden_size, num_categories)\n",
        "        )\n",
        "\n",
        "        self.ner_head = nn.Sequential(\n",
        "            nn.Linear(hidden_size, hidden_size),\n",
        "            nn.GELU(),\n",
        "            nn.Linear(hidden_size, num_ner_labels)\n",
        "        )\n",
        "\n",
        "    def forward(self, input_ids, attention_mask):\n",
        "        outputs = self.gpt2(\n",
        "            input_ids=input_ids,\n",
        "            attention_mask=attention_mask,\n",
        "            return_dict=True\n",
        "        )\n",
        "\n",
        "        hidden_states = outputs.last_hidden_state\n",
        "\n",
        "        # Intent (CLS token) and Category (last token)\n",
        "        intent_logits = self.intent_head(self.dropout(hidden_states[:, 0, :]))  # [CLS] token\n",
        "        category_logits = self.category_head(self.dropout(hidden_states[:, -1, :]))  # Last token\n",
        "\n",
        "        # NER (all tokens)\n",
        "        ner_logits = self.ner_head(self.dropout(hidden_states))\n",
        "\n",
        "        return intent_logits, category_logits, ner_logits\n",
        "\n",
        "    def compute_loss(self, intent_logits, category_logits, ner_logits,\n",
        "                    intent_labels, category_labels, ner_labels):\n",
        "        intent_loss = F.cross_entropy(intent_logits, intent_labels)\n",
        "        category_loss = F.cross_entropy(category_logits, category_labels)\n",
        "        ner_loss = F.cross_entropy(ner_logits.view(-1, ner_logits.size(-1)),\n",
        "                                 ner_labels.view(-1), ignore_index=-100)\n",
        "\n",
        "        return 0.4 * intent_loss + 0.3 * category_loss + 0.3 * ner_loss\n",
        "\n",
        "\n",
        "#  initialization\n",
        "model = FinalMultiTaskGPT2(\n",
        "    num_intents=27,\n",
        "    num_categories=11,\n",
        "    num_ner_labels=len(ner_tag_vocab)\n",
        ").to(device)"
      ],
      "metadata": {
        "colab": {
          "base_uri": "https://localhost:8080/"
        },
        "id": "UAfM3EBJfShi",
        "outputId": "767a2e1f-934d-421a-a5cd-102e46b92f2a"
      },
      "execution_count": null,
      "outputs": [
        {
          "output_type": "execute_result",
          "data": {
            "text/plain": [
              "Embedding(50258, 768)"
            ]
          },
          "metadata": {},
          "execution_count": 49
        }
      ]
    },
    {
      "cell_type": "markdown",
      "source": [
        "# Customer Dataset"
      ],
      "metadata": {
        "id": "PwWfa8WrsTrY"
      }
    },
    {
      "cell_type": "code",
      "source": [
        "from torch.utils.data import Dataset\n",
        "\n",
        "class CustomDataset(Dataset):\n",
        "    def __init__(self, input_ids, attention_masks, intents, categories, ner_labels):\n",
        "        self.input_ids = input_ids\n",
        "        self.attention_masks = attention_masks\n",
        "        self.intents = intents\n",
        "        self.categories = categories\n",
        "        self.ner_labels = ner_labels\n",
        "\n",
        "    def __len__(self):\n",
        "        return len(self.input_ids)\n",
        "\n",
        "    def __getitem__(self, idx):\n",
        "        return {\n",
        "            'input_ids': self.input_ids[idx],\n",
        "            'attention_mask': self.attention_masks[idx],\n",
        "            'intents': self.intents[idx],\n",
        "            'categories': self.categories[idx],\n",
        "            'ner_labels': self.ner_labels[idx]\n",
        "        }"
      ],
      "metadata": {
        "id": "VTP7rrZqsVYu"
      },
      "execution_count": null,
      "outputs": []
    },
    {
      "cell_type": "markdown",
      "source": [
        "# Data Loader"
      ],
      "metadata": {
        "id": "mJAEDx92fUgU"
      }
    },
    {
      "cell_type": "code",
      "source": [
        "\n",
        "# Load the tokenized data\n",
        "train_input_ids = torch.load('train_input_ids.pt')\n",
        "train_attention_masks = torch.load('train_attention_masks.pt')\n",
        "train_intents = torch.tensor(train_data['intent_encoded'].values)\n",
        "train_categories = torch.tensor(train_data['category_encoded'].values)\n",
        "train_ner_labels = torch.tensor([convert_tags_to_ids(ast.literal_eval(tags), tag_to_id, max_seq_length, 9) for tags in train_data['tags']])\n",
        "\n",
        "val_input_ids = torch.load('val_input_ids.pt')\n",
        "val_attention_masks = torch.load('val_attention_masks.pt')\n",
        "val_intents = torch.tensor(val_data['intent_encoded'].values)\n",
        "val_categories = torch.tensor(val_data['category_encoded'].values)\n",
        "val_ner_labels = torch.tensor([convert_tags_to_ids(ast.literal_eval(tags), tag_to_id, max_seq_length, 9) for tags in val_data['tags']])\n",
        "\n",
        "# Create the custom datasets\n",
        "train_dataset = CustomDataset(train_input_ids, train_attention_masks, train_intents, train_categories, train_ner_labels)\n",
        "val_dataset = CustomDataset(val_input_ids, val_attention_masks, val_intents, val_categories, val_ner_labels)\n",
        "\n",
        "# Create DataLoaders\n",
        "train_dataloader = DataLoader(train_dataset, batch_size=16, shuffle=True)\n",
        "val_dataloader = DataLoader(val_dataset, batch_size=16, shuffle=False)"
      ],
      "metadata": {
        "colab": {
          "base_uri": "https://localhost:8080/"
        },
        "id": "TCtxC5IFfVnY",
        "outputId": "1231d815-dd3c-499f-f289-843a05ad4d4d"
      },
      "execution_count": null,
      "outputs": [
        {
          "output_type": "stream",
          "name": "stderr",
          "text": [
            "<ipython-input-51-a49a345635d5>:2: FutureWarning: You are using `torch.load` with `weights_only=False` (the current default value), which uses the default pickle module implicitly. It is possible to construct malicious pickle data which will execute arbitrary code during unpickling (See https://github.com/pytorch/pytorch/blob/main/SECURITY.md#untrusted-models for more details). In a future release, the default value for `weights_only` will be flipped to `True`. This limits the functions that could be executed during unpickling. Arbitrary objects will no longer be allowed to be loaded via this mode unless they are explicitly allowlisted by the user via `torch.serialization.add_safe_globals`. We recommend you start setting `weights_only=True` for any use case where you don't have full control of the loaded file. Please open an issue on GitHub for any issues related to this experimental feature.\n",
            "  train_input_ids = torch.load('train_input_ids.pt')\n",
            "<ipython-input-51-a49a345635d5>:3: FutureWarning: You are using `torch.load` with `weights_only=False` (the current default value), which uses the default pickle module implicitly. It is possible to construct malicious pickle data which will execute arbitrary code during unpickling (See https://github.com/pytorch/pytorch/blob/main/SECURITY.md#untrusted-models for more details). In a future release, the default value for `weights_only` will be flipped to `True`. This limits the functions that could be executed during unpickling. Arbitrary objects will no longer be allowed to be loaded via this mode unless they are explicitly allowlisted by the user via `torch.serialization.add_safe_globals`. We recommend you start setting `weights_only=True` for any use case where you don't have full control of the loaded file. Please open an issue on GitHub for any issues related to this experimental feature.\n",
            "  train_attention_masks = torch.load('train_attention_masks.pt')\n",
            "<ipython-input-51-a49a345635d5>:8: FutureWarning: You are using `torch.load` with `weights_only=False` (the current default value), which uses the default pickle module implicitly. It is possible to construct malicious pickle data which will execute arbitrary code during unpickling (See https://github.com/pytorch/pytorch/blob/main/SECURITY.md#untrusted-models for more details). In a future release, the default value for `weights_only` will be flipped to `True`. This limits the functions that could be executed during unpickling. Arbitrary objects will no longer be allowed to be loaded via this mode unless they are explicitly allowlisted by the user via `torch.serialization.add_safe_globals`. We recommend you start setting `weights_only=True` for any use case where you don't have full control of the loaded file. Please open an issue on GitHub for any issues related to this experimental feature.\n",
            "  val_input_ids = torch.load('val_input_ids.pt')\n",
            "<ipython-input-51-a49a345635d5>:9: FutureWarning: You are using `torch.load` with `weights_only=False` (the current default value), which uses the default pickle module implicitly. It is possible to construct malicious pickle data which will execute arbitrary code during unpickling (See https://github.com/pytorch/pytorch/blob/main/SECURITY.md#untrusted-models for more details). In a future release, the default value for `weights_only` will be flipped to `True`. This limits the functions that could be executed during unpickling. Arbitrary objects will no longer be allowed to be loaded via this mode unless they are explicitly allowlisted by the user via `torch.serialization.add_safe_globals`. We recommend you start setting `weights_only=True` for any use case where you don't have full control of the loaded file. Please open an issue on GitHub for any issues related to this experimental feature.\n",
            "  val_attention_masks = torch.load('val_attention_masks.pt')\n"
          ]
        }
      ]
    },
    {
      "cell_type": "code",
      "source": [],
      "metadata": {
        "id": "Cv5f6F45fWX0"
      },
      "execution_count": null,
      "outputs": []
    },
    {
      "cell_type": "markdown",
      "source": [
        "## Loss Functions"
      ],
      "metadata": {
        "id": "Gj7KNYgyjJ4D"
      }
    },
    {
      "cell_type": "code",
      "source": [
        "# from transformers import Trainer, TrainingArguments\n",
        "# from torch.nn import CrossEntropyLoss\n",
        "# from seqeval.metrics import f1_score, precision_score, recall_score\n",
        "\n",
        "# # Define loss functions\n",
        "# loss_fn_intent = CrossEntropyLoss()\n",
        "# loss_fn_category = CrossEntropyLoss()\n",
        "# loss_fn_ner = CrossEntropyLoss(ignore_index=9)\n",
        "\n",
        "# class CustomTrainer(Trainer):\n",
        "#     def compute_loss(self, model, inputs, return_outputs=False):\n",
        "#         labels = inputs.pop(\"labels\") # Extract labels from inputs\n",
        "#         intent_labels, category_labels, ner_labels = labels\n",
        "\n",
        "#         outputs = model(**inputs) # Forward pass\n",
        "#         intent_logits, category_logits, ner_logits = outputs\n",
        "\n",
        "#         # Calculate losses\n",
        "#         loss_intent = loss_fn_intent(intent_logits, intent_labels)\n",
        "#         loss_category = loss_fn_category(category_logits, category_labels)\n",
        "#         loss_ner = loss_fn_ner(ner_logits.view(-1, ner_logits.shape[-1]), ner_labels.view(-1))\n",
        "\n",
        "#         # Combine losses (adjust weights if needed)\n",
        "#         total_loss = loss_intent + loss_category + loss_ner\n",
        "\n",
        "#         return (total_loss, outputs) if return_outputs else total_loss\n",
        "\n",
        "\n",
        "# # Custom compute_metrics function\n",
        "# def compute_metrics(eval_pred):\n",
        "#     predictions, labels = eval_pred\n",
        "#     intent_predictions = torch.argmax(predictions[0], dim=1)\n",
        "#     category_predictions = torch.argmax(predictions[1], dim=1)\n",
        "#     ner_predictions = torch.argmax(predictions[2], dim=2)\n",
        "\n",
        "#     intent_accuracy = (intent_predictions == labels[0]).float().mean().item()\n",
        "#     category_accuracy = (category_predictions == labels[1]).float().mean().item()\n",
        "\n",
        "#     # Convert predictions and labels to list of lists\n",
        "#     ner_predictions_list = ner_predictions.tolist()\n",
        "#     ner_labels_list = labels[2].tolist()\n",
        "\n",
        "#     # Remove padding and convert to seqeval format\n",
        "#     ner_predictions_list = [[list(tag_to_id.keys())[id] for id in pred if id != 9] for pred in ner_predictions_list]\n",
        "#     ner_labels_list = [[list(tag_to_id.keys())[id] for id in label if id != 9] for label in ner_labels_list]\n",
        "\n",
        "#     # Calculate F1 score for NER\n",
        "#     ner_f1 = f1_score(ner_predictions_list, ner_labels_list)\n",
        "#     ner_precision = precision_score(ner_predictions_list, ner_labels_list)\n",
        "#     ner_recall = recall_score(ner_predictions_list, ner_labels_list)\n",
        "\n",
        "#     return {\n",
        "#         'intent_accuracy': intent_accuracy,\n",
        "#         'category_accuracy': category_accuracy,\n",
        "#         'ner_f1': ner_f1,\n",
        "#         'ner_precision': ner_precision,\n",
        "#         'ner_recall': ner_recall\n",
        "#     }\n",
        "\n",
        "# def custom_data_collator(features):\n",
        "#     \"\"\"\n",
        "#     Custom data collator function to prepare batches for multi-task training.\n",
        "\n",
        "#     Args:\n",
        "#         features (list): List of data samples.\n",
        "\n",
        "#     Returns:\n",
        "#         dict: A dictionary containing the collated data.\n",
        "#     \"\"\"\n",
        "#     # Pad input_ids and attention_masks\n",
        "#     input_ids = torch.stack([f['input_ids'] for f in features], dim=0)\n",
        "#     attention_masks = torch.stack([f['attention_mask'] for f in features], dim=0)\n",
        "\n",
        "#     # Collate other features\n",
        "#     intents = torch.tensor([f['intents'] for f in features])\n",
        "#     categories = torch.tensor([f['categories'] for f in features])\n",
        "#     ner_labels = torch.stack([f['ner_labels'] for f in features], dim=0)\n",
        "\n",
        "#     # Combine into a dictionary\n",
        "#     return {\n",
        "#         'input_ids': input_ids,\n",
        "#         'attention_mask': attention_masks,\n",
        "#         'labels': (intents, categories, ner_labels)  # Labels as a tuple\n",
        "#     }\n",
        "\n",
        "\n",
        "# # Define training arguments\n",
        "# training_args = TrainingArguments(\n",
        "#     output_dir='./results',\n",
        "#     num_train_epochs=3,\n",
        "#     per_device_train_batch_size=8,\n",
        "#     per_device_eval_batch_size=8,\n",
        "#     warmup_steps=500,\n",
        "#     weight_decay=0.01,\n",
        "#     logging_dir='./logs',\n",
        "#     logging_steps=10,\n",
        "#     evaluation_strategy='epoch'\n",
        "# )\n",
        "\n",
        "# # Define the Trainer\n",
        "# trainer = CustomTrainer(\n",
        "#     model=model,\n",
        "#     args=training_args,\n",
        "#     train_dataset=train_dataset,\n",
        "#     eval_dataset=val_dataset,\n",
        "#     compute_metrics=compute_metrics,\n",
        "#     data_collator=custom_data_collator  # Use the custom collator\n",
        "# )\n",
        "\n",
        "# # Train the model\n",
        "# trainer.train()"
      ],
      "metadata": {
        "id": "tXCf7NdIjLJT"
      },
      "execution_count": null,
      "outputs": []
    },
    {
      "cell_type": "markdown",
      "source": [
        "# qwen"
      ],
      "metadata": {
        "id": "Ro_dISK2uYOd"
      }
    },
    {
      "cell_type": "code",
      "source": [
        "from torch.nn import CrossEntropyLoss\n",
        "\n",
        "# Define loss functions\n",
        "loss_fn_intent = CrossEntropyLoss()\n",
        "loss_fn_category = CrossEntropyLoss()\n",
        "loss_fn_ner = CrossEntropyLoss(ignore_index=9)  # Ignore padding index"
      ],
      "metadata": {
        "id": "stP2Lbetw_mv"
      },
      "execution_count": null,
      "outputs": []
    },
    {
      "cell_type": "code",
      "source": [
        "from transformers import Trainer, TrainingArguments\n",
        "from torch.nn import CrossEntropyLoss\n",
        "from seqeval.metrics import f1_score, precision_score, recall_score\n"
      ],
      "metadata": {
        "id": "BiibLeRzxJid"
      },
      "execution_count": null,
      "outputs": []
    },
    {
      "cell_type": "code",
      "source": [
        "import torch.optim as optim\n",
        "import numpy as np\n",
        "\n",
        "# Define the optimizer\n",
        "optimizer = optim.AdamW(model.parameters(), lr=5e-5)\n",
        "\n",
        "# Define the device\n",
        "device = torch.device('cuda' if torch.cuda.is_available() else 'cpu')\n",
        "model.to(device)\n",
        "\n",
        "# Training loop\n",
        "def train_model(model, train_dataloader, val_dataloader, optimizer, num_epochs=):\n",
        "    for epoch in range(num_epochs):\n",
        "        model.train()\n",
        "        total_loss = 0.0\n",
        "\n",
        "        for batch in train_dataloader:\n",
        "            input_ids = batch['input_ids'].to(device)\n",
        "            attention_mask = batch['attention_mask'].to(device)\n",
        "            intents = batch['intents'].to(device)\n",
        "            categories = batch['categories'].to(device)\n",
        "            ner_labels = batch['ner_labels'].to(device)\n",
        "\n",
        "            optimizer.zero_grad()\n",
        "\n",
        "            # Forward pass\n",
        "            intent_logits, category_logits, ner_logits = model(input_ids, attention_mask)\n",
        "\n",
        "            # Compute losses\n",
        "            loss_intent = loss_fn_intent(intent_logits, intents)\n",
        "            loss_category = loss_fn_category(category_logits, categories)\n",
        "\n",
        "            # Reshape NER logits and labels\n",
        "            ner_logits = ner_logits.view(-1, num_ner_labels)\n",
        "            ner_labels = ner_labels.view(-1)\n",
        "\n",
        "            # Ensure the labels are padded to match the logits\n",
        "            if ner_labels.size(0) != ner_logits.size(0):\n",
        "                # Pad the labels to match the logits\n",
        "                pad_length = ner_logits.size(0) - ner_labels.size(0)\n",
        "                padding = torch.full((pad_length,), 9, dtype=ner_labels.dtype, device=device)\n",
        "                ner_labels = torch.cat([ner_labels, padding], dim=0)\n",
        "\n",
        "            loss_ner = loss_fn_ner(ner_logits, ner_labels)\n",
        "\n",
        "            # Combine losses\n",
        "            total_loss = loss_intent + loss_category + loss_ner\n",
        "\n",
        "            # Backward pass\n",
        "            total_loss.backward()\n",
        "            optimizer.step()\n",
        "\n",
        "            total_loss += total_loss.item()\n",
        "\n",
        "        print(f'Epoch {epoch + 1}/{num_epochs}, Loss: {total_loss / len(train_dataloader)}')\n",
        "\n",
        "        # Validation loop\n",
        "        model.eval()\n",
        "        val_loss = 0.0\n",
        "        all_intent_preds = []\n",
        "        all_category_preds = []\n",
        "        all_ner_preds = []\n",
        "        all_intents = []\n",
        "        all_categories = []\n",
        "        all_ner_labels = []\n",
        "\n",
        "        with torch.no_grad():\n",
        "            for batch in val_dataloader:\n",
        "                input_ids = batch['input_ids'].to(device)\n",
        "                attention_mask = batch['attention_mask'].to(device)\n",
        "                intents = batch['intents'].to(device)\n",
        "                categories = batch['categories'].to(device)\n",
        "                ner_labels = batch['ner_labels'].to(device)\n",
        "\n",
        "                # Forward pass\n",
        "                intent_logits, category_logits, ner_logits = model(input_ids, attention_mask)\n",
        "\n",
        "                # Compute losses\n",
        "                loss_intent = loss_fn_intent(intent_logits, intents)\n",
        "                loss_category = loss_fn_category(category_logits, categories)\n",
        "\n",
        "                # Reshape NER logits and labels\n",
        "                ner_logits = ner_logits.view(-1, num_ner_labels)\n",
        "                ner_labels = ner_labels.view(-1)\n",
        "\n",
        "                # Ensure the labels are padded to match the logits\n",
        "                if ner_labels.size(0) != ner_logits.size(0):\n",
        "                    # Pad the labels to match the logits\n",
        "                    pad_length = ner_logits.size(0) - ner_labels.size(0)\n",
        "                    padding = torch.full((pad_length,), 9, dtype=ner_labels.dtype, device=device)\n",
        "                    ner_labels = torch.cat([ner_labels, padding], dim=0)\n",
        "\n",
        "                loss_ner = loss_fn_ner(ner_logits, ner_labels)\n",
        "\n",
        "                # Combine losses\n",
        "                total_loss = loss_intent + loss_category + loss_ner\n",
        "\n",
        "                val_loss += total_loss.item()\n",
        "\n",
        "                # Collect predictions and labels\n",
        "                all_intent_preds.extend(torch.argmax(intent_logits, dim=1).cpu().numpy())\n",
        "                all_category_preds.extend(torch.argmax(category_logits, dim=1).cpu().numpy())\n",
        "                all_ner_preds.extend(torch.argmax(ner_logits, dim=1).view(-1, max_seq_length).cpu().numpy())\n",
        "                all_intents.extend(intents.cpu().numpy())\n",
        "                all_categories.extend(categories.cpu().numpy())\n",
        "                all_ner_labels.extend(ner_labels.view(-1, max_seq_length).cpu().numpy())\n",
        "\n",
        "        # Compute metrics\n",
        "        intent_accuracy = (np.array(all_intent_preds) == np.array(all_intents)).mean()\n",
        "        category_accuracy = (np.array(all_category_preds) == np.array(all_categories)).mean()\n",
        "\n",
        "        # Convert predictions and labels to list of lists\n",
        "        ner_predictions_list = [[list(tag_to_id.keys())[id] for id in pred if id != 9] for pred in all_ner_preds]\n",
        "        ner_labels_list = [[list(tag_to_id.keys())[id] for id in label if id != 9] for label in all_ner_labels]\n",
        "\n",
        "        # Calculate F1 score for NER\n",
        "        ner_f1 = f1_score(ner_predictions_list, ner_labels_list)\n",
        "        ner_precision = precision_score(ner_predictions_list, ner_labels_list)\n",
        "        ner_recall = recall_score(ner_predictions_list, ner_labels_list)\n",
        "\n",
        "        print(f'Validation Loss: {val_loss / len(val_dataloader)}')\n",
        "        print(f'Intent Accuracy: {intent_accuracy}')\n",
        "        print(f'Category Accuracy: {category_accuracy}')\n",
        "        print(f'NER F1: {ner_f1}')\n",
        "        print(f'NER Precision: {ner_precision}')\n",
        "        print(f'NER Recall: {ner_recall}')\n",
        "\n",
        "# Train the model\n",
        "train_model(model, train_dataloader, val_dataloader, optimizer)"
      ],
      "metadata": {
        "colab": {
          "base_uri": "https://localhost:8080/",
          "height": 384
        },
        "id": "RTiXWBWvjQus",
        "outputId": "841c19fe-ca9b-45c6-fae6-cedab9c4d046"
      },
      "execution_count": null,
      "outputs": [
        {
          "output_type": "stream",
          "name": "stdout",
          "text": [
            "Epoch 1/3, Loss: 0.004180609248578548\n"
          ]
        },
        {
          "output_type": "error",
          "ename": "RuntimeError",
          "evalue": "shape '[-1, 18]' is invalid for input of size 1024",
          "traceback": [
            "\u001b[0;31m---------------------------------------------------------------------------\u001b[0m",
            "\u001b[0;31mRuntimeError\u001b[0m                              Traceback (most recent call last)",
            "\u001b[0;32m<ipython-input-23-ec212a0cb89c>\u001b[0m in \u001b[0;36m<cell line: 0>\u001b[0;34m()\u001b[0m\n\u001b[1;32m    127\u001b[0m \u001b[0;34m\u001b[0m\u001b[0m\n\u001b[1;32m    128\u001b[0m \u001b[0;31m# Train the model\u001b[0m\u001b[0;34m\u001b[0m\u001b[0;34m\u001b[0m\u001b[0m\n\u001b[0;32m--> 129\u001b[0;31m \u001b[0mtrain_model\u001b[0m\u001b[0;34m(\u001b[0m\u001b[0mmodel\u001b[0m\u001b[0;34m,\u001b[0m \u001b[0mtrain_dataloader\u001b[0m\u001b[0;34m,\u001b[0m \u001b[0mval_dataloader\u001b[0m\u001b[0;34m,\u001b[0m \u001b[0moptimizer\u001b[0m\u001b[0;34m)\u001b[0m\u001b[0;34m\u001b[0m\u001b[0;34m\u001b[0m\u001b[0m\n\u001b[0m",
            "\u001b[0;32m<ipython-input-23-ec212a0cb89c>\u001b[0m in \u001b[0;36mtrain_model\u001b[0;34m(model, train_dataloader, val_dataloader, optimizer, num_epochs)\u001b[0m\n\u001b[1;32m    101\u001b[0m                 \u001b[0mall_intent_preds\u001b[0m\u001b[0;34m.\u001b[0m\u001b[0mextend\u001b[0m\u001b[0;34m(\u001b[0m\u001b[0mtorch\u001b[0m\u001b[0;34m.\u001b[0m\u001b[0margmax\u001b[0m\u001b[0;34m(\u001b[0m\u001b[0mintent_logits\u001b[0m\u001b[0;34m,\u001b[0m \u001b[0mdim\u001b[0m\u001b[0;34m=\u001b[0m\u001b[0;36m1\u001b[0m\u001b[0;34m)\u001b[0m\u001b[0;34m.\u001b[0m\u001b[0mcpu\u001b[0m\u001b[0;34m(\u001b[0m\u001b[0;34m)\u001b[0m\u001b[0;34m.\u001b[0m\u001b[0mnumpy\u001b[0m\u001b[0;34m(\u001b[0m\u001b[0;34m)\u001b[0m\u001b[0;34m)\u001b[0m\u001b[0;34m\u001b[0m\u001b[0;34m\u001b[0m\u001b[0m\n\u001b[1;32m    102\u001b[0m                 \u001b[0mall_category_preds\u001b[0m\u001b[0;34m.\u001b[0m\u001b[0mextend\u001b[0m\u001b[0;34m(\u001b[0m\u001b[0mtorch\u001b[0m\u001b[0;34m.\u001b[0m\u001b[0margmax\u001b[0m\u001b[0;34m(\u001b[0m\u001b[0mcategory_logits\u001b[0m\u001b[0;34m,\u001b[0m \u001b[0mdim\u001b[0m\u001b[0;34m=\u001b[0m\u001b[0;36m1\u001b[0m\u001b[0;34m)\u001b[0m\u001b[0;34m.\u001b[0m\u001b[0mcpu\u001b[0m\u001b[0;34m(\u001b[0m\u001b[0;34m)\u001b[0m\u001b[0;34m.\u001b[0m\u001b[0mnumpy\u001b[0m\u001b[0;34m(\u001b[0m\u001b[0;34m)\u001b[0m\u001b[0;34m)\u001b[0m\u001b[0;34m\u001b[0m\u001b[0;34m\u001b[0m\u001b[0m\n\u001b[0;32m--> 103\u001b[0;31m                 \u001b[0mall_ner_preds\u001b[0m\u001b[0;34m.\u001b[0m\u001b[0mextend\u001b[0m\u001b[0;34m(\u001b[0m\u001b[0mtorch\u001b[0m\u001b[0;34m.\u001b[0m\u001b[0margmax\u001b[0m\u001b[0;34m(\u001b[0m\u001b[0mner_logits\u001b[0m\u001b[0;34m,\u001b[0m \u001b[0mdim\u001b[0m\u001b[0;34m=\u001b[0m\u001b[0;36m1\u001b[0m\u001b[0;34m)\u001b[0m\u001b[0;34m.\u001b[0m\u001b[0mview\u001b[0m\u001b[0;34m(\u001b[0m\u001b[0;34m-\u001b[0m\u001b[0;36m1\u001b[0m\u001b[0;34m,\u001b[0m \u001b[0mmax_seq_length\u001b[0m\u001b[0;34m)\u001b[0m\u001b[0;34m.\u001b[0m\u001b[0mcpu\u001b[0m\u001b[0;34m(\u001b[0m\u001b[0;34m)\u001b[0m\u001b[0;34m.\u001b[0m\u001b[0mnumpy\u001b[0m\u001b[0;34m(\u001b[0m\u001b[0;34m)\u001b[0m\u001b[0;34m)\u001b[0m\u001b[0;34m\u001b[0m\u001b[0;34m\u001b[0m\u001b[0m\n\u001b[0m\u001b[1;32m    104\u001b[0m                 \u001b[0mall_intents\u001b[0m\u001b[0;34m.\u001b[0m\u001b[0mextend\u001b[0m\u001b[0;34m(\u001b[0m\u001b[0mintents\u001b[0m\u001b[0;34m.\u001b[0m\u001b[0mcpu\u001b[0m\u001b[0;34m(\u001b[0m\u001b[0;34m)\u001b[0m\u001b[0;34m.\u001b[0m\u001b[0mnumpy\u001b[0m\u001b[0;34m(\u001b[0m\u001b[0;34m)\u001b[0m\u001b[0;34m)\u001b[0m\u001b[0;34m\u001b[0m\u001b[0;34m\u001b[0m\u001b[0m\n\u001b[1;32m    105\u001b[0m                 \u001b[0mall_categories\u001b[0m\u001b[0;34m.\u001b[0m\u001b[0mextend\u001b[0m\u001b[0;34m(\u001b[0m\u001b[0mcategories\u001b[0m\u001b[0;34m.\u001b[0m\u001b[0mcpu\u001b[0m\u001b[0;34m(\u001b[0m\u001b[0;34m)\u001b[0m\u001b[0;34m.\u001b[0m\u001b[0mnumpy\u001b[0m\u001b[0;34m(\u001b[0m\u001b[0;34m)\u001b[0m\u001b[0;34m)\u001b[0m\u001b[0;34m\u001b[0m\u001b[0;34m\u001b[0m\u001b[0m\n",
            "\u001b[0;31mRuntimeError\u001b[0m: shape '[-1, 18]' is invalid for input of size 1024"
          ]
        }
      ]
    },
    {
      "cell_type": "code",
      "source": [],
      "metadata": {
        "id": "JASxBGJGt27O"
      },
      "execution_count": null,
      "outputs": []
    },
    {
      "cell_type": "markdown",
      "source": [
        "# Use Trainers api"
      ],
      "metadata": {
        "id": "AOSI-dvty6DM"
      }
    },
    {
      "cell_type": "code",
      "source": [
        "from transformers import DataCollatorWithPadding\n",
        "\n",
        "class CustomDataCollator(DataCollatorWithPadding):\n",
        "    def __call__(self, features):\n",
        "        batch = super().__call__(features)\n",
        "        batch['tags'] = torch.stack([feature['tags'] for feature in features])\n",
        "        return batch"
      ],
      "metadata": {
        "id": "3vTxrhGZy766"
      },
      "execution_count": null,
      "outputs": []
    },
    {
      "cell_type": "code",
      "source": [
        "from seqeval.metrics import f1_score, precision_score, recall_score\n",
        "\n",
        "def compute_metrics(eval_pred):\n",
        "    predictions, labels = eval_pred\n",
        "    intent_predictions = torch.argmax(predictions[0], dim=1)\n",
        "    category_predictions = torch.argmax(predictions[1], dim=1)\n",
        "    ner_predictions = torch.argmax(predictions[2], dim=2)\n",
        "\n",
        "    intent_accuracy = (intent_predictions == labels[0]).float().mean().item()\n",
        "    category_accuracy = (category_predictions == labels[1]).float().mean().item()\n",
        "\n",
        "    # Convert predictions and labels to list of lists\n",
        "    ner_predictions_list = ner_predictions.tolist()\n",
        "    ner_labels_list = labels[2].tolist()\n",
        "\n",
        "    # Remove padding and convert to seqeval format\n",
        "    ner_predictions_list = [[list(tag_to_id.keys())[id] for id in pred if id != 9] for pred in ner_predictions_list]\n",
        "    ner_labels_list = [[list(tag_to_id.keys())[id] for id in label if id != 9] for label in ner_labels_list]\n",
        "\n",
        "    # Calculate F1 score for NER\n",
        "    ner_f1 = f1_score(ner_predictions_list, ner_labels_list)\n",
        "    ner_precision = precision_score(ner_predictions_list, ner_labels_list)\n",
        "    ner_recall = recall_score(ner_predictions_list, ner_labels_list)\n",
        "\n",
        "    return {\n",
        "        'intent_accuracy': intent_accuracy,\n",
        "        'category_accuracy': category_accuracy,\n",
        "        'ner_f1': ner_f1,\n",
        "        'ner_precision': ner_precision,\n",
        "        'ner_recall': ner_recall\n",
        "    }"
      ],
      "metadata": {
        "id": "QzRYUI4Ky9TB"
      },
      "execution_count": null,
      "outputs": []
    },
    {
      "cell_type": "code",
      "source": [
        "from torch.nn import CrossEntropyLoss\n",
        "\n",
        "# Define loss functions\n",
        "loss_fn_intent = CrossEntropyLoss()\n",
        "loss_fn_category = CrossEntropyLoss()\n",
        "loss_fn_ner = CrossEntropyLoss(ignore_index=9)  # Ignore padding index"
      ],
      "metadata": {
        "id": "tzSgObYLzCMd"
      },
      "execution_count": null,
      "outputs": []
    },
    {
      "cell_type": "code",
      "source": [
        "from transformers import Trainer, TrainingArguments\n",
        "\n",
        "# Define the device\n",
        "device = torch.device('cuda' if torch.cuda.is_available() else 'cpu')\n",
        "model.to(device)\n",
        "\n",
        "# Define training arguments\n",
        "training_args = TrainingArguments(\n",
        "    output_dir='./results',\n",
        "    num_train_epochs=3,\n",
        "    per_device_train_batch_size=8,\n",
        "    per_device_eval_batch_size=8,\n",
        "    warmup_steps=500,\n",
        "    weight_decay=0.01,\n",
        "    logging_dir='./logs',\n",
        "    logging_steps=10,\n",
        "    evaluation_strategy='epoch'\n",
        ")\n",
        "\n",
        "# Define the custom data collator\n",
        "data_collator = CustomDataCollator(tokenizer=tokenizer)\n",
        "\n",
        "# Define the Trainer\n",
        "trainer = Trainer(\n",
        "    model=model,\n",
        "    args=training_args,\n",
        "    train_dataset=train_dataset,\n",
        "    eval_dataset=val_dataset,\n",
        "    data_collator=data_collator,\n",
        "    compute_metrics=compute_metrics\n",
        ")\n",
        "\n",
        "# Custom training loop to combine losses\n",
        "def custom_train_loop(trainer, train_dataloader, val_dataloader, optimizer, num_epochs=3):\n",
        "    for epoch in range(num_epochs):\n",
        "        model.train()\n",
        "        total_loss = 0.0\n",
        "\n",
        "        for batch in train_dataloader:\n",
        "            input_ids = batch['input_ids'].to(device)\n",
        "            attention_mask = batch['attention_mask'].to(device)\n",
        "            intents = batch['intents'].to(device)\n",
        "            categories = batch['categories'].to(device)\n",
        "            ner_labels = batch['ner_labels'].to(device)\n",
        "\n",
        "            optimizer.zero_grad()\n",
        "\n",
        "            # Forward pass\n",
        "            intent_logits, category_logits, ner_logits = model(input_ids, attention_mask)\n",
        "\n",
        "            # Compute losses\n",
        "            loss_intent = loss_fn_intent(intent_logits, intents)\n",
        "            loss_category = loss_fn_category(category_logits, categories)\n",
        "\n",
        "            # Reshape NER logits and labels\n",
        "            ner_logits = ner_logits.view(-1, num_ner_labels)\n",
        "            ner_labels = ner_labels.view(-1)\n",
        "\n",
        "            # Ensure the labels are padded to match the logits\n",
        "            if ner_labels.size(0) != ner_logits.size(0):\n",
        "                # Pad the labels to match the logits\n",
        "                pad_length = ner_logits.size(0) - ner_labels.size(0)\n",
        "                padding = torch.full((pad_length,), 9, dtype=ner_labels.dtype, device=device)\n",
        "                ner_labels = torch.cat([ner_labels, padding], dim=0)\n",
        "\n",
        "            loss_ner = loss_fn_ner(ner_logits, ner_labels)\n",
        "\n",
        "            # Combine losses\n",
        "            total_loss = loss_intent + loss_category + loss_ner\n",
        "\n",
        "            # Backward pass\n",
        "            total_loss.backward()\n",
        "            optimizer.step()\n",
        "\n",
        "            total_loss += total_loss.item()\n",
        "\n",
        "        print(f'Epoch {epoch + 1}/{num_epochs}, Loss: {total_loss / len(train_dataloader)}')\n",
        "\n",
        "        # Validation loop\n",
        "        model.eval()\n",
        "        val_loss = 0.0\n",
        "        all_intent_preds = []\n",
        "        all_category_preds = []\n",
        "        all_ner_preds = []\n",
        "        all_intents = []\n",
        "        all_categories = []\n",
        "        all_ner_labels = []\n",
        "\n",
        "        with torch.no_grad():\n",
        "            for batch in val_dataloader:\n",
        "                input_ids = batch['input_ids'].to(device)\n",
        "                attention_mask = batch['attention_mask'].to(device)\n",
        "                intents = batch['intents'].to(device)\n",
        "                categories = batch['categories'].to(device)\n",
        "                ner_labels = batch['ner_labels'].to(device)\n",
        "\n",
        "                # Forward pass\n",
        "                intent_logits, category_logits, ner_logits = model(input_ids, attention_mask)\n",
        "\n",
        "                # Compute losses\n",
        "                loss_intent = loss_fn_intent(intent_logits, intents)\n",
        "                loss_category = loss_fn_category(category_logits, categories)\n",
        "\n",
        "                # Reshape NER logits and labels\n",
        "                ner_logits = ner_logits.view(-1, num_ner_labels)\n",
        "                ner_labels = ner_labels.view(-1)\n",
        "\n",
        "                # Ensure the labels are padded to match the logits\n",
        "                if ner_labels.size(0) != ner_logits.size(0):\n",
        "                    # Pad the labels to match the logits\n",
        "                    pad_length = ner_logits.size(0) - ner_labels.size(0)\n",
        "                    padding = torch.full((pad_length,), 9, dtype=ner_labels.dtype, device=device)\n",
        "                    ner_labels = torch.cat([ner_labels, padding], dim=0)\n",
        "\n",
        "                loss_ner = loss_fn_ner(ner_logits, ner_labels)\n",
        "\n",
        "                # Combine losses\n",
        "                total_loss = loss_intent + loss_category + loss_ner\n",
        "\n",
        "                val_loss += total_loss.item()\n",
        "\n",
        "                # Collect predictions and labels\n",
        "                all_intent_preds.extend(torch.argmax(intent_logits, dim=1).cpu().numpy())\n",
        "                all_category_preds.extend(torch.argmax(category_logits, dim=1).cpu().numpy())\n",
        "                all_ner_preds.extend(torch.argmax(ner_logits, dim=1).view(-1, max_seq_length).cpu().numpy())\n",
        "                all_intents.extend(intents.cpu().numpy())\n",
        "                all_categories.extend(categories.cpu().numpy())\n",
        "                all_ner_labels.extend(ner_labels.view(-1, max_seq_length).cpu().numpy())\n",
        "\n",
        "        # Compute metrics\n",
        "        intent_accuracy = (np.array(all_intent_preds) == np.array(all_intents)).mean()\n",
        "        category_accuracy = (np.array(all_category_preds) == np.array(all_categories)).mean()\n",
        "\n",
        "        # Convert predictions and labels to list of lists\n",
        "        ner_predictions_list = [[list(tag_to_id.keys())[id] for id in pred if id != 9] for pred in all_ner_preds]\n",
        "        ner_labels_list = [[list(tag_to_id.keys())[id] for id in label if id != 9] for label in all_ner_labels]\n",
        "\n",
        "        # Calculate F1 score for NER\n",
        "        ner_f1 = f1_score(ner_predictions_list, ner_labels_list)\n",
        "        ner_precision = precision_score(ner_predictions_list, ner_labels_list)\n",
        "        ner_recall = recall_score(ner_predictions_list, ner_labels_list)\n",
        "\n",
        "        print(f'Validation Loss: {val_loss / len(val_dataloader)}')\n",
        "        print(f'Intent Accuracy: {intent_accuracy}')\n",
        "        print(f'Category Accuracy: {category_accuracy}')\n",
        "        print(f'NER F1: {ner_f1}')\n",
        "        print(f'NER Precision: {ner_precision}')\n",
        "        print(f'NER Recall: {ner_recall}')\n",
        "\n",
        "# Define the optimizer\n",
        "optimizer = optim.AdamW(model.parameters(), lr=5e-5)\n",
        "\n",
        "# Train the model\n",
        "custom_train_loop(trainer, train_dataloader, val_dataloader, optimizer)"
      ],
      "metadata": {
        "colab": {
          "base_uri": "https://localhost:8080/",
          "height": 439
        },
        "id": "BP_Y4LNUzDXM",
        "outputId": "deeda4ea-e42b-4804-f981-b8277d5b8ecf"
      },
      "execution_count": null,
      "outputs": [
        {
          "output_type": "stream",
          "name": "stderr",
          "text": [
            "/usr/local/lib/python3.11/dist-packages/transformers/training_args.py:1575: FutureWarning: `evaluation_strategy` is deprecated and will be removed in version 4.46 of 🤗 Transformers. Use `eval_strategy` instead\n",
            "  warnings.warn(\n"
          ]
        },
        {
          "output_type": "stream",
          "name": "stdout",
          "text": [
            "Epoch 1/3, Loss: 0.004107371903955936\n"
          ]
        },
        {
          "output_type": "error",
          "ename": "RuntimeError",
          "evalue": "shape '[-1, 18]' is invalid for input of size 1024",
          "traceback": [
            "\u001b[0;31m---------------------------------------------------------------------------\u001b[0m",
            "\u001b[0;31mRuntimeError\u001b[0m                              Traceback (most recent call last)",
            "\u001b[0;32m<ipython-input-27-0615d6cda959>\u001b[0m in \u001b[0;36m<cell line: 0>\u001b[0;34m()\u001b[0m\n\u001b[1;32m    152\u001b[0m \u001b[0;34m\u001b[0m\u001b[0m\n\u001b[1;32m    153\u001b[0m \u001b[0;31m# Train the model\u001b[0m\u001b[0;34m\u001b[0m\u001b[0;34m\u001b[0m\u001b[0m\n\u001b[0;32m--> 154\u001b[0;31m \u001b[0mcustom_train_loop\u001b[0m\u001b[0;34m(\u001b[0m\u001b[0mtrainer\u001b[0m\u001b[0;34m,\u001b[0m \u001b[0mtrain_dataloader\u001b[0m\u001b[0;34m,\u001b[0m \u001b[0mval_dataloader\u001b[0m\u001b[0;34m,\u001b[0m \u001b[0moptimizer\u001b[0m\u001b[0;34m)\u001b[0m\u001b[0;34m\u001b[0m\u001b[0;34m\u001b[0m\u001b[0m\n\u001b[0m",
            "\u001b[0;32m<ipython-input-27-0615d6cda959>\u001b[0m in \u001b[0;36mcustom_train_loop\u001b[0;34m(trainer, train_dataloader, val_dataloader, optimizer, num_epochs)\u001b[0m\n\u001b[1;32m    123\u001b[0m                 \u001b[0mall_intent_preds\u001b[0m\u001b[0;34m.\u001b[0m\u001b[0mextend\u001b[0m\u001b[0;34m(\u001b[0m\u001b[0mtorch\u001b[0m\u001b[0;34m.\u001b[0m\u001b[0margmax\u001b[0m\u001b[0;34m(\u001b[0m\u001b[0mintent_logits\u001b[0m\u001b[0;34m,\u001b[0m \u001b[0mdim\u001b[0m\u001b[0;34m=\u001b[0m\u001b[0;36m1\u001b[0m\u001b[0;34m)\u001b[0m\u001b[0;34m.\u001b[0m\u001b[0mcpu\u001b[0m\u001b[0;34m(\u001b[0m\u001b[0;34m)\u001b[0m\u001b[0;34m.\u001b[0m\u001b[0mnumpy\u001b[0m\u001b[0;34m(\u001b[0m\u001b[0;34m)\u001b[0m\u001b[0;34m)\u001b[0m\u001b[0;34m\u001b[0m\u001b[0;34m\u001b[0m\u001b[0m\n\u001b[1;32m    124\u001b[0m                 \u001b[0mall_category_preds\u001b[0m\u001b[0;34m.\u001b[0m\u001b[0mextend\u001b[0m\u001b[0;34m(\u001b[0m\u001b[0mtorch\u001b[0m\u001b[0;34m.\u001b[0m\u001b[0margmax\u001b[0m\u001b[0;34m(\u001b[0m\u001b[0mcategory_logits\u001b[0m\u001b[0;34m,\u001b[0m \u001b[0mdim\u001b[0m\u001b[0;34m=\u001b[0m\u001b[0;36m1\u001b[0m\u001b[0;34m)\u001b[0m\u001b[0;34m.\u001b[0m\u001b[0mcpu\u001b[0m\u001b[0;34m(\u001b[0m\u001b[0;34m)\u001b[0m\u001b[0;34m.\u001b[0m\u001b[0mnumpy\u001b[0m\u001b[0;34m(\u001b[0m\u001b[0;34m)\u001b[0m\u001b[0;34m)\u001b[0m\u001b[0;34m\u001b[0m\u001b[0;34m\u001b[0m\u001b[0m\n\u001b[0;32m--> 125\u001b[0;31m                 \u001b[0mall_ner_preds\u001b[0m\u001b[0;34m.\u001b[0m\u001b[0mextend\u001b[0m\u001b[0;34m(\u001b[0m\u001b[0mtorch\u001b[0m\u001b[0;34m.\u001b[0m\u001b[0margmax\u001b[0m\u001b[0;34m(\u001b[0m\u001b[0mner_logits\u001b[0m\u001b[0;34m,\u001b[0m \u001b[0mdim\u001b[0m\u001b[0;34m=\u001b[0m\u001b[0;36m1\u001b[0m\u001b[0;34m)\u001b[0m\u001b[0;34m.\u001b[0m\u001b[0mview\u001b[0m\u001b[0;34m(\u001b[0m\u001b[0;34m-\u001b[0m\u001b[0;36m1\u001b[0m\u001b[0;34m,\u001b[0m \u001b[0mmax_seq_length\u001b[0m\u001b[0;34m)\u001b[0m\u001b[0;34m.\u001b[0m\u001b[0mcpu\u001b[0m\u001b[0;34m(\u001b[0m\u001b[0;34m)\u001b[0m\u001b[0;34m.\u001b[0m\u001b[0mnumpy\u001b[0m\u001b[0;34m(\u001b[0m\u001b[0;34m)\u001b[0m\u001b[0;34m)\u001b[0m\u001b[0;34m\u001b[0m\u001b[0;34m\u001b[0m\u001b[0m\n\u001b[0m\u001b[1;32m    126\u001b[0m                 \u001b[0mall_intents\u001b[0m\u001b[0;34m.\u001b[0m\u001b[0mextend\u001b[0m\u001b[0;34m(\u001b[0m\u001b[0mintents\u001b[0m\u001b[0;34m.\u001b[0m\u001b[0mcpu\u001b[0m\u001b[0;34m(\u001b[0m\u001b[0;34m)\u001b[0m\u001b[0;34m.\u001b[0m\u001b[0mnumpy\u001b[0m\u001b[0;34m(\u001b[0m\u001b[0;34m)\u001b[0m\u001b[0;34m)\u001b[0m\u001b[0;34m\u001b[0m\u001b[0;34m\u001b[0m\u001b[0m\n\u001b[1;32m    127\u001b[0m                 \u001b[0mall_categories\u001b[0m\u001b[0;34m.\u001b[0m\u001b[0mextend\u001b[0m\u001b[0;34m(\u001b[0m\u001b[0mcategories\u001b[0m\u001b[0;34m.\u001b[0m\u001b[0mcpu\u001b[0m\u001b[0;34m(\u001b[0m\u001b[0;34m)\u001b[0m\u001b[0;34m.\u001b[0m\u001b[0mnumpy\u001b[0m\u001b[0;34m(\u001b[0m\u001b[0;34m)\u001b[0m\u001b[0;34m)\u001b[0m\u001b[0;34m\u001b[0m\u001b[0;34m\u001b[0m\u001b[0m\n",
            "\u001b[0;31mRuntimeError\u001b[0m: shape '[-1, 18]' is invalid for input of size 1024"
          ]
        }
      ]
    },
    {
      "cell_type": "markdown",
      "source": [
        "# with map"
      ],
      "metadata": {
        "id": "Nv48K8cZ2I5c"
      }
    },
    {
      "cell_type": "code",
      "source": [
        "pip install matplotlib pandas"
      ],
      "metadata": {
        "colab": {
          "base_uri": "https://localhost:8080/"
        },
        "id": "Edp8mFHW2KBe",
        "outputId": "d2fd915d-e2bf-4b97-82be-f8b9f6cd5b1a"
      },
      "execution_count": null,
      "outputs": [
        {
          "output_type": "stream",
          "name": "stdout",
          "text": [
            "Requirement already satisfied: matplotlib in /usr/local/lib/python3.11/dist-packages (3.10.0)\n",
            "Requirement already satisfied: pandas in /usr/local/lib/python3.11/dist-packages (2.2.2)\n",
            "Requirement already satisfied: contourpy>=1.0.1 in /usr/local/lib/python3.11/dist-packages (from matplotlib) (1.3.1)\n",
            "Requirement already satisfied: cycler>=0.10 in /usr/local/lib/python3.11/dist-packages (from matplotlib) (0.12.1)\n",
            "Requirement already satisfied: fonttools>=4.22.0 in /usr/local/lib/python3.11/dist-packages (from matplotlib) (4.55.8)\n",
            "Requirement already satisfied: kiwisolver>=1.3.1 in /usr/local/lib/python3.11/dist-packages (from matplotlib) (1.4.8)\n",
            "Requirement already satisfied: numpy>=1.23 in /usr/local/lib/python3.11/dist-packages (from matplotlib) (1.26.4)\n",
            "Requirement already satisfied: packaging>=20.0 in /usr/local/lib/python3.11/dist-packages (from matplotlib) (24.2)\n",
            "Requirement already satisfied: pillow>=8 in /usr/local/lib/python3.11/dist-packages (from matplotlib) (11.1.0)\n",
            "Requirement already satisfied: pyparsing>=2.3.1 in /usr/local/lib/python3.11/dist-packages (from matplotlib) (3.2.1)\n",
            "Requirement already satisfied: python-dateutil>=2.7 in /usr/local/lib/python3.11/dist-packages (from matplotlib) (2.8.2)\n",
            "Requirement already satisfied: pytz>=2020.1 in /usr/local/lib/python3.11/dist-packages (from pandas) (2025.1)\n",
            "Requirement already satisfied: tzdata>=2022.7 in /usr/local/lib/python3.11/dist-packages (from pandas) (2025.1)\n",
            "Requirement already satisfied: six>=1.5 in /usr/local/lib/python3.11/dist-packages (from python-dateutil>=2.7->matplotlib) (1.17.0)\n"
          ]
        }
      ]
    },
    {
      "cell_type": "code",
      "source": [],
      "metadata": {
        "id": "-7VQUo7S2KQk"
      },
      "execution_count": null,
      "outputs": []
    },
    {
      "cell_type": "code",
      "source": [
        "import torch\n",
        "import numpy as np\n",
        "import pandas as pd\n",
        "import matplotlib.pyplot as plt\n",
        "from seqeval.metrics import f1_score, precision_score, recall_score\n",
        "\n",
        "# Define hyperparameters\n",
        "batch_size = 8\n",
        "learning_rate = 5e-5\n",
        "num_epochs = 5\n",
        "weight_decay = 0.01\n",
        "\n",
        "# Define loss functions\n",
        "loss_fn_intent = CrossEntropyLoss()\n",
        "loss_fn_category = CrossEntropyLoss()\n",
        "loss_fn_ner = CrossEntropyLoss(ignore_index=9)  # Ignore padding index\n",
        "\n",
        "# Define the optimizer\n",
        "optimizer = optim.AdamW(model.parameters(), lr=learning_rate, weight_decay=weight_decay)\n",
        "\n",
        "# Define the device\n",
        "device = torch.device('cuda' if torch.cuda.is_available() else 'cpu')\n",
        "model.to(device)\n",
        "\n",
        "# Custom Training Loop\n",
        "def custom_train_loop(model, train_dataloader, val_dataloader, optimizer, num_epochs=num_epochs):\n",
        "    history = {\n",
        "        'epoch': [],\n",
        "        'train_loss': [],\n",
        "        'val_loss': [],\n",
        "        'train_intent_accuracy': [],\n",
        "        'val_intent_accuracy': [],\n",
        "        'train_category_accuracy': [],\n",
        "        'val_category_accuracy': [],\n",
        "        'val_ner_f1': []\n",
        "    }\n",
        "\n",
        "    for epoch in range(num_epochs):\n",
        "        model.train()\n",
        "        total_train_loss = 0.0\n",
        "        all_train_intent_preds = []\n",
        "        all_train_intents = []\n",
        "        all_train_category_preds = []\n",
        "        all_train_categories = []\n",
        "\n",
        "        for batch in train_dataloader:\n",
        "            input_ids = batch['input_ids'].to(device)\n",
        "            attention_mask = batch['attention_mask'].to(device)\n",
        "            intents = batch['intents'].to(device)\n",
        "            categories = batch['categories'].to(device)\n",
        "            ner_labels = batch['ner_labels'].to(device)\n",
        "\n",
        "            optimizer.zero_grad()\n",
        "\n",
        "            # Forward pass\n",
        "            intent_logits, category_logits, ner_logits = model(input_ids, attention_mask)\n",
        "\n",
        "            # Compute losses\n",
        "            loss_intent = loss_fn_intent(intent_logits, intents)\n",
        "            loss_category = loss_fn_category(category_logits, categories)\n",
        "\n",
        "            # Reshape NER logits and labels\n",
        "            ner_logits = ner_logits.view(-1, num_ner_labels)\n",
        "            ner_labels = ner_labels.view(-1)\n",
        "\n",
        "            # Ensure the labels are padded to match the logits\n",
        "            if ner_labels.size(0) != ner_logits.size(0):\n",
        "                pad_length = ner_logits.size(0) - ner_labels.size(0)\n",
        "                padding = torch.full((pad_length,), 9, dtype=ner_labels.dtype, device=device)\n",
        "                ner_labels = torch.cat([ner_labels, padding], dim=0)\n",
        "\n",
        "            loss_ner = loss_fn_ner(ner_logits, ner_labels)\n",
        "\n",
        "            # Combine losses\n",
        "            total_loss = loss_intent + loss_category + loss_ner\n",
        "\n",
        "            # Backward pass\n",
        "            total_loss.backward()\n",
        "            optimizer.step()\n",
        "\n",
        "            total_train_loss += total_loss.item()\n",
        "\n",
        "            # Collect training predictions and labels\n",
        "            all_train_intent_preds.extend(torch.argmax(intent_logits, dim=1).cpu().numpy())\n",
        "            all_train_intents.extend(intents.cpu().numpy())\n",
        "            all_train_category_preds.extend(torch.argmax(category_logits, dim=1).cpu().numpy())\n",
        "            all_train_categories.extend(categories.cpu().numpy())\n",
        "\n",
        "        train_loss = total_train_loss / len(train_dataloader)\n",
        "        train_intent_accuracy = (np.array(all_train_intent_preds) == np.array(all_train_intents)).mean()\n",
        "        train_category_accuracy = (np.array(all_train_category_preds) == np.array(all_train_categories)).mean()\n",
        "\n",
        "        print(f'Epoch {epoch + 1}/{num_epochs}, Train Loss: {train_loss}, Train Intent Accuracy: {train_intent_accuracy}, Train Category Accuracy: {train_category_accuracy}')\n",
        "\n",
        "        # Validation loop\n",
        "        model.eval()\n",
        "        total_val_loss = 0.0\n",
        "        all_val_intent_preds = []\n",
        "        all_val_intents = []\n",
        "        all_val_category_preds = []\n",
        "        all_val_categories = []\n",
        "        all_val_ner_preds = []\n",
        "        all_val_ner_labels = []\n",
        "\n",
        "        with torch.no_grad():\n",
        "            for batch in val_dataloader:\n",
        "                input_ids = batch['input_ids'].to(device)\n",
        "                attention_mask = batch['attention_mask'].to(device)\n",
        "                intents = batch['intents'].to(device)\n",
        "                categories = batch['categories'].to(device)\n",
        "                ner_labels = batch['ner_labels'].to(device)\n",
        "\n",
        "                # Forward pass\n",
        "                intent_logits, category_logits, ner_logits = model(input_ids, attention_mask)\n",
        "\n",
        "                # Compute losses\n",
        "                loss_intent = loss_fn_intent(intent_logits, intents)\n",
        "                loss_category = loss_fn_category(category_logits, categories)\n",
        "\n",
        "                # Reshape NER logits and labels\n",
        "                ner_logits = ner_logits.view(-1, num_ner_labels)\n",
        "                ner_labels = ner_labels.view(-1)\n",
        "\n",
        "                # Ensure the labels are padded to match the logits\n",
        "                if ner_labels.size(0) != ner_logits.size(0):\n",
        "                    pad_length = ner_logits.size(0) - ner_labels.size(0)\n",
        "                    padding = torch.full((pad_length,), 9, dtype=ner_labels.dtype, device=device)\n",
        "                    ner_labels = torch.cat([ner_labels, padding], dim=0)\n",
        "\n",
        "                loss_ner = loss_fn_ner(ner_logits, ner_labels)\n",
        "\n",
        "                # Combine losses\n",
        "                total_loss = loss_intent + loss_category + loss_ner\n",
        "\n",
        "                total_val_loss += total_loss.item()\n",
        "\n",
        "                # Collect validation predictions and labels\n",
        "                all_val_intent_preds.extend(torch.argmax(intent_logits, dim=1).cpu().numpy())\n",
        "                all_val_intents.extend(intents.cpu().numpy())\n",
        "                all_val_category_preds.extend(torch.argmax(category_logits, dim=1).cpu().numpy())\n",
        "                all_val_categories.extend(categories.cpu().numpy())\n",
        "\n",
        "                # Reshape NER predictions and labels back to [batch_size, sequence_length]\n",
        "                ner_logits = ner_logits.view(batch['input_ids'].size(0), batch['input_ids'].size(1), num_ner_labels)\n",
        "                ner_labels = ner_labels.view(batch['input_ids'].size(0), batch['input_ids'].size(1))\n",
        "\n",
        "                all_val_ner_preds.extend(torch.argmax(ner_logits, dim=2).cpu().numpy())\n",
        "                all_val_ner_labels.extend(ner_labels.cpu().numpy())\n",
        "\n",
        "        val_loss = total_val_loss / len(val_dataloader)\n",
        "        val_intent_accuracy = (np.array(all_val_intent_preds) == np.array(all_val_intents)).mean()\n",
        "        val_category_accuracy = (np.array(all_val_category_preds) == np.array(all_val_categories)).mean()\n",
        "\n",
        "        # Convert predictions and labels to list of lists\n",
        "        # Inside your validation loop, replace the current conversion with:\n",
        "        ner_predictions_list = []\n",
        "        ner_labels_list = []\n",
        "\n",
        "        for pred, label, mask in zip(all_val_ner_preds, all_val_ner_labels, batch['attention_mask'].cpu().numpy()):\n",
        "            # Use attention mask to get actual sequence length\n",
        "            seq_len = sum(mask)\n",
        "\n",
        "            # Convert IDs to tags and remove padding\n",
        "            pred_tags = [list(tag_to_id.keys())[id] for id in pred[:seq_len] if id != 9]\n",
        "            label_tags = [list(tag_to_id.keys())[id] for id in label[:seq_len] if id != 9]\n",
        "\n",
        "            ner_predictions_list.append(pred_tags)\n",
        "            ner_labels_list.append(label_tags)\n",
        "\n",
        "        # Debug prints to check shapes\n",
        "        print(f\"NER Predictions List: {ner_predictions_list[:2]}\")\n",
        "        print(f\"NER Labels List: {ner_labels_list[:2]}\")\n",
        "\n",
        "        # Inside the validation loop after collecting all_val_ner_preds and all_val_ner_labels:\n",
        "\n",
        "        ner_predictions_list = []\n",
        "        ner_labels_list = []\n",
        "\n",
        "        for pred_seq, label_seq in zip(all_val_ner_preds, all_val_ner_labels):\n",
        "            pred_tags = []\n",
        "            label_tags = []\n",
        "            for p, l in zip(pred_seq, label_seq):\n",
        "                if l != 9:  # 9 is the padding index; use your actual padding index if different\n",
        "                    pred_tags.append(list(tag_to_id.keys())[p])\n",
        "                    label_tags.append(list(tag_to_id.keys())[l])\n",
        "            ner_predictions_list.append(pred_tags)\n",
        "            ner_labels_list.append(label_tags)\n",
        "\n",
        "        # Now compute metrics\n",
        "        val_ner_f1 = f1_score(ner_labels_list, ner_predictions_list)  # Note: order is (true, pred)\n",
        "\n",
        "        # Add these prints before calculating F1 score\n",
        "        print(f\"Number of sequences: {len(ner_predictions_list)}\")\n",
        "        print(f\"Average sequence length (predictions): {np.mean([len(x) for x in ner_predictions_list])}\")\n",
        "        print(f\"Average sequence length (labels): {np.mean([len(x) for x in ner_labels_list])}\")\n",
        "\n",
        "        # Calculate F1 score for NER\n",
        "        # val_ner_f1 = f1_score(ner_predictions_list, ner_labels_list)\n",
        "        val_ner_precision = precision_score(ner_predictions_list, ner_labels_list)\n",
        "        val_ner_recall = recall_score(ner_predictions_list, ner_labels_list)\n",
        "\n",
        "        print(f'Validation Loss: {val_loss}, Validation Intent Accuracy: {val_intent_accuracy}, Validation Category Accuracy: {val_category_accuracy}, Validation NER F1: {val_ner_f1}')\n",
        "\n",
        "        # Save the metrics to the history\n",
        "        history['epoch'].append(epoch + 1)\n",
        "        history['train_loss'].append(train_loss)\n",
        "        history['val_loss'].append(val_loss)\n",
        "        history['train_intent_accuracy'].append(train_intent_accuracy)\n",
        "        history['val_intent_accuracy'].append(val_intent_accuracy)\n",
        "        history['train_category_accuracy'].append(train_category_accuracy)\n",
        "        history['val_category_accuracy'].append(val_category_accuracy)\n",
        "        history['val_ner_f1'].append(val_ner_f1)\n",
        "\n",
        "    # Save the history to a CSV file\n",
        "    history_df = pd.DataFrame(history)\n",
        "    history_df.to_csv('training_history.csv', index=False)\n",
        "\n",
        "    # Plot the metrics\n",
        "    plt.figure(figsize=(12, 8))\n",
        "\n",
        "    plt.subplot(2, 2, 1)\n",
        "    plt.plot(history['epoch'], history['train_loss'], label='Train Loss')\n",
        "    plt.plot(history['epoch'], history['val_loss'], label='Val Loss')\n",
        "    plt.xlabel('Epoch')\n",
        "    plt.ylabel('Loss')\n",
        "    plt.legend()\n",
        "\n",
        "    plt.subplot(2, 2, 2)\n",
        "    plt.plot(history['epoch'], history['train_intent_accuracy'], label='Train Intent Accuracy')\n",
        "    plt.plot(history['epoch'], history['val_intent_accuracy'], label='Val Intent Accuracy')\n",
        "    plt.xlabel('Epoch')\n",
        "    plt.ylabel('Accuracy')\n",
        "    plt.legend()\n",
        "\n",
        "    plt.subplot(2, 2, 3)\n",
        "    plt.plot(history['epoch'], history['train_category_accuracy'], label='Train Category Accuracy')\n",
        "    plt.plot(history['epoch'], history['val_category_accuracy'], label='Val Category Accuracy')\n",
        "    plt.xlabel('Epoch')\n",
        "    plt.ylabel('Accuracy')\n",
        "    plt.legend()\n",
        "\n",
        "    plt.subplot(2, 2, 4)\n",
        "    plt.plot(history['epoch'], history['val_ner_f1'], label='Validation NER F1')\n",
        "    plt.xlabel('Epoch')\n",
        "    plt.ylabel('F1 Score')\n",
        "    plt.legend()\n",
        "\n",
        "    plt.tight_layout()\n",
        "    plt.show()\n",
        "\n",
        "# Define DataLoaders with the specified batch size\n",
        "train_dataloader = DataLoader(train_dataset, batch_size=batch_size, shuffle=True)\n",
        "val_dataloader = DataLoader(val_dataset, batch_size=batch_size, shuffle=False)\n",
        "\n",
        "# Train the model\n",
        "custom_train_loop(model, train_dataloader, val_dataloader, optimizer)"
      ],
      "metadata": {
        "colab": {
          "base_uri": "https://localhost:8080/",
          "height": 1000
        },
        "id": "arFv0Ron2NFG",
        "outputId": "aa7885c6-855f-424b-d645-45267909c90b"
      },
      "execution_count": null,
      "outputs": [
        {
          "output_type": "stream",
          "name": "stdout",
          "text": [
            "Epoch 1/5, Train Loss: 5.831350368669345, Train Intent Accuracy: 0.08191840721961204, Train Category Accuracy: 0.22258919849281295\n",
            "NER Predictions List: [['O', 'O', 'O', 'O', 'O', 'O', 'O'], ['O', 'O', 'O', 'O']]\n",
            "NER Labels List: [['O', 'O', 'O', 'I-person_name'], ['O', 'O', 'O', 'O']]\n",
            "Number of sequences: 2687\n",
            "Average sequence length (predictions): 8.799776702642353\n",
            "Average sequence length (labels): 8.799776702642353\n",
            "Validation Loss: 5.536017024091312, Validation Intent Accuracy: 0.12281354670636398, Validation Category Accuracy: 0.25083736509117976, Validation NER F1: 0.07310704960835511\n",
            "Epoch 2/5, Train Loss: 5.3854067628050135, Train Intent Accuracy: 0.14532260315392845, Train Category Accuracy: 0.26561845838954273\n",
            "NER Predictions List: [['O', 'O', 'O', 'O', 'O', 'O', 'O'], ['O', 'O', 'O', 'O']]\n",
            "NER Labels List: [['O', 'O', 'O', 'I-person_name'], ['O', 'O', 'O', 'O']]\n",
            "Number of sequences: 2687\n",
            "Average sequence length (predictions): 8.799776702642353\n",
            "Average sequence length (labels): 8.799776702642353\n",
            "Validation Loss: 5.425708220828147, Validation Intent Accuracy: 0.1339784145887607, Validation Category Accuracy: 0.22218087085969482, Validation NER F1: 0.0816326530612245\n",
            "Epoch 3/5, Train Loss: 5.284143555554605, Train Intent Accuracy: 0.15574266176675816, Train Category Accuracy: 0.2738521654184305\n",
            "NER Predictions List: [['O', 'O', 'O', 'O', 'O', 'O', 'O'], ['O', 'O', 'O', 'O']]\n",
            "NER Labels List: [['O', 'O', 'O', 'I-person_name'], ['O', 'O', 'O', 'O']]\n",
            "Number of sequences: 2687\n",
            "Average sequence length (predictions): 8.799776702642353\n",
            "Average sequence length (labels): 8.799776702642353\n",
            "Validation Loss: 5.365848817286038, Validation Intent Accuracy: 0.1496092296241161, Validation Category Accuracy: 0.275027912169706, Validation NER F1: 0.0907911802853437\n",
            "Epoch 4/5, Train Loss: 5.246325933241418, Train Intent Accuracy: 0.15834767641996558, Train Category Accuracy: 0.27696887937851794\n",
            "NER Predictions List: [['O', 'O', 'O', 'O', 'O', 'O', 'O'], ['O', 'O', 'O', 'O']]\n",
            "NER Labels List: [['O', 'O', 'O', 'I-person_name'], ['O', 'O', 'O', 'O']]\n",
            "Number of sequences: 2687\n",
            "Average sequence length (predictions): 8.799776702642353\n",
            "Average sequence length (labels): 8.799776702642353\n",
            "Validation Loss: 5.367288327642849, Validation Intent Accuracy: 0.14402679568291776, Validation Category Accuracy: 0.27540007443245257, Validation NER F1: 0.07483870967741935\n",
            "Epoch 5/5, Train Loss: 5.2260601035696235, Train Intent Accuracy: 0.1565799879052891, Train Category Accuracy: 0.27994603898218356\n",
            "NER Predictions List: [['O', 'O', 'O', 'O', 'I-person_name', 'I-person_name', 'O'], ['O', 'O', 'O', 'O']]\n",
            "NER Labels List: [['O', 'O', 'O', 'I-person_name'], ['O', 'O', 'O', 'O']]\n",
            "Number of sequences: 2687\n",
            "Average sequence length (predictions): 8.799776702642353\n",
            "Average sequence length (labels): 8.799776702642353\n",
            "Validation Loss: 5.344640428821246, Validation Intent Accuracy: 0.145515444733904, Validation Category Accuracy: 0.27986602158541124, Validation NER F1: 0.10062893081761007\n"
          ]
        },
        {
          "output_type": "display_data",
          "data": {
            "text/plain": [
              "<Figure size 1200x800 with 4 Axes>"
            ],
            "image/png": "[encoded data removed]"
          },
          "metadata": {}
        }
      ]
    },
    {
      "cell_type": "code",
      "source": [],
      "metadata": {
        "id": "VkxVpwS62NZ_"
      },
      "execution_count": null,
      "outputs": []
    }
  ]
}