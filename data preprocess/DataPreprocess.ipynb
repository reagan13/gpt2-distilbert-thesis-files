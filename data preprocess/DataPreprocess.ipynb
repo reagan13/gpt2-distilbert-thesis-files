{
  "cells": [
    {
      "cell_type": "markdown",
      "metadata": {
        "id": "6AIBX8onQD_7"
      },
      "source": []
    },
    {
      "cell_type": "code",
      "execution_count": 1,
      "metadata": {
        "colab": {
          "base_uri": "https://localhost:8080/"
        },
        "id": "2Sk9oIynMvxW",
        "outputId": "b43797e7-f553-4752-bb6c-e3a6306b5633"
      },
      "outputs": [
        {
          "name": "stdout",
          "output_type": "stream",
          "text": [
            "Requirement already satisfied: faker in c:\\users\\reaga\\appdata\\local\\packages\\pythonsoftwarefoundation.python.3.11_qbz5n2kfra8p0\\localcache\\local-packages\\python311\\site-packages (35.2.0)\n",
            "Requirement already satisfied: python-dateutil>=2.4 in c:\\users\\reaga\\appdata\\local\\packages\\pythonsoftwarefoundation.python.3.11_qbz5n2kfra8p0\\localcache\\local-packages\\python311\\site-packages (from faker) (2.8.2)\n",
            "Requirement already satisfied: typing-extensions in c:\\users\\reaga\\appdata\\local\\packages\\pythonsoftwarefoundation.python.3.11_qbz5n2kfra8p0\\localcache\\local-packages\\python311\\site-packages (from faker) (4.12.2)\n",
            "Requirement already satisfied: six>=1.5 in c:\\users\\reaga\\appdata\\local\\packages\\pythonsoftwarefoundation.python.3.11_qbz5n2kfra8p0\\localcache\\local-packages\\python311\\site-packages (from python-dateutil>=2.4->faker) (1.16.0)\n"
          ]
        },
        {
          "name": "stderr",
          "output_type": "stream",
          "text": [
            "\n",
            "[notice] A new release of pip is available: 24.3.1 -> 25.0\n",
            "[notice] To update, run: C:\\Users\\reaga\\AppData\\Local\\Microsoft\\WindowsApps\\PythonSoftwareFoundation.Python.3.11_qbz5n2kfra8p0\\python.exe -m pip install --upgrade pip\n"
          ]
        }
      ],
      "source": [
        "!pip install faker\n",
        "\n"
      ]
    },
    {
      "cell_type": "markdown",
      "metadata": {
        "id": "r216m0qJMvg_"
      },
      "source": [
        "# Data Preprocessing\n"
      ]
    },
    {
      "cell_type": "markdown",
      "metadata": {
        "id": "lbsXY2wuPX1G"
      },
      "source": [
        "## Load Dataset\n"
      ]
    },
    {
      "cell_type": "code",
      "execution_count": 2,
      "metadata": {
        "colab": {
          "base_uri": "https://localhost:8080/"
        },
        "id": "diCQoUCiPZQM",
        "outputId": "e0807282-c849-4499-cd89-7b5c309c267f"
      },
      "outputs": [
        {
          "name": "stdout",
          "output_type": "stream",
          "text": [
            "   flags                                        instruction category  \\\n",
            "0      B   question about cancelling order {{Order Number}}    ORDER   \n",
            "1    BQZ  i have a question about cancelling oorder {{Or...    ORDER   \n",
            "2   BLQZ    i need help cancelling puchase {{Order Number}}    ORDER   \n",
            "3     BL         I need to cancel purchase {{Order Number}}    ORDER   \n",
            "4  BCELN  I cannot afford this order, cancel purchase {{...    ORDER   \n",
            "\n",
            "         intent                                           response  \n",
            "0  cancel_order  I've understood you have a question regarding ...  \n",
            "1  cancel_order  I've been informed that you have a question ab...  \n",
            "2  cancel_order  I can sense that you're seeking assistance wit...  \n",
            "3  cancel_order  I understood that you need assistance with can...  \n",
            "4  cancel_order  I'm sensitive to the fact that you're facing f...  \n"
          ]
        }
      ],
      "source": [
        "import pandas as pd\n",
        "\n",
        "# Load the dataset\n",
        "df = pd.read_csv('../dataset/dataset.csv')\n",
        "\n",
        "# Inspect the dataset\n",
        "print(df.head())\n",
        "\n"
      ]
    },
    {
      "cell_type": "markdown",
      "metadata": {
        "id": "lbviVRF8P3Bf"
      },
      "source": [
        "## Text Cleaning\n"
      ]
    },
    {
      "cell_type": "code",
      "execution_count": 3,
      "metadata": {
        "colab": {
          "base_uri": "https://localhost:8080/"
        },
        "id": "hbZOkQ-7TnQj",
        "outputId": "4b385835-1e93-4dfd-fb33-0a2d0f129612"
      },
      "outputs": [
        {
          "name": "stdout",
          "output_type": "stream",
          "text": [
            "   flags                                        instruction category  \\\n",
            "0      B   question about cancelling order {{Order Number}}    ORDER   \n",
            "1    BQZ  i have a question about cancelling oorder {{Or...    ORDER   \n",
            "2   BLQZ    i need help cancelling puchase {{Order Number}}    ORDER   \n",
            "3     BL         I need to cancel purchase {{Order Number}}    ORDER   \n",
            "4  BCELN  I cannot afford this order cancel purchase {{O...    ORDER   \n",
            "\n",
            "         intent                                           response  \n",
            "0  cancel_order  I've understood you have a question regarding ...  \n",
            "1  cancel_order  I've been informed that you have a question ab...  \n",
            "2  cancel_order  I can sense that you're seeking assistance wit...  \n",
            "3  cancel_order  I understood that you need assistance with can...  \n",
            "4  cancel_order  I'm sensitive to the fact that you're facing f...  \n"
          ]
        }
      ],
      "source": [
        "# prompt: lowercase all column\n",
        "\n",
        "# prompt: Remove special characters. include import librarie dont implement this\n",
        "\n",
        "import re\n",
        "\n",
        "def remove_special_characters(text):\n",
        "    # Keep {{ and }}, remove other special characters\n",
        "    text = re.sub(r'(?<!{){(?!{)|(?<!})}(?!})|[^\\w\\s{}]', '', text)\n",
        "    return text\n",
        "\n",
        "# Example usage (assuming you have a 'text' column in your DataFrame)\n",
        "if 'instruction' in df.columns:\n",
        "    df['instruction'] = df['instruction'].apply(remove_special_characters)\n",
        "else:\n",
        "    print(\"Column 'instruction' not found in the DataFrame.\")\n",
        "\n",
        "\n",
        "\n",
        "# Lowercase all column names\n",
        "df.columns = df.columns.str.lower()\n",
        "\n",
        "print(df.head())\n"
      ]
    },
    {
      "cell_type": "markdown",
      "metadata": {
        "id": "SM3Ry9fxP6lF"
      },
      "source": [
        "## NER\n"
      ]
    },
    {
      "cell_type": "code",
      "execution_count": 4,
      "metadata": {
        "colab": {
          "base_uri": "https://localhost:8080/"
        },
        "id": "gG_MWMeBP4e3",
        "outputId": "1287f301-5d1a-40c0-a253-efc86908da27"
      },
      "outputs": [
        {
          "name": "stdout",
          "output_type": "stream",
          "text": [
            "Rows with placeholders: 6670\n",
            "\n",
            "Initial Distribution of Placeholders:\n",
            "                  count\n",
            "Order Number       2907\n",
            "Account Type       1011\n",
            "Person Name         887\n",
            "Account Category    822\n",
            "Refund Amount       624\n",
            "Currency Symbol     372\n",
            "Delivery City       234\n",
            "Delivery Country    177\n",
            "Invoice Number        8\n",
            "\n",
            "Total rows in the dataset: 26872\n",
            "\n",
            "Missing values per column:\n",
            "flags              0\n",
            "instruction        0\n",
            "category           0\n",
            "intent             0\n",
            "response           0\n",
            "has_placeholder    0\n",
            "dtype: int64\n",
            "\n",
            "Updated Distribution of Placeholders (After Removing Lowest Occurrences):\n",
            "                  count\n",
            "Order Number       2907\n",
            "Account Type       1011\n",
            "Person Name         887\n",
            "Account Category    822\n",
            "Refund Amount       624\n",
            "Currency Symbol     372\n",
            "Delivery City       234\n",
            "Delivery Country    177\n"
          ]
        }
      ],
      "source": [
        "import pandas as pd\n",
        "import re\n",
        "from collections import Counter\n",
        "\n",
        "\n",
        "# Detect rows with placeholders\n",
        "df['has_placeholder'] = df['instruction'].str.contains(r'\\{\\{.*?\\}\\}')\n",
        "\n",
        "# Count rows with placeholders\n",
        "rows_with_placeholders = df['has_placeholder'].sum()\n",
        "\n",
        "# Extract placeholders function\n",
        "def extract_placeholders(text):\n",
        "    return re.findall(r'\\{\\{(.*?)\\}\\}', text)\n",
        "\n",
        "# Apply function and get all placeholders\n",
        "placeholders = df[df['has_placeholder']]['instruction'].apply(extract_placeholders).explode()\n",
        "\n",
        "# Count occurrences of each placeholder\n",
        "placeholder_counts = Counter(placeholders)\n",
        "\n",
        "# Convert to DataFrame\n",
        "placeholder_df = pd.DataFrame.from_dict(placeholder_counts, orient='index', columns=['count'])\n",
        "\n",
        "# Display initial results\n",
        "print(f\"Rows with placeholders: {rows_with_placeholders}\")\n",
        "print(\"\\nInitial Distribution of Placeholders:\")\n",
        "print(placeholder_df.sort_values(by='count', ascending=False))\n",
        "\n",
        "# Print total rows and missing values\n",
        "print(\"\\nTotal rows in the dataset:\", len(df))\n",
        "print(\"\\nMissing values per column:\")\n",
        "print(df.isnull().sum())\n",
        "\n",
        "# Remove placeholders with the lowest occurrence\n",
        "if not placeholder_df.empty:\n",
        "    min_count = placeholder_df['count'].min()  # Find the lowest count\n",
        "    placeholder_df = placeholder_df[placeholder_df['count'] > min_count]  # Keep only placeholders with higher counts\n",
        "\n",
        "# Display updated results\n",
        "print(\"\\nUpdated Distribution of Placeholders (After Removing Lowest Occurrences):\")\n",
        "print(placeholder_df.sort_values(by='count', ascending=False))\n"
      ]
    },
    {
      "cell_type": "code",
      "execution_count": 5,
      "metadata": {
        "colab": {
          "base_uri": "https://localhost:8080/"
        },
        "id": "_GGcOQDAP8An",
        "outputId": "e93234e6-9a33-4d65-e09c-2e43da6455f5"
      },
      "outputs": [
        {
          "name": "stdout",
          "output_type": "stream",
          "text": [
            "   flags                                        instruction category  \\\n",
            "0      B          question about cancelling order ORD-01367    ORDER   \n",
            "1    BQZ  i have a question about cancelling oorder ORD-...    ORDER   \n",
            "2   BLQZ           i need help cancelling puchase ORD-20957    ORDER   \n",
            "3     BL                I need to cancel purchase ORD-33406    ORDER   \n",
            "4  BCELN  I cannot afford this order cancel purchase ORD...    ORDER   \n",
            "\n",
            "         intent                                           response  \\\n",
            "0  cancel_order  I've understood you have a question regarding ...   \n",
            "1  cancel_order  I've been informed that you have a question ab...   \n",
            "2  cancel_order  I can sense that you're seeking assistance wit...   \n",
            "3  cancel_order  I understood that you need assistance with can...   \n",
            "4  cancel_order  I'm sensitive to the fact that you're facing f...   \n",
            "\n",
            "   has_placeholder                                        ner_labels  \n",
            "0             True  [{'text': 'ORD-01367', 'label': 'order_number'}]  \n",
            "1             True  [{'text': 'ORD-44043', 'label': 'order_number'}]  \n",
            "2             True  [{'text': 'ORD-20957', 'label': 'order_number'}]  \n",
            "3             True  [{'text': 'ORD-33406', 'label': 'order_number'}]  \n",
            "4             True  [{'text': 'ORD-10780', 'label': 'order_number'}]  \n"
          ]
        }
      ],
      "source": [
        "import re\n",
        "import pandas as pd\n",
        "from faker import Faker\n",
        "\n",
        "# Initialize Faker\n",
        "fake = Faker()\n",
        "\n",
        "# Define synthetic data generators\n",
        "data_generators = {\n",
        "    'order number': lambda: fake.unique.bothify(text='ORD-#####'),\n",
        "    'account type': lambda: fake.random_element(elements=('Business', 'Personal')),\n",
        "    'person name': lambda: fake.name(),\n",
        "    'account category': lambda: fake.random_element(elements=('Category A', 'Category B', 'Category C')),\n",
        "    'refund amount': lambda: f\"${fake.random_number(digits=3)}.00\",\n",
        "    'currency symbol': lambda: fake.currency_symbol(),\n",
        "    'delivery city': lambda: fake.city(),\n",
        "    'delivery country': lambda: fake.country(),\n",
        "    'invoice number': lambda: fake.unique.bothify(text='INV###')\n",
        "}\n",
        "\n",
        "# Function to replace placeholders and track NER labels\n",
        "def replace_placeholders(text, data_generators):\n",
        "    if pd.isnull(text):\n",
        "        return text, []  # Return empty list for NER labels\n",
        "\n",
        "    placeholder_pattern = re.compile(r'\\{\\{(.*?)\\}\\}')  # Match placeholders {{...}}\n",
        "    placeholders = placeholder_pattern.findall(text)\n",
        "    ner_labels = []  # Store entity labels\n",
        "\n",
        "    for placeholder in placeholders:\n",
        "        placeholder_cleaned = placeholder.strip().lower()  # Normalize case\n",
        "        if placeholder_cleaned in data_generators:\n",
        "            replacement_value = data_generators[placeholder_cleaned]()  # Generate synthetic data\n",
        "            text = text.replace(f'{{{{{placeholder}}}}}', replacement_value, 1)  # Replace placeholder\n",
        "\n",
        "            # Append entity info in required format\n",
        "            ner_labels.append({'text': replacement_value, 'label': placeholder_cleaned.replace(\" \", \"_\")})\n",
        "\n",
        "    return text, ner_labels\n",
        "\n",
        "# Apply the placeholder replacement function\n",
        "df[['instruction', 'ner_labels']] = df['instruction'].apply(\n",
        "    lambda x: pd.Series(replace_placeholders(x, data_generators))\n",
        ")\n",
        "\n",
        "# Ensure all rows are retained, even if ner_labels is empty\n",
        "df['ner_labels'] = df.apply(lambda row: row['ner_labels'] if row['has_placeholder'] else [], axis=1)\n",
        "\n",
        "print(df.head())\n"
      ]
    },
    {
      "cell_type": "markdown",
      "metadata": {
        "id": "4mwOBLS_QmHo"
      },
      "source": [
        "## Function to Create BIO Tags\n"
      ]
    },
    {
      "cell_type": "code",
      "execution_count": 9,
      "metadata": {
        "colab": {
          "base_uri": "https://localhost:8080/"
        },
        "id": "IS1scdprQQmr",
        "outputId": "75470d30-01f0-4551-ef23-42483729f335"
      },
      "outputs": [
        {
          "name": "stdout",
          "output_type": "stream",
          "text": [
            "                                             instruction  \\\n",
            "0              question about cancelling order ORD-01367   \n",
            "1      i have a question about cancelling oorder ORD-...   \n",
            "2               i need help cancelling puchase ORD-20957   \n",
            "3                    I need to cancel purchase ORD-33406   \n",
            "4      I cannot afford this order cancel purchase ORD...   \n",
            "...                                                  ...   \n",
            "26867       I am waiting for a rebate of $228.00 dollars   \n",
            "26868  how to see if there is anything wrong with my ...   \n",
            "26869       Im waiting for a reimbjrsement of дин$426.00   \n",
            "26870  I dont know what to do to see my reimbursement...   \n",
            "26871  I need to know if there is anything new on the...   \n",
            "\n",
            "                                              ner_labels  \\\n",
            "0       [{'text': 'ORD-01367', 'label': 'order_number'}]   \n",
            "1       [{'text': 'ORD-44043', 'label': 'order_number'}]   \n",
            "2       [{'text': 'ORD-20957', 'label': 'order_number'}]   \n",
            "3       [{'text': 'ORD-33406', 'label': 'order_number'}]   \n",
            "4       [{'text': 'ORD-10780', 'label': 'order_number'}]   \n",
            "...                                                  ...   \n",
            "26867    [{'text': '$228.00', 'label': 'refund_amount'}]   \n",
            "26868                                                 []   \n",
            "26869  [{'text': 'дин', 'label': 'currency_symbol'}, ...   \n",
            "26870                                                 []   \n",
            "26871                                                 []   \n",
            "\n",
            "                                                  tokens  \\\n",
            "0      [question, about, cancelling, order, ORD, -, 0...   \n",
            "1      [i, have, a, question, about, cancelling, oord...   \n",
            "2      [i, need, help, cancelling, puchase, ORD, -, 2...   \n",
            "3         [I, need, to, cancel, purchase, ORD, -, 33406]   \n",
            "4      [I, cannot, afford, this, order, cancel, purch...   \n",
            "...                                                  ...   \n",
            "26867  [I, am, waiting, for, a, rebate, of, $, 228, ....   \n",
            "26868  [how, to, see, if, there, is, anything, wrong,...   \n",
            "26869  [Im, waiting, for, a, reimbjrsement, of, дин, ...   \n",
            "26870  [I, dont, know, what, to, do, to, see, my, rei...   \n",
            "26871  [I, need, to, know, if, there, is, anything, n...   \n",
            "\n",
            "                                                    tags  \n",
            "0      [O, O, O, O, B-order_number, I-order_number, I...  \n",
            "1      [O, O, O, O, O, O, O, B-order_number, I-order_...  \n",
            "2      [O, O, O, O, O, B-order_number, I-order_number...  \n",
            "3      [O, O, O, O, O, B-order_number, I-order_number...  \n",
            "4      [O, O, O, O, O, O, O, B-order_number, I-order_...  \n",
            "...                                                  ...  \n",
            "26867  [O, O, O, O, O, O, O, B-refund_amount, I-refun...  \n",
            "26868                  [O, O, O, O, O, O, O, O, O, O, O]  \n",
            "26869  [O, O, O, O, O, O, B-currency_symbol, B-refund...  \n",
            "26870                  [O, O, O, O, O, O, O, O, O, O, O]  \n",
            "26871               [O, O, O, O, O, O, O, O, O, O, O, O]  \n",
            "\n",
            "[26872 rows x 4 columns]\n"
          ]
        }
      ],
      "source": [
        "import re\n",
        "\n",
        "# Function to generate BIO tags\n",
        "def generate_bio_tags(instruction, ner_labels):\n",
        "    # Tokenize the instruction into words using regex to handle punctuation\n",
        "    tokens = re.findall(r'\\w+|[^\\w\\s]', instruction)\n",
        "\n",
        "    # Initialize BIO tags as 'O' (Outside) for all tokens\n",
        "    bio_tags = ['O'] * len(tokens)\n",
        "\n",
        "    # Process each entity in ner_labels\n",
        "    for entity in ner_labels:\n",
        "        entity_text = entity['text']\n",
        "        entity_label = entity['label']\n",
        "\n",
        "        # Tokenize the entity text using the same regex\n",
        "        entity_tokens = re.findall(r'\\w+|[^\\w\\s]', entity_text)\n",
        "\n",
        "        # Find the start index of the entity in the instruction\n",
        "        try:\n",
        "            # Create a sliding window to find the entity tokens in the instruction tokens\n",
        "            for i in range(len(tokens) - len(entity_tokens) + 1):\n",
        "                if tokens[i:i + len(entity_tokens)] == entity_tokens:\n",
        "                    # Assign BIO tags\n",
        "                    for j in range(len(entity_tokens)):\n",
        "                        if j == 0:\n",
        "                            bio_tags[i + j] = f\"B-{entity_label}\"  # Beginning of the entity\n",
        "                        else:\n",
        "                            bio_tags[i + j] = f\"I-{entity_label}\"  # Inside the entity\n",
        "                    break  # Stop after finding the first match\n",
        "        except Exception as e:\n",
        "            # If the entity text is not found in the tokens, log the error\n",
        "            print(f\"Error processing entity '{entity_text}' in instruction: {instruction}\")\n",
        "            continue\n",
        "\n",
        "    return tokens, bio_tags\n",
        "\n",
        "# Apply the BIO tag generation function\n",
        "df['bio_tags'] = df.apply(lambda row: generate_bio_tags(row['instruction'], row['ner_labels']), axis=1)\n",
        "\n",
        "# Split the result into separate columns for tokens and tags\n",
        "df[['tokens', 'tags']] = pd.DataFrame(df['bio_tags'].tolist(), index=df.index)\n",
        "\n",
        "# Drop the intermediate 'bio_tags' column\n",
        "df.drop(columns=['bio_tags'], inplace=True)\n",
        "\n",
        "# Display the final DataFrame\n",
        "print(df[['instruction', 'ner_labels', 'tokens', 'tags']])\n",
        "\n",
        "df.to_csv('output.csv', index=False)    \n",
        "\n"
      ]
    }
  ],
  "metadata": {
    "colab": {
      "provenance": [],
      "toc_visible": true
    },
    "kernelspec": {
      "display_name": "Python 3",
      "name": "python3"
    },
    "language_info": {
      "codemirror_mode": {
        "name": "ipython",
        "version": 3
      },
      "file_extension": ".py",
      "mimetype": "text/x-python",
      "name": "python",
      "nbconvert_exporter": "python",
      "pygments_lexer": "ipython3",
      "version": "3.11.9"
    }
  },
  "nbformat": 4,
  "nbformat_minor": 0
}
